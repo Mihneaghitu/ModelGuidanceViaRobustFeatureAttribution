{
 "cells": [
  {
   "cell_type": "markdown",
   "metadata": {},
   "source": [
    "# Poison Certified Training on UCI Datasets"
   ]
  },
  {
   "cell_type": "code",
   "execution_count": 1,
   "metadata": {},
   "outputs": [],
   "source": [
    "%load_ext autoreload\n",
    "%autoreload 2\n",
    "import abstract_gradient_training as agt\n",
    "from models.fully_connected import FullyConnected \n",
    "from datasets import uci"
   ]
  },
  {
   "cell_type": "code",
   "execution_count": 2,
   "metadata": {},
   "outputs": [],
   "source": [
    "# configure the training parameters\n",
    "config = {\n",
    "    \"batchsize\": 20000,\n",
    "    \"fragsize\": 20000,\n",
    "    \"learning_rate\": 0.005,\n",
    "    \"epsilon\": 0.01,\n",
    "    \"k_poison\": 200,\n",
    "    \"n_epochs\": 1,\n",
    "    \"device\": \"cuda:1\",\n",
    "    \"forward_bound\": \"interval\",\n",
    "    \"backward_bound\": \"interval\",\n",
    "    \"loss\": \"mse\",\n",
    "    \"optimizer\": \"sgd\",\n",
    "}"
   ]
  },
  {
   "cell_type": "code",
   "execution_count": 3,
   "metadata": {},
   "outputs": [
    {
     "name": "stdout",
     "output_type": "stream",
     "text": [
      "houseelectric dataset, N=2049280, d=11\n"
     ]
    }
   ],
   "source": [
    "# initialize the model and dataset\n",
    "dl_train, dl_test = uci.get_dataloaders(config[\"batchsize\"], config[\"fragsize\"], \"houseelectric\")\n",
    "model = FullyConnected(11, 1, 64, 1)  # network with 1 hidden layer of 64 neurons"
   ]
  },
  {
   "cell_type": "code",
   "execution_count": 4,
   "metadata": {},
   "outputs": [
    {
     "name": "stderr",
     "output_type": "stream",
     "text": [
      "100%|██████████| 1/1 [00:44<00:00, 44.45s/it, eval: (0.052408117800951004, 0.04326830804347992, 0.035320691764354706) bound: 0.012 batch: 91]\n"
     ]
    }
   ],
   "source": [
    "# train the model\n",
    "param_l, param_n, param_u, accuracy = agt.poison_certified_training(model, config, dl_train, dl_test)"
   ]
  },
  {
   "cell_type": "code",
   "execution_count": 6,
   "metadata": {},
   "outputs": [
    {
     "name": "stdout",
     "output_type": "stream",
     "text": [
      "Test MSE: nominal = 0.04391, certified upper bound = 0.0535, certified lower bound = 0.0356\n"
     ]
    }
   ],
   "source": [
    "# evaluate the trained model\n",
    "mse = agt.test_metrics.test_mse(param_n, param_l, param_u, dl_test)\n",
    "print(f\"Test MSE: nominal = {mse[1]:.4g}, certified upper bound = {mse[0]:.4g}, certified lower bound = {mse[2]:.4g}\")"
   ]
  }
 ],
 "metadata": {
  "kernelspec": {
   "display_name": "venv",
   "language": "python",
   "name": "python3"
  },
  "language_info": {
   "codemirror_mode": {
    "name": "ipython",
    "version": 3
   },
   "file_extension": ".py",
   "mimetype": "text/x-python",
   "name": "python",
   "nbconvert_exporter": "python",
   "pygments_lexer": "ipython3",
   "version": "3.10.12"
  }
 },
 "nbformat": 4,
 "nbformat_minor": 2
}

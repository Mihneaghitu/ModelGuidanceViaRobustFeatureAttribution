{
 "cells": [
  {
   "cell_type": "markdown",
   "metadata": {},
   "source": [
    "# R4 on Salient ImageNet"
   ]
  },
  {
   "cell_type": "code",
   "execution_count": null,
   "metadata": {},
   "outputs": [],
   "source": [
    "%load_ext autoreload\n",
    "%autoreload 2\n",
    "import torch\n",
    "import tqdm\n",
    "import matplotlib.pyplot as plt\n",
    "import os\n",
    "import sys\n",
    "import numpy as np\n",
    "import random\n",
    "sys.path.append(os.path.abspath('..'))\n",
    "from models.R4_models import SalientImageNet\n",
    "from models.pipeline import (train_model_with_pgd_robust_input_grad, write_results_to_file,\n",
    "                             train_model_with_smoothed_input_grad)\n",
    "from datasets import salient_imagenet\n",
    "from metrics import get_rcs_for_run, get_avg_rcs"
   ]
  },
  {
   "cell_type": "markdown",
   "metadata": {},
   "source": [
    "# Get the dataloaders "
   ]
  },
  {
   "cell_type": "code",
   "execution_count": null,
   "metadata": {},
   "outputs": [],
   "source": [
    "CUDA_LAUNCH_BLOCKING=1\n",
    "SEED = 0\n",
    "DELTA_INPUT_ROBUSTNESS_PARAM = 1\n",
    "device = torch.device(\"cuda:1\" if torch.cuda.is_available() else \"cpu\")\n",
    "print(device)\n",
    "random.seed(SEED)\n",
    "np.random.seed(SEED)\n",
    "torch.manual_seed(SEED)\n",
    "torch.backends.cudnn.deterministic = True\n",
    "batch_size = 33\n",
    "test_batch_size = 250"
   ]
  },
  {
   "cell_type": "code",
   "execution_count": null,
   "metadata": {},
   "outputs": [],
   "source": [
    "spurious_train_dset, spurious_test_dset, core_train_dset, core_test_dset = salient_imagenet.make_imagenet_subset_for_paper()"
   ]
  },
  {
   "cell_type": "code",
   "execution_count": null,
   "metadata": {},
   "outputs": [],
   "source": [
    "img_spur, img_spur_label, img_spur_mask = None, None, None\n",
    "img_core, img_core_label, img_core_mask = None, None, None\n",
    "rand_2 = torch.randint(0, len(spurious_train_dset), (2,))\n",
    "for i in rand_2:\n",
    "    img_spur, img_spur_label, img_spur_mask, _ = spurious_train_dset[i]\n",
    "    img_core, img_core_label, img_core_mask, _ = core_train_dset[i]\n",
    "    print(img_spur_mask.shape[0], img_spur.shape, torch.max(img_spur), torch.min(img_spur), img_spur_label)\n",
    "    print(img_core_mask.shape[0], img_core.shape, torch.max(img_core), torch.min(img_core), img_core_label)\n",
    "    fig, ax = plt.subplots(2, 2)\n",
    "    ax[0][0].imshow(img_spur.numpy())\n",
    "    ax[0][0].set_title(\"Image with Spurious Features\")\n",
    "    ax[0][1].imshow(img_core.numpy())\n",
    "    ax[0][1].set_title(\"Image with Core Features\")\n",
    "    im_mask = ax[1][0].imshow(img_spur_mask[:, :, 0].numpy())\n",
    "    fig.colorbar(im_mask, ax=ax[1][0])\n",
    "    im_core_mask = ax[1][1].imshow(img_core_mask[:, :, 0].numpy())\n",
    "    fig.colorbar(im_core_mask, ax=ax[1][1])\n",
    "    plt.show()"
   ]
  },
  {
   "cell_type": "code",
   "execution_count": null,
   "metadata": {},
   "outputs": [],
   "source": [
    "dl_train = salient_imagenet.get_dataloader_train(spurious_train_dset, batch_size)\n",
    "dl_test_spurious = salient_imagenet.get_dataloader_test(spurious_test_dset, test_batch_size)\n",
    "dl_test_core = salient_imagenet.get_dataloader_test(core_test_dset, test_batch_size)\n",
    "criterion = torch.nn.CrossEntropyLoss()\n",
    "print(dl_train.dataset[:][1].unique(return_counts=True))\n",
    "print(dl_test_spurious.dataset[:][1].unique(return_counts=True))\n",
    "print(dl_test_core.dataset[:][1].unique(return_counts=True))"
   ]
  },
  {
   "cell_type": "markdown",
   "metadata": {},
   "source": [
    "## Experiments "
   ]
  },
  {
   "cell_type": "code",
   "execution_count": null,
   "metadata": {},
   "outputs": [],
   "source": [
    "model_root_save_dir = \"saved_experiment_models/performance/imagenet\"\n",
    "os.makedirs(model_root_save_dir, exist_ok=True)\n",
    "methods = [\"pgd_r4\", \"std\", \"rand_r4\", \"smooth_r3\", \"r3\"]\n",
    "save_dir_for_method = {method: os.path.join(model_root_save_dir, method) for method in methods}\n",
    "for method in methods:\n",
    "    os.makedirs(save_dir_for_method[method], exist_ok=True)\n"
   ]
  },
  {
   "cell_type": "markdown",
   "metadata": {},
   "source": [
    "### ERM"
   ]
  },
  {
   "cell_type": "code",
   "execution_count": null,
   "metadata": {},
   "outputs": [],
   "source": [
    "std_method = \"std\"\n",
    "# hyperparameters\n",
    "num_epochs, lr, restarts, epsilon, k, weight_coeff = 20, 1e-4, 1, -1, -1, -1\n",
    "test_epsilon = 0.1\n",
    "# Train standard 3 times and test accuracy and delta input robustness for the masked region\n",
    "for i in range(restarts):\n",
    "    # Reinitialize the model\n",
    "    # We could try to just reinitialize the weights, but we can throw away the previous model for now as we do not need it\n",
    "    torch.manual_seed(1)\n",
    "    curr_model = SalientImageNet().to(device)\n",
    "\n",
    "    print(f\"========== Training model with method {std_method} restart {i} ==========\")\n",
    "    train_model_with_pgd_robust_input_grad(dl_train, num_epochs, curr_model, lr, criterion, epsilon, std_method, k, device)\n",
    "    print(f\"========== Testing model with method {std_method} restart {i} ==========\")\n",
    "    _, _ = get_rcs_for_run(dl_test_spurious, dl_test_core, curr_model, device)\n",
    "    torch.save(curr_model.state_dict(), os.path.join(save_dir_for_method[std_method], f\"run_{i}.pt\"))\n",
    "empty_model = SalientImageNet().to(device)\n",
    "rcs, avg_spur_acc = get_avg_rcs(dl_test_spurious, dl_test_core, save_dir_for_method[std_method], device, suppress_logs=True)\n",
    "write_results_to_file(\"experiment_results/imagenet.yaml\",\n",
    "                      {\"spur_acc\": round(avg_spur_acc, 5),\n",
    "                       \"rcs\": round(rcs, 5)}, std_method)\n",
    "write_results_to_file(\"experiment_results/imagenet_params.yaml\",\n",
    "                        {\"epsilon\": epsilon,\n",
    "                         \"test_epsilon\": epsilon,\n",
    "                         \"k\": k,\n",
    "                         \"weight_coeff\": weight_coeff,\n",
    "                         \"num_epochs\": num_epochs,\n",
    "                         \"lr\": lr,\n",
    "                         \"restarts\": restarts,\n",
    "                         \"train_batch_size\": dl_train.batch_size,\n",
    "                         \"test_batch_size\": dl_train.batch_size,\n",
    "                         \"class_weights\": None,\n",
    "                         \"multi_class\": True,\n",
    "                         \"has_conv\": True,\n",
    "                         \"with_k_schedule\": False}, std_method)"
   ]
  },
  {
   "cell_type": "markdown",
   "metadata": {},
   "source": [
    "# PGD-R4 training"
   ]
  },
  {
   "cell_type": "code",
   "execution_count": null,
   "metadata": {},
   "outputs": [],
   "source": [
    "pgd_r4_method = \"pgd_r4\"\n",
    "# hyperparameters\n",
    "num_epochs, lr, restarts, epsilon, k, weight_decay = 30, 5e-5, 1, 0.5, 0.1, 0\n",
    "test_epsilon = 0.1\n",
    "# Train standard 3 times and test accuracy and delta input robustness for the masked region\n",
    "for i in range(restarts):\n",
    "    # Reinitialize the model\n",
    "    # We could try to just reinitialize the weights, but we can throw away the previous model for now as we do not need it\n",
    "    torch.manual_seed(22)\n",
    "    curr_model = SalientImageNet().to(device)\n",
    "\n",
    "    print(f\"========== Training model with method {pgd_r4_method} restart {i} ==========\")\n",
    "    train_model_with_pgd_robust_input_grad(dl_train, num_epochs, curr_model, lr, criterion, epsilon,\n",
    "        pgd_r4_method, k, device, num_iterations=10)\n",
    "    print(f\"========== Testing model with method {pgd_r4_method} restart {i} ==========\")\n",
    "    _, _ = get_rcs_for_run(dl_test_spurious, dl_test_core, curr_model, device)\n",
    "    torch.save(curr_model.state_dict(), os.path.join(save_dir_for_method[pgd_r4_method], f\"run_{i}.pt\"))\n",
    "empty_model = SalientImageNet().to(device)\n",
    "rcs, avg_spur_acc = get_avg_rcs(dl_test_spurious, dl_test_core, save_dir_for_method[pgd_r4_method], device, suppress_logs=True)\n",
    "write_results_to_file(\"experiment_results/imagenet.yaml\",\n",
    "                      {\"spur_acc\": round(avg_spur_acc, 5),\n",
    "                       \"rcs\": round(rcs, 5)}, pgd_r4_method)\n",
    "write_results_to_file(\"experiment_results/imagenet_params.yaml\",\n",
    "                        {\"epsilon\": epsilon,\n",
    "                         \"test_epsilon\": epsilon,\n",
    "                         \"k\": k,\n",
    "                         \"weight_decay\": weight_decay,\n",
    "                         \"num_epochs\": num_epochs,\n",
    "                         \"lr\": lr,\n",
    "                         \"restarts\": restarts,\n",
    "                         \"train_batch_size\": dl_train.batch_size,\n",
    "                         \"test_batch_size\": dl_train.batch_size,\n",
    "                         \"class_weights\": None,\n",
    "                         \"multi_class\": True,\n",
    "                         \"has_conv\": True,\n",
    "                         \"seed\": 22,\n",
    "                         \"with_k_schedule\": False}, pgd_r4_method)"
   ]
  },
  {
   "cell_type": "markdown",
   "metadata": {},
   "source": [
    "## R3 Training"
   ]
  },
  {
   "cell_type": "code",
   "execution_count": null,
   "metadata": {},
   "outputs": [],
   "source": [
    "r3_method = \"r3\"\n",
    "# hyperparameters\n",
    "num_epochs, lr, restarts, epsilon, k, weight_decay = 32, 4e-5, 1, 0, 100, 1e-5\n",
    "test_epsilon = 0.1\n",
    "# Train standard 3 times and test accuracy and delta input robustness for the masked region\n",
    "for i in range(restarts):\n",
    "    # Reinitialize the model\n",
    "    # We could try to just reinitialize the weights, but we can throw away the previous model for now as we do not need it\n",
    "    torch.manual_seed(1)\n",
    "    curr_model = SalientImageNet().to(device)\n",
    "\n",
    "    print(f\"========== Training model with method {r3_method} restart {i} ==========\")\n",
    "    train_model_with_pgd_robust_input_grad(dl_train, num_epochs, curr_model, lr, criterion, epsilon, r3_method, k, device, weight_decay=weight_decay)\n",
    "    print(f\"========== Testing model with method {r3_method} restart {i} ==========\")\n",
    "    _, _ = get_rcs_for_run(dl_test_spurious, dl_test_core, curr_model, device)\n",
    "    torch.save(curr_model.state_dict(), os.path.join(save_dir_for_method[r3_method], f\"run_{i}.pt\"))\n",
    "empty_model = SalientImageNet().to(device)\n",
    "rcs, avg_spur_acc = get_avg_rcs(dl_test_spurious, dl_test_core, save_dir_for_method[r3_method], device, suppress_logs=True)\n",
    "write_results_to_file(\"experiment_results/imagenet.yaml\",\n",
    "                      {\"spur_acc\": round(avg_spur_acc, 5),\n",
    "                       \"rcs\": round(rcs, 5)}, r3_method)\n",
    "write_results_to_file(\"experiment_results/imagenet_params.yaml\",\n",
    "                        {\"epsilon\": epsilon,\n",
    "                         \"test_epsilon\": epsilon,\n",
    "                         \"k\": k,\n",
    "                         \"weight_decay\": weight_decay,\n",
    "                         \"num_epochs\": num_epochs,\n",
    "                         \"lr\": lr,\n",
    "                         \"restarts\": restarts,\n",
    "                         \"train_batch_size\": dl_train.batch_size,\n",
    "                         \"test_batch_size\": dl_train.batch_size,\n",
    "                         \"class_weightms\": None,\n",
    "                         \"multi_class\": True,\n",
    "                         \"has_conv\": True,\n",
    "                         \"seed\": 1,\n",
    "                         \"with_k_schedule\": False}, r3_method)"
   ]
  },
  {
   "cell_type": "markdown",
   "metadata": {},
   "source": [
    "## Smooth-R3 Training"
   ]
  },
  {
   "cell_type": "code",
   "execution_count": null,
   "metadata": {},
   "outputs": [],
   "source": [
    "smooth_r3_method = \"smooth_r3\"\n",
    "# hyperparameters\n",
    "num_epochs, lr, restarts, epsilon, k, weight_decay, num_samples = 20, 6e-5, 1, 0.75, 100, 1e-5, 5\n",
    "test_epsilon = 0.1\n",
    "# Train standard 3 times and test accuracy and delta input robustness for the masked region\n",
    "for i in range(restarts):\n",
    "    # Reinitialize the model\n",
    "    # We could try to just reinitialize the weights, but we can throw away the previous model for now as we do not need it\n",
    "    torch.manual_seed(22)\n",
    "    curr_model = SalientImageNet().to(device)\n",
    "\n",
    "    print(f\"========== Training model with method {smooth_r3_method} restart {i} ==========\")\n",
    "    train_model_with_smoothed_input_grad(dl_train, num_epochs, curr_model, lr, criterion, epsilon, smooth_r3_method, k, device,\n",
    "                                         weight_decay=weight_decay, num_samples=num_samples)\n",
    "    print(f\"========== Testing model with method {smooth_r3_method} restart {i} ==========\")\n",
    "    _, _ = get_rcs_for_run(dl_test_spurious, dl_test_core, curr_model, device)\n",
    "    torch.save(curr_model.state_dict(), os.path.join(save_dir_for_method[smooth_r3_method], f\"run_{i}.pt\"))\n",
    "empty_model = SalientImageNet().to(device)\n",
    "rcs, avg_spur_acc = get_avg_rcs(dl_test_spurious, dl_test_core, save_dir_for_method[smooth_r3_method], device, suppress_logs=True)\n",
    "write_results_to_file(\"experiment_results/imagenet.yaml\",\n",
    "                      {\"spur_acc\": round(avg_spur_acc, 5),\n",
    "                       \"rcs\": round(rcs, 5)}, smooth_r3_method)\n",
    "write_results_to_file(\"experiment_results/imagenet_params.yaml\",\n",
    "                        {\"epsilon\": epsilon,\n",
    "                         \"test_epsilon\": epsilon,\n",
    "                         \"k\": k,\n",
    "                         \"weight_decay\": weight_decay,\n",
    "                         \"num_epochs\": num_epochs,\n",
    "                         \"lr\": lr,\n",
    "                         \"restarts\": restarts,\n",
    "                         \"train_batch_size\": dl_train.batch_size,\n",
    "                         \"test_batch_size\": dl_train.batch_size,\n",
    "                         \"class_weights\": None,\n",
    "                         \"multi_class\": True,\n",
    "                         \"has_conv\": True,\n",
    "                         \"num_samples\": num_samples,\n",
    "                         \"seed\": 1,\n",
    "                         \"with_k_schedule\": False}, smooth_r3_method)"
   ]
  },
  {
   "cell_type": "markdown",
   "metadata": {},
   "source": [
    "## Rand-R4 Training"
   ]
  },
  {
   "cell_type": "code",
   "execution_count": null,
   "metadata": {},
   "outputs": [],
   "source": [
    "rand_r4_method = \"rand_r4\"\n",
    "# hyperparameters\n",
    "num_epochs, lr, restarts, epsilon, k, weight_decay, num_samples = 25, 5e-5, 1, 1, 10000, 1e-7, 5\n",
    "test_epsilon = 0.1\n",
    "# Train standard 3 times and test accuracy and delta input robustness for the masked region\n",
    "for i in range(restarts):\n",
    "    # Reinitialize the model\n",
    "    # We could try to just reinitialize the weights, but we can throw away the previous model for now as we do not need it\n",
    "    torch.manual_seed(22)\n",
    "    curr_model = SalientImageNet().to(device)\n",
    "\n",
    "    print(f\"========== Training model with method {rand_r4_method} restart {i} ==========\")\n",
    "    train_model_with_smoothed_input_grad(dl_train, num_epochs, curr_model, lr, criterion, epsilon, rand_r4_method, k, device,\n",
    "                                         weight_decay=weight_decay, num_samples=num_samples)\n",
    "    print(f\"========== Testing model with method {rand_r4_method} restart {i} ==========\")\n",
    "    _, _ = get_rcs_for_run(dl_test_spurious, dl_test_core, curr_model, device)\n",
    "    torch.save(curr_model.state_dict(), os.path.join(save_dir_for_method[rand_r4_method], f\"run_{i}.pt\"))\n",
    "empty_model = SalientImageNet().to(device)\n",
    "rcs, avg_spur_acc = get_avg_rcs(dl_test_spurious, dl_test_core, save_dir_for_method[rand_r4_method], device, suppress_logs=True)\n",
    "write_results_to_file(\"experiment_results/imagenet.yaml\",\n",
    "                      {\"spur_acc\": round(avg_spur_acc, 5),\n",
    "                       \"rcs\": round(rcs, 5)}, rand_r4_method)\n",
    "write_results_to_file(\"experiment_results/imagenet_params.yaml\",\n",
    "                        {\"epsilon\": epsilon,\n",
    "                         \"test_epsilon\": epsilon,\n",
    "                         \"k\": k,\n",
    "                         \"weight_decay\": weight_decay,\n",
    "                         \"num_epochs\": num_epochs,\n",
    "                         \"lr\": lr,\n",
    "                         \"restarts\": restarts,\n",
    "                         \"train_batch_size\": dl_train.batch_size,\n",
    "                         \"test_batch_size\": dl_train.batch_size,\n",
    "                         \"class_weights\": None,\n",
    "                         \"multi_class\": True,\n",
    "                         \"num_samples\": num_samples,\n",
    "                         \"has_conv\": True,\n",
    "                         \"seed\": 22,\n",
    "                         \"with_k_schedule\": False}, rand_r4_method)"
   ]
  },
  {
   "cell_type": "code",
   "execution_count": null,
   "metadata": {},
   "outputs": [],
   "source": []
  }
 ],
 "metadata": {
  "kernelspec": {
   "display_name": "fypvenv",
   "language": "python",
   "name": "python3"
  },
  "language_info": {
   "codemirror_mode": {
    "name": "ipython",
    "version": 3
   },
   "file_extension": ".py",
   "mimetype": "text/x-python",
   "name": "python",
   "nbconvert_exporter": "python",
   "pygments_lexer": "ipython3",
   "version": "3.10.12"
  }
 },
 "nbformat": 4,
 "nbformat_minor": 2
}

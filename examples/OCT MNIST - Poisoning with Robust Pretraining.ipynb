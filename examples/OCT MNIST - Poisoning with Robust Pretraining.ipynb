{
 "cells": [
  {
   "cell_type": "markdown",
   "metadata": {},
   "source": [
    "# Certified Finetuning of a Classifier on the OCT-MNIST Dataset"
   ]
  },
  {
   "cell_type": "code",
   "execution_count": 1,
   "metadata": {},
   "outputs": [],
   "source": [
    "%load_ext autoreload\n",
    "%autoreload 2\n",
    "import os\n",
    "import torch\n",
    "import tqdm\n",
    "import abstract_gradient_training as agt\n",
    "from abstract_gradient_training import AGTConfig\n",
    "from abstract_gradient_training import certified_training_utils as ct_utils\n",
    "from models.deepmind import DeepMindSmall \n",
    "from datasets import oct_mnist\n",
    "from models.robust_regularizer import gradient_interval_regularizer\n"
   ]
  },
  {
   "cell_type": "markdown",
   "metadata": {},
   "source": [
    "## Test the robustness of a non-robustly pre-trained classifier"
   ]
  },
  {
   "cell_type": "code",
   "execution_count": 2,
   "metadata": {},
   "outputs": [
    {
     "name": "stdout",
     "output_type": "stream",
     "text": [
      "Accuracy of non-robustly trained classifier on test set with epsilon=0.0005: [0.04, 0.95, 1.00]\n"
     ]
    }
   ],
   "source": [
    "device = torch.device(\"cuda:0\")\n",
    "_, dl_test = oct_mnist.get_dataloaders(1000, exclude_classes=[2], balanced=True)\n",
    "standard_model = DeepMindSmall(1, 1).to(device)\n",
    "standard_model.load_state_dict(torch.load(\".models/medmnist.ckpt\"))\n",
    "params_l, params_n, params_u = ct_utils.get_parameters(standard_model)\n",
    "epsilon = 0.0005\n",
    "test_batch, test_labels = next(iter(dl_test))\n",
    "accs = agt.test_metrics.test_accuracy(\n",
    "    params_l, params_n, params_u, test_batch, test_labels, standard_model, ct_utils.propagate_conv_layers, epsilon\n",
    ")\n",
    "accs = \", \".join([f\"{a:.2f}\" for a in accs])\n",
    "\n",
    "print(f\"Accuracy of non-robustly trained classifier on test set with epsilon={epsilon}: [{accs}]\")"
   ]
  },
  {
   "cell_type": "markdown",
   "metadata": {},
   "source": [
    "## Pre-train the model\n",
    "\n",
    "Exclude class 2 (Drusen) from the pretraining."
   ]
  },
  {
   "cell_type": "code",
   "execution_count": 7,
   "metadata": {},
   "outputs": [],
   "source": [
    "# set up pre-training\n",
    "torch.manual_seed(1)\n",
    "pretrain_batchsize = 100\n",
    "pretrain_n_epochs = 20\n",
    "pretrain_learning_rate = 0.001\n",
    "pretrain_epsilon = 0.001\n",
    "pretrain_model_epsilon = 0.0\n",
    "pretrain_reg_strength = 1e-3\n",
    "model_path = f\".models/medmnist_robust_eps{pretrain_epsilon}_alpha{pretrain_reg_strength}_meps{pretrain_model_epsilon}.ckpt\""
   ]
  },
  {
   "cell_type": "code",
   "execution_count": 8,
   "metadata": {},
   "outputs": [],
   "source": [
    "# define model, dataset and optimizer\n",
    "model = DeepMindSmall(1, 1)\n",
    "dl_pretrain, _ = oct_mnist.get_dataloaders(pretrain_batchsize, exclude_classes=[2], balanced=True)\n",
    "criterion = torch.nn.BCELoss()\n",
    "optimizer = torch.optim.Adam(model.parameters(), lr=pretrain_learning_rate)\n",
    "model = model.to(device)"
   ]
  },
  {
   "cell_type": "code",
   "execution_count": 9,
   "metadata": {},
   "outputs": [
    {
     "name": "stderr",
     "output_type": "stream",
     "text": [
      "Epoch: 100%|██████████| 20/20 [03:51<00:00, 11.56s/it, bce_loss=0.227, loss=0.265]\n"
     ]
    }
   ],
   "source": [
    "if os.path.exists(model_path):\n",
    "    model.load_state_dict(torch.load(model_path))\n",
    "else:  # pre-train the model\n",
    "    progress_bar = tqdm.trange(pretrain_n_epochs, desc=\"Epoch\")\n",
    "    for epoch in progress_bar:\n",
    "        for i, (x, u) in enumerate(dl_pretrain):\n",
    "            # Forward pass\n",
    "            u, x = u.to(device), x.to(device)\n",
    "            output = model(x)\n",
    "            bce_loss = criterion(output.squeeze().float(), u.squeeze().float())\n",
    "            regularization = gradient_interval_regularizer(\n",
    "                model, x, u, \"binary_cross_entropy\", pretrain_epsilon, pretrain_model_epsilon\n",
    "            )\n",
    "            loss = bce_loss + pretrain_reg_strength * regularization\n",
    "            # Backward and optimize\n",
    "            optimizer.zero_grad()\n",
    "            loss.backward()\n",
    "            optimizer.step()\n",
    "            if i % 100 == 0:\n",
    "                progress_bar.set_postfix(loss=loss.item(), bce_loss=bce_loss.item())\n",
    "    # save the model\n",
    "    with open(model_path, \"wb\") as file:\n",
    "        torch.save(model.state_dict(), file)"
   ]
  },
  {
   "cell_type": "markdown",
   "metadata": {},
   "source": [
    "### Test the robustness of the model pre-trained with the gradient interval regularization term"
   ]
  },
  {
   "cell_type": "code",
   "execution_count": 10,
   "metadata": {},
   "outputs": [
    {
     "name": "stdout",
     "output_type": "stream",
     "text": [
      "Accuracy of robustly trained classifier on test set with epsilon=0.0005: [0.93, 0.94, 0.95]\n"
     ]
    }
   ],
   "source": [
    "_, dl_test = oct_mnist.get_dataloaders(1000, exclude_classes=[2], balanced=True)\n",
    "params_l, params_n, params_u = ct_utils.get_parameters(model)\n",
    "epsilon = 0.0005\n",
    "test_batch, test_labels = next(iter(dl_test))\n",
    "accs = agt.test_metrics.test_accuracy(\n",
    "    params_l, params_n, params_u, test_batch, test_labels, model, ct_utils.propagate_conv_layers, epsilon\n",
    ")\n",
    "accs = \", \".join([f\"{a:.2f}\" for a in accs])\n",
    "\n",
    "print(f\"Accuracy of robustly trained classifier on test set with epsilon={epsilon}: [{accs}]\")"
   ]
  },
  {
   "cell_type": "markdown",
   "metadata": {},
   "source": [
    "## Fine-tune the model\n",
    "\n",
    "Include all classes, only allowing class 2 (Drusen) to be potentially poisoned."
   ]
  },
  {
   "cell_type": "code",
   "execution_count": 12,
   "metadata": {},
   "outputs": [],
   "source": [
    "# set up fine-tuning parameters\n",
    "clean_batchsize = 7000\n",
    "drusen_batchsize = 3000\n",
    "test_batchsize = 1000\n",
    "\n",
    "config = AGTConfig(\n",
    "    fragsize = 2000,\n",
    "    learning_rate = 0.6,\n",
    "    n_epochs = 2,\n",
    "    k_poison = 50,\n",
    "    epsilon = 0.01,\n",
    "    forward_bound = \"interval\",\n",
    "    device = \"cuda:0\",\n",
    "    backward_bound = \"interval\",\n",
    "    loss = \"binary_cross_entropy\",\n",
    "    lr_decay=2.0,\n",
    "    lr_min=0.001,\n",
    ")"
   ]
  },
  {
   "cell_type": "code",
   "execution_count": 13,
   "metadata": {},
   "outputs": [],
   "source": [
    "# get dataloaders\n",
    "dl_clean, dl_test_clean = oct_mnist.get_dataloaders(clean_batchsize, test_batchsize, exclude_classes=[2])\n",
    "dl_drusen, dl_test_drusen = oct_mnist.get_dataloaders(drusen_batchsize, test_batchsize, exclude_classes=[0, 1, 3])\n",
    "_, dl_test_all = oct_mnist.get_dataloaders(clean_batchsize, test_batchsize)"
   ]
  },
  {
   "cell_type": "code",
   "execution_count": 14,
   "metadata": {},
   "outputs": [
    {
     "name": "stdout",
     "output_type": "stream",
     "text": [
      "=========== Pre-trained model accuracy ===========\n",
      "Class 2 (Drusen) : nominal = 0.43\n",
      "Classes 0, 1, 3  : nominal = 0.94\n",
      "All Classes      : nominal = 0.81\n"
     ]
    }
   ],
   "source": [
    "# evaluate the pre-trained model\n",
    "param_n, param_l, param_u = ct_utils.get_parameters(model)\n",
    "drusen_acc = agt.test_metrics.test_accuracy(param_n, param_l, param_u, *next(iter(dl_test_drusen)), model, ct_utils.propagate_conv_layers)\n",
    "clean_acc = agt.test_metrics.test_accuracy(param_n, param_l, param_u, *next(iter(dl_test_clean)), model, ct_utils.propagate_conv_layers)\n",
    "all_acc = agt.test_metrics.test_accuracy(param_n, param_l, param_u, *next(iter(dl_test_all)), model, ct_utils.propagate_conv_layers)\n",
    "\n",
    "print(\"=========== Pre-trained model accuracy ===========\")\n",
    "print(f\"Class 2 (Drusen) : nominal = {drusen_acc[1]:.2g}\")\n",
    "print(f\"Classes 0, 1, 3  : nominal = {clean_acc[1]:.2g}\")\n",
    "print(f\"All Classes      : nominal = {all_acc[1]:.2g}\")"
   ]
  },
  {
   "cell_type": "code",
   "execution_count": 15,
   "metadata": {},
   "outputs": [
    {
     "name": "stderr",
     "output_type": "stream",
     "text": [
      "[AGT] [INFO    ] [17:14:37] =================== Starting Poison Certified Training ===================\n",
      "[AGT] [INFO    ] [17:14:37] Starting epoch 1\n",
      "[AGT] [INFO    ] [17:14:37] Training batch 1: Network eval bounds=(0.43, 0.43, 0.43), W0 Bound=0.0 \n",
      "[AGT] [INFO    ] [17:14:38] Training batch 2: Network eval bounds=(1   , 1   , 1   ), W0 Bound=0.07 \n",
      "[AGT] [INFO    ] [17:14:39] Starting epoch 2\n",
      "[AGT] [INFO    ] [17:14:39] Training batch 3: Network eval bounds=(1   , 1   , 1   ), W0 Bound=0.16 \n",
      "[AGT] [INFO    ] [17:14:40] Training batch 4: Network eval bounds=(0.71, 1   , 1   ), W0 Bound=0.271 \n",
      "[AGT] [INFO    ] [17:14:41] Final network eval: Network eval bounds=(0.33, 0.84, 1   ), W0 Bound=0.429 \n",
      "[AGT] [INFO    ] [17:14:41] =================== Finished Poison Certified Training ===================\n"
     ]
    }
   ],
   "source": [
    "# fine-tune the model using abstract gradient training (keeping the convolutional layers fixed)\n",
    "param_l, param_n, param_u = agt.poison_certified_training(\n",
    "    model, config, dl_drusen, dl_test_drusen, dl_clean=dl_clean, transform=ct_utils.propagate_conv_layers\n",
    ")"
   ]
  },
  {
   "cell_type": "code",
   "execution_count": 16,
   "metadata": {},
   "outputs": [
    {
     "name": "stdout",
     "output_type": "stream",
     "text": [
      "=========== Fine-tuned model accuracy + bounds ===========\n",
      "Class 2 (Drusen) : nominal = 0.84, certified bound = 0.33\n",
      "Classes 0, 1, 3  : nominal = 0.87, certified bound = 0.6\n",
      "All Classes      : nominal = 0.86, certified bound = 0.54\n"
     ]
    }
   ],
   "source": [
    "# evaluate the fine-tuned model\n",
    "drusen_acc = agt.test_metrics.test_accuracy(param_n, param_l, param_u, *next(iter(dl_test_drusen)), model, ct_utils.propagate_conv_layers)\n",
    "clean_acc = agt.test_metrics.test_accuracy(param_n, param_l, param_u, *next(iter(dl_test_clean)), model, ct_utils.propagate_conv_layers)\n",
    "all_acc = agt.test_metrics.test_accuracy(param_n, param_l, param_u, *next(iter(dl_test_all)), model, ct_utils.propagate_conv_layers)\n",
    "\n",
    "print(\"=========== Fine-tuned model accuracy + bounds ===========\")\n",
    "print(f\"Class 2 (Drusen) : nominal = {drusen_acc[1]:.2g}, certified bound = {drusen_acc[0]:.2g}\")\n",
    "print(f\"Classes 0, 1, 3  : nominal = {clean_acc[1]:.2g}, certified bound = {clean_acc[0]:.2g}\")\n",
    "print(f\"All Classes      : nominal = {all_acc[1]:.2g}, certified bound = {all_acc[0]:.2g}\")"
   ]
  }
 ],
 "metadata": {
  "kernelspec": {
   "display_name": "venv",
   "language": "python",
   "name": "python3"
  },
  "language_info": {
   "codemirror_mode": {
    "name": "ipython",
    "version": 3
   },
   "file_extension": ".py",
   "mimetype": "text/x-python",
   "name": "python",
   "nbconvert_exporter": "python",
   "pygments_lexer": "ipython3",
   "version": "3.10.12"
  }
 },
 "nbformat": 4,
 "nbformat_minor": 2
}

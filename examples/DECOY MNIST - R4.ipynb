{
 "cells": [
  {
   "cell_type": "markdown",
   "metadata": {},
   "source": [
    "# R4 on DECOY_MNIST"
   ]
  },
  {
   "cell_type": "code",
   "execution_count": 16,
   "metadata": {},
   "outputs": [
    {
     "name": "stdout",
     "output_type": "stream",
     "text": [
      "The autoreload extension is already loaded. To reload it, use:\n",
      "  %reload_ext autoreload\n"
     ]
    }
   ],
   "source": [
    "%load_ext autoreload\n",
    "%autoreload 2\n",
    "import torch\n",
    "import tqdm\n",
    "import matplotlib.pyplot as plt\n",
    "import os\n",
    "import sys\n",
    "sys.path.append(os.path.abspath('..'))\n",
    "import abstract_gradient_training as agt\n",
    "from abstract_gradient_training import AGTConfig\n",
    "from abstract_gradient_training import certified_training_utils as ct_utils\n",
    "from models.fully_connected import FCNAugmented\n",
    "from models.robust_regularizer import input_gradient_interval_regularizer\n",
    "from models.pipeline import (train_model_with_certified_input_grad, train_model_with_pgd_robust_input_grad,\n",
    "                             test_model_accuracy, test_delta_input_robustness, write_results_to_file,\n",
    "                             uniformize_magnitudes_schedule, load_params_or_results_from_file,\n",
    "                             train_model_with_smoothed_input_grad, test_model_avg_and_wg_accuracy)\n",
    "from datasets import decoy_mnist\n",
    "from metrics import get_restart_avg_and_worst_group_accuracy_with_stddev"
   ]
  },
  {
   "cell_type": "code",
   "execution_count": 2,
   "metadata": {},
   "outputs": [
    {
     "name": "stdout",
     "output_type": "stream",
     "text": [
      "cuda:0\n"
     ]
    },
    {
     "data": {
      "text/plain": [
       "<torch._C.Generator at 0x79db3e1d8a50>"
      ]
     },
     "execution_count": 2,
     "metadata": {},
     "output_type": "execute_result"
    }
   ],
   "source": [
    "# set up pre-training\n",
    "CUDA_LAUNCH_BLOCKING=1\n",
    "SEED = 0\n",
    "device = torch.device(\"cuda:0\" if torch.cuda.is_available() else \"cpu\")\n",
    "print(device)\n",
    "torch.manual_seed(SEED)"
   ]
  },
  {
   "cell_type": "code",
   "execution_count": 3,
   "metadata": {},
   "outputs": [
    {
     "name": "stderr",
     "output_type": "stream",
     "text": [
      "/vol/bitbucket/mg2720/R4/examples/datasets/decoy_mnist.py:33: UserWarning: To copy construct from a tensor, it is recommended to use sourceTensor.clone().detach() or sourceTensor.clone().detach().requires_grad_(True), rather than torch.tensor(sourceTensor).\n",
      "  train_imgs = torch.tensor(train_imgs.clone().detach(), dtype=torch.float32) / 255\n",
      "/vol/bitbucket/mg2720/R4/examples/datasets/decoy_mnist.py:34: UserWarning: To copy construct from a tensor, it is recommended to use sourceTensor.clone().detach() or sourceTensor.clone().detach().requires_grad_(True), rather than torch.tensor(sourceTensor).\n",
      "  test_imgs = torch.tensor(test_imgs.clone().detach(), dtype=torch.float32) / 255\n",
      "/vol/bitbucket/mg2720/R4/examples/datasets/decoy_mnist.py:35: UserWarning: To copy construct from a tensor, it is recommended to use sourceTensor.clone().detach() or sourceTensor.clone().detach().requires_grad_(True), rather than torch.tensor(sourceTensor).\n",
      "  train_labels = torch.tensor(train_labels.clone().detach(), dtype=torch.int64)\n",
      "/vol/bitbucket/mg2720/R4/examples/datasets/decoy_mnist.py:36: UserWarning: To copy construct from a tensor, it is recommended to use sourceTensor.clone().detach() or sourceTensor.clone().detach().requires_grad_(True), rather than torch.tensor(sourceTensor).\n",
      "  test_labels = torch.tensor(test_labels.clone().detach(), dtype=torch.int64)\n"
     ]
    }
   ],
   "source": [
    "batch_size = 1000\n",
    "dl_train, dl_test = decoy_mnist.get_dataloaders(train_batchsize=batch_size, test_batchsize=batch_size)"
   ]
  },
  {
   "cell_type": "code",
   "execution_count": 4,
   "metadata": {},
   "outputs": [
    {
     "name": "stdout",
     "output_type": "stream",
     "text": [
      "Swatches color dict: {0: tensor(0.3333), 1: tensor(0.2980), 2: tensor(0.2667), 3: tensor(0.2353), 4: tensor(0.2000), 5: tensor(0.1686), 6: tensor(0.1373), 7: tensor(0.1020), 8: tensor(0.0706), 9: tensor(0.0392)}\n"
     ]
    }
   ],
   "source": [
    "dl_masks_train, dl_masks_test = decoy_mnist.get_masked_dataloaders(dl_train, dl_test)"
   ]
  },
  {
   "cell_type": "code",
   "execution_count": 5,
   "metadata": {},
   "outputs": [],
   "source": [
    "def visualize_gradient(model, batch_input, batch_labels, batch_mask, epsilon, elem_idx):\n",
    "    batch_input, batch_labels, batch_mask = batch_input.to(device), batch_labels.to(device), batch_mask.to(device)\n",
    "    grad_bounds = input_gradient_interval_regularizer(\n",
    "        model, batch_input, batch_labels, \"cross_entropy\", epsilon, 0.0, return_grads=True, regularizer_type=\"r4\", batch_masks=batch_mask\n",
    "    )\n",
    "    dx_l, dx_u = grad_bounds[1]\n",
    "    dx_n, _ = grad_bounds[0]\n",
    "    fig, ax = plt.subplots(3, 2, figsize=(14, 13))\n",
    "    ax[0][0].imshow(batch_input[elem_idx].cpu().numpy().reshape(28, 28), cmap='gray')\n",
    "    ax[0][0].set_title(f\"Input at index {elem_idx}\")\n",
    "    im_mask = ax[0][1].imshow(batch_mask[elem_idx].cpu().numpy().reshape(28, 28), cmap='gray')\n",
    "    ax[0][1].set_title(f\"Mask at index {elem_idx}\")\n",
    "    fig.colorbar(im_mask, ax=ax[0][1])\n",
    "    im_dx_l = ax[1][0].imshow(dx_l[elem_idx].cpu().detach().numpy().reshape(28, 28), cmap='coolwarm')\n",
    "    ax[1][0].set_title(f\"Lower bound of gradient at index {elem_idx}\")\n",
    "    fig.colorbar(im_dx_l, ax=ax[1][0])\n",
    "    im_dx_u = ax[1][1].imshow(dx_u[elem_idx].cpu().detach().numpy().reshape(28, 28), cmap='coolwarm')\n",
    "    ax[1][1].set_title(f\"Upper bound of gradient at index {elem_idx}\")\n",
    "    fig.colorbar(im_dx_u, ax=ax[1][1])\n",
    "    im_dx_n = ax[2][0].imshow(dx_n[elem_idx].cpu().detach().numpy().reshape(28, 28), cmap='coolwarm')\n",
    "    ax[2][0].set_title(f\"Gradient at index {elem_idx}\")\n",
    "    fig.colorbar(im_dx_n, ax=ax[2][0])"
   ]
  },
  {
   "cell_type": "code",
   "execution_count": 6,
   "metadata": {},
   "outputs": [
    {
     "name": "stdout",
     "output_type": "stream",
     "text": [
      "FCNAugmented(\n",
      "  (0): Flatten(start_dim=1, end_dim=-1)\n",
      "  (1): Linear(in_features=784, out_features=512, bias=True)\n",
      "  (2): ReLU()\n",
      "  (3): Linear(in_features=512, out_features=10, bias=True)\n",
      "  (4): Softmax(dim=-1)\n",
      ")\n"
     ]
    }
   ],
   "source": [
    "ARCH = (784, 10, 512, 1)\n",
    "model = FCNAugmented(*ARCH, init_with_small_weights=True)\n",
    "criterion = torch.nn.CrossEntropyLoss()\n",
    "model = model.to(device)\n",
    "print(model)"
   ]
  },
  {
   "cell_type": "code",
   "execution_count": 8,
   "metadata": {},
   "outputs": [
    {
     "name": "stdout",
     "output_type": "stream",
     "text": [
      "887\n",
      "torch.Size([10000, 28, 28])\n"
     ]
    },
    {
     "data": {
      "image/png": "[encoded data removed]",
      "text/plain": [
       "<Figure size 1400x1300 with 10 Axes>"
      ]
     },
     "metadata": {},
     "output_type": "display_data"
    }
   ],
   "source": [
    "elem_idx = torch.randint(0, batch_size, (1,)).item()\n",
    "print(elem_idx)\n",
    "print(dl_masks_test.dataset.tensors[2].shape)\n",
    "test_batch = list(next(iter(dl_masks_test)))\n",
    "visualize_gradient(model, test_batch[0], test_batch[1], test_batch[2], 0.1, elem_idx)"
   ]
  },
  {
   "cell_type": "markdown",
   "metadata": {},
   "source": [
    "## Experiments "
   ]
  },
  {
   "cell_type": "code",
   "execution_count": 9,
   "metadata": {},
   "outputs": [],
   "source": [
    "DELTA_INPUT_ROBUSTNESS_PARAM = 0.5\n",
    "model_root_save_dir = \"saved_experiment_models/performance/decoy_mnist/\"\n",
    "os.makedirs(model_root_save_dir, exist_ok=True)\n",
    "# r4_pmo is the same as r4 but with only the masked region perturbed\n",
    "methods = [\"std\", \"r3\", \"r4\", \"ibp_ex\", \"ibp_ex+r3\", \"pgd_r4\", \"rand_r4\", \"smooth_r3\", \"r4_pmo\", \"pgd_r4_pmo\", \"rand_r4_pmo\"]\n",
    "save_dir_for_method = {method: os.path.join(model_root_save_dir, method) for method in methods}\n",
    "for method in methods:\n",
    "    os.makedirs(save_dir_for_method[method], exist_ok=True)"
   ]
  },
  {
   "cell_type": "markdown",
   "metadata": {},
   "source": [
    "### Standard Training"
   ]
  },
  {
   "cell_type": "code",
   "execution_count": 80,
   "metadata": {},
   "outputs": [
    {
     "name": "stdout",
     "output_type": "stream",
     "text": [
      "========== Training model with method std restart 0 ==========\n"
     ]
    },
    {
     "name": "stderr",
     "output_type": "stream",
     "text": [
      "Epoch: 100%|██████████| 30/30 [00:42<00:00,  1.42s/it, loss=1.46, reg=0]\n"
     ]
    },
    {
     "name": "stdout",
     "output_type": "stream",
     "text": [
      "Testing model accuracy for the training set\n",
      "--- Model accuracy ---\n",
      "Nominal = 0.9971\n",
      "Testing model accuracy for the test set\n",
      "--- Model accuracy ---\n",
      "Nominal = 0.6398\n",
      "--- Mininimum delta for which the test set is certifiably 1-delta-input-robust ---\n",
      "Min robust delta = 526\n",
      "--- Model accuracy per group ---\n",
      "Macro average group accuracy = 0.6423\n",
      "Min group accuracy = 0.2428, group idx = 9\n",
      "========== Training model with method std restart 1 ==========\n"
     ]
    },
    {
     "name": "stderr",
     "output_type": "stream",
     "text": [
      "Epoch: 100%|██████████| 30/30 [00:43<00:00,  1.45s/it, loss=1.46, reg=0]\n"
     ]
    },
    {
     "name": "stdout",
     "output_type": "stream",
     "text": [
      "Testing model accuracy for the training set\n",
      "--- Model accuracy ---\n",
      "Nominal = 0.997\n",
      "Testing model accuracy for the test set\n",
      "--- Model accuracy ---\n",
      "Nominal = 0.6362\n",
      "--- Mininimum delta for which the test set is certifiably 1-delta-input-robust ---\n",
      "Min robust delta = 470\n",
      "--- Model accuracy per group ---\n",
      "Macro average group accuracy = 0.6388\n",
      "Min group accuracy = 0.2002, group idx = 9\n",
      "========== Training model with method std restart 2 ==========\n"
     ]
    },
    {
     "name": "stderr",
     "output_type": "stream",
     "text": [
      "Epoch: 100%|██████████| 30/30 [00:43<00:00,  1.44s/it, loss=1.46, reg=0]\n"
     ]
    },
    {
     "name": "stdout",
     "output_type": "stream",
     "text": [
      "Testing model accuracy for the training set\n",
      "--- Model accuracy ---\n",
      "Nominal = 0.9979\n",
      "Testing model accuracy for the test set\n",
      "--- Model accuracy ---\n",
      "Nominal = 0.6195\n",
      "--- Mininimum delta for which the test set is certifiably 1-delta-input-robust ---\n",
      "Min robust delta = 491\n",
      "--- Model accuracy per group ---\n",
      "Macro average group accuracy = 0.6213\n",
      "Min group accuracy = 0.2369, group idx = 9\n",
      "========== Training model with method std restart 3 ==========\n"
     ]
    },
    {
     "name": "stderr",
     "output_type": "stream",
     "text": [
      "Epoch: 100%|██████████| 30/30 [00:42<00:00,  1.43s/it, loss=1.46, reg=0]\n"
     ]
    },
    {
     "name": "stdout",
     "output_type": "stream",
     "text": [
      "Testing model accuracy for the training set\n",
      "--- Model accuracy ---\n",
      "Nominal = 0.997\n",
      "Testing model accuracy for the test set\n",
      "--- Model accuracy ---\n",
      "Nominal = 0.6508\n",
      "--- Mininimum delta for which the test set is certifiably 1-delta-input-robust ---\n",
      "Min robust delta = 502\n",
      "--- Model accuracy per group ---\n",
      "Macro average group accuracy = 0.6533\n",
      "Min group accuracy = 0.2161, group idx = 9\n",
      "Macro average group accuracy = 0.6389\n",
      "Min group accuracy = 0.224, group idx = 9\n",
      "Group accuracies averaged over run = tensor([0.6046, 0.6161, 0.7805, 0.7559, 0.7581, 0.8279, 0.7662, 0.6257, 0.4299,\n",
      "        0.2240], dtype=torch.float64)\n"
     ]
    }
   ],
   "source": [
    "std_method = \"std\"\n",
    "# hyperparameters\n",
    "num_epochs, lr, restarts, epsilon, weight_coeff, k = 30, 0.01, 4, 0.1, -1, -1\n",
    "# Train standard 3 times and test accuracy and delta input robustness for the masked region\n",
    "train_acc, test_acc, num_robust, avg_delta, min_lower_bound, max_upper_bound = 0, 0, 0, 0, 0, 0\n",
    "for i in range(restarts):\n",
    "    # Reinitialize the model\n",
    "    # We could try to just reinitialize the weights, but we can throw away the previous model for now as we do not need it\n",
    "    torch.manual_seed(i + SEED)\n",
    "    curr_model = FCNAugmented(*ARCH)\n",
    "\n",
    "    print(f\"========== Training model with method {std_method} restart {i} ==========\")\n",
    "    train_model_with_certified_input_grad(dl_masks_train, num_epochs, curr_model, lr, criterion, epsilon, std_method, k, device, False)\n",
    "    print(\"Testing model accuracy for the training set\")\n",
    "    train_acc += test_model_accuracy(curr_model, dl_masks_train, device, multi_class=True)\n",
    "    print(\"Testing model accuracy for the test set\")\n",
    "    test_acc += test_model_accuracy(curr_model, dl_masks_test, device, multi_class=True)\n",
    "    n_r, min_delta, m_l, m_u = test_delta_input_robustness(dl_masks_test, curr_model, epsilon, DELTA_INPUT_ROBUSTNESS_PARAM, \"cross_entropy\", device)\n",
    "    num_robust += num_robust\n",
    "    avg_delta += min_delta\n",
    "    min_lower_bound += m_l\n",
    "    max_upper_bound += m_u\n",
    "    avg_g_acc, wg_acc, wg = test_model_avg_and_wg_accuracy(curr_model, dl_masks_test, device, num_groups=10, multi_class=True)\n",
    "    torch.save(curr_model.state_dict(), os.path.join(save_dir_for_method[std_method], f\"run_{i}.pt\"))\n",
    "empty_model = FCNAugmented(*ARCH)\n",
    "avg_acc, wg_acc, wg, *_ = get_restart_avg_and_worst_group_accuracy_with_stddev(\n",
    "    dl_masks_test, save_dir_for_method[std_method], empty_model, device, num_groups=10, multi_class=True\n",
    ")\n",
    "write_results_to_file(\"experiment_results/decoy_mnist.yaml\",\n",
    "                      {\"train_acc\": round(train_acc / restarts, 5),\n",
    "                       \"test_acc\": round(test_acc / restarts, 5),\n",
    "                       \"avg_group_acc\": round(avg_acc, 5),\n",
    "                       \"worst_group_acc\": round(wg_acc, 5),\n",
    "                       \"worst_group\": wg,\n",
    "                       \"min_robust_delta\": round(avg_delta / restarts, 5),\n",
    "                       \"min_lower_bound\": round(min_lower_bound / restarts, 5),\n",
    "                       \"max_upper_bound\": round(max_upper_bound / restarts, 5)\n",
    "                       }, std_method)\n",
    "write_results_to_file(\"experiment_results/decoy_mnist_params.yaml\",\n",
    "                        {\"epsilon\": epsilon,\n",
    "                         \"test_epsilon\": epsilon,\n",
    "                         \"k\": k,\n",
    "                         \"weight_coeff\": weight_coeff,\n",
    "                         \"num_epochs\": num_epochs,\n",
    "                         \"lr\": lr,\n",
    "                         \"restarts\": restarts,\n",
    "                         \"train_batch_size\": dl_masks_train.batch_size,\n",
    "                         \"test_batch_size\": dl_masks_test.batch_size,\n",
    "                         \"class_weights\": -1,\n",
    "                         \"multi_class\": True,\n",
    "                         \"has_conv\": False,\n",
    "                         \"with_k_schedule\": False}, std_method)"
   ]
  },
  {
   "cell_type": "markdown",
   "metadata": {},
   "source": [
    "### RRR Training"
   ]
  },
  {
   "cell_type": "code",
   "execution_count": null,
   "metadata": {},
   "outputs": [
    {
     "name": "stdout",
     "output_type": "stream",
     "text": [
      "========== Training model with method r3, restart 0 ==========\n"
     ]
    },
    {
     "name": "stderr",
     "output_type": "stream",
     "text": [
      "Epoch: 100%|██████████| 25/25 [00:32<00:00,  1.29s/it, loss=1.7, reg=tensor(0.0060, device='cuda:0', grad_fn=<AddBackward0>)] \n"
     ]
    },
    {
     "name": "stdout",
     "output_type": "stream",
     "text": [
      "Testing model accuracy for the training set\n",
      "--- Model accuracy ---\n",
      "Nominal = 0.9176\n",
      "Testing model accuracy for the test set\n",
      "--- Model accuracy ---\n",
      "Nominal = 0.9093\n",
      "--- Mininimum delta for which the test set is certifiably 1-delta-input-robust ---\n",
      "Min robust delta = 2.27\n",
      "--- Model accuracy per group ---\n",
      "Macro average group accuracy = 0.9075\n",
      "Min group accuracy = 0.8262, group idx = 5\n",
      "========== Training model with method r3, restart 1 ==========\n"
     ]
    },
    {
     "name": "stderr",
     "output_type": "stream",
     "text": [
      "Epoch: 100%|██████████| 25/25 [00:32<00:00,  1.30s/it, loss=1.7, reg=tensor(0.0060, device='cuda:0', grad_fn=<AddBackward0>)] \n"
     ]
    },
    {
     "name": "stdout",
     "output_type": "stream",
     "text": [
      "Testing model accuracy for the training set\n",
      "--- Model accuracy ---\n",
      "Nominal = 0.9195\n",
      "Testing model accuracy for the test set\n",
      "--- Model accuracy ---\n",
      "Nominal = 0.9174\n",
      "--- Mininimum delta for which the test set is certifiably 1-delta-input-robust ---\n",
      "Min robust delta = 1.9\n",
      "--- Model accuracy per group ---\n",
      "Macro average group accuracy = 0.9166\n",
      "Min group accuracy = 0.8767, group idx = 5\n",
      "========== Training model with method r3, restart 2 ==========\n"
     ]
    },
    {
     "name": "stderr",
     "output_type": "stream",
     "text": [
      "Epoch: 100%|██████████| 25/25 [00:32<00:00,  1.31s/it, loss=1.7, reg=tensor(0.0060, device='cuda:0', grad_fn=<AddBackward0>)] \n"
     ]
    },
    {
     "name": "stdout",
     "output_type": "stream",
     "text": [
      "Testing model accuracy for the training set\n",
      "--- Model accuracy ---\n",
      "Nominal = 0.9179\n",
      "Testing model accuracy for the test set\n",
      "--- Model accuracy ---\n",
      "Nominal = 0.9122\n",
      "--- Mininimum delta for which the test set is certifiably 1-delta-input-robust ---\n",
      "Min robust delta = 2.09\n",
      "--- Model accuracy per group ---\n",
      "Macro average group accuracy = 0.9113\n",
      "Min group accuracy = 0.8304, group idx = 2\n",
      "========== Training model with method r3, restart 3 ==========\n"
     ]
    },
    {
     "name": "stderr",
     "output_type": "stream",
     "text": [
      "Epoch: 100%|██████████| 25/25 [00:32<00:00,  1.30s/it, loss=1.7, reg=tensor(0.0060, device='cuda:0', grad_fn=<AddBackward0>)] \n"
     ]
    },
    {
     "name": "stdout",
     "output_type": "stream",
     "text": [
      "Testing model accuracy for the training set\n",
      "--- Model accuracy ---\n",
      "Nominal = 0.9144\n",
      "Testing model accuracy for the test set\n",
      "--- Model accuracy ---\n",
      "Nominal = 0.9049\n",
      "--- Mininimum delta for which the test set is certifiably 1-delta-input-robust ---\n",
      "Min robust delta = 2.12\n",
      "--- Model accuracy per group ---\n",
      "Macro average group accuracy = 0.9033\n",
      "Min group accuracy = 0.7752, group idx = 8\n",
      "Macro average group accuracy = 0.9097\n",
      "Min group accuracy = 0.8517, group idx = 5\n",
      "Group accuracies averaged over run = tensor([0.9804, 0.9756, 0.8740, 0.9205, 0.9241, 0.8517, 0.9259, 0.9117, 0.8686,\n",
      "        0.8645], dtype=torch.float64)\n"
     ]
    }
   ],
   "source": [
    "rrr_method = \"r3\"\n",
    "# hyperparams\n",
    "num_epochs, lr, restarts, epsilon, weight_coeff, k = 25, 0.025, 4, 0.1, 0.0001, 10\n",
    "train_acc, test_acc, num_robust, avg_delta, min_lower_bound, max_upper_bound = 0, 0, 0, 0, 0, 0\n",
    "for i in range(restarts):\n",
    "    # Reinitialize the model\n",
    "    # We could try to just reinitialize the weights, but we can throw away the previous model for now as we do not need it\n",
    "    torch.manual_seed(i + SEED)\n",
    "    curr_model = FCNAugmented(*ARCH)\n",
    "\n",
    "    print(f\"========== Training model with method {rrr_method}, restart {i} ==========\")\n",
    "    train_model_with_certified_input_grad(dl_masks_train, num_epochs, curr_model, lr, criterion, epsilon, rrr_method,\n",
    "        k, device, False, weight_reg_coeff=weight_coeff)\n",
    "    print(\"Testing model accuracy for the training set\")\n",
    "    train_acc += test_model_accuracy(curr_model, dl_masks_train, device, multi_class=True)\n",
    "    print(\"Testing model accuracy for the test set\")\n",
    "    test_acc += test_model_accuracy(curr_model, dl_masks_test, device, multi_class=True)\n",
    "    n_r, min_delta, m_l, m_u = test_delta_input_robustness(dl_masks_test, curr_model, epsilon, DELTA_INPUT_ROBUSTNESS_PARAM, \"cross_entropy\", device)\n",
    "    num_robust += num_robust\n",
    "    avg_delta += min_delta\n",
    "    min_lower_bound += m_l\n",
    "    max_upper_bound += m_u\n",
    "    avg_g_acc, wg_acc, wg = test_model_avg_and_wg_accuracy(curr_model, dl_masks_test, device, num_groups=10, multi_class=True)\n",
    "    torch.save(curr_model.state_dict(), os.path.join(save_dir_for_method[rrr_method], f\"run_{i}.pt\"))\n",
    "empty_model = FCNAugmented(*ARCH)\n",
    "avg_acc, wg_acc, wg, *_ = get_restart_avg_and_worst_group_accuracy_with_stddev(\n",
    "    dl_masks_test, save_dir_for_method[rrr_method], empty_model, device, num_groups=10, multi_class=True\n",
    ")\n",
    "write_results_to_file(\"experiment_results/decoy_mnist.yaml\",\n",
    "                      {\"train_acc\": round(train_acc / restarts, 5),\n",
    "                       \"test_acc\": round(test_acc / restarts, 5),\n",
    "                       \"avg_group_acc\": round(avg_acc, 5),\n",
    "                       \"worst_group_acc\": round(wg_acc, 5),\n",
    "                       \"worst_group\": wg,\n",
    "                       \"min_robust_delta\": round(avg_delta / restarts, 5),\n",
    "                       \"min_lower_bound\": round(min_lower_bound / restarts, 5),\n",
    "                       \"max_upper_bound\": round(max_upper_bound / restarts, 5)\n",
    "                       }, rrr_method)\n",
    "write_results_to_file(\"experiment_results/decoy_mnist_params.yaml\",\n",
    "                        {\"epsilon\": epsilon,\n",
    "                         \"test_epsilon\": epsilon,\n",
    "                         \"k\": k,\n",
    "                         \"weight_coeff\": weight_coeff,\n",
    "                         \"num_epochs\": num_epochs,\n",
    "                         \"lr\": lr,\n",
    "                         \"restarts\": restarts,\n",
    "                         \"train_batch_size\": dl_masks_train.batch_size,\n",
    "                         \"test_batch_size\": dl_masks_test.batch_size,\n",
    "                         \"class_weights\": -1,\n",
    "                         \"multi_class\": True,\n",
    "                         \"has_conv\": False,\n",
    "                         \"with_k_schedule\": False}, rrr_method)"
   ]
  },
  {
   "cell_type": "markdown",
   "metadata": {},
   "source": [
    "### R4 Training"
   ]
  },
  {
   "cell_type": "code",
   "execution_count": 145,
   "metadata": {},
   "outputs": [
    {
     "name": "stdout",
     "output_type": "stream",
     "text": [
      "========== Training model with method R4, restart 0 ==========\n"
     ]
    },
    {
     "name": "stderr",
     "output_type": "stream",
     "text": [
      "Epoch: 100%|██████████| 25/25 [00:38<00:00,  1.53s/it, loss=1.49, reg=tensor(6.5448e-06, device='cuda:0', grad_fn=<DivBackward0>)]\n"
     ]
    },
    {
     "name": "stdout",
     "output_type": "stream",
     "text": [
      "Testing model accuracy for the training set\n",
      "--- Model accuracy ---\n",
      "Nominal = 0.9795\n",
      "Testing model accuracy for the test set\n",
      "--- Model accuracy ---\n",
      "Nominal = 0.9692\n",
      "--- Mininimum delta for which the test set is certifiably 1-delta-input-robust ---\n",
      "Min robust delta = 0.913\n",
      "--- Model accuracy per group ---\n",
      "Macro average group accuracy = 0.9689\n",
      "Min group accuracy = 0.9415, group idx = 9\n",
      "========== Training model with method R4, restart 1 ==========\n"
     ]
    },
    {
     "name": "stderr",
     "output_type": "stream",
     "text": [
      "Epoch: 100%|██████████| 25/25 [00:37<00:00,  1.49s/it, loss=1.48, reg=tensor(5.3298e-06, device='cuda:0', grad_fn=<DivBackward0>)]\n"
     ]
    },
    {
     "name": "stdout",
     "output_type": "stream",
     "text": [
      "Testing model accuracy for the training set\n",
      "--- Model accuracy ---\n",
      "Nominal = 0.9812\n",
      "Testing model accuracy for the test set\n",
      "--- Model accuracy ---\n",
      "Nominal = 0.9715\n",
      "--- Mininimum delta for which the test set is certifiably 1-delta-input-robust ---\n",
      "Min robust delta = 0.922\n",
      "--- Model accuracy per group ---\n",
      "Macro average group accuracy = 0.9713\n",
      "Min group accuracy = 0.9514, group idx = 9\n",
      "========== Training model with method R4, restart 2 ==========\n"
     ]
    },
    {
     "name": "stderr",
     "output_type": "stream",
     "text": [
      "Epoch: 100%|██████████| 25/25 [00:37<00:00,  1.50s/it, loss=1.48, reg=tensor(5.6638e-06, device='cuda:0', grad_fn=<DivBackward0>)]\n"
     ]
    },
    {
     "name": "stdout",
     "output_type": "stream",
     "text": [
      "Testing model accuracy for the training set\n",
      "--- Model accuracy ---\n",
      "Nominal = 0.9805\n",
      "Testing model accuracy for the test set\n",
      "--- Model accuracy ---\n",
      "Nominal = 0.9704\n",
      "--- Mininimum delta for which the test set is certifiably 1-delta-input-robust ---\n",
      "Min robust delta = 0.918\n",
      "--- Model accuracy per group ---\n",
      "Macro average group accuracy = 0.9702\n",
      "Min group accuracy = 0.9504, group idx = 9\n",
      "========== Training model with method R4, restart 3 ==========\n"
     ]
    },
    {
     "name": "stderr",
     "output_type": "stream",
     "text": [
      "Epoch: 100%|██████████| 25/25 [00:36<00:00,  1.47s/it, loss=1.48, reg=tensor(4.2044e-06, device='cuda:0', grad_fn=<DivBackward0>)]\n"
     ]
    },
    {
     "name": "stdout",
     "output_type": "stream",
     "text": [
      "Testing model accuracy for the training set\n",
      "--- Model accuracy ---\n",
      "Nominal = 0.9815\n",
      "Testing model accuracy for the test set\n",
      "--- Model accuracy ---\n",
      "Nominal = 0.9706\n",
      "--- Mininimum delta for which the test set is certifiably 1-delta-input-robust ---\n",
      "Min robust delta = 0.999\n",
      "--- Model accuracy per group ---\n",
      "Macro average group accuracy = 0.9704\n",
      "Min group accuracy = 0.9485, group idx = 9\n",
      "Macro average group accuracy = 0.9702\n",
      "Min group accuracy = 0.948, group idx = 9\n",
      "Group accuracies averaged over run = tensor([0.9885, 0.9881, 0.9661, 0.9691, 0.9745, 0.9664, 0.9710, 0.9674, 0.9630,\n",
      "        0.9480], dtype=torch.float64)\n"
     ]
    }
   ],
   "source": [
    "# Train standard 3 times and test accuracy and delta input robustness for the masked region\n",
    "r4_method = \"r4\"\n",
    "num_epochs, lr, restarts, epsilon, weight_coeff, k = 25, 0.001, 4, 0.5, -1, 15\n",
    "test_epsilon = 0.1\n",
    "train_acc, test_acc, num_robust, avg_delta, min_lower_bound, max_upper_bound = 0, 0, 0, 0, 0, 0\n",
    "for i in range(restarts):\n",
    "    # Reinitialize the model\n",
    "    # We could try to just reinitialize the weights, but we can throw away the previous model for now as we do not need it\n",
    "    torch.manual_seed(i + SEED)\n",
    "    curr_model = FCNAugmented(*ARCH)\n",
    "\n",
    "    print(f\"========== Training model with method R4, restart {i} ==========\")\n",
    "    train_model_with_certified_input_grad(dl_masks_train, num_epochs, curr_model, lr, criterion, epsilon, r4_method, k, device, False)\n",
    "    print(\"Testing model accuracy for the training set\")\n",
    "    train_acc += test_model_accuracy(curr_model, dl_masks_train, device, multi_class=True)\n",
    "    print(\"Testing model accuracy for the test set\")\n",
    "    test_acc += test_model_accuracy(curr_model, dl_masks_test, device, multi_class=True)\n",
    "    n_r, min_delta, m_l, m_u = test_delta_input_robustness(dl_masks_test, curr_model, test_epsilon, DELTA_INPUT_ROBUSTNESS_PARAM, \"cross_entropy\", device)\n",
    "    num_robust += n_r\n",
    "    avg_delta += min_delta\n",
    "    min_lower_bound += m_l\n",
    "    max_upper_bound += m_u\n",
    "    avg_g_acc, wg_acc, wg = test_model_avg_and_wg_accuracy(curr_model, dl_masks_test, device, num_groups=10, multi_class=True)\n",
    "    torch.save(curr_model.state_dict(), os.path.join(save_dir_for_method[r4_method], f\"run_{i}.pt\"))\n",
    "empty_model = FCNAugmented(*ARCH)\n",
    "avg_acc, wg_acc, wg, *_ = get_restart_avg_and_worst_group_accuracy_with_stddev(\n",
    "    dl_masks_test, save_dir_for_method[r4_method], empty_model, device, num_groups=10, multi_class=True\n",
    ")\n",
    "write_results_to_file(\"experiment_results/decoy_mnist.yaml\",\n",
    "                      {\"train_acc\": round(train_acc / restarts, 5),\n",
    "                       \"test_acc\": round(test_acc / restarts, 5),\n",
    "                       \"avg_group_acc\": round(avg_acc, 5),\n",
    "                       \"worst_group_acc\": round(wg_acc, 5),\n",
    "                       \"worst_group\": wg,\n",
    "                       \"min_robust_delta\": round(avg_delta / restarts, 5),\n",
    "                       \"min_lower_bound\": round(min_lower_bound / restarts, 5),\n",
    "                       \"max_upper_bound\": round(max_upper_bound / restarts, 5)\n",
    "                       }, r4_method)\n",
    "write_results_to_file(\"experiment_results/decoy_mnist_params.yaml\",\n",
    "                        {\"epsilon\": epsilon,\n",
    "                         \"test_epsilon\": test_epsilon,\n",
    "                         \"k\": k,\n",
    "                         \"weight_coeff\": weight_coeff,\n",
    "                         \"num_epochs\": num_epochs,\n",
    "                         \"lr\": lr,\n",
    "                         \"restarts\": restarts,\n",
    "                         \"train_batch_size\": dl_masks_train.batch_size,\n",
    "                         \"test_batch_size\": dl_masks_test.batch_size,\n",
    "                         \"class_weights\": -1,\n",
    "                         \"multi_class\": True,\n",
    "                         \"has_conv\": False,\n",
    "                         \"with_k_schedule\": False}, r4_method)"
   ]
  },
  {
   "cell_type": "markdown",
   "metadata": {},
   "source": [
    "### IBP-EX Training"
   ]
  },
  {
   "cell_type": "code",
   "execution_count": 106,
   "metadata": {},
   "outputs": [
    {
     "name": "stdout",
     "output_type": "stream",
     "text": [
      "========== Training model with method ibp_ex restart 0 ==========\n"
     ]
    },
    {
     "name": "stderr",
     "output_type": "stream",
     "text": [
      "Epoch: 100%|██████████| 30/30 [00:45<00:00,  1.53s/it, loss=10.8, reg=tensor(2.3238, device='cuda:0', grad_fn=<AddBackward0>)]\n"
     ]
    },
    {
     "name": "stdout",
     "output_type": "stream",
     "text": [
      "Testing model accuracy for the training set\n",
      "--- Model accuracy ---\n",
      "Nominal = 0.9146\n",
      "Testing model accuracy for the test set\n",
      "--- Model accuracy ---\n",
      "Nominal = 0.8969\n",
      "--- Mininimum delta for which the test set is certifiably 1-delta-input-robust ---\n",
      "Min robust delta = 5.77\n",
      "--- Model accuracy per group ---\n",
      "Macro average group accuracy = 0.8956\n",
      "Min group accuracy = 0.7878, group idx = 2\n",
      "========== Training model with method ibp_ex restart 1 ==========\n"
     ]
    },
    {
     "name": "stderr",
     "output_type": "stream",
     "text": [
      "Epoch: 100%|██████████| 30/30 [00:45<00:00,  1.51s/it, loss=10.9, reg=tensor(2.3229, device='cuda:0', grad_fn=<AddBackward0>)]\n"
     ]
    },
    {
     "name": "stdout",
     "output_type": "stream",
     "text": [
      "Testing model accuracy for the training set\n",
      "--- Model accuracy ---\n",
      "Nominal = 0.9188\n",
      "Testing model accuracy for the test set\n",
      "--- Model accuracy ---\n",
      "Nominal = 0.904\n",
      "--- Mininimum delta for which the test set is certifiably 1-delta-input-robust ---\n",
      "Min robust delta = 5.3\n",
      "--- Model accuracy per group ---\n",
      "Macro average group accuracy = 0.9027\n",
      "Min group accuracy = 0.8018, group idx = 8\n",
      "========== Training model with method ibp_ex restart 2 ==========\n"
     ]
    },
    {
     "name": "stderr",
     "output_type": "stream",
     "text": [
      "Epoch: 100%|██████████| 30/30 [00:45<00:00,  1.50s/it, loss=10.9, reg=tensor(2.3230, device='cuda:0', grad_fn=<AddBackward0>)]\n"
     ]
    },
    {
     "name": "stdout",
     "output_type": "stream",
     "text": [
      "Testing model accuracy for the training set\n",
      "--- Model accuracy ---\n",
      "Nominal = 0.9077\n",
      "Testing model accuracy for the test set\n",
      "--- Model accuracy ---\n",
      "Nominal = 0.8905\n",
      "--- Mininimum delta for which the test set is certifiably 1-delta-input-robust ---\n",
      "Min robust delta = 5.88\n",
      "--- Model accuracy per group ---\n",
      "Macro average group accuracy = 0.8894\n",
      "Min group accuracy = 0.7998, group idx = 8\n",
      "========== Training model with method ibp_ex restart 3 ==========\n"
     ]
    },
    {
     "name": "stderr",
     "output_type": "stream",
     "text": [
      "Epoch: 100%|██████████| 30/30 [00:45<00:00,  1.52s/it, loss=10.9, reg=tensor(2.3234, device='cuda:0', grad_fn=<AddBackward0>)]\n"
     ]
    },
    {
     "name": "stdout",
     "output_type": "stream",
     "text": [
      "Testing model accuracy for the training set\n",
      "--- Model accuracy ---\n",
      "Nominal = 0.9186\n",
      "Testing model accuracy for the test set\n",
      "--- Model accuracy ---\n",
      "Nominal = 0.9007\n",
      "--- Mininimum delta for which the test set is certifiably 1-delta-input-robust ---\n",
      "Min robust delta = 5.51\n",
      "--- Model accuracy per group ---\n",
      "Macro average group accuracy = 0.8999\n",
      "Min group accuracy = 0.8473, group idx = 7\n",
      "Macro average group accuracy = 0.8969\n",
      "Min group accuracy = 0.8365, group idx = 8\n",
      "Group accuracies averaged over run = tensor([0.9668, 0.9744, 0.8532, 0.8973, 0.9147, 0.8568, 0.9293, 0.8969, 0.8365,\n",
      "        0.8429], dtype=torch.float64)\n"
     ]
    }
   ],
   "source": [
    "ibp_ex_method = \"ibp_ex\"\n",
    "# Train standard 3 times and test accuracy and delta input robustness for the masked region\n",
    "num_epochs, lr, restarts, epsilon, weight_coeff, k = 30, 0.075, 4, 0.25, 0.0002, 4\n",
    "test_epsilon = 0.1\n",
    "train_acc, test_acc, num_robust, avg_delta, min_lower_bound, max_upper_bound = 0, 0, 0, 0, 0, 0\n",
    "for i in range(restarts):\n",
    "    # Reinitialize the model\n",
    "    # We could try to just reinitialize the weights, but we can throw away the previous model for now as we do not need it\n",
    "    torch.manual_seed(i + SEED)\n",
    "    curr_model = FCNAugmented(*ARCH)\n",
    "\n",
    "    print(f\"========== Training model with method {ibp_ex_method} restart {i} ==========\")\n",
    "    train_model_with_certified_input_grad(dl_masks_train, num_epochs, curr_model, lr, criterion, epsilon, ibp_ex_method, k,\n",
    "                                          device, False, weight_reg_coeff=weight_coeff)\n",
    "    print(\"Testing model accuracy for the training set\")\n",
    "    train_acc += test_model_accuracy(curr_model, dl_masks_train, device, multi_class=True)\n",
    "    print(\"Testing model accuracy for the test set\")\n",
    "    test_acc += test_model_accuracy(curr_model, dl_masks_test, device, multi_class=True)\n",
    "    n_r, min_delta, m_l, m_u = test_delta_input_robustness(dl_masks_test, curr_model, test_epsilon, DELTA_INPUT_ROBUSTNESS_PARAM, \"cross_entropy\", device)\n",
    "    num_robust += n_r\n",
    "    avg_delta += min_delta\n",
    "    min_lower_bound += m_l\n",
    "    max_upper_bound += m_u\n",
    "    avg_g_acc, wg_acc, wg = test_model_avg_and_wg_accuracy(curr_model, dl_masks_test, device, num_groups=10, multi_class=True)\n",
    "    torch.save(curr_model.state_dict(), os.path.join(save_dir_for_method[ibp_ex_method], f\"run_{i}.pt\"))\n",
    "empty_model = FCNAugmented(*ARCH)\n",
    "avg_acc, wg_acc, wg, *_ = get_restart_avg_and_worst_group_accuracy_with_stddev(\n",
    "    dl_masks_test, save_dir_for_method[ibp_ex_method], empty_model, device, num_groups=10, multi_class=True\n",
    ")\n",
    "write_results_to_file(\"experiment_results/decoy_mnist.yaml\",\n",
    "                      {\"train_acc\": round(train_acc / restarts, 5),\n",
    "                       \"test_acc\": round(test_acc / restarts, 5),\n",
    "                       \"avg_group_acc\": round(avg_acc, 5),\n",
    "                       \"worst_group_acc\": round(wg_acc, 5),\n",
    "                       \"worst_group\": wg,\n",
    "                       \"min_robust_delta\": round(avg_delta / restarts, 5),\n",
    "                       \"min_lower_bound\": round(min_lower_bound / restarts, 5),\n",
    "                       \"max_upper_bound\": round(max_upper_bound / restarts, 5)\n",
    "                       }, ibp_ex_method)\n",
    "write_results_to_file(\"experiment_results/decoy_mnist_params.yaml\",\n",
    "                        {\"epsilon\": epsilon,\n",
    "                         \"test_epsilon\": test_epsilon,\n",
    "                         \"k\": k,\n",
    "                         \"weight_coeff\": weight_coeff,\n",
    "                         \"num_epochs\": num_epochs,\n",
    "                         \"lr\": lr,\n",
    "                         \"restarts\": restarts,\n",
    "                         \"train_batch_size\": dl_masks_train.batch_size,\n",
    "                         \"test_batch_size\": dl_masks_test.batch_size,\n",
    "                         \"class_weights\": -1,\n",
    "                         \"multi_class\": True,\n",
    "                         \"has_conv\": False,\n",
    "                         \"with_k_schedule\": False}, ibp_ex_method)"
   ]
  },
  {
   "cell_type": "markdown",
   "metadata": {},
   "source": [
    "### IBP-EX + R3 Training"
   ]
  },
  {
   "cell_type": "code",
   "execution_count": 149,
   "metadata": {},
   "outputs": [
    {
     "name": "stdout",
     "output_type": "stream",
     "text": [
      "========== Training model with method ibp_ex+r3 restart 0 ==========\n"
     ]
    },
    {
     "name": "stderr",
     "output_type": "stream",
     "text": [
      "Epoch: 100%|██████████| 30/30 [00:44<00:00,  1.48s/it, loss=6.47, reg=tensor(2.3488, device='cuda:0', grad_fn=<AddBackward0>)]\n"
     ]
    },
    {
     "name": "stdout",
     "output_type": "stream",
     "text": [
      "Testing model accuracy for the training set\n",
      "--- Model accuracy ---\n",
      "Nominal = 0.9392\n",
      "Testing model accuracy for the test set\n",
      "--- Model accuracy ---\n",
      "Nominal = 0.9308\n",
      "--- Mininimum delta for which the test set is certifiably 1-delta-input-robust ---\n",
      "Min robust delta = 3.47\n",
      "--- Model accuracy per group ---\n",
      "Macro average group accuracy = 0.9298\n",
      "Min group accuracy = 0.8491, group idx = 8\n",
      "========== Training model with method ibp_ex+r3 restart 1 ==========\n"
     ]
    },
    {
     "name": "stderr",
     "output_type": "stream",
     "text": [
      "Epoch: 100%|██████████| 30/30 [00:44<00:00,  1.47s/it, loss=6.48, reg=tensor(2.3487, device='cuda:0', grad_fn=<AddBackward0>)]\n"
     ]
    },
    {
     "name": "stdout",
     "output_type": "stream",
     "text": [
      "Testing model accuracy for the training set\n",
      "--- Model accuracy ---\n",
      "Nominal = 0.9429\n",
      "Testing model accuracy for the test set\n",
      "--- Model accuracy ---\n",
      "Nominal = 0.9313\n",
      "--- Mininimum delta for which the test set is certifiably 1-delta-input-robust ---\n",
      "Min robust delta = 3.59\n",
      "--- Model accuracy per group ---\n",
      "Macro average group accuracy = 0.9311\n",
      "Min group accuracy = 0.8712, group idx = 9\n",
      "========== Training model with method ibp_ex+r3 restart 2 ==========\n"
     ]
    },
    {
     "name": "stderr",
     "output_type": "stream",
     "text": [
      "Epoch: 100%|██████████| 30/30 [00:45<00:00,  1.52s/it, loss=6.48, reg=tensor(2.3487, device='cuda:0', grad_fn=<AddBackward0>)]\n"
     ]
    },
    {
     "name": "stdout",
     "output_type": "stream",
     "text": [
      "Testing model accuracy for the training set\n",
      "--- Model accuracy ---\n",
      "Nominal = 0.9461\n",
      "Testing model accuracy for the test set\n",
      "--- Model accuracy ---\n",
      "Nominal = 0.9332\n",
      "--- Mininimum delta for which the test set is certifiably 1-delta-input-robust ---\n",
      "Min robust delta = 3.46\n",
      "--- Model accuracy per group ---\n",
      "Macro average group accuracy = 0.9328\n",
      "Min group accuracy = 0.8573, group idx = 9\n",
      "========== Training model with method ibp_ex+r3 restart 3 ==========\n"
     ]
    },
    {
     "name": "stderr",
     "output_type": "stream",
     "text": [
      "Epoch: 100%|██████████| 30/30 [00:44<00:00,  1.48s/it, loss=6.5, reg=tensor(2.3490, device='cuda:0', grad_fn=<AddBackward0>)] \n"
     ]
    },
    {
     "name": "stdout",
     "output_type": "stream",
     "text": [
      "Testing model accuracy for the training set\n",
      "--- Model accuracy ---\n",
      "Nominal = 0.9387\n",
      "Testing model accuracy for the test set\n",
      "--- Model accuracy ---\n",
      "Nominal = 0.9292\n",
      "--- Mininimum delta for which the test set is certifiably 1-delta-input-robust ---\n",
      "Min robust delta = 3.23\n",
      "--- Model accuracy per group ---\n",
      "Macro average group accuracy = 0.9294\n",
      "Min group accuracy = 0.8498, group idx = 2\n",
      "Macro average group accuracy = 0.9308\n",
      "Min group accuracy = 0.8806, group idx = 9\n",
      "Group accuracies averaged over run = tensor([0.9737, 0.9764, 0.8915, 0.9290, 0.9397, 0.9246, 0.9496, 0.9241, 0.9186,\n",
      "        0.8806], dtype=torch.float64)\n"
     ]
    }
   ],
   "source": [
    "ibp_ex_and_r3_method = \"ibp_ex+r3\"\n",
    "# Train standard 3 times and test accuracy and delta input robustness for the masked region\n",
    "num_epochs, lr, restarts, epsilon, weight_coeff, k = 30, 0.01, 4, 0.15, 0.0006, 2.1\n",
    "test_epsilon = 0.1\n",
    "train_acc, test_acc, num_robust, avg_delta, min_lower_bound, max_upper_bound = 0, 0, 0, 0, 0, 0\n",
    "for i in range(restarts):\n",
    "    # Reinitialize the model\n",
    "    # We could try to just reinitialize the weights, but we can throw away the previous model for now as we do not need it\n",
    "    torch.manual_seed(i + SEED)\n",
    "    curr_model = FCNAugmented(*ARCH)\n",
    "\n",
    "    print(f\"========== Training model with method {ibp_ex_and_r3_method} restart {i} ==========\")\n",
    "    train_model_with_certified_input_grad(dl_masks_train, num_epochs, curr_model, lr, criterion, epsilon, ibp_ex_and_r3_method, k,\n",
    "                                          device, False, weight_reg_coeff=weight_coeff)\n",
    "    print(\"Testing model accuracy for the training set\")\n",
    "    train_acc += test_model_accuracy(curr_model, dl_masks_train, device, multi_class=True)\n",
    "    print(\"Testing model accuracy for the test set\")\n",
    "    test_acc += test_model_accuracy(curr_model, dl_masks_test, device, multi_class=True)\n",
    "    n_r, min_delta, m_l, m_u = test_delta_input_robustness(dl_masks_test, curr_model, test_epsilon, DELTA_INPUT_ROBUSTNESS_PARAM, \"cross_entropy\", device)\n",
    "    num_robust += n_r\n",
    "    avg_delta += min_delta\n",
    "    min_lower_bound += m_l\n",
    "    max_upper_bound += m_u\n",
    "    avg_g_acc, wg_acc, wg = test_model_avg_and_wg_accuracy(curr_model, dl_masks_test, device, num_groups=10, multi_class=True)\n",
    "    torch.save(curr_model.state_dict(), os.path.join(save_dir_for_method[ibp_ex_and_r3_method], f\"run_{i}.pt\"))\n",
    "empty_model = FCNAugmented(*ARCH)\n",
    "avg_acc, wg_acc, wg, *_ = get_restart_avg_and_worst_group_accuracy_with_stddev(\n",
    "    dl_masks_test, save_dir_for_method[ibp_ex_and_r3_method], empty_model, device, num_groups=10, multi_class=True\n",
    ")\n",
    "write_results_to_file(\"experiment_results/decoy_mnist.yaml\",\n",
    "                      {\"train_acc\": round(train_acc / restarts, 5),\n",
    "                       \"test_acc\": round(test_acc / restarts, 5),\n",
    "                       \"avg_group_acc\": round(avg_acc, 5),\n",
    "                       \"worst_group_acc\": round(wg_acc, 5),\n",
    "                       \"worst_group\": wg,\n",
    "                       \"min_robust_delta\": round(avg_delta / restarts, 5),\n",
    "                       \"min_lower_bound\": round(min_lower_bound / restarts, 5),\n",
    "                       \"max_upper_bound\": round(max_upper_bound / restarts, 5)\n",
    "                       }, ibp_ex_and_r3_method)\n",
    "write_results_to_file(\"experiment_results/decoy_mnist_params.yaml\",\n",
    "                        {\"epsilon\": epsilon,\n",
    "                         \"test_epsilon\": test_epsilon,\n",
    "                         \"k\": k,\n",
    "                         \"weight_coeff\": weight_coeff,\n",
    "                         \"num_epochs\": num_epochs,\n",
    "                         \"lr\": lr,\n",
    "                         \"restarts\": restarts,\n",
    "                         \"train_batch_size\": dl_masks_train.batch_size,\n",
    "                         \"test_batch_size\": dl_masks_test.batch_size,\n",
    "                         \"class_weights\": -1,\n",
    "                         \"multi_class\": True,\n",
    "                         \"has_conv\": False,\n",
    "                         \"with_k_schedule\": False}, ibp_ex_and_r3_method)"
   ]
  },
  {
   "cell_type": "markdown",
   "metadata": {},
   "source": [
    "# PGD-R4"
   ]
  },
  {
   "cell_type": "code",
   "execution_count": 162,
   "metadata": {},
   "outputs": [
    {
     "name": "stdout",
     "output_type": "stream",
     "text": [
      "========== Training model with method pgd_r4 restart 0 ==========\n"
     ]
    },
    {
     "name": "stderr",
     "output_type": "stream",
     "text": [
      "Epoch: 100%|██████████| 30/30 [00:41<00:00,  1.39s/it, loss=6.99, reg=tensor(0.3888, device='cuda:0', grad_fn=<AddBackward0>)]\n"
     ]
    },
    {
     "name": "stdout",
     "output_type": "stream",
     "text": [
      "Testing model accuracy for the training set\n",
      "--- Model accuracy ---\n",
      "Nominal = 0.9449\n",
      "Testing model accuracy for the test set\n",
      "--- Model accuracy ---\n",
      "Nominal = 0.931\n",
      "--- Mininimum delta for which the test set is certifiably 1-delta-input-robust ---\n",
      "Min robust delta = 3.5\n",
      "--- Model accuracy per group ---\n",
      "Macro average group accuracy = 0.9305\n",
      "Min group accuracy = 0.8789, group idx = 2\n",
      "========== Training model with method pgd_r4 restart 1 ==========\n"
     ]
    },
    {
     "name": "stderr",
     "output_type": "stream",
     "text": [
      "Epoch: 100%|██████████| 30/30 [00:41<00:00,  1.40s/it, loss=7.19, reg=tensor(0.4025, device='cuda:0', grad_fn=<AddBackward0>)]\n"
     ]
    },
    {
     "name": "stdout",
     "output_type": "stream",
     "text": [
      "Testing model accuracy for the training set\n",
      "--- Model accuracy ---\n",
      "Nominal = 0.9477\n",
      "Testing model accuracy for the test set\n",
      "--- Model accuracy ---\n",
      "Nominal = 0.9363\n",
      "--- Mininimum delta for which the test set is certifiably 1-delta-input-robust ---\n",
      "Min robust delta = 3.39\n",
      "--- Model accuracy per group ---\n",
      "Macro average group accuracy = 0.9357\n",
      "Min group accuracy = 0.893, group idx = 9\n",
      "========== Training model with method pgd_r4 restart 2 ==========\n"
     ]
    },
    {
     "name": "stderr",
     "output_type": "stream",
     "text": [
      "Epoch: 100%|██████████| 30/30 [00:40<00:00,  1.36s/it, loss=7.41, reg=tensor(0.4183, device='cuda:0', grad_fn=<AddBackward0>)]\n"
     ]
    },
    {
     "name": "stdout",
     "output_type": "stream",
     "text": [
      "Testing model accuracy for the training set\n",
      "--- Model accuracy ---\n",
      "Nominal = 0.9473\n",
      "Testing model accuracy for the test set\n",
      "--- Model accuracy ---\n",
      "Nominal = 0.9346\n",
      "--- Mininimum delta for which the test set is certifiably 1-delta-input-robust ---\n",
      "Min robust delta = 3.6\n",
      "--- Model accuracy per group ---\n",
      "Macro average group accuracy = 0.9339\n",
      "Min group accuracy = 0.884, group idx = 9\n",
      "========== Training model with method pgd_r4 restart 3 ==========\n"
     ]
    },
    {
     "name": "stderr",
     "output_type": "stream",
     "text": [
      "Epoch: 100%|██████████| 30/30 [00:38<00:00,  1.29s/it, loss=7.39, reg=tensor(0.4169, device='cuda:0', grad_fn=<AddBackward0>)]\n"
     ]
    },
    {
     "name": "stdout",
     "output_type": "stream",
     "text": [
      "Testing model accuracy for the training set\n",
      "--- Model accuracy ---\n",
      "Nominal = 0.9451\n",
      "Testing model accuracy for the test set\n",
      "--- Model accuracy ---\n",
      "Nominal = 0.933\n",
      "--- Mininimum delta for which the test set is certifiably 1-delta-input-robust ---\n",
      "Min robust delta = 3.39\n",
      "--- Model accuracy per group ---\n",
      "Macro average group accuracy = 0.9325\n",
      "Min group accuracy = 0.884, group idx = 9\n",
      "Macro average group accuracy = 0.9331\n",
      "Min group accuracy = 0.89, group idx = 9\n",
      "Group accuracies averaged over run = tensor([0.9783, 0.9813, 0.8990, 0.9267, 0.9407, 0.9126, 0.9522, 0.9358, 0.9148,\n",
      "        0.8900], dtype=torch.float64)\n"
     ]
    }
   ],
   "source": [
    "pgd_r4 = \"pgd_r4\"\n",
    "# Train standard 3 times and test accuracy and delta input robustness for the masked region\n",
    "num_epochs, lr, restarts, epsilon, weight_coeff, k = 30, 0.001, 4, 0.5, 0.0001, 14\n",
    "test_epsilon = 0.1\n",
    "train_acc, test_acc, num_robust, avg_delta, min_lower_bound, max_upper_bound = 0, 0, 0, 0, 0, 0\n",
    "for i in range(restarts):\n",
    "    # Reinitialize the model\n",
    "    # We could try to just reinitialize the weights, but we can throw away the previous model for now as we do not need it\n",
    "    torch.manual_seed(i + SEED)\n",
    "    curr_model = FCNAugmented(*ARCH)\n",
    "\n",
    "    print(f\"========== Training model with method {pgd_r4} restart {i} ==========\")\n",
    "    train_model_with_pgd_robust_input_grad(\n",
    "        dl_masks_train, num_epochs, curr_model, lr, criterion, epsilon, pgd_r4, k, device, weight_reg_coeff=weight_coeff\n",
    "    )\n",
    "    print(\"Testing model accuracy for the training set\")\n",
    "    train_acc += test_model_accuracy(curr_model, dl_masks_train, device, multi_class=True)\n",
    "    print(\"Testing model accuracy for the test set\")\n",
    "    test_acc += test_model_accuracy(curr_model, dl_masks_test, device, multi_class=True)\n",
    "    n_r, min_delta, m_l, m_u = test_delta_input_robustness(dl_masks_test, curr_model, test_epsilon, DELTA_INPUT_ROBUSTNESS_PARAM, \"cross_entropy\", device)\n",
    "    num_robust += n_r\n",
    "    avg_delta += min_delta\n",
    "    min_lower_bound += m_l\n",
    "    max_upper_bound += m_u\n",
    "    avg_g_acc, wg_acc, wg = test_model_avg_and_wg_accuracy(curr_model, dl_masks_test, device, num_groups=10, multi_class=True)\n",
    "    torch.save(curr_model.state_dict(), os.path.join(save_dir_for_method[pgd_r4], f\"run_{i}.pt\"))\n",
    "empty_model = FCNAugmented(*ARCH)\n",
    "avg_acc, wg_acc, wg, *_ = get_restart_avg_and_worst_group_accuracy_with_stddev(\n",
    "    dl_masks_test, save_dir_for_method[pgd_r4], empty_model, device, num_groups=10, multi_class=True\n",
    ")\n",
    "write_results_to_file(\"experiment_results/decoy_mnist.yaml\",\n",
    "                      {\"train_acc\": round(train_acc / restarts, 5),\n",
    "                       \"test_acc\": round(test_acc / restarts, 5),\n",
    "                       \"avg_group_acc\": round(avg_acc, 5),\n",
    "                       \"worst_group_acc\": round(wg_acc, 5),\n",
    "                       \"worst_group\": wg,\n",
    "                       \"min_robust_delta\": round(avg_delta / restarts, 5),\n",
    "                       \"min_lower_bound\": round(min_lower_bound / restarts, 5),\n",
    "                       \"max_upper_bound\": round(max_upper_bound / restarts, 5)\n",
    "                       }, pgd_r4)\n",
    "write_results_to_file(\"experiment_results/decoy_mnist_params.yaml\",\n",
    "                        {\"epsilon\": epsilon,\n",
    "                         \"test_epsilon\": test_epsilon,\n",
    "                         \"k\": k,\n",
    "                         \"weight_coeff\": weight_coeff,\n",
    "                         \"num_epochs\": num_epochs,\n",
    "                         \"lr\": lr,\n",
    "                         \"restarts\": restarts,\n",
    "                         \"train_batch_size\": dl_masks_train.batch_size,\n",
    "                         \"test_batch_size\": dl_masks_test.batch_size,\n",
    "                         \"class_weights\": -1,\n",
    "                         \"multi_class\": True,\n",
    "                         \"has_conv\": False,\n",
    "                         \"with_k_schedule\": False}, pgd_r4)"
   ]
  },
  {
   "cell_type": "markdown",
   "metadata": {},
   "source": [
    "# Smoothed-R3"
   ]
  },
  {
   "cell_type": "code",
   "execution_count": 165,
   "metadata": {},
   "outputs": [
    {
     "name": "stdout",
     "output_type": "stream",
     "text": [
      "========== Training model with method smooth_r3 restart 0 ==========\n"
     ]
    },
    {
     "name": "stderr",
     "output_type": "stream",
     "text": [
      "Epoch: 100%|██████████| 25/25 [00:36<00:00,  1.45s/it, loss=1.64, reg=tensor(0.0855, device='cuda:0', grad_fn=<MulBackward0>)]\n"
     ]
    },
    {
     "name": "stdout",
     "output_type": "stream",
     "text": [
      "Testing model accuracy for the training set\n",
      "--- Model accuracy ---\n",
      "Nominal = 0.9597\n",
      "Testing model accuracy for the test set\n",
      "--- Model accuracy ---\n",
      "Nominal = 0.9357\n",
      "--- Mininimum delta for which the test set is certifiably 1-delta-input-robust ---\n",
      "Min robust delta = 4.87\n",
      "--- Model accuracy per group ---\n",
      "Macro average group accuracy = 0.9351\n",
      "Min group accuracy = 0.8394, group idx = 9\n",
      "========== Training model with method smooth_r3 restart 1 ==========\n"
     ]
    },
    {
     "name": "stderr",
     "output_type": "stream",
     "text": [
      "Epoch: 100%|██████████| 25/25 [00:36<00:00,  1.46s/it, loss=1.63, reg=tensor(0.0856, device='cuda:0', grad_fn=<MulBackward0>)]\n"
     ]
    },
    {
     "name": "stdout",
     "output_type": "stream",
     "text": [
      "Testing model accuracy for the training set\n",
      "--- Model accuracy ---\n",
      "Nominal = 0.9576\n",
      "Testing model accuracy for the test set\n",
      "--- Model accuracy ---\n",
      "Nominal = 0.9256\n",
      "--- Mininimum delta for which the test set is certifiably 1-delta-input-robust ---\n",
      "Min robust delta = 4.75\n",
      "--- Model accuracy per group ---\n",
      "Macro average group accuracy = 0.9251\n",
      "Min group accuracy = 0.7582, group idx = 9\n",
      "========== Training model with method smooth_r3 restart 2 ==========\n"
     ]
    },
    {
     "name": "stderr",
     "output_type": "stream",
     "text": [
      "Epoch: 100%|██████████| 25/25 [00:34<00:00,  1.37s/it, loss=1.62, reg=tensor(0.0858, device='cuda:0', grad_fn=<MulBackward0>)]\n"
     ]
    },
    {
     "name": "stdout",
     "output_type": "stream",
     "text": [
      "Testing model accuracy for the training set\n",
      "--- Model accuracy ---\n",
      "Nominal = 0.9569\n",
      "Testing model accuracy for the test set\n",
      "--- Model accuracy ---\n",
      "Nominal = 0.9303\n",
      "--- Mininimum delta for which the test set is certifiably 1-delta-input-robust ---\n",
      "Min robust delta = 4.91\n",
      "--- Model accuracy per group ---\n",
      "Macro average group accuracy = 0.9297\n",
      "Min group accuracy = 0.8107, group idx = 9\n",
      "========== Training model with method smooth_r3 restart 3 ==========\n"
     ]
    },
    {
     "name": "stderr",
     "output_type": "stream",
     "text": [
      "Epoch: 100%|██████████| 25/25 [00:34<00:00,  1.39s/it, loss=1.63, reg=tensor(0.0856, device='cuda:0', grad_fn=<MulBackward0>)]\n"
     ]
    },
    {
     "name": "stdout",
     "output_type": "stream",
     "text": [
      "Testing model accuracy for the training set\n",
      "--- Model accuracy ---\n",
      "Nominal = 0.9588\n",
      "Testing model accuracy for the test set\n",
      "--- Model accuracy ---\n",
      "Nominal = 0.9366\n",
      "--- Mininimum delta for which the test set is certifiably 1-delta-input-robust ---\n",
      "Min robust delta = 5.08\n",
      "--- Model accuracy per group ---\n",
      "Macro average group accuracy = 0.9363\n",
      "Min group accuracy = 0.8434, group idx = 9\n",
      "Macro average group accuracy = 0.9315\n",
      "Min group accuracy = 0.8129, group idx = 9\n",
      "Group accuracies averaged over run = tensor([0.9796, 0.9797, 0.9261, 0.9416, 0.9580, 0.9232, 0.9577, 0.9429, 0.8937,\n",
      "        0.8129], dtype=torch.float64)\n"
     ]
    }
   ],
   "source": [
    "smooth_r3 = \"smooth_r3\"\n",
    "# Train standard 3 times and test accuracy and delta input robustness for the masked region\n",
    "num_epochs, lr, restarts, epsilon, weight_coeff, k = 25, 0.001, 4, 0.1, 0.0001, 10\n",
    "test_epsilon = 0.1\n",
    "train_acc, test_acc, num_robust, avg_delta, min_lower_bound, max_upper_bound = 0, 0, 0, 0, 0, 0\n",
    "for i in range(restarts):\n",
    "    # Reinitialize the model\n",
    "    # We could try to just reinitialize the weights, but we can throw away the previous model for now as we do not need it\n",
    "    torch.manual_seed(i + SEED)\n",
    "    curr_model = FCNAugmented(*ARCH)\n",
    "\n",
    "    print(f\"========== Training model with method {smooth_r3} restart {i} ==========\")\n",
    "    train_model_with_smoothed_input_grad(\n",
    "        dl_masks_train, num_epochs, curr_model, lr, criterion, epsilon, smooth_r3, k, device, weight_reg_coeff=weight_coeff\n",
    "    )\n",
    "    print(\"Testing model accuracy for the training set\")\n",
    "    train_acc += test_model_accuracy(curr_model, dl_masks_train, device, multi_class=True)\n",
    "    print(\"Testing model accuracy for the test set\")\n",
    "    test_acc += test_model_accuracy(curr_model, dl_masks_test, device, multi_class=True)\n",
    "    _, min_delta, m_l, m_u = test_delta_input_robustness(dl_masks_test, curr_model, test_epsilon, DELTA_INPUT_ROBUSTNESS_PARAM, \"cross_entropy\", device)\n",
    "    avg_delta += min_delta\n",
    "    min_lower_bound += m_l\n",
    "    max_upper_bound += m_u\n",
    "    avg_g_acc, wg_acc, wg = test_model_avg_and_wg_accuracy(curr_model, dl_masks_test, device, num_groups=10, multi_class=True)\n",
    "    torch.save(curr_model.state_dict(), os.path.join(save_dir_for_method[smooth_r3], f\"run_{i}.pt\"))\n",
    "empty_model = FCNAugmented(*ARCH)\n",
    "avg_acc, wg_acc, wg, *_ = get_restart_avg_and_worst_group_accuracy_with_stddev(\n",
    "    dl_masks_test, save_dir_for_method[smooth_r3], empty_model, device, num_groups=10, multi_class=True\n",
    ")\n",
    "write_results_to_file(\"experiment_results/decoy_mnist.yaml\",\n",
    "                      {\"train_acc\": round(train_acc / restarts, 5),\n",
    "                       \"test_acc\": round(test_acc / restarts, 5),\n",
    "                       \"avg_group_acc\": round(avg_acc, 5),\n",
    "                       \"worst_group_acc\": round(wg_acc, 5),\n",
    "                       \"worst_group\": wg,\n",
    "                       \"min_robust_delta\": round(avg_delta / restarts, 5),\n",
    "                       \"min_lower_bound\": round(min_lower_bound / restarts, 5),\n",
    "                       \"max_upper_bound\": round(max_upper_bound / restarts, 5)\n",
    "                       }, smooth_r3)\n",
    "write_results_to_file(\"experiment_results/decoy_mnist_params.yaml\",\n",
    "                        {\"epsilon\": epsilon,\n",
    "                         \"test_epsilon\": test_epsilon,\n",
    "                         \"k\": k,\n",
    "                         \"weight_coeff\": weight_coeff,\n",
    "                         \"num_epochs\": num_epochs,\n",
    "                         \"lr\": lr,\n",
    "                         \"restarts\": restarts,\n",
    "                         \"train_batch_size\": dl_masks_train.batch_size,\n",
    "                         \"test_batch_size\": dl_masks_test.batch_size,\n",
    "                         \"class_weights\": -1,\n",
    "                         \"multi_class\": True,\n",
    "                         \"has_conv\": False,\n",
    "                         \"with_k_schedule\": False}, smooth_r3)"
   ]
  },
  {
   "cell_type": "markdown",
   "metadata": {},
   "source": [
    "# Rand-R4"
   ]
  },
  {
   "cell_type": "code",
   "execution_count": 170,
   "metadata": {},
   "outputs": [
    {
     "name": "stdout",
     "output_type": "stream",
     "text": [
      "========== Training model with method rand_r4 restart 0 ==========\n"
     ]
    },
    {
     "name": "stderr",
     "output_type": "stream",
     "text": [
      "Epoch: 100%|██████████| 30/30 [00:43<00:00,  1.46s/it, loss=1.65, reg=tensor(0.1030, device='cuda:0', grad_fn=<MulBackward0>)]\n"
     ]
    },
    {
     "name": "stdout",
     "output_type": "stream",
     "text": [
      "Testing model accuracy for the training set\n",
      "--- Model accuracy ---\n",
      "Nominal = 0.9443\n",
      "Testing model accuracy for the test set\n",
      "--- Model accuracy ---\n",
      "Nominal = 0.932\n",
      "--- Mininimum delta for which the test set is certifiably 1-delta-input-robust ---\n",
      "Min robust delta = 3.3\n",
      "--- Model accuracy per group ---\n",
      "Macro average group accuracy = 0.9314\n",
      "Min group accuracy = 0.8652, group idx = 9\n",
      "========== Training model with method rand_r4 restart 1 ==========\n"
     ]
    },
    {
     "name": "stderr",
     "output_type": "stream",
     "text": [
      "Epoch: 100%|██████████| 30/30 [00:43<00:00,  1.46s/it, loss=1.66, reg=tensor(0.1030, device='cuda:0', grad_fn=<MulBackward0>)]\n"
     ]
    },
    {
     "name": "stdout",
     "output_type": "stream",
     "text": [
      "Testing model accuracy for the training set\n",
      "--- Model accuracy ---\n",
      "Nominal = 0.944\n",
      "Testing model accuracy for the test set\n",
      "--- Model accuracy ---\n",
      "Nominal = 0.9321\n",
      "--- Mininimum delta for which the test set is certifiably 1-delta-input-robust ---\n",
      "Min robust delta = 3.12\n",
      "--- Model accuracy per group ---\n",
      "Macro average group accuracy = 0.9318\n",
      "Min group accuracy = 0.8731, group idx = 9\n",
      "========== Training model with method rand_r4 restart 2 ==========\n"
     ]
    },
    {
     "name": "stderr",
     "output_type": "stream",
     "text": [
      "Epoch: 100%|██████████| 30/30 [00:44<00:00,  1.48s/it, loss=1.65, reg=tensor(0.1026, device='cuda:0', grad_fn=<MulBackward0>)]\n"
     ]
    },
    {
     "name": "stdout",
     "output_type": "stream",
     "text": [
      "Testing model accuracy for the training set\n",
      "--- Model accuracy ---\n",
      "Nominal = 0.9455\n",
      "Testing model accuracy for the test set\n",
      "--- Model accuracy ---\n",
      "Nominal = 0.9339\n",
      "--- Mininimum delta for which the test set is certifiably 1-delta-input-robust ---\n",
      "Min robust delta = 3.26\n",
      "--- Model accuracy per group ---\n",
      "Macro average group accuracy = 0.9332\n",
      "Min group accuracy = 0.8831, group idx = 9\n",
      "========== Training model with method rand_r4 restart 3 ==========\n"
     ]
    },
    {
     "name": "stderr",
     "output_type": "stream",
     "text": [
      "Epoch: 100%|██████████| 30/30 [00:42<00:00,  1.43s/it, loss=1.65, reg=tensor(0.1031, device='cuda:0', grad_fn=<MulBackward0>)]\n"
     ]
    },
    {
     "name": "stdout",
     "output_type": "stream",
     "text": [
      "Testing model accuracy for the training set\n",
      "--- Model accuracy ---\n",
      "Nominal = 0.9457\n",
      "Testing model accuracy for the test set\n",
      "--- Model accuracy ---\n",
      "Nominal = 0.9333\n",
      "--- Mininimum delta for which the test set is certifiably 1-delta-input-robust ---\n",
      "Min robust delta = 3.33\n",
      "--- Model accuracy per group ---\n",
      "Macro average group accuracy = 0.9327\n",
      "Min group accuracy = 0.8662, group idx = 9\n",
      "Macro average group accuracy = 0.9323\n",
      "Min group accuracy = 0.8719, group idx = 9\n",
      "Group accuracies averaged over run = tensor([0.9827, 0.9800, 0.9164, 0.9252, 0.9483, 0.9210, 0.9457, 0.9348, 0.8966,\n",
      "        0.8719], dtype=torch.float64)\n"
     ]
    }
   ],
   "source": [
    "rand_r4 = \"rand_r4\"\n",
    "# Train standard 3 times and test accuracy and delta input robustness for the masked region\n",
    "num_epochs, lr, restarts, epsilon, weight_coeff, k = 30, 0.001, 4, 0.5, 0.0001, 15\n",
    "test_epsilon = 0.1\n",
    "train_acc, test_acc, num_robust, avg_delta, min_lower_bound, max_upper_bound = 0, 0, 0, 0, 0, 0\n",
    "for i in range(restarts):\n",
    "    # Reinitialize the model\n",
    "    # We could try to just reinitialize the weights, but we can throw away the previous model for now as we do not need it\n",
    "    torch.manual_seed(i + SEED)\n",
    "    curr_model = FCNAugmented(*ARCH)\n",
    "\n",
    "    print(f\"========== Training model with method {rand_r4} restart {i} ==========\")\n",
    "    train_model_with_smoothed_input_grad(\n",
    "        dl_masks_train, num_epochs, curr_model, lr, criterion, epsilon, rand_r4, k, device, weight_reg_coeff=weight_coeff\n",
    "    )\n",
    "    print(\"Testing model accuracy for the training set\")\n",
    "    train_acc += test_model_accuracy(curr_model, dl_masks_train, device, multi_class=True)\n",
    "    print(\"Testing model accuracy for the test set\")\n",
    "    test_acc += test_model_accuracy(curr_model, dl_masks_test, device, multi_class=True)\n",
    "    n_r, min_delta, m_l, m_u = test_delta_input_robustness(dl_masks_test, curr_model, test_epsilon, DELTA_INPUT_ROBUSTNESS_PARAM, \"cross_entropy\", device)\n",
    "    num_robust += n_r\n",
    "    avg_delta += min_delta\n",
    "    min_lower_bound += m_l\n",
    "    max_upper_bound += m_u\n",
    "    avg_g_acc, wg_acc, wg = test_model_avg_and_wg_accuracy(curr_model, dl_masks_test, device, num_groups=10, multi_class=True)\n",
    "    torch.save(curr_model.state_dict(), os.path.join(save_dir_for_method[rand_r4], f\"run_{i}.pt\"))\n",
    "empty_model = FCNAugmented(*ARCH)\n",
    "avg_acc, wg_acc, wg, *_ = get_restart_avg_and_worst_group_accuracy_with_stddev(\n",
    "    dl_masks_test, save_dir_for_method[rand_r4], empty_model, device, num_groups=10, multi_class=True\n",
    ")\n",
    "write_results_to_file(\"experiment_results/decoy_mnist.yaml\",\n",
    "                      {\"train_acc\": round(train_acc / restarts, 5),\n",
    "                       \"test_acc\": round(test_acc / restarts, 5),\n",
    "                       \"avg_group_acc\": round(avg_acc, 5),\n",
    "                       \"worst_group_acc\": round(wg_acc, 5),\n",
    "                       \"worst_group\": wg,\n",
    "                       \"min_robust_delta\": round(avg_delta / restarts, 5),\n",
    "                       \"min_lower_bound\": round(min_lower_bound / restarts, 5),\n",
    "                       \"max_upper_bound\": round(max_upper_bound / restarts, 5)\n",
    "                       }, rand_r4)\n",
    "write_results_to_file(\"experiment_results/decoy_mnist_params.yaml\",\n",
    "                        {\"epsilon\": epsilon,\n",
    "                         \"test_epsilon\": test_epsilon,\n",
    "                         \"k\": k,\n",
    "                         \"weight_coeff\": weight_coeff,\n",
    "                         \"num_epochs\": num_epochs,\n",
    "                         \"lr\": lr,\n",
    "                         \"restarts\": restarts,\n",
    "                         \"train_batch_size\": dl_masks_train.batch_size,\n",
    "                         \"test_batch_size\": dl_masks_test.batch_size,\n",
    "                         \"class_weights\": -1,\n",
    "                         \"multi_class\": True,\n",
    "                         \"has_conv\": False,\n",
    "                         \"with_k_schedule\": False}, rand_r4)"
   ]
  },
  {
   "cell_type": "code",
   "execution_count": null,
   "metadata": {},
   "outputs": [],
   "source": []
  }
 ],
 "metadata": {
  "kernelspec": {
   "display_name": "fypvenv",
   "language": "python",
   "name": "python3"
  },
  "language_info": {
   "codemirror_mode": {
    "name": "ipython",
    "version": 3
   },
   "file_extension": ".py",
   "mimetype": "text/x-python",
   "name": "python",
   "nbconvert_exporter": "python",
   "pygments_lexer": "ipython3",
   "version": "3.10.12"
  }
 },
 "nbformat": 4,
 "nbformat_minor": 2
}

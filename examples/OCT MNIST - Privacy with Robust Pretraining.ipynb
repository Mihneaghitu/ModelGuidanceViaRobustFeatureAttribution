{
 "cells": [
  {
   "cell_type": "markdown",
   "metadata": {},
   "source": [
    "# Certified Finetuning of a Classifier on the OCT-MNIST Dataset"
   ]
  },
  {
   "cell_type": "code",
   "execution_count": 1,
   "metadata": {},
   "outputs": [],
   "source": [
    "%load_ext autoreload\n",
    "%autoreload 2\n",
    "import os\n",
    "import torch\n",
    "import tqdm\n",
    "import abstract_gradient_training as agt\n",
    "from abstract_gradient_training import AGTConfig\n",
    "from abstract_gradient_training import certified_training_utils as ct_utils\n",
    "from models.deepmind import DeepMindSmall \n",
    "from datasets import oct_mnist\n",
    "from models.robust_regularizer import gradient_interval_regularizer"
   ]
  },
  {
   "cell_type": "markdown",
   "metadata": {},
   "source": [
    "## Test the robustness of a non-robustly pre-trained classifier"
   ]
  },
  {
   "cell_type": "code",
   "execution_count": 5,
   "metadata": {},
   "outputs": [
    {
     "name": "stdout",
     "output_type": "stream",
     "text": [
      "Accuracy of non-robustly trained classifier on test set with epsilon=0.0005: [0.04, 0.95, 1.00]\n"
     ]
    }
   ],
   "source": [
    "device = torch.device(\"cuda:0\")\n",
    "_, dl_test = oct_mnist.get_dataloaders(1000, exclude_classes=[2], balanced=True)\n",
    "standard_model = DeepMindSmall(1, 1).to(device)\n",
    "standard_model.load_state_dict(torch.load(\".models/medmnist.ckpt\"))\n",
    "params_l, params_n, params_u = ct_utils.get_parameters(standard_model)\n",
    "epsilon = 0.0005\n",
    "test_batch, test_labels = next(iter(dl_test))\n",
    "accs = agt.test_metrics.test_accuracy(\n",
    "    params_l, params_n, params_u, test_batch, test_labels, standard_model, ct_utils.propagate_conv_layers, epsilon\n",
    ")\n",
    "accs = \", \".join([f\"{a:.2f}\" for a in accs])\n",
    "\n",
    "print(f\"Accuracy of non-robustly trained classifier on test set with epsilon={epsilon}: [{accs}]\")"
   ]
  },
  {
   "cell_type": "markdown",
   "metadata": {},
   "source": [
    "## Pre-train the model\n",
    "\n",
    "Exclude class 2 (Drusen) from the pretraining."
   ]
  },
  {
   "cell_type": "code",
   "execution_count": 34,
   "metadata": {},
   "outputs": [],
   "source": [
    "# set up pre-training\n",
    "torch.manual_seed(1)\n",
    "pretrain_batchsize = 100\n",
    "pretrain_n_epochs = 20\n",
    "pretrain_learning_rate = 0.001\n",
    "pretrain_epsilon = 0.0\n",
    "pretrain_model_epsilon = 1e-3\n",
    "pretrain_reg_strength = 1e-3\n",
    "model_path = f\".models/medmnist_robust_eps{pretrain_epsilon}_alpha{pretrain_reg_strength}_meps{pretrain_model_epsilon}.ckpt\""
   ]
  },
  {
   "cell_type": "code",
   "execution_count": 35,
   "metadata": {},
   "outputs": [],
   "source": [
    "# define model, dataset and optimizer\n",
    "model = DeepMindSmall(1, 1)\n",
    "dl_pretrain, _ = oct_mnist.get_dataloaders(pretrain_batchsize, exclude_classes=[2], balanced=True)\n",
    "criterion = torch.nn.BCELoss()\n",
    "optimizer = torch.optim.Adam(model.parameters(), lr=pretrain_learning_rate)\n",
    "model = model.to(device)"
   ]
  },
  {
   "cell_type": "code",
   "execution_count": 36,
   "metadata": {},
   "outputs": [
    {
     "name": "stderr",
     "output_type": "stream",
     "text": [
      "Epoch: 100%|██████████| 20/20 [06:23<00:00, 19.16s/it, bce_loss=0.218, loss=0.276]\n"
     ]
    }
   ],
   "source": [
    "if os.path.exists(model_path):\n",
    "    model.load_state_dict(torch.load(model_path))\n",
    "else:  # pre-train the model\n",
    "    progress_bar = tqdm.trange(pretrain_n_epochs, desc=\"Epoch\")\n",
    "    for epoch in progress_bar:\n",
    "        for i, (x, u) in enumerate(dl_pretrain):\n",
    "            # Forward pass\n",
    "            u, x = u.to(device), x.to(device)\n",
    "            output = model(x)\n",
    "            bce_loss = criterion(output.squeeze().float(), u.squeeze().float())\n",
    "            regularization = gradient_interval_regularizer(\n",
    "                model, x, u, \"binary_cross_entropy\", pretrain_epsilon, pretrain_model_epsilon\n",
    "            )\n",
    "            loss = bce_loss + pretrain_reg_strength * regularization\n",
    "            # Backward and optimize\n",
    "            optimizer.zero_grad()\n",
    "            loss.backward()\n",
    "            optimizer.step()\n",
    "            if i % 100 == 0:\n",
    "                progress_bar.set_postfix(loss=loss.item(), bce_loss=bce_loss.item())\n",
    "    # save the model\n",
    "    with open(model_path, \"wb\") as file:\n",
    "        torch.save(model.state_dict(), file)"
   ]
  },
  {
   "cell_type": "markdown",
   "metadata": {},
   "source": [
    "### Test the robustness of the model pre-trained with the gradient interval regularization term"
   ]
  },
  {
   "cell_type": "code",
   "execution_count": 37,
   "metadata": {},
   "outputs": [
    {
     "name": "stdout",
     "output_type": "stream",
     "text": [
      "Accuracy of robustly trained classifier on test set with epsilon=0.0005: [0.93, 0.94, 0.95]\n"
     ]
    }
   ],
   "source": [
    "_, dl_test = oct_mnist.get_dataloaders(1000, exclude_classes=[2], balanced=True)\n",
    "params_l, params_n, params_u = ct_utils.get_parameters(model)\n",
    "epsilon = 0.0005\n",
    "test_batch, test_labels = next(iter(dl_test))\n",
    "accs = agt.test_metrics.test_accuracy(\n",
    "    params_l, params_n, params_u, test_batch, test_labels, model, ct_utils.propagate_conv_layers, epsilon\n",
    ")\n",
    "accs = \", \".join([f\"{a:.2f}\" for a in accs])\n",
    "\n",
    "print(f\"Accuracy of robustly trained classifier on test set with epsilon={epsilon}: [{accs}]\")"
   ]
  },
  {
   "cell_type": "markdown",
   "metadata": {},
   "source": [
    "### Fine tune the model with AGT"
   ]
  },
  {
   "cell_type": "code",
   "execution_count": 38,
   "metadata": {},
   "outputs": [],
   "source": [
    "# set up fine-tuning parameters\n",
    "batchsize = 5000\n",
    "config = AGTConfig(\n",
    "    fragsize=1000,\n",
    "    learning_rate=0.3,\n",
    "    n_epochs=1,\n",
    "    k_private=10,\n",
    "    clip_gamma=2.0,\n",
    "    clip_method=\"clamp\",\n",
    "    dp_sgd_sigma=0.0,\n",
    "    forward_bound=\"interval\",\n",
    "    device=\"cuda:0\",\n",
    "    backward_bound=\"interval\",\n",
    "    loss=\"binary_cross_entropy\",\n",
    "    log_level=\"DEBUG\",\n",
    "    lr_decay=0.3,\n",
    "    lr_min=0.001,\n",
    "    early_stopping=False,\n",
    ")"
   ]
  },
  {
   "cell_type": "code",
   "execution_count": 39,
   "metadata": {},
   "outputs": [],
   "source": [
    "# get dataloaders, train dataloader is a mix of drusen and the \"healthy\" class\n",
    "dl_train, _ = oct_mnist.get_dataloaders(batchsize, 1000, exclude_classes=[0, 1], balanced=True)\n",
    "_, dl_test_drusen = oct_mnist.get_dataloaders(batchsize, 1000, exclude_classes=[0, 1, 3])\n",
    "_, dl_test_other = oct_mnist.get_dataloaders(batchsize, 1000, exclude_classes=[2])\n",
    "_, dl_test_all = oct_mnist.get_dataloaders(batchsize, 1000)"
   ]
  },
  {
   "cell_type": "code",
   "execution_count": 40,
   "metadata": {},
   "outputs": [
    {
     "name": "stdout",
     "output_type": "stream",
     "text": [
      "=========== Pre-trained model accuracy ===========\n",
      "Class 2 (Drusen) : nominal = 0.54\n",
      "Classes 0, 1, 3  : nominal = 0.94\n",
      "All Classes      : nominal = 0.84\n"
     ]
    }
   ],
   "source": [
    "# evaluate the pre-trained model\n",
    "param_n, param_l, param_u = ct_utils.get_parameters(model)\n",
    "drusen_acc = agt.test_metrics.test_accuracy(param_n, param_l, param_u, *next(iter(dl_test_drusen)), model, ct_utils.propagate_conv_layers)\n",
    "other_acc = agt.test_metrics.test_accuracy(param_n, param_l, param_u, *next(iter(dl_test_other)), model, ct_utils.propagate_conv_layers)\n",
    "all_acc = agt.test_metrics.test_accuracy(param_n, param_l, param_u, *next(iter(dl_test_all)), model, ct_utils.propagate_conv_layers)\n",
    "\n",
    "print(\"=========== Pre-trained model accuracy ===========\")\n",
    "print(f\"Class 2 (Drusen) : nominal = {drusen_acc[1]:.2g}\")\n",
    "print(f\"Classes 0, 1, 3  : nominal = {other_acc[1]:.2g}\")\n",
    "print(f\"All Classes      : nominal = {all_acc[1]:.2g}\")"
   ]
  },
  {
   "cell_type": "code",
   "execution_count": 41,
   "metadata": {},
   "outputs": [
    {
     "name": "stderr",
     "output_type": "stream",
     "text": [
      "[AGT] [INFO    ] [16:51:26] =================== Starting Privacy Certified Training ===================\n",
      "[AGT] [DEBUG   ] [16:51:26] \tPrivacy parameters: k_private=10, clip_gamma=2.0, dp_sgd_sigma=0.0\n",
      "[AGT] [DEBUG   ] [16:51:26] \tBounding methods: forward=interval, backward=interval\n",
      "[AGT] [INFO    ] [16:51:26] Starting epoch 1\n",
      "[AGT] [DEBUG   ] [16:51:26] Initialising dataloader batchsize to 5000\n",
      "[AGT] [INFO    ] [16:51:26] Training batch 1: Network eval bounds=(0.54, 0.54, 0.54), W0 Bound=0.0 \n",
      "[AGT] [INFO    ] [16:51:27] Training batch 2: Network eval bounds=(0.88, 0.88, 0.9 ), W0 Bound=1.36 \n",
      "[AGT] [INFO    ] [16:51:28] Training batch 3: Network eval bounds=(0.68, 0.75, 0.83), W0 Bound=2.41 \n",
      "[AGT] [DEBUG   ] [16:51:29] Skipping batch 4 in epoch 1 (expected batchsize 5000, got 508)\n",
      "[AGT] [INFO    ] [16:51:29] Final network eval: Network eval bounds=(0.56, 0.82, 0.94), W0 Bound=3.27 \n",
      "[AGT] [INFO    ] [16:51:29] =================== Finished Privacy Certified Training ===================\n"
     ]
    }
   ],
   "source": [
    "# fine-tune the model using abstract gradient training (keeping the convolutional layers fixed)\n",
    "param_l, param_n, param_u = agt.privacy_certified_training(\n",
    "    model, config, dl_train, dl_test_drusen, transform=ct_utils.propagate_conv_layers\n",
    ")"
   ]
  },
  {
   "cell_type": "code",
   "execution_count": 42,
   "metadata": {},
   "outputs": [
    {
     "name": "stdout",
     "output_type": "stream",
     "text": [
      "=========== Fine-tuned model accuracy + bounds ===========\n",
      "Class 2 (Drusen) : nominal = 0.82, certified bound = 0.56\n",
      "Classes 0, 1, 3  : nominal = 0.88, certified bound = 0.77\n",
      "All Classes      : nominal = 0.86, certified bound = 0.71\n"
     ]
    }
   ],
   "source": [
    "# evaluate the fine-tuned model\n",
    "drusen_acc = agt.test_metrics.test_accuracy(param_n, param_l, param_u, *next(iter(dl_test_drusen)), model, ct_utils.propagate_conv_layers)\n",
    "other_acc = agt.test_metrics.test_accuracy(param_n, param_l, param_u, *next(iter(dl_test_other)), model, ct_utils.propagate_conv_layers)\n",
    "all_acc = agt.test_metrics.test_accuracy(param_n, param_l, param_u, *next(iter(dl_test_all)), model, ct_utils.propagate_conv_layers)\n",
    "\n",
    "print(\"=========== Fine-tuned model accuracy + bounds ===========\")\n",
    "print(f\"Class 2 (Drusen) : nominal = {drusen_acc[1]:.2g}, certified bound = {drusen_acc[0]:.2g}\")\n",
    "print(f\"Classes 0, 1, 3  : nominal = {other_acc[1]:.2g}, certified bound = {other_acc[0]:.2g}\")\n",
    "print(f\"All Classes      : nominal = {all_acc[1]:.2g}, certified bound = {all_acc[0]:.2g}\")"
   ]
  }
 ],
 "metadata": {
  "kernelspec": {
   "display_name": "venv",
   "language": "python",
   "name": "python3"
  },
  "language_info": {
   "codemirror_mode": {
    "name": "ipython",
    "version": 3
   },
   "file_extension": ".py",
   "mimetype": "text/x-python",
   "name": "python",
   "nbconvert_exporter": "python",
   "pygments_lexer": "ipython3",
   "version": "3.10.12"
  }
 },
 "nbformat": 4,
 "nbformat_minor": 2
}

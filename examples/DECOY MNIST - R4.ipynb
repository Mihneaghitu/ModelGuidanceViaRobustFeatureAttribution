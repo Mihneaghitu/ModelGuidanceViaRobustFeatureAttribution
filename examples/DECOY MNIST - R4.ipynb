{
 "cells": [
  {
   "cell_type": "markdown",
   "metadata": {},
   "source": [
    "# R4 on DECOY_MNIST"
   ]
  },
  {
   "cell_type": "code",
   "execution_count": 1,
   "metadata": {},
   "outputs": [],
   "source": [
    "%load_ext autoreload\n",
    "%autoreload 2\n",
    "import torch\n",
    "import tqdm\n",
    "import matplotlib.pyplot as plt\n",
    "import os\n",
    "import sys\n",
    "sys.path.append(os.path.abspath('..'))\n",
    "import abstract_gradient_training as agt\n",
    "from abstract_gradient_training import AGTConfig\n",
    "from abstract_gradient_training import certified_training_utils as ct_utils\n",
    "from models.fully_connected import FCNAugmented\n",
    "from models.robust_regularizer import input_gradient_interval_regularizer\n",
    "from models.pipeline import (train_model_with_certified_input_grad, train_model_with_pgd_robust_input_grad,\n",
    "                             test_model_accuracy, test_delta_input_robustness, write_results_to_file,\n",
    "                             uniformize_magnitudes_schedule, load_params_or_results_from_file,\n",
    "                             train_model_with_smoothed_input_grad)\n",
    "from datasets import decoy_mnist\n",
    "from metrics import worst_group_acc, worst_group_acc_no_load"
   ]
  },
  {
   "cell_type": "code",
   "execution_count": 2,
   "metadata": {},
   "outputs": [
    {
     "name": "stdout",
     "output_type": "stream",
     "text": [
      "cuda:0\n"
     ]
    },
    {
     "data": {
      "text/plain": [
       "<torch._C.Generator at 0x714c980dca50>"
      ]
     },
     "execution_count": 2,
     "metadata": {},
     "output_type": "execute_result"
    }
   ],
   "source": [
    "# set up pre-training\n",
    "CUDA_LAUNCH_BLOCKING=1\n",
    "SEED = 0\n",
    "device = torch.device(\"cuda:0\" if torch.cuda.is_available() else \"cpu\")\n",
    "print(device)\n",
    "torch.manual_seed(SEED)"
   ]
  },
  {
   "cell_type": "code",
   "execution_count": 3,
   "metadata": {},
   "outputs": [
    {
     "name": "stderr",
     "output_type": "stream",
     "text": [
      "/vol/bitbucket/mg2720/R4/examples/datasets/decoy_mnist.py:33: UserWarning: To copy construct from a tensor, it is recommended to use sourceTensor.clone().detach() or sourceTensor.clone().detach().requires_grad_(True), rather than torch.tensor(sourceTensor).\n",
      "  train_imgs = torch.tensor(train_imgs.clone().detach(), dtype=torch.float32) / 255\n",
      "/vol/bitbucket/mg2720/R4/examples/datasets/decoy_mnist.py:34: UserWarning: To copy construct from a tensor, it is recommended to use sourceTensor.clone().detach() or sourceTensor.clone().detach().requires_grad_(True), rather than torch.tensor(sourceTensor).\n",
      "  test_imgs = torch.tensor(test_imgs.clone().detach(), dtype=torch.float32) / 255\n",
      "/vol/bitbucket/mg2720/R4/examples/datasets/decoy_mnist.py:35: UserWarning: To copy construct from a tensor, it is recommended to use sourceTensor.clone().detach() or sourceTensor.clone().detach().requires_grad_(True), rather than torch.tensor(sourceTensor).\n",
      "  train_labels = torch.tensor(train_labels.clone().detach(), dtype=torch.int64)\n",
      "/vol/bitbucket/mg2720/R4/examples/datasets/decoy_mnist.py:36: UserWarning: To copy construct from a tensor, it is recommended to use sourceTensor.clone().detach() or sourceTensor.clone().detach().requires_grad_(True), rather than torch.tensor(sourceTensor).\n",
      "  test_labels = torch.tensor(test_labels.clone().detach(), dtype=torch.int64)\n"
     ]
    }
   ],
   "source": [
    "batch_size = 1000\n",
    "dl_train, dl_test = decoy_mnist.get_dataloaders(train_batchsize=batch_size, test_batchsize=batch_size)"
   ]
  },
  {
   "cell_type": "code",
   "execution_count": 4,
   "metadata": {},
   "outputs": [
    {
     "name": "stdout",
     "output_type": "stream",
     "text": [
      "torch.Size([60000]) torch.Size([60000, 28, 28])\n",
      "{0: tensor(0.3333), 1: tensor(0.2980), 2: tensor(0.2667), 3: tensor(0.2353), 4: tensor(0.2000), 5: tensor(0.1686), 6: tensor(0.1373), 7: tensor(0.1020), 8: tensor(0.0706), 9: tensor(0.0392)}\n"
     ]
    }
   ],
   "source": [
    "dl_masks_train, dl_masks_test = decoy_mnist.get_masked_dataloaders(dl_train, dl_test)"
   ]
  },
  {
   "cell_type": "code",
   "execution_count": 6,
   "metadata": {},
   "outputs": [],
   "source": [
    "def visualize_gradient(model, batch_input, batch_labels, batch_mask, epsilon, elem_idx):\n",
    "    batch_input, batch_labels, batch_mask = batch_input.to(device), batch_labels.to(device), batch_mask.to(device)\n",
    "    grad_bounds = input_gradient_interval_regularizer(\n",
    "        model, batch_input, batch_labels, \"cross_entropy\", epsilon, 0.0, return_grads=True, regularizer_type=\"r4\", batch_masks=batch_mask\n",
    "    )\n",
    "    dx_l, dx_u = grad_bounds[1]\n",
    "    dx_n, _ = grad_bounds[0]\n",
    "    fig, ax = plt.subplots(3, 2, figsize=(14, 13))\n",
    "    ax[0][0].imshow(batch_input[elem_idx].cpu().numpy().reshape(28, 28), cmap='gray')\n",
    "    ax[0][0].set_title(f\"Input at index {elem_idx}\")\n",
    "    im_mask = ax[0][1].imshow(batch_mask[elem_idx].cpu().numpy().reshape(28, 28), cmap='gray')\n",
    "    ax[0][1].set_title(f\"Mask at index {elem_idx}\")\n",
    "    fig.colorbar(im_mask, ax=ax[0][1])\n",
    "    im_dx_l = ax[1][0].imshow(dx_l[elem_idx].cpu().detach().numpy().reshape(28, 28), cmap='coolwarm')\n",
    "    ax[1][0].set_title(f\"Lower bound of gradient at index {elem_idx}\")\n",
    "    fig.colorbar(im_dx_l, ax=ax[1][0])\n",
    "    im_dx_u = ax[1][1].imshow(dx_u[elem_idx].cpu().detach().numpy().reshape(28, 28), cmap='coolwarm')\n",
    "    ax[1][1].set_title(f\"Upper bound of gradient at index {elem_idx}\")\n",
    "    fig.colorbar(im_dx_u, ax=ax[1][1])\n",
    "    im_dx_n = ax[2][0].imshow(dx_n[elem_idx].cpu().detach().numpy().reshape(28, 28), cmap='coolwarm')\n",
    "    ax[2][0].set_title(f\"Gradient at index {elem_idx}\")\n",
    "    fig.colorbar(im_dx_n, ax=ax[2][0])"
   ]
  },
  {
   "cell_type": "code",
   "execution_count": 5,
   "metadata": {},
   "outputs": [
    {
     "name": "stdout",
     "output_type": "stream",
     "text": [
      "FCNAugmented(\n",
      "  (0): Flatten(start_dim=1, end_dim=-1)\n",
      "  (1): Linear(in_features=784, out_features=512, bias=True)\n",
      "  (2): ReLU()\n",
      "  (3): Linear(in_features=512, out_features=10, bias=True)\n",
      "  (4): Softmax(dim=-1)\n",
      ")\n"
     ]
    }
   ],
   "source": [
    "ARCH = (784, 10, 512, 1)\n",
    "model = FCNAugmented(*ARCH)\n",
    "criterion = torch.nn.CrossEntropyLoss()\n",
    "model = model.to(device)\n",
    "print(model)"
   ]
  },
  {
   "cell_type": "markdown",
   "metadata": {},
   "source": [
    "## Experiments "
   ]
  },
  {
   "cell_type": "code",
   "execution_count": 6,
   "metadata": {},
   "outputs": [],
   "source": [
    "DELTA_INPUT_ROBUSTNESS_PARAM = 0.5\n",
    "model_root_save_dir = \"saved_experiment_models/performance/decoy_mnist/\"\n",
    "os.makedirs(model_root_save_dir, exist_ok=True)\n",
    "# r4_pmo is the same as r4 but with only the masked region perturbed\n",
    "methods = [\"std\", \"r3\", \"r4\", \"ibp_ex\", \"ibp_ex+r3\", \"pgd_r4\", \"rand_r4\", \"smooth_r3\", \"r4_pmo\", \"pgd_r4_pmo\", \"rand_r4_pmo\"]\n",
    "save_dir_for_method = {method: os.path.join(model_root_save_dir, method) for method in methods}\n",
    "for method in methods:\n",
    "    os.makedirs(save_dir_for_method[method], exist_ok=True)"
   ]
  },
  {
   "cell_type": "markdown",
   "metadata": {},
   "source": [
    "### Standard Training"
   ]
  },
  {
   "cell_type": "code",
   "execution_count": null,
   "metadata": {},
   "outputs": [],
   "source": [
    "std_method = \"std\"\n",
    "# hyperparameters\n",
    "num_epochs, lr, restarts, epsilon, weight_coeff, k = 30, 0.01, 4, 0.1, 0.01, 0.2\n",
    "# Train standard 3 times and test accuracy and delta input robustness for the masked region\n",
    "train_acc, test_acc, num_robust, min_robust_delta, min_lower_bound, max_upper_bound = 0, 0, 0, 1e+8, 0, 0\n",
    "for i in range(restarts):\n",
    "    # Reinitialize the model\n",
    "    # We could try to just reinitialize the weights, but we can throw away the previous model for now as we do not need it\n",
    "    torch.manual_seed(i + SEED)\n",
    "    curr_model = FCNAugmented(*ARCH)\n",
    "\n",
    "    print(f\"========== Training model with method {std_method} restart {i} ==========\")\n",
    "    train_model_with_certified_input_grad(dl_masks_train, num_epochs, curr_model, lr, criterion, epsilon, std_method, k, device, False)\n",
    "    print(\"Testing model accuracy for the training set\")\n",
    "    train_acc += test_model_accuracy(curr_model, dl_masks_train, device, multi_class=True)\n",
    "    print(\"Testing model accuracy for the test set\")\n",
    "    test_acc += test_model_accuracy(curr_model, dl_masks_test, device, multi_class=True)\n",
    "    n_r, min_delta, m_l, m_u = test_delta_input_robustness(dl_masks_test, curr_model, epsilon, DELTA_INPUT_ROBUSTNESS_PARAM, \"cross_entropy\", device)\n",
    "    num_robust += num_robust\n",
    "    min_robust_delta = min(min_robust_delta, min_delta)\n",
    "    min_lower_bound += m_l\n",
    "    max_upper_bound += m_u\n",
    "    torch.save(curr_model.state_dict(), os.path.join(save_dir_for_method[std_method], f\"run_{i}.pt\"))\n",
    "write_results_to_file(\"experiment_results/decoy_mnist.yaml\",\n",
    "                      {\"train_acc\": round(train_acc / restarts, 3),\n",
    "                       \"test_acc\": round(test_acc / restarts, 3),\n",
    "                       \"num_robust\": round(num_robust / restarts, 3),\n",
    "                       \"min_robust_delta\": min_robust_delta,\n",
    "                       \"min_lower_bound\": round(min_lower_bound / restarts, 3),\n",
    "                       \"max_upper_bound\": round(max_upper_bound / restarts, 3)\n",
    "                       }, std_method)\n",
    "write_results_to_file(\"experiment_results/decoy_mnist_params.yaml\",\n",
    "                        {\"epsilon\": epsilon,\n",
    "                         \"k\": k,\n",
    "                         \"weight_coeff\": weight_coeff,\n",
    "                         \"num_epochs\": num_epochs,\n",
    "                         \"lr\": lr,\n",
    "                         \"restarts\": restarts,\n",
    "                         \"delta_threshold\": DELTA_INPUT_ROBUSTNESS_PARAM}, std_method)"
   ]
  },
  {
   "cell_type": "markdown",
   "metadata": {},
   "source": [
    "### RRR Training"
   ]
  },
  {
   "cell_type": "code",
   "execution_count": null,
   "metadata": {},
   "outputs": [],
   "source": [
    "# Train standard 3 times and test accuracy and delta input robustness for the masked region\n",
    "rrr_method = \"r3\"\n",
    "def rrr_k_schedule(curr_epoch, max_epochs, std_loss, rrr_loss):\n",
    "    if curr_epoch <= max_epochs // 5:\n",
    "        return 0.0\n",
    "    else:\n",
    "        # get magnitude difference in terms of order of magnitude\n",
    "        loss_diff = rrr_loss - std_loss\n",
    "        if loss_diff < 0:\n",
    "            return 1.0\n",
    "        orders_of_mag = torch.floor(torch.log10(loss_diff))\n",
    "        # the 2 is there to allow for a bit of a margin\n",
    "        return 1 / (2 * (10 ** (orders_of_mag - 1)))\n",
    "\n",
    "# hyperparams\n",
    "num_epochs, lr, restarts, epsilon, weight_coeff, k = 20, 0.01, 4, 0.1, 6e-3, 0.05\n",
    "train_acc, test_acc, num_robust, min_robust_delta, min_lower_bound, max_upper_bound = 0, 0, 0, 1e+8, 0, 0\n",
    "for i in range(restarts):\n",
    "    # Reinitialize the model\n",
    "    # We could try to just reinitialize the weights, but we can throw away the previous model for now as we do not need it\n",
    "    torch.manual_seed(i + SEED)\n",
    "    curr_model = FCNAugmented(*ARCH)\n",
    "\n",
    "    print(f\"========== Training model with method {rrr_method}, restart {i} ==========\")\n",
    "    train_model_with_certified_input_grad(dl_masks_train, num_epochs, curr_model, lr, criterion, epsilon, rrr_method,\n",
    "                                          k, device, False, k_schedule=rrr_k_schedule, weight_reg_coeff=weight_coeff)\n",
    "    print(\"Testing model accuracy for the training set\")\n",
    "    train_acc += test_model_accuracy(curr_model, dl_masks_train, device, multi_class=True)\n",
    "    print(\"Testing model accuracy for the test set\")\n",
    "    test_acc += test_model_accuracy(curr_model, dl_masks_test, device, multi_class=True)\n",
    "    n_r, min_delta, m_l, m_u = test_delta_input_robustness(dl_masks_test, curr_model, epsilon, DELTA_INPUT_ROBUSTNESS_PARAM,\n",
    "                                \"cross_entropy\", device)\n",
    "    num_robust += n_r\n",
    "    min_robust_delta = min(min_robust_delta, min_delta)\n",
    "    min_lower_bound += m_l\n",
    "    max_upper_bound += m_u\n",
    "    torch.save(curr_model.state_dict(), os.path.join(save_dir_for_method[rrr_method], f\"run_{i}.pt\"))\n",
    "write_results_to_file(\"experiment_results/decoy_mnist.yaml\",\n",
    "                      {\"train_acc\": round(train_acc / restarts, 3),\n",
    "                       \"test_acc\": round(test_acc / restarts, 3),\n",
    "                       \"num_robust\": round(num_robust / restarts, 3),\n",
    "                       \"min_lower_bound\": round(min_lower_bound / restarts, 3),\n",
    "                       \"max_upper_bound\": round(max_upper_bound / restarts, 3),\n",
    "                       \"min_robust_delta\": min_robust_delta}, rrr_method)\n",
    "write_results_to_file(\"experiment_results/decoy_mnist_params.yaml\",\n",
    "                      {\"epsilon\": epsilon,\n",
    "                       \"k\": k,\n",
    "                       \"weight_coeff\": weight_coeff,\n",
    "                       \"num_epochs\": num_epochs,\n",
    "                       \"lr\": lr,\n",
    "                       \"restarts\": restarts,\n",
    "                       \"delta_threshold\": DELTA_INPUT_ROBUSTNESS_PARAM}, rrr_method)"
   ]
  },
  {
   "cell_type": "markdown",
   "metadata": {},
   "source": [
    "### R4 Training"
   ]
  },
  {
   "cell_type": "code",
   "execution_count": null,
   "metadata": {},
   "outputs": [],
   "source": [
    "# Train standard 3 times and test accuracy and delta input robustness for the masked region\n",
    "r4_method = \"r4\"\n",
    "num_epochs, lr, restarts, epsilon, weight_coeff, k = 25, 0.02, 1, 0.1, -1, 1\n",
    "train_acc, test_acc, num_robust, min_robust_delta, min_lower_bound, max_upper_bound = 0, 0, 0, 1e+8, 0, 0\n",
    "for i in range(restarts):\n",
    "    # Reinitialize the model\n",
    "    # We could try to just reinitialize the weights, but we can throw away the previous model for now as we do not need it\n",
    "    torch.manual_seed(i + SEED)\n",
    "    curr_model = FCNAugmented(*ARCH)\n",
    "\n",
    "    print(f\"========== Training model with method R4, restart {i} ==========\")\n",
    "    train_model_with_certified_input_grad(dl_masks_train, num_epochs, curr_model, lr, criterion, epsilon, r4_method, k, device, False)\n",
    "    print(\"Testing model accuracy for the training set\")\n",
    "    train_acc += test_model_accuracy(curr_model, dl_masks_train, device, multi_class=True)\n",
    "    print(\"Testing model accuracy for the test set\")\n",
    "    test_acc += test_model_accuracy(curr_model, dl_masks_test, device, multi_class=True)\n",
    "    n_r, min_delta, m_l, m_u = test_delta_input_robustness(dl_masks_test, curr_model, epsilon, DELTA_INPUT_ROBUSTNESS_PARAM, \"cross_entropy\", device)\n",
    "    num_robust += n_r\n",
    "    min_robust_delta = min(min_robust_delta, min_delta)\n",
    "    min_lower_bound += m_l\n",
    "    max_upper_bound += m_u\n",
    "    worst_group_acc_no_load(curr_model, dl_masks_test, device, 10)\n",
    "    torch.save(curr_model.state_dict(), os.path.join(save_dir_for_method[r4_method], f\"run_{i}.pt\"))\n",
    "write_results_to_file(\"experiment_results/decoy_mnist.yaml\",\n",
    "                      {\"train_acc\": round(train_acc / restarts, 3),\n",
    "                       \"test_acc\": round(test_acc / restarts, 3),\n",
    "                       \"num_robust\": round(num_robust / restarts, 3),\n",
    "                       \"min_lower_bound\": round(min_lower_bound / restarts, 3),\n",
    "                       \"max_upper_bound\": round(max_upper_bound / restarts, 3),\n",
    "                       \"min_robust_delta\": min_robust_delta}, r4_method)\n",
    "write_results_to_file(\"experiment_results/decoy_mnist_params.yaml\",\n",
    "                      {\"epsilon\": epsilon,\n",
    "                       \"k\": k,\n",
    "                       \"weight_coeff\": weight_coeff,\n",
    "                       \"num_epochs\": num_epochs,\n",
    "                       \"lr\": lr,\n",
    "                       \"restarts\": restarts,\n",
    "                       \"delta_threshold\": DELTA_INPUT_ROBUSTNESS_PARAM}, r4_method)"
   ]
  },
  {
   "cell_type": "markdown",
   "metadata": {},
   "source": [
    "# R4 perturb mask only"
   ]
  },
  {
   "cell_type": "code",
   "execution_count": null,
   "metadata": {},
   "outputs": [],
   "source": [
    "# Train standard 3 times and test accuracy and delta input robustness for the masked region\n",
    "r4_pmo_method = \"r4_pmo\"\n",
    "num_epochs, lr, restarts, epsilon, weight_coeff, k = 25, 0.01, 4, 0.5, -1, 14\n",
    "train_acc, test_acc, num_robust, min_robust_delta, min_lower_bound, max_upper_bound = 0, 0, 0, 1e+8, 0, 0\n",
    "for i in range(restarts):\n",
    "    # Reinitialize the model\n",
    "    # We could try to just reinitialize the weights, but we can throw away the previous model for now as we do not need it\n",
    "    torch.manual_seed(i + SEED)\n",
    "    curr_model = FCNAugmented(*ARCH)\n",
    "\n",
    "    print(f\"========== Training model with method R4, restart {i} ==========\")\n",
    "    train_model_with_certified_input_grad(dl_masks_train, num_epochs, curr_model, lr, criterion, epsilon, r4_pmo_method, k, device, False)\n",
    "    print(\"Testing model accuracy for the training set\")\n",
    "    train_acc += test_model_accuracy(curr_model, dl_masks_train, device, multi_class=True)\n",
    "    print(\"Testing model accuracy for the test set\")\n",
    "    test_acc += test_model_accuracy(curr_model, dl_masks_test, device, multi_class=True)\n",
    "    n_r, min_delta, m_l, m_u = test_delta_input_robustness(dl_masks_test, curr_model, epsilon, DELTA_INPUT_ROBUSTNESS_PARAM, \"cross_entropy\", device)\n",
    "    num_robust += n_r\n",
    "    min_robust_delta = min(min_robust_delta, min_delta)\n",
    "    min_lower_bound += m_l\n",
    "    max_upper_bound += m_u\n",
    "    worst_group_acc_no_load(curr_model, dl_masks_test, device, 10)\n",
    "    torch.save(curr_model.state_dict(), os.path.join(save_dir_for_method[r4_pmo_method], f\"run_{i}.pt\"))\n",
    "wg_acc, wg = worst_group_acc(curr_model, dl_masks_test, device, 10, save_dir_for_method[r4_pmo_method])\n",
    "write_results_to_file(\"experiment_results/decoy_mnist.yaml\",\n",
    "                      {\"train_acc\": round(train_acc / restarts, 3),\n",
    "                       \"test_acc\": round(test_acc / restarts, 3),\n",
    "                       \"num_robust\": round(num_robust / restarts, 3),\n",
    "                       \"worst_group_acc\": round(wg_acc, 3),\n",
    "                       \"worst_group\": wg,\n",
    "                       \"min_lower_bound\": round(min_lower_bound / restarts, 3),\n",
    "                       \"max_upper_bound\": round(max_upper_bound / restarts, 3),\n",
    "                       \"min_robust_delta\": min_robust_delta}, r4_pmo_method)\n",
    "write_results_to_file(\"experiment_results/decoy_mnist_params.yaml\",\n",
    "                      {\"epsilon\": epsilon,\n",
    "                       \"k\": k,\n",
    "                       \"weight_coeff\": weight_coeff,\n",
    "                       \"num_epochs\": num_epochs,\n",
    "                       \"lr\": lr,\n",
    "                       \"restarts\": restarts,\n",
    "                       \"delta_threshold\": DELTA_INPUT_ROBUSTNESS_PARAM}, r4_pmo_method)"
   ]
  },
  {
   "cell_type": "markdown",
   "metadata": {},
   "source": [
    "### IBP-EX Training"
   ]
  },
  {
   "cell_type": "code",
   "execution_count": null,
   "metadata": {},
   "outputs": [
    {
     "name": "stdout",
     "output_type": "stream",
     "text": [
      "========== Training model with method ibp_ex restart 0 ==========\n"
     ]
    },
    {
     "name": "stderr",
     "output_type": "stream",
     "text": [
      "Epoch: 100%|██████████| 35/35 [00:54<00:00,  1.55s/it, loss=7.4, reg=tensor(2.3412, device='cuda:0', grad_fn=<AddBackward0>)] \n"
     ]
    },
    {
     "name": "stdout",
     "output_type": "stream",
     "text": [
      "Testing model accuracy for the training set\n",
      "--- Model accuracy ---\n",
      "Nominal = 0.9456\n",
      "Testing model accuracy for the test set\n",
      "--- Model accuracy ---\n",
      "Nominal = 0.9307\n",
      "--- Delta input robustness ---\n",
      "Delta Input Robustness = 0\n",
      "--- Mininimum delta for which the test set is certifiably 1-delta-input-robust ---\n",
      "Min robust delta = 3.65\n",
      "Worst class accuracy = 0.8196 for class 9\n",
      "========== Training model with method ibp_ex restart 1 ==========\n"
     ]
    },
    {
     "name": "stderr",
     "output_type": "stream",
     "text": [
      "Epoch: 100%|██████████| 35/35 [00:53<00:00,  1.53s/it, loss=7.4, reg=tensor(2.3420, device='cuda:0', grad_fn=<AddBackward0>)] \n"
     ]
    },
    {
     "name": "stdout",
     "output_type": "stream",
     "text": [
      "Testing model accuracy for the training set\n",
      "--- Model accuracy ---\n",
      "Nominal = 0.9478\n",
      "Testing model accuracy for the test set\n",
      "--- Model accuracy ---\n",
      "Nominal = 0.9374\n",
      "--- Delta input robustness ---\n",
      "Delta Input Robustness = 0\n",
      "--- Mininimum delta for which the test set is certifiably 1-delta-input-robust ---\n",
      "Min robust delta = 3.59\n",
      "Worst class accuracy = 0.892 for class 9\n",
      "========== Training model with method ibp_ex restart 2 ==========\n"
     ]
    },
    {
     "name": "stderr",
     "output_type": "stream",
     "text": [
      "Epoch: 100%|██████████| 35/35 [00:52<00:00,  1.50s/it, loss=7.42, reg=tensor(2.3410, device='cuda:0', grad_fn=<AddBackward0>)]\n"
     ]
    },
    {
     "name": "stdout",
     "output_type": "stream",
     "text": [
      "Testing model accuracy for the training set\n",
      "--- Model accuracy ---\n",
      "Nominal = 0.9481\n",
      "Testing model accuracy for the test set\n",
      "--- Model accuracy ---\n",
      "Nominal = 0.9401\n",
      "--- Delta input robustness ---\n",
      "Delta Input Robustness = 0\n",
      "--- Mininimum delta for which the test set is certifiably 1-delta-input-robust ---\n",
      "Min robust delta = 3.5\n",
      "Worst class accuracy = 0.9029 for class 9\n",
      "========== Training model with method ibp_ex restart 3 ==========\n"
     ]
    },
    {
     "name": "stderr",
     "output_type": "stream",
     "text": [
      "Epoch: 100%|██████████| 35/35 [00:48<00:00,  1.39s/it, loss=7.41, reg=tensor(2.3411, device='cuda:0', grad_fn=<AddBackward0>)]\n"
     ]
    },
    {
     "name": "stdout",
     "output_type": "stream",
     "text": [
      "Testing model accuracy for the training set\n",
      "--- Model accuracy ---\n",
      "Nominal = 0.949\n",
      "Testing model accuracy for the test set\n",
      "--- Model accuracy ---\n",
      "Nominal = 0.9385\n",
      "--- Delta input robustness ---\n",
      "Delta Input Robustness = 0\n",
      "--- Mininimum delta for which the test set is certifiably 1-delta-input-robust ---\n",
      "Min robust delta = 3.67\n",
      "Worst class accuracy = 0.9103 for class 5\n"
     ]
    }
   ],
   "source": [
    "ibp_ex_method = \"ibp_ex\"\n",
    "# Train standard 3 times and test accuracy and delta input robustness for the masked region\n",
    "num_epochs, lr, restarts, epsilon, weight_coeff, k = 30, 0.02, 4, 0.1, 8e-3, 0.12\n",
    "train_acc, test_acc, num_robust, min_robust_delta, min_lower_bound, max_upper_bound = 0, 0, 0, 1e+8, 0, 0\n",
    "for i in range(restarts):\n",
    "    # Reinitialize the model\n",
    "    # We could try to just reinitialize the weights, but we can throw away the previous model for now as we do not need it\n",
    "    torch.manual_seed(i + SEED)\n",
    "    curr_model = FCNAugmented(*ARCH)\n",
    "\n",
    "    print(f\"========== Training model with method {ibp_ex_method} restart {i} ==========\")\n",
    "    train_model_with_certified_input_grad(dl_masks_train, num_epochs, curr_model, lr, criterion, epsilon, ibp_ex_method, k,\n",
    "                                          device, False, weight_reg_coeff=weight_coeff)\n",
    "    print(\"Testing model accuracy for the training set\")\n",
    "    train_acc += test_model_accuracy(curr_model, dl_masks_train, device, multi_class=True)\n",
    "    print(\"Testing model accuracy for the test set\")\n",
    "    test_acc += test_model_accuracy(curr_model, dl_masks_test, device, multi_class=True)\n",
    "    n_r, min_delta, m_l, m_u = test_delta_input_robustness(dl_masks_test, curr_model, epsilon, DELTA_INPUT_ROBUSTNESS_PARAM, \"cross_entropy\", device)\n",
    "    num_robust += n_r\n",
    "    min_robust_delta = min(min_robust_delta, min_delta)\n",
    "    min_lower_bound += m_l\n",
    "    max_upper_bound += m_u\n",
    "    torch.save(curr_model.state_dict(), os.path.join(save_dir_for_method[ibp_ex_method], f\"run_{i}.pt\"))\n",
    "write_results_to_file(\"experiment_results/decoy_mnist.yaml\",\n",
    "                      {\"train_acc\": round(train_acc / restarts, 3),\n",
    "                       \"test_acc\": round(test_acc / restarts, 3),\n",
    "                       \"num_robust\": round(num_robust / restarts, 3),\n",
    "                       \"min_lower_bound\": round(min_lower_bound / restarts, 3),\n",
    "                       \"max_upper_bound\": round(max_upper_bound / restarts, 3),\n",
    "                       \"min_robust_delta\": min_robust_delta}, ibp_ex_method)\n",
    "write_results_to_file(\"experiment_results/decoy_mnist_params.yaml\",\n",
    "                      {\"epsilon\": epsilon,\n",
    "                       \"k\": k,\n",
    "                       \"weight_coeff\": weight_coeff,\n",
    "                       \"num_epochs\": num_epochs,\n",
    "                       \"lr\": lr,\n",
    "                       \"restarts\": restarts,\n",
    "                       \"delta_threshold\": DELTA_INPUT_ROBUSTNESS_PARAM}, ibp_ex_method)"
   ]
  },
  {
   "cell_type": "markdown",
   "metadata": {},
   "source": [
    "### IBP-EX + R3 Training"
   ]
  },
  {
   "cell_type": "code",
   "execution_count": 25,
   "metadata": {},
   "outputs": [
    {
     "name": "stdout",
     "output_type": "stream",
     "text": [
      "========== Training model with method ibp_ex+r3 restart 0 ==========\n"
     ]
    },
    {
     "name": "stderr",
     "output_type": "stream",
     "text": [
      "Epoch:   0%|          | 0/20 [00:00<?, ?it/s]"
     ]
    },
    {
     "name": "stderr",
     "output_type": "stream",
     "text": [
      "Epoch: 100%|██████████| 20/20 [00:36<00:00,  1.83s/it, loss=21.5, reg=tensor(99.7967, device='cuda:0', grad_fn=<AddBackward0>)] \n"
     ]
    },
    {
     "name": "stdout",
     "output_type": "stream",
     "text": [
      "Testing model accuracy for the training set\n",
      "--- Model accuracy ---\n",
      "Nominal = 0.9394\n",
      "Testing model accuracy for the test set\n",
      "--- Model accuracy ---\n",
      "Nominal = 0.9284\n",
      "--- Delta input robustness ---\n",
      "Delta Input Robustness = 0\n",
      "--- Mininimum delta for which the test set is certifiably 1-delta-input-robust ---\n",
      "Min robust delta = 3.33\n",
      "Worst class accuracy = 0.8665 for class 8\n",
      "========== Training model with method ibp_ex+r3 restart 1 ==========\n"
     ]
    },
    {
     "name": "stderr",
     "output_type": "stream",
     "text": [
      "Epoch: 100%|██████████| 20/20 [00:36<00:00,  1.84s/it, loss=15.1, reg=tensor(67.7487, device='cuda:0', grad_fn=<AddBackward0>)]\n"
     ]
    },
    {
     "name": "stdout",
     "output_type": "stream",
     "text": [
      "Testing model accuracy for the training set\n",
      "--- Model accuracy ---\n",
      "Nominal = 0.9388\n",
      "Testing model accuracy for the test set\n",
      "--- Model accuracy ---\n",
      "Nominal = 0.9282\n",
      "--- Delta input robustness ---\n",
      "Delta Input Robustness = 0\n",
      "--- Mininimum delta for which the test set is certifiably 1-delta-input-robust ---\n",
      "Min robust delta = 3.96\n",
      "Worst class accuracy = 0.8702 for class 9\n",
      "========== Training model with method ibp_ex+r3 restart 2 ==========\n"
     ]
    },
    {
     "name": "stderr",
     "output_type": "stream",
     "text": [
      "Epoch: 100%|██████████| 20/20 [00:38<00:00,  1.93s/it, loss=15.7, reg=tensor(70.8626, device='cuda:0', grad_fn=<AddBackward0>)]\n"
     ]
    },
    {
     "name": "stdout",
     "output_type": "stream",
     "text": [
      "Testing model accuracy for the training set\n",
      "--- Model accuracy ---\n",
      "Nominal = 0.939\n",
      "Testing model accuracy for the test set\n",
      "--- Model accuracy ---\n",
      "Nominal = 0.9317\n",
      "--- Delta input robustness ---\n",
      "Delta Input Robustness = 0\n",
      "--- Mininimum delta for which the test set is certifiably 1-delta-input-robust ---\n",
      "Min robust delta = 3.37\n",
      "Worst class accuracy = 0.8779 for class 2\n",
      "========== Training model with method ibp_ex+r3 restart 3 ==========\n"
     ]
    },
    {
     "name": "stderr",
     "output_type": "stream",
     "text": [
      "Epoch: 100%|██████████| 20/20 [00:36<00:00,  1.84s/it, loss=27.8, reg=tensor(131.2812, device='cuda:0', grad_fn=<AddBackward0>)]\n"
     ]
    },
    {
     "name": "stdout",
     "output_type": "stream",
     "text": [
      "Testing model accuracy for the training set\n",
      "--- Model accuracy ---\n",
      "Nominal = 0.9359\n",
      "Testing model accuracy for the test set\n",
      "--- Model accuracy ---\n",
      "Nominal = 0.9273\n",
      "--- Delta input robustness ---\n",
      "Delta Input Robustness = 0\n",
      "--- Mininimum delta for which the test set is certifiably 1-delta-input-robust ---\n",
      "Min robust delta = 3.88\n",
      "Worst class accuracy = 0.8747 for class 8\n",
      "Worst class accuracy = 0.8816 for class 9\n"
     ]
    }
   ],
   "source": [
    "ibp_ex_and_r3_method = \"ibp_ex+r3\"\n",
    "# Train standard 3 times and test accuracy and delta input robustness for the masked region\n",
    "num_epochs, lr, restarts, epsilon, weight_coeff, k = 20, 0.02, 4, 0.1, 6e-3, 0.2\n",
    "train_acc, test_acc, num_robust, min_robust_delta, min_lower_bound, max_upper_bound = 0, 0, 0, 1e+8, 0, 0\n",
    "for i in range(restarts):\n",
    "    # Reinitialize the model\n",
    "    # We could try to just reinitialize the weights, but we can throw away the previous model for now as we do not need it\n",
    "    torch.manual_seed(i + SEED)\n",
    "    curr_model = FCNAugmented(*ARCH)\n",
    "\n",
    "    print(f\"========== Training model with method {ibp_ex_and_r3_method} restart {i} ==========\")\n",
    "    train_model_with_certified_input_grad(dl_masks_train, num_epochs, curr_model, lr, criterion, epsilon, ibp_ex_and_r3_method, k, device,\n",
    "        False, weight_reg_coeff=weight_coeff)\n",
    "    print(\"Testing model accuracy for the training set\")\n",
    "    train_acc += test_model_accuracy(curr_model, dl_masks_train, device, multi_class=True)\n",
    "    print(\"Testing model accuracy for the test set\")\n",
    "    test_acc += test_model_accuracy(curr_model, dl_masks_test, device, multi_class=True)\n",
    "    n_r, min_delta, m_l, m_u = test_delta_input_robustness(dl_masks_test, curr_model, epsilon, DELTA_INPUT_ROBUSTNESS_PARAM, \"cross_entropy\", device)\n",
    "    num_robust += n_r\n",
    "    min_robust_delta = min(min_robust_delta, min_delta)\n",
    "    min_lower_bound += m_l\n",
    "    max_upper_bound += m_u\n",
    "    worst_group_acc_no_load(curr_model, dl_masks_test, device, 10)\n",
    "    torch.save(curr_model.state_dict(), os.path.join(save_dir_for_method[ibp_ex_and_r3_method], f\"run_{i}.pt\"))\n",
    "wg_acc, wg = worst_group_acc(curr_model, dl_masks_test, device, 10, save_dir_for_method[ibp_ex_and_r3_method])\n",
    "write_results_to_file(\"experiment_results/decoy_mnist.yaml\",\n",
    "                      {\"train_acc\": round(train_acc / restarts, 4),\n",
    "                       \"test_acc\": round(test_acc / restarts, 4),\n",
    "                       \"worst_group_acc\": round(wg_acc, 4),\n",
    "                       \"worst_group\": wg,\n",
    "                       \"num_robust\": round(num_robust / restarts, 4),\n",
    "                       \"min_lower_bound\": round(min_lower_bound / restarts, 4),\n",
    "                       \"max_upper_bound\": round(max_upper_bound / restarts, 4),\n",
    "                       \"min_robust_delta\": min_robust_delta}, ibp_ex_and_r3_method)\n",
    "write_results_to_file(\"experiment_results/decoy_mnist_params.yaml\",\n",
    "                      {\"epsilon\": epsilon,\n",
    "                       \"k\": k,\n",
    "                       \"weight_coeff\": weight_coeff,\n",
    "                       \"num_epochs\": num_epochs,\n",
    "                       \"lr\": lr,\n",
    "                       \"restarts\": restarts,\n",
    "                       \"delta_threshold\": DELTA_INPUT_ROBUSTNESS_PARAM}, ibp_ex_and_r3_method)"
   ]
  },
  {
   "cell_type": "markdown",
   "metadata": {},
   "source": [
    "# PGD-R4"
   ]
  },
  {
   "cell_type": "code",
   "execution_count": null,
   "metadata": {},
   "outputs": [],
   "source": [
    "pgd_r4 = \"pgd_r4\"\n",
    "# Train standard 3 times and test accuracy and delta input robustness for the masked region\n",
    "num_epochs, lr, restarts, epsilon, weight_coeff, k = 30, 0.03, 4, 0.1, 5e-4, 0.7\n",
    "train_acc, test_acc, num_robust, min_robust_delta, min_lower_bound, max_upper_bound = 0, 0, 0, 1e+8, 0, 0\n",
    "for i in range(restarts):\n",
    "    # Reinitialize the model\n",
    "    # We could try to just reinitialize the weights, but we can throw away the previous model for now as we do not need it\n",
    "    torch.manual_seed(i + SEED)\n",
    "    curr_model = FCNAugmented(*ARCH)\n",
    "\n",
    "    print(f\"========== Training model with method {pgd_r4} restart {i} ==========\")\n",
    "    train_model_with_pgd_robust_input_grad(dl_masks_train, num_epochs, curr_model, lr, criterion, epsilon, pgd_r4,\n",
    "        k, device, weight_coeff, num_iterations=10)\n",
    "    print(\"Testing model accuracy for the training set\")\n",
    "    train_acc += test_model_accuracy(curr_model, dl_masks_train, device, multi_class=True)\n",
    "    print(\"Testing model accuracy for the test set\")\n",
    "    test_acc += test_model_accuracy(curr_model, dl_masks_test, device, multi_class=True)\n",
    "    n_r, min_delta, m_l, m_u = test_delta_input_robustness(dl_masks_test, curr_model, epsilon, DELTA_INPUT_ROBUSTNESS_PARAM, \"cross_entropy\", device)\n",
    "    num_robust += n_r\n",
    "    min_robust_delta = min(min_robust_delta, min_delta)\n",
    "    min_lower_bound += m_l\n",
    "    max_upper_bound += m_u\n",
    "    torch.save(curr_model.state_dict(), os.path.join(save_dir_for_method[pgd_r4], f\"run_{i}.pt\"))\n",
    "empty_model = FCNAugmented(*ARCH)\n",
    "wg_acc, wg = worst_group_acc(empty_model, dl_masks_test, device, 10, save_dir_for_method[pgd_r4])\n",
    "write_results_to_file(\"experiment_results/decoy_mnist.yaml\",\n",
    "                      {\"train_acc\": round(train_acc / restarts, 3),\n",
    "                       \"test_acc\": round(test_acc / restarts, 3),\n",
    "                       \"num_robust\": round(num_robust / restarts, 3),\n",
    "                       \"worst_group_acc\": round(wg_acc, 3),\n",
    "                       \"worst_group\": wg,\n",
    "                       \"min_lower_bound\": round(min_lower_bound / restarts, 3),\n",
    "                       \"max_upper_bound\": round(max_upper_bound / restarts, 3),\n",
    "                       \"min_robust_delta\": min_robust_delta}, pgd_r4)\n",
    "write_results_to_file(\"experiment_results/decoy_mnist_params.yaml\",\n",
    "                      {\"epsilon\": epsilon,\n",
    "                       \"k\": k,\n",
    "                       \"weight_coeff\": weight_coeff,\n",
    "                       \"num_epochs\": num_epochs,\n",
    "                       \"lr\": lr,\n",
    "                       \"restarts\": restarts,\n",
    "                       \"delta_threshold\": DELTA_INPUT_ROBUSTNESS_PARAM}, pgd_r4)"
   ]
  },
  {
   "cell_type": "markdown",
   "metadata": {},
   "source": [
    "# PGD-R4 perturb mask only"
   ]
  },
  {
   "cell_type": "code",
   "execution_count": null,
   "metadata": {},
   "outputs": [
    {
     "name": "stdout",
     "output_type": "stream",
     "text": [
      "========== Training model with method pgd_r4_pmo restart 0 ==========\n"
     ]
    },
    {
     "name": "stderr",
     "output_type": "stream",
     "text": [
      "Epoch: 100%|██████████| 30/30 [00:40<00:00,  1.35s/it]\n"
     ]
    },
    {
     "name": "stdout",
     "output_type": "stream",
     "text": [
      "Testing model accuracy for the training set\n",
      "--- Model accuracy ---\n",
      "Nominal = 0.8193\n",
      "Testing model accuracy for the test set\n",
      "--- Model accuracy ---\n",
      "Nominal = 0.8153\n",
      "--- Delta input robustness ---\n",
      "Delta Input Robustness = 0\n",
      "--- Mininimum delta for which the test set is certifiably 1-delta-input-robust ---\n",
      "Min robust delta = 2.47\n",
      "Worst class accuracy = 0 for class 8\n",
      "========== Training model with method pgd_r4_pmo restart 1 ==========\n"
     ]
    },
    {
     "name": "stderr",
     "output_type": "stream",
     "text": [
      "Epoch: 100%|██████████| 30/30 [00:41<00:00,  1.38s/it]\n"
     ]
    },
    {
     "name": "stdout",
     "output_type": "stream",
     "text": [
      "Testing model accuracy for the training set\n",
      "--- Model accuracy ---\n",
      "Nominal = 0.9116\n",
      "Testing model accuracy for the test set\n",
      "--- Model accuracy ---\n",
      "Nominal = 0.9048\n",
      "--- Delta input robustness ---\n",
      "Delta Input Robustness = 0\n",
      "--- Mininimum delta for which the test set is certifiably 1-delta-input-robust ---\n",
      "Min robust delta = 2.93\n",
      "Worst class accuracy = 0.7793 for class 8\n",
      "========== Training model with method pgd_r4_pmo restart 2 ==========\n"
     ]
    },
    {
     "name": "stderr",
     "output_type": "stream",
     "text": [
      "Epoch: 100%|██████████| 30/30 [00:40<00:00,  1.35s/it]\n"
     ]
    },
    {
     "name": "stdout",
     "output_type": "stream",
     "text": [
      "Testing model accuracy for the training set\n",
      "--- Model accuracy ---\n",
      "Nominal = 0.901\n",
      "Testing model accuracy for the test set\n",
      "--- Model accuracy ---\n",
      "Nominal = 0.8952\n",
      "--- Delta input robustness ---\n",
      "Delta Input Robustness = 0\n",
      "--- Mininimum delta for which the test set is certifiably 1-delta-input-robust ---\n",
      "Min robust delta = 2.78\n",
      "Worst class accuracy = 0.7897 for class 2\n",
      "========== Training model with method pgd_r4_pmo restart 3 ==========\n"
     ]
    },
    {
     "name": "stderr",
     "output_type": "stream",
     "text": [
      "Epoch:  50%|█████     | 15/30 [00:21<00:21,  1.43s/it]\n"
     ]
    },
    {
     "ename": "KeyboardInterrupt",
     "evalue": "",
     "output_type": "error",
     "traceback": [
      "\u001b[0;31m---------------------------------------------------------------------------\u001b[0m",
      "\u001b[0;31mKeyboardInterrupt\u001b[0m                         Traceback (most recent call last)",
      "Cell \u001b[0;32mIn[16], line 12\u001b[0m\n\u001b[1;32m      9\u001b[0m curr_model \u001b[38;5;241m=\u001b[39m FCNAugmented(\u001b[38;5;241m*\u001b[39mARCH)\n\u001b[1;32m     11\u001b[0m \u001b[38;5;28mprint\u001b[39m(\u001b[38;5;124mf\u001b[39m\u001b[38;5;124m\"\u001b[39m\u001b[38;5;124m========== Training model with method \u001b[39m\u001b[38;5;132;01m{\u001b[39;00mpgd_r4_pmo\u001b[38;5;132;01m}\u001b[39;00m\u001b[38;5;124m restart \u001b[39m\u001b[38;5;132;01m{\u001b[39;00mi\u001b[38;5;132;01m}\u001b[39;00m\u001b[38;5;124m ==========\u001b[39m\u001b[38;5;124m\"\u001b[39m)\n\u001b[0;32m---> 12\u001b[0m \u001b[43mtrain_model_with_pgd_robust_input_grad\u001b[49m\u001b[43m(\u001b[49m\u001b[43mdl_masks_train\u001b[49m\u001b[43m,\u001b[49m\u001b[43m \u001b[49m\u001b[43mnum_epochs\u001b[49m\u001b[43m,\u001b[49m\u001b[43m \u001b[49m\u001b[43mcurr_model\u001b[49m\u001b[43m,\u001b[49m\u001b[43m \u001b[49m\u001b[43mlr\u001b[49m\u001b[43m,\u001b[49m\u001b[43m \u001b[49m\u001b[43mcriterion\u001b[49m\u001b[43m,\u001b[49m\u001b[43m \u001b[49m\u001b[43mepsilon\u001b[49m\u001b[43m,\u001b[49m\u001b[43m \u001b[49m\u001b[43mpgd_r4_pmo\u001b[49m\u001b[43m,\u001b[49m\n\u001b[1;32m     13\u001b[0m \u001b[43m    \u001b[49m\u001b[43mk\u001b[49m\u001b[43m,\u001b[49m\u001b[43m \u001b[49m\u001b[43mdevice\u001b[49m\u001b[43m,\u001b[49m\u001b[43m \u001b[49m\u001b[43mweight_coeff\u001b[49m\u001b[43m,\u001b[49m\u001b[43m \u001b[49m\u001b[43mnum_iterations\u001b[49m\u001b[38;5;241;43m=\u001b[39;49m\u001b[38;5;241;43m10\u001b[39;49m\u001b[43m)\u001b[49m\n\u001b[1;32m     14\u001b[0m \u001b[38;5;28mprint\u001b[39m(\u001b[38;5;124m\"\u001b[39m\u001b[38;5;124mTesting model accuracy for the training set\u001b[39m\u001b[38;5;124m\"\u001b[39m)\n\u001b[1;32m     15\u001b[0m train_acc \u001b[38;5;241m+\u001b[39m\u001b[38;5;241m=\u001b[39m test_model_accuracy(curr_model, dl_masks_train, device, multi_class\u001b[38;5;241m=\u001b[39m\u001b[38;5;28;01mTrue\u001b[39;00m)\n",
      "File \u001b[0;32m/vol/bitbucket/mg2720/R4/examples/models/pipeline.py:96\u001b[0m, in \u001b[0;36mtrain_model_with_pgd_robust_input_grad\u001b[0;34m(dl_train, n_epochs, model, learning_rate, criterion, epsilon, mlx_method, k, device, weight_reg_coeff, class_weights, num_iterations, clip_grad_bound, suppress_tqdm)\u001b[0m\n\u001b[1;32m     94\u001b[0m model \u001b[38;5;241m=\u001b[39m model\u001b[38;5;241m.\u001b[39mto(device)\u001b[38;5;241m.\u001b[39mtrain()\n\u001b[1;32m     95\u001b[0m \u001b[38;5;28;01mfor\u001b[39;00m _ \u001b[38;5;129;01min\u001b[39;00m progress_bar:\n\u001b[0;32m---> 96\u001b[0m     \u001b[38;5;28;01mfor\u001b[39;00m i, (x, u, m) \u001b[38;5;129;01min\u001b[39;00m \u001b[38;5;28menumerate\u001b[39m(dl_train):\n\u001b[1;32m     97\u001b[0m         \u001b[38;5;66;03m# if the batch is not full (last batch), skip it\u001b[39;00m\n\u001b[1;32m     98\u001b[0m         \u001b[38;5;28;01mif\u001b[39;00m x\u001b[38;5;241m.\u001b[39mshape[\u001b[38;5;241m0\u001b[39m] \u001b[38;5;241m!=\u001b[39m dl_train\u001b[38;5;241m.\u001b[39mbatch_size:\n\u001b[1;32m     99\u001b[0m             \u001b[38;5;28;01mcontinue\u001b[39;00m\n",
      "File \u001b[0;32m/vol/bitbucket/mg2720/fypvenv/lib/python3.10/site-packages/torch/utils/data/dataloader.py:631\u001b[0m, in \u001b[0;36m_BaseDataLoaderIter.__next__\u001b[0;34m(self)\u001b[0m\n\u001b[1;32m    628\u001b[0m \u001b[38;5;28;01mif\u001b[39;00m \u001b[38;5;28mself\u001b[39m\u001b[38;5;241m.\u001b[39m_sampler_iter \u001b[38;5;129;01mis\u001b[39;00m \u001b[38;5;28;01mNone\u001b[39;00m:\n\u001b[1;32m    629\u001b[0m     \u001b[38;5;66;03m# TODO(https://github.com/pytorch/pytorch/issues/76750)\u001b[39;00m\n\u001b[1;32m    630\u001b[0m     \u001b[38;5;28mself\u001b[39m\u001b[38;5;241m.\u001b[39m_reset()  \u001b[38;5;66;03m# type: ignore[call-arg]\u001b[39;00m\n\u001b[0;32m--> 631\u001b[0m data \u001b[38;5;241m=\u001b[39m \u001b[38;5;28;43mself\u001b[39;49m\u001b[38;5;241;43m.\u001b[39;49m\u001b[43m_next_data\u001b[49m\u001b[43m(\u001b[49m\u001b[43m)\u001b[49m\n\u001b[1;32m    632\u001b[0m \u001b[38;5;28mself\u001b[39m\u001b[38;5;241m.\u001b[39m_num_yielded \u001b[38;5;241m+\u001b[39m\u001b[38;5;241m=\u001b[39m \u001b[38;5;241m1\u001b[39m\n\u001b[1;32m    633\u001b[0m \u001b[38;5;28;01mif\u001b[39;00m \u001b[38;5;28mself\u001b[39m\u001b[38;5;241m.\u001b[39m_dataset_kind \u001b[38;5;241m==\u001b[39m _DatasetKind\u001b[38;5;241m.\u001b[39mIterable \u001b[38;5;129;01mand\u001b[39;00m \\\n\u001b[1;32m    634\u001b[0m         \u001b[38;5;28mself\u001b[39m\u001b[38;5;241m.\u001b[39m_IterableDataset_len_called \u001b[38;5;129;01mis\u001b[39;00m \u001b[38;5;129;01mnot\u001b[39;00m \u001b[38;5;28;01mNone\u001b[39;00m \u001b[38;5;129;01mand\u001b[39;00m \\\n\u001b[1;32m    635\u001b[0m         \u001b[38;5;28mself\u001b[39m\u001b[38;5;241m.\u001b[39m_num_yielded \u001b[38;5;241m>\u001b[39m \u001b[38;5;28mself\u001b[39m\u001b[38;5;241m.\u001b[39m_IterableDataset_len_called:\n",
      "File \u001b[0;32m/vol/bitbucket/mg2720/fypvenv/lib/python3.10/site-packages/torch/utils/data/dataloader.py:675\u001b[0m, in \u001b[0;36m_SingleProcessDataLoaderIter._next_data\u001b[0;34m(self)\u001b[0m\n\u001b[1;32m    673\u001b[0m \u001b[38;5;28;01mdef\u001b[39;00m \u001b[38;5;21m_next_data\u001b[39m(\u001b[38;5;28mself\u001b[39m):\n\u001b[1;32m    674\u001b[0m     index \u001b[38;5;241m=\u001b[39m \u001b[38;5;28mself\u001b[39m\u001b[38;5;241m.\u001b[39m_next_index()  \u001b[38;5;66;03m# may raise StopIteration\u001b[39;00m\n\u001b[0;32m--> 675\u001b[0m     data \u001b[38;5;241m=\u001b[39m \u001b[38;5;28;43mself\u001b[39;49m\u001b[38;5;241;43m.\u001b[39;49m\u001b[43m_dataset_fetcher\u001b[49m\u001b[38;5;241;43m.\u001b[39;49m\u001b[43mfetch\u001b[49m\u001b[43m(\u001b[49m\u001b[43mindex\u001b[49m\u001b[43m)\u001b[49m  \u001b[38;5;66;03m# may raise StopIteration\u001b[39;00m\n\u001b[1;32m    676\u001b[0m     \u001b[38;5;28;01mif\u001b[39;00m \u001b[38;5;28mself\u001b[39m\u001b[38;5;241m.\u001b[39m_pin_memory:\n\u001b[1;32m    677\u001b[0m         data \u001b[38;5;241m=\u001b[39m _utils\u001b[38;5;241m.\u001b[39mpin_memory\u001b[38;5;241m.\u001b[39mpin_memory(data, \u001b[38;5;28mself\u001b[39m\u001b[38;5;241m.\u001b[39m_pin_memory_device)\n",
      "\u001b[0;31mKeyboardInterrupt\u001b[0m: "
     ]
    }
   ],
   "source": [
    "pgd_r4_pmo = \"pgd_r4_pmo\"\n",
    "# Train standard 3 times and test accuracy and delta input robustness for the masked region\n",
    "num_epochs, lr, restarts, epsilon, weight_coeff, k = 30, 0.06, 4, 0.2, 4e-3, 0.3\n",
    "train_acc, test_acc, num_robust, min_robust_delta, min_lower_bound, max_upper_bound = 0, 0, 0, 1e+8, 0, 0\n",
    "for i in range(restarts):\n",
    "    # Reinitialize the model\n",
    "    # We could try to just reinitialize the weights, but we can throw away the previous model for now as we do not need it\n",
    "    torch.manual_seed(i + SEED)\n",
    "    curr_model = FCNAugmented(*ARCH)\n",
    "\n",
    "    print(f\"========== Training model with method {pgd_r4_pmo} restart {i} ==========\")\n",
    "    train_model_with_pgd_robust_input_grad(dl_masks_train, num_epochs, curr_model, lr, criterion, epsilon, pgd_r4_pmo,\n",
    "        k, device, weight_coeff, num_iterations=10)\n",
    "    print(\"Testing model accuracy for the training set\")\n",
    "    train_acc += test_model_accuracy(curr_model, dl_masks_train, device, multi_class=True)\n",
    "    print(\"Testing model accuracy for the test set\")\n",
    "    test_acc += test_model_accuracy(curr_model, dl_masks_test, device, multi_class=True)\n",
    "    n_r, min_delta, m_l, m_u = test_delta_input_robustness(dl_masks_test, curr_model, epsilon, DELTA_INPUT_ROBUSTNESS_PARAM, \"cross_entropy\", device)\n",
    "    num_robust += n_r\n",
    "    min_robust_delta = min(min_robust_delta, min_delta)\n",
    "    min_lower_bound += m_l\n",
    "    max_upper_bound += m_u\n",
    "    worst_group_acc_no_load(curr_model, dl_masks_test, device, 10)\n",
    "    torch.save(curr_model.state_dict(), os.path.join(save_dir_for_method[pgd_r4_pmo], f\"run_{i}.pt\"))\n",
    "empty_model = FCNAugmented(*ARCH)\n",
    "wg_acc, wg = worst_group_acc(empty_model, dl_masks_test, device, 10, save_dir_for_method[pgd_r4_pmo])\n",
    "write_results_to_file(\"experiment_results/decoy_mnist.yaml\",\n",
    "                      {\"train_acc\": round(train_acc / restarts, 3),\n",
    "                       \"test_acc\": round(test_acc / restarts, 3),\n",
    "                       \"num_robust\": round(num_robust / restarts, 3),\n",
    "                       \"worst_group_acc\": round(wg_acc, 3),\n",
    "                       \"worst_group\": wg,\n",
    "                       \"min_lower_bound\": round(min_lower_bound / restarts, 3),\n",
    "                       \"max_upper_bound\": round(max_upper_bound / restarts, 3),\n",
    "                       \"min_robust_delta\": min_robust_delta}, pgd_r4_pmo)\n",
    "write_results_to_file(\"experiment_results/decoy_mnist_params.yaml\",\n",
    "                      {\"epsilon\": epsilon,\n",
    "                       \"k\": k,\n",
    "                       \"weight_coeff\": weight_coeff,\n",
    "                       \"num_epochs\": num_epochs,\n",
    "                       \"lr\": lr,\n",
    "                       \"restarts\": restarts,\n",
    "                       \"delta_threshold\": DELTA_INPUT_ROBUSTNESS_PARAM}, pgd_r4_pmo)"
   ]
  },
  {
   "cell_type": "markdown",
   "metadata": {},
   "source": [
    "# Smoothed-R3"
   ]
  },
  {
   "cell_type": "code",
   "execution_count": null,
   "metadata": {},
   "outputs": [],
   "source": [
    "smooth_r3 = \"smooth_r3\"\n",
    "# Train standard 3 times and test accuracy and delta input robustness for the masked region\n",
    "num_epochs, lr, restarts, epsilon, weight_coeff, k = 30, 0.01, 4, 0.1, 1e-8, 5e+4\n",
    "train_acc, test_acc, num_robust, min_robust_delta, min_lower_bound, max_upper_bound = 0, 0, 0, 1e+8, 0, 0\n",
    "for i in range(restarts):\n",
    "    # Reinitialize the model\n",
    "    # We could try to just reinitialize the weights, but we can throw away the previous model for now as we do not need it\n",
    "    torch.manual_seed(i + SEED)\n",
    "    curr_model = FCNAugmented(*ARCH)\n",
    "\n",
    "    print(f\"========== Training model with method {smooth_r3} restart {i} ==========\")\n",
    "    train_model_with_smoothed_input_grad(dl_masks_train, num_epochs, curr_model, lr, criterion, epsilon, smooth_r3, k, device, weight_coeff)\n",
    "    print(\"Testing model accuracy for the training set\")\n",
    "    train_acc += test_model_accuracy(curr_model, dl_masks_train, device, multi_class=True)\n",
    "    print(\"Testing model accuracy for the test set\")\n",
    "    test_acc += test_model_accuracy(curr_model, dl_masks_test, device, multi_class=True)\n",
    "    n_r, min_delta, m_l, m_u = test_delta_input_robustness(dl_masks_test, curr_model, epsilon, DELTA_INPUT_ROBUSTNESS_PARAM, \"cross_entropy\", device)\n",
    "    num_robust += n_r\n",
    "    min_robust_delta = min(min_robust_delta, min_delta)\n",
    "    min_lower_bound += m_l\n",
    "    max_upper_bound += m_u\n",
    "    torch.save(curr_model.state_dict(), os.path.join(save_dir_for_method[smooth_r3], f\"run_{i}.pt\"))\n",
    "empty_model = FCNAugmented(*ARCH)\n",
    "wg_acc, wg = worst_group_acc(empty_model, dl_masks_test, device, 10, save_dir_for_method[smooth_r3])\n",
    "write_results_to_file(\"experiment_results/decoy_mnist.yaml\",\n",
    "                      {\"train_acc\": round(train_acc / restarts, 3),\n",
    "                       \"test_acc\": round(test_acc / restarts, 3),\n",
    "                       \"num_robust\": round(num_robust / restarts, 3),\n",
    "                       \"worst_group_acc\": round(wg_acc, 3),\n",
    "                       \"worst_group\": wg,\n",
    "                       \"min_lower_bound\": round(min_lower_bound / restarts, 3),\n",
    "                       \"max_upper_bound\": round(max_upper_bound / restarts, 3),\n",
    "                       \"min_robust_delta\": min_robust_delta}, smooth_r3)\n",
    "write_results_to_file(\"experiment_results/decoy_mnist_params.yaml\",\n",
    "                      {\"epsilon\": epsilon,\n",
    "                       \"k\": k,\n",
    "                       \"weight_coeff\": weight_coeff,\n",
    "                       \"num_epochs\": num_epochs,\n",
    "                       \"lr\": lr,\n",
    "                       \"restarts\": restarts,\n",
    "                       \"delta_threshold\": DELTA_INPUT_ROBUSTNESS_PARAM}, smooth_r3)"
   ]
  },
  {
   "cell_type": "markdown",
   "metadata": {},
   "source": [
    "# Rand-R4"
   ]
  },
  {
   "cell_type": "code",
   "execution_count": 26,
   "metadata": {},
   "outputs": [
    {
     "name": "stdout",
     "output_type": "stream",
     "text": [
      "========== Training model with method rand_r4 restart 0 ==========\n"
     ]
    },
    {
     "name": "stderr",
     "output_type": "stream",
     "text": [
      "Epoch: 100%|██████████| 30/30 [00:53<00:00,  1.79s/it]\n"
     ]
    },
    {
     "name": "stdout",
     "output_type": "stream",
     "text": [
      "Testing model accuracy for the training set\n",
      "--- Model accuracy ---\n",
      "Nominal = 0.9211\n",
      "Testing model accuracy for the test set\n",
      "--- Model accuracy ---\n",
      "Nominal = 0.9176\n",
      "--- Delta input robustness ---\n",
      "Delta Input Robustness = 0\n",
      "--- Mininimum delta for which the test set is certifiably 1-delta-input-robust ---\n",
      "Min robust delta = 2.01\n",
      "Worst class accuracy = 0.8217 for class 5\n",
      "========== Training model with method rand_r4 restart 1 ==========\n"
     ]
    },
    {
     "name": "stderr",
     "output_type": "stream",
     "text": [
      "Epoch: 100%|██████████| 30/30 [00:53<00:00,  1.77s/it]\n"
     ]
    },
    {
     "name": "stdout",
     "output_type": "stream",
     "text": [
      "Testing model accuracy for the training set\n",
      "--- Model accuracy ---\n",
      "Nominal = 0.9167\n",
      "Testing model accuracy for the test set\n",
      "--- Model accuracy ---\n",
      "Nominal = 0.9136\n",
      "--- Delta input robustness ---\n",
      "Delta Input Robustness = 0\n",
      "--- Mininimum delta for which the test set is certifiably 1-delta-input-robust ---\n",
      "Min robust delta = 1.99\n",
      "Worst class accuracy = 0.8326 for class 8\n",
      "========== Training model with method rand_r4 restart 2 ==========\n"
     ]
    },
    {
     "name": "stderr",
     "output_type": "stream",
     "text": [
      "Epoch: 100%|██████████| 30/30 [00:52<00:00,  1.76s/it]\n"
     ]
    },
    {
     "name": "stdout",
     "output_type": "stream",
     "text": [
      "Testing model accuracy for the training set\n",
      "--- Model accuracy ---\n",
      "Nominal = 0.9236\n",
      "Testing model accuracy for the test set\n",
      "--- Model accuracy ---\n",
      "Nominal = 0.9221\n",
      "--- Delta input robustness ---\n",
      "Delta Input Robustness = 0\n",
      "--- Mininimum delta for which the test set is certifiably 1-delta-input-robust ---\n",
      "Min robust delta = 2.09\n",
      "Worst class accuracy = 0.8621 for class 5\n",
      "========== Training model with method rand_r4 restart 3 ==========\n"
     ]
    },
    {
     "name": "stderr",
     "output_type": "stream",
     "text": [
      "Epoch: 100%|██████████| 30/30 [00:52<00:00,  1.77s/it]\n"
     ]
    },
    {
     "name": "stdout",
     "output_type": "stream",
     "text": [
      "Testing model accuracy for the training set\n",
      "--- Model accuracy ---\n",
      "Nominal = 0.918\n",
      "Testing model accuracy for the test set\n",
      "--- Model accuracy ---\n",
      "Nominal = 0.9105\n",
      "--- Delta input robustness ---\n",
      "Delta Input Robustness = 0\n",
      "--- Mininimum delta for which the test set is certifiably 1-delta-input-robust ---\n",
      "Min robust delta = 2.29\n",
      "Worst class accuracy = 0.8275 for class 8\n",
      "Worst class accuracy = 0.8534 for class 5\n"
     ]
    }
   ],
   "source": [
    "rand_r4 = \"rand_r4\"\n",
    "# Train standard 3 times and test accuracy and delta input robustness for the masked region\n",
    "num_epochs, lr, restarts, epsilon, weight_coeff, k = 30, 0.02, 4, 0.1, 1e-4, 20\n",
    "train_acc, test_acc, num_robust, min_robust_delta, min_lower_bound, max_upper_bound = 0, 0, 0, 1e+8, 0, 0\n",
    "for i in range(restarts):\n",
    "    # Reinitialize the model\n",
    "    # We could try to just reinitialize the weights, but we can throw away the previous model for now as we do not need it\n",
    "    torch.manual_seed(i + SEED)\n",
    "    curr_model = FCNAugmented(*ARCH)\n",
    "\n",
    "    print(f\"========== Training model with method {rand_r4} restart {i} ==========\")\n",
    "    train_model_with_smoothed_input_grad(dl_masks_train, num_epochs, curr_model, lr, criterion, epsilon, rand_r4, k, device, weight_coeff)\n",
    "    print(\"Testing model accuracy for the training set\")\n",
    "    train_acc += test_model_accuracy(curr_model, dl_masks_train, device, multi_class=True)\n",
    "    print(\"Testing model accuracy for the test set\")\n",
    "    test_acc += test_model_accuracy(curr_model, dl_masks_test, device, multi_class=True)\n",
    "    n_r, min_delta, m_l, m_u = test_delta_input_robustness(dl_masks_test, curr_model, epsilon, DELTA_INPUT_ROBUSTNESS_PARAM, \"cross_entropy\", device)\n",
    "    num_robust += n_r\n",
    "    min_robust_delta = min(min_robust_delta, min_delta)\n",
    "    min_lower_bound += m_l\n",
    "    max_upper_bound += m_u\n",
    "    worst_group_acc_no_load(curr_model, dl_masks_test, device, 10)\n",
    "    torch.save(curr_model.state_dict(), os.path.join(save_dir_for_method[rand_r4], f\"run_{i}.pt\"))\n",
    "empty_model = FCNAugmented(*ARCH)\n",
    "wg_acc, wg = worst_group_acc(empty_model, dl_masks_test, device, 10, save_dir_for_method[rand_r4])\n",
    "write_results_to_file(\"experiment_results/decoy_mnist.yaml\",\n",
    "                      {\"train_acc\": round(train_acc / restarts, 4),\n",
    "                       \"test_acc\": round(test_acc / restarts, 4),\n",
    "                       \"num_robust\": round(num_robust / restarts, 4),\n",
    "                       \"worst_group_acc\": round(wg_acc, 4),\n",
    "                       \"worst_group\": wg,\n",
    "                       \"min_lower_bound\": round(min_lower_bound / restarts, 4),\n",
    "                       \"max_upper_bound\": round(max_upper_bound / restarts, 4),\n",
    "                       \"min_robust_delta\": min_robust_delta}, rand_r4)\n",
    "write_results_to_file(\"experiment_results/decoy_mnist_params.yaml\",\n",
    "                      {\"epsilon\": epsilon,\n",
    "                       \"k\": k,\n",
    "                       \"weight_coeff\": weight_coeff,\n",
    "                       \"num_epochs\": num_epochs,\n",
    "                       \"lr\": lr,\n",
    "                       \"restarts\": restarts,\n",
    "                       \"delta_threshold\": DELTA_INPUT_ROBUSTNESS_PARAM}, rand_r4)"
   ]
  },
  {
   "cell_type": "markdown",
   "metadata": {},
   "source": [
    "# Rand-R4 perturb mask only"
   ]
  },
  {
   "cell_type": "code",
   "execution_count": null,
   "metadata": {},
   "outputs": [],
   "source": [
    "rand_r4_pmo = \"rand_r4_pmo\"\n",
    "# Train standard 3 times and test accuracy and delta input robustness for the masked region\n",
    "num_epochs, lr, restarts, epsilon, weight_coeff, k = 30, 0.02, 4, 0.3, 1e-4, 20\n",
    "train_acc, test_acc, num_robust, min_robust_delta, min_lower_bound, max_upper_bound = 0, 0, 0, 1e+8, 0, 0\n",
    "for i in range(restarts):\n",
    "    # Reinitialize the model\n",
    "    # We could try to just reinitialize the weights, but we can throw away the previous model for now as we do not need it\n",
    "    torch.manual_seed(i + SEED)\n",
    "    curr_model = FCNAugmented(*ARCH)\n",
    "\n",
    "    print(f\"========== Training model with method {rand_r4_pmo} restart {i} ==========\")\n",
    "    train_model_with_smoothed_input_grad(dl_masks_train, num_epochs, curr_model, lr, criterion, epsilon, rand_r4_pmo, k,\n",
    "        device, weight_coeff, perturb_mask_only=True)\n",
    "    print(\"Testing model accuracy for the training set\")\n",
    "    train_acc += test_model_accuracy(curr_model, dl_masks_train, device, multi_class=True)\n",
    "    print(\"Testing model accuracy for the test set\")\n",
    "    test_acc += test_model_accuracy(curr_model, dl_masks_test, device, multi_class=True)\n",
    "    n_r, min_delta, m_l, m_u = test_delta_input_robustness(dl_masks_test, curr_model, epsilon, DELTA_INPUT_ROBUSTNESS_PARAM, \"cross_entropy\", device)\n",
    "    num_robust += n_r\n",
    "    min_robust_delta = min(min_robust_delta, min_delta)\n",
    "    min_lower_bound += m_l\n",
    "    max_upper_bound += m_u\n",
    "    torch.save(curr_model.state_dict(), os.path.join(save_dir_for_method[rand_r4_pmo], f\"run_{i}.pt\"))\n",
    "empty_model = FCNAugmented(*ARCH)\n",
    "wg_acc, wg = worst_group_acc(empty_model, dl_masks_test, device, 10, save_dir_for_method[rand_r4_pmo])\n",
    "write_results_to_file(\"experiment_results/decoy_mnist.yaml\",\n",
    "                      {\"train_acc\": round(train_acc / restarts, 3),\n",
    "                       \"test_acc\": round(test_acc / restarts, 3),\n",
    "                       \"num_robust\": round(num_robust / restarts, 3),\n",
    "                       \"worst_group_acc\": round(wg_acc, 3),\n",
    "                       \"worst_group\": wg,\n",
    "                       \"min_lower_bound\": round(min_lower_bound / restarts, 3),\n",
    "                       \"max_upper_bound\": round(max_upper_bound / restarts, 3),\n",
    "                       \"min_robust_delta\": min_robust_delta}, rand_r4_pmo)\n",
    "write_results_to_file(\"experiment_results/decoy_mnist_params.yaml\",\n",
    "                      {\"epsilon\": epsilon,\n",
    "                       \"k\": k,\n",
    "                       \"weight_coeff\": weight_coeff,\n",
    "                       \"num_epochs\": num_epochs,\n",
    "                       \"lr\": lr,\n",
    "                       \"restarts\": restarts,\n",
    "                       \"delta_threshold\": DELTA_INPUT_ROBUSTNESS_PARAM}, rand_r4_pmo)"
   ]
  },
  {
   "cell_type": "markdown",
   "metadata": {},
   "source": [
    "# Sample Complexity Experiments"
   ]
  },
  {
   "cell_type": "markdown",
   "metadata": {},
   "source": [
    "# MASKS only"
   ]
  },
  {
   "cell_type": "code",
   "execution_count": 13,
   "metadata": {},
   "outputs": [
    {
     "name": "stdout",
     "output_type": "stream",
     "text": [
      "========== Training model with method rand_r4 restart 0 and mask ratio 1.0 ==========\n"
     ]
    },
    {
     "name": "stderr",
     "output_type": "stream",
     "text": [
      "Epoch: 100%|██████████| 30/30 [00:58<00:00,  1.97s/it]\n"
     ]
    },
    {
     "name": "stdout",
     "output_type": "stream",
     "text": [
      "========== Training model with method rand_r4 restart 1 and mask ratio 1.0 ==========\n"
     ]
    },
    {
     "name": "stderr",
     "output_type": "stream",
     "text": [
      "Epoch: 100%|██████████| 30/30 [00:57<00:00,  1.91s/it]\n"
     ]
    },
    {
     "name": "stdout",
     "output_type": "stream",
     "text": [
      "========== Training model with method rand_r4 restart 2 and mask ratio 1.0 ==========\n"
     ]
    },
    {
     "name": "stderr",
     "output_type": "stream",
     "text": [
      "Epoch: 100%|██████████| 30/30 [00:55<00:00,  1.85s/it]\n"
     ]
    },
    {
     "name": "stdout",
     "output_type": "stream",
     "text": [
      "========== Training model with method rand_r4 restart 3 and mask ratio 1.0 ==========\n"
     ]
    },
    {
     "name": "stderr",
     "output_type": "stream",
     "text": [
      "Epoch: 100%|██████████| 30/30 [00:55<00:00,  1.83s/it]\n"
     ]
    },
    {
     "name": "stdout",
     "output_type": "stream",
     "text": [
      "Worst class accuracy = 0.8534 for class 5\n",
      "========== Training model with method rand_r4 restart 0 and mask ratio 0.8 ==========\n"
     ]
    },
    {
     "name": "stderr",
     "output_type": "stream",
     "text": [
      "Epoch: 100%|██████████| 30/30 [00:51<00:00,  1.70s/it]\n"
     ]
    },
    {
     "name": "stdout",
     "output_type": "stream",
     "text": [
      "========== Training model with method rand_r4 restart 1 and mask ratio 0.8 ==========\n"
     ]
    },
    {
     "name": "stderr",
     "output_type": "stream",
     "text": [
      "Epoch: 100%|██████████| 30/30 [00:51<00:00,  1.70s/it]\n"
     ]
    },
    {
     "name": "stdout",
     "output_type": "stream",
     "text": [
      "========== Training model with method rand_r4 restart 2 and mask ratio 0.8 ==========\n"
     ]
    },
    {
     "name": "stderr",
     "output_type": "stream",
     "text": [
      "Epoch: 100%|██████████| 30/30 [00:49<00:00,  1.65s/it]\n"
     ]
    },
    {
     "name": "stdout",
     "output_type": "stream",
     "text": [
      "========== Training model with method rand_r4 restart 3 and mask ratio 0.8 ==========\n"
     ]
    },
    {
     "name": "stderr",
     "output_type": "stream",
     "text": [
      "Epoch: 100%|██████████| 30/30 [00:50<00:00,  1.68s/it]\n"
     ]
    },
    {
     "name": "stdout",
     "output_type": "stream",
     "text": [
      "Worst class accuracy = 0.8534 for class 5\n",
      "========== Training model with method rand_r4 restart 0 and mask ratio 0.6 ==========\n"
     ]
    },
    {
     "name": "stderr",
     "output_type": "stream",
     "text": [
      "Epoch: 100%|██████████| 30/30 [00:51<00:00,  1.70s/it]\n"
     ]
    },
    {
     "name": "stdout",
     "output_type": "stream",
     "text": [
      "========== Training model with method rand_r4 restart 1 and mask ratio 0.6 ==========\n"
     ]
    },
    {
     "name": "stderr",
     "output_type": "stream",
     "text": [
      "Epoch: 100%|██████████| 30/30 [00:50<00:00,  1.70s/it]\n"
     ]
    },
    {
     "name": "stdout",
     "output_type": "stream",
     "text": [
      "========== Training model with method rand_r4 restart 2 and mask ratio 0.6 ==========\n"
     ]
    },
    {
     "name": "stderr",
     "output_type": "stream",
     "text": [
      "Epoch: 100%|██████████| 30/30 [00:49<00:00,  1.64s/it]\n"
     ]
    },
    {
     "name": "stdout",
     "output_type": "stream",
     "text": [
      "========== Training model with method rand_r4 restart 3 and mask ratio 0.6 ==========\n"
     ]
    },
    {
     "name": "stderr",
     "output_type": "stream",
     "text": [
      "Epoch: 100%|██████████| 30/30 [00:49<00:00,  1.64s/it]\n"
     ]
    },
    {
     "name": "stdout",
     "output_type": "stream",
     "text": [
      "Worst class accuracy = 0.8534 for class 5\n",
      "========== Training model with method rand_r4 restart 0 and mask ratio 0.4 ==========\n"
     ]
    },
    {
     "name": "stderr",
     "output_type": "stream",
     "text": [
      "Epoch: 100%|██████████| 30/30 [00:50<00:00,  1.67s/it]\n"
     ]
    },
    {
     "name": "stdout",
     "output_type": "stream",
     "text": [
      "========== Training model with method rand_r4 restart 1 and mask ratio 0.4 ==========\n"
     ]
    },
    {
     "name": "stderr",
     "output_type": "stream",
     "text": [
      "Epoch: 100%|██████████| 30/30 [00:46<00:00,  1.55s/it]\n"
     ]
    },
    {
     "name": "stdout",
     "output_type": "stream",
     "text": [
      "========== Training model with method rand_r4 restart 2 and mask ratio 0.4 ==========\n"
     ]
    },
    {
     "name": "stderr",
     "output_type": "stream",
     "text": [
      "Epoch: 100%|██████████| 30/30 [00:47<00:00,  1.58s/it]\n"
     ]
    },
    {
     "name": "stdout",
     "output_type": "stream",
     "text": [
      "========== Training model with method rand_r4 restart 3 and mask ratio 0.4 ==========\n"
     ]
    },
    {
     "name": "stderr",
     "output_type": "stream",
     "text": [
      "Epoch: 100%|██████████| 30/30 [00:47<00:00,  1.59s/it]\n"
     ]
    },
    {
     "name": "stdout",
     "output_type": "stream",
     "text": [
      "Worst class accuracy = 0.8534 for class 5\n",
      "========== Training model with method rand_r4 restart 0 and mask ratio 0.2 ==========\n"
     ]
    },
    {
     "name": "stderr",
     "output_type": "stream",
     "text": [
      "Epoch: 100%|██████████| 30/30 [00:46<00:00,  1.55s/it]\n"
     ]
    },
    {
     "name": "stdout",
     "output_type": "stream",
     "text": [
      "========== Training model with method rand_r4 restart 1 and mask ratio 0.2 ==========\n"
     ]
    },
    {
     "name": "stderr",
     "output_type": "stream",
     "text": [
      "Epoch: 100%|██████████| 30/30 [00:58<00:00,  1.97s/it]\n"
     ]
    },
    {
     "name": "stdout",
     "output_type": "stream",
     "text": [
      "========== Training model with method rand_r4 restart 2 and mask ratio 0.2 ==========\n"
     ]
    },
    {
     "name": "stderr",
     "output_type": "stream",
     "text": [
      "Epoch: 100%|██████████| 30/30 [01:04<00:00,  2.15s/it]\n"
     ]
    },
    {
     "name": "stdout",
     "output_type": "stream",
     "text": [
      "========== Training model with method rand_r4 restart 3 and mask ratio 0.2 ==========\n"
     ]
    },
    {
     "name": "stderr",
     "output_type": "stream",
     "text": [
      "Epoch: 100%|██████████| 30/30 [01:04<00:00,  2.16s/it]\n"
     ]
    },
    {
     "name": "stdout",
     "output_type": "stream",
     "text": [
      "Worst class accuracy = 0.8534 for class 5\n",
      "========== Training model with method rand_r4 restart 0 and mask ratio 0 ==========\n"
     ]
    },
    {
     "name": "stderr",
     "output_type": "stream",
     "text": [
      "Epoch: 100%|██████████| 30/30 [00:58<00:00,  1.95s/it]\n"
     ]
    },
    {
     "name": "stdout",
     "output_type": "stream",
     "text": [
      "========== Training model with method rand_r4 restart 1 and mask ratio 0 ==========\n"
     ]
    },
    {
     "name": "stderr",
     "output_type": "stream",
     "text": [
      "Epoch: 100%|██████████| 30/30 [00:55<00:00,  1.84s/it]\n"
     ]
    },
    {
     "name": "stdout",
     "output_type": "stream",
     "text": [
      "========== Training model with method rand_r4 restart 2 and mask ratio 0 ==========\n"
     ]
    },
    {
     "name": "stderr",
     "output_type": "stream",
     "text": [
      "Epoch: 100%|██████████| 30/30 [01:02<00:00,  2.07s/it]\n"
     ]
    },
    {
     "name": "stdout",
     "output_type": "stream",
     "text": [
      "========== Training model with method rand_r4 restart 3 and mask ratio 0 ==========\n"
     ]
    },
    {
     "name": "stderr",
     "output_type": "stream",
     "text": [
      "Epoch: 100%|██████████| 30/30 [00:51<00:00,  1.73s/it]\n"
     ]
    },
    {
     "name": "stdout",
     "output_type": "stream",
     "text": [
      "Worst class accuracy = 0.8534 for class 5\n",
      "========== Training model with method ibp_ex+r3 restart 0 and mask ratio 1.0 ==========\n"
     ]
    },
    {
     "name": "stderr",
     "output_type": "stream",
     "text": [
      "Epoch: 100%|██████████| 20/20 [00:34<00:00,  1.75s/it, loss=2.12, reg=tensor(2.7879, device='cuda:0', grad_fn=<AddBackward0>)]\n"
     ]
    },
    {
     "name": "stdout",
     "output_type": "stream",
     "text": [
      "========== Training model with method ibp_ex+r3 restart 1 and mask ratio 1.0 ==========\n"
     ]
    },
    {
     "name": "stderr",
     "output_type": "stream",
     "text": [
      "Epoch: 100%|██████████| 20/20 [00:33<00:00,  1.69s/it, loss=2.11, reg=tensor(2.7921, device='cuda:0', grad_fn=<AddBackward0>)]\n"
     ]
    },
    {
     "name": "stdout",
     "output_type": "stream",
     "text": [
      "========== Training model with method ibp_ex+r3 restart 2 and mask ratio 1.0 ==========\n"
     ]
    },
    {
     "name": "stderr",
     "output_type": "stream",
     "text": [
      "Epoch: 100%|██████████| 20/20 [00:33<00:00,  1.69s/it, loss=2.11, reg=tensor(2.7910, device='cuda:0', grad_fn=<AddBackward0>)]\n"
     ]
    },
    {
     "name": "stdout",
     "output_type": "stream",
     "text": [
      "========== Training model with method ibp_ex+r3 restart 3 and mask ratio 1.0 ==========\n"
     ]
    },
    {
     "name": "stderr",
     "output_type": "stream",
     "text": [
      "Epoch: 100%|██████████| 20/20 [00:34<00:00,  1.71s/it, loss=2.12, reg=tensor(2.7776, device='cuda:0', grad_fn=<AddBackward0>)]\n"
     ]
    },
    {
     "name": "stdout",
     "output_type": "stream",
     "text": [
      "Worst class accuracy = 0.8816 for class 9\n",
      "========== Training model with method ibp_ex+r3 restart 0 and mask ratio 0.8 ==========\n"
     ]
    },
    {
     "name": "stderr",
     "output_type": "stream",
     "text": [
      "Epoch: 100%|██████████| 20/20 [00:33<00:00,  1.70s/it, loss=2.12, reg=tensor(2.7879, device='cuda:0', grad_fn=<AddBackward0>)]\n"
     ]
    },
    {
     "name": "stdout",
     "output_type": "stream",
     "text": [
      "========== Training model with method ibp_ex+r3 restart 1 and mask ratio 0.8 ==========\n"
     ]
    },
    {
     "name": "stderr",
     "output_type": "stream",
     "text": [
      "Epoch: 100%|██████████| 20/20 [00:34<00:00,  1.72s/it, loss=2.11, reg=tensor(2.7921, device='cuda:0', grad_fn=<AddBackward0>)]\n"
     ]
    },
    {
     "name": "stdout",
     "output_type": "stream",
     "text": [
      "========== Training model with method ibp_ex+r3 restart 2 and mask ratio 0.8 ==========\n"
     ]
    },
    {
     "name": "stderr",
     "output_type": "stream",
     "text": [
      "Epoch: 100%|██████████| 20/20 [00:33<00:00,  1.65s/it, loss=2.11, reg=tensor(2.7910, device='cuda:0', grad_fn=<AddBackward0>)]\n"
     ]
    },
    {
     "name": "stdout",
     "output_type": "stream",
     "text": [
      "========== Training model with method ibp_ex+r3 restart 3 and mask ratio 0.8 ==========\n"
     ]
    },
    {
     "name": "stderr",
     "output_type": "stream",
     "text": [
      "Epoch: 100%|██████████| 20/20 [00:32<00:00,  1.64s/it, loss=2.12, reg=tensor(2.7776, device='cuda:0', grad_fn=<AddBackward0>)]\n"
     ]
    },
    {
     "name": "stdout",
     "output_type": "stream",
     "text": [
      "Worst class accuracy = 0.8816 for class 9\n",
      "========== Training model with method ibp_ex+r3 restart 0 and mask ratio 0.6 ==========\n"
     ]
    },
    {
     "name": "stderr",
     "output_type": "stream",
     "text": [
      "Epoch: 100%|██████████| 20/20 [00:32<00:00,  1.64s/it, loss=2.12, reg=tensor(2.7879, device='cuda:0', grad_fn=<AddBackward0>)]\n"
     ]
    },
    {
     "name": "stdout",
     "output_type": "stream",
     "text": [
      "========== Training model with method ibp_ex+r3 restart 1 and mask ratio 0.6 ==========\n"
     ]
    },
    {
     "name": "stderr",
     "output_type": "stream",
     "text": [
      "Epoch: 100%|██████████| 20/20 [00:33<00:00,  1.65s/it, loss=2.11, reg=tensor(2.7921, device='cuda:0', grad_fn=<AddBackward0>)]\n"
     ]
    },
    {
     "name": "stdout",
     "output_type": "stream",
     "text": [
      "========== Training model with method ibp_ex+r3 restart 2 and mask ratio 0.6 ==========\n"
     ]
    },
    {
     "name": "stderr",
     "output_type": "stream",
     "text": [
      "Epoch: 100%|██████████| 20/20 [00:32<00:00,  1.64s/it, loss=2.11, reg=tensor(2.7910, device='cuda:0', grad_fn=<AddBackward0>)]\n"
     ]
    },
    {
     "name": "stdout",
     "output_type": "stream",
     "text": [
      "========== Training model with method ibp_ex+r3 restart 3 and mask ratio 0.6 ==========\n"
     ]
    },
    {
     "name": "stderr",
     "output_type": "stream",
     "text": [
      "Epoch: 100%|██████████| 20/20 [00:33<00:00,  1.67s/it, loss=2.12, reg=tensor(2.7776, device='cuda:0', grad_fn=<AddBackward0>)]\n"
     ]
    },
    {
     "name": "stdout",
     "output_type": "stream",
     "text": [
      "Worst class accuracy = 0.8816 for class 9\n",
      "========== Training model with method ibp_ex+r3 restart 0 and mask ratio 0.4 ==========\n"
     ]
    },
    {
     "name": "stderr",
     "output_type": "stream",
     "text": [
      "Epoch: 100%|██████████| 20/20 [00:32<00:00,  1.64s/it, loss=2.12, reg=tensor(2.7879, device='cuda:0', grad_fn=<AddBackward0>)]\n"
     ]
    },
    {
     "name": "stdout",
     "output_type": "stream",
     "text": [
      "========== Training model with method ibp_ex+r3 restart 1 and mask ratio 0.4 ==========\n"
     ]
    },
    {
     "name": "stderr",
     "output_type": "stream",
     "text": [
      "Epoch: 100%|██████████| 20/20 [00:33<00:00,  1.65s/it, loss=2.11, reg=tensor(2.7921, device='cuda:0', grad_fn=<AddBackward0>)]\n"
     ]
    },
    {
     "name": "stdout",
     "output_type": "stream",
     "text": [
      "========== Training model with method ibp_ex+r3 restart 2 and mask ratio 0.4 ==========\n"
     ]
    },
    {
     "name": "stderr",
     "output_type": "stream",
     "text": [
      "Epoch: 100%|██████████| 20/20 [00:33<00:00,  1.66s/it, loss=2.11, reg=tensor(2.7910, device='cuda:0', grad_fn=<AddBackward0>)]\n"
     ]
    },
    {
     "name": "stdout",
     "output_type": "stream",
     "text": [
      "========== Training model with method ibp_ex+r3 restart 3 and mask ratio 0.4 ==========\n"
     ]
    },
    {
     "name": "stderr",
     "output_type": "stream",
     "text": [
      "Epoch: 100%|██████████| 20/20 [00:33<00:00,  1.66s/it, loss=2.12, reg=tensor(2.7776, device='cuda:0', grad_fn=<AddBackward0>)]\n"
     ]
    },
    {
     "name": "stdout",
     "output_type": "stream",
     "text": [
      "Worst class accuracy = 0.8816 for class 9\n",
      "========== Training model with method ibp_ex+r3 restart 0 and mask ratio 0.2 ==========\n"
     ]
    },
    {
     "name": "stderr",
     "output_type": "stream",
     "text": [
      "Epoch: 100%|██████████| 20/20 [00:33<00:00,  1.67s/it, loss=2.12, reg=tensor(2.7879, device='cuda:0', grad_fn=<AddBackward0>)]\n"
     ]
    },
    {
     "name": "stdout",
     "output_type": "stream",
     "text": [
      "========== Training model with method ibp_ex+r3 restart 1 and mask ratio 0.2 ==========\n"
     ]
    },
    {
     "name": "stderr",
     "output_type": "stream",
     "text": [
      "Epoch: 100%|██████████| 20/20 [00:34<00:00,  1.71s/it, loss=2.11, reg=tensor(2.7921, device='cuda:0', grad_fn=<AddBackward0>)]\n"
     ]
    },
    {
     "name": "stdout",
     "output_type": "stream",
     "text": [
      "========== Training model with method ibp_ex+r3 restart 2 and mask ratio 0.2 ==========\n"
     ]
    },
    {
     "name": "stderr",
     "output_type": "stream",
     "text": [
      "Epoch: 100%|██████████| 20/20 [00:33<00:00,  1.68s/it, loss=2.11, reg=tensor(2.7910, device='cuda:0', grad_fn=<AddBackward0>)]\n"
     ]
    },
    {
     "name": "stdout",
     "output_type": "stream",
     "text": [
      "========== Training model with method ibp_ex+r3 restart 3 and mask ratio 0.2 ==========\n"
     ]
    },
    {
     "name": "stderr",
     "output_type": "stream",
     "text": [
      "Epoch: 100%|██████████| 20/20 [00:33<00:00,  1.69s/it, loss=2.12, reg=tensor(2.7776, device='cuda:0', grad_fn=<AddBackward0>)]\n"
     ]
    },
    {
     "name": "stdout",
     "output_type": "stream",
     "text": [
      "Worst class accuracy = 0.8816 for class 9\n",
      "========== Training model with method ibp_ex+r3 restart 0 and mask ratio 0 ==========\n"
     ]
    },
    {
     "name": "stderr",
     "output_type": "stream",
     "text": [
      "Epoch: 100%|██████████| 20/20 [00:34<00:00,  1.70s/it, loss=2.12, reg=tensor(2.7879, device='cuda:0', grad_fn=<AddBackward0>)]\n"
     ]
    },
    {
     "name": "stdout",
     "output_type": "stream",
     "text": [
      "========== Training model with method ibp_ex+r3 restart 1 and mask ratio 0 ==========\n"
     ]
    },
    {
     "name": "stderr",
     "output_type": "stream",
     "text": [
      "Epoch: 100%|██████████| 20/20 [00:33<00:00,  1.68s/it, loss=2.11, reg=tensor(2.7921, device='cuda:0', grad_fn=<AddBackward0>)]\n"
     ]
    },
    {
     "name": "stdout",
     "output_type": "stream",
     "text": [
      "========== Training model with method ibp_ex+r3 restart 2 and mask ratio 0 ==========\n"
     ]
    },
    {
     "name": "stderr",
     "output_type": "stream",
     "text": [
      "Epoch: 100%|██████████| 20/20 [00:33<00:00,  1.68s/it, loss=2.11, reg=tensor(2.7910, device='cuda:0', grad_fn=<AddBackward0>)]\n"
     ]
    },
    {
     "name": "stdout",
     "output_type": "stream",
     "text": [
      "========== Training model with method ibp_ex+r3 restart 3 and mask ratio 0 ==========\n"
     ]
    },
    {
     "name": "stderr",
     "output_type": "stream",
     "text": [
      "Epoch: 100%|██████████| 20/20 [00:33<00:00,  1.69s/it, loss=2.12, reg=tensor(2.7776, device='cuda:0', grad_fn=<AddBackward0>)]\n"
     ]
    },
    {
     "name": "stdout",
     "output_type": "stream",
     "text": [
      "Worst class accuracy = 0.8816 for class 9\n",
      "========== Training model with method r3 restart 0 and mask ratio 1.0 ==========\n"
     ]
    },
    {
     "name": "stderr",
     "output_type": "stream",
     "text": [
      "Epoch: 100%|██████████| 20/20 [00:30<00:00,  1.54s/it, loss=1.94, reg=tensor(0.1402, device='cuda:0', grad_fn=<AddBackward0>)]\n"
     ]
    },
    {
     "name": "stdout",
     "output_type": "stream",
     "text": [
      "========== Training model with method r3 restart 1 and mask ratio 1.0 ==========\n"
     ]
    },
    {
     "name": "stderr",
     "output_type": "stream",
     "text": [
      "Epoch: 100%|██████████| 20/20 [00:31<00:00,  1.58s/it, loss=1.89, reg=tensor(0.1419, device='cuda:0', grad_fn=<AddBackward0>)]\n"
     ]
    },
    {
     "name": "stdout",
     "output_type": "stream",
     "text": [
      "========== Training model with method r3 restart 2 and mask ratio 1.0 ==========\n"
     ]
    },
    {
     "name": "stderr",
     "output_type": "stream",
     "text": [
      "Epoch: 100%|██████████| 20/20 [00:31<00:00,  1.56s/it, loss=1.9, reg=tensor(0.1435, device='cuda:0', grad_fn=<AddBackward0>)] \n"
     ]
    },
    {
     "name": "stdout",
     "output_type": "stream",
     "text": [
      "========== Training model with method r3 restart 3 and mask ratio 1.0 ==========\n"
     ]
    },
    {
     "name": "stderr",
     "output_type": "stream",
     "text": [
      "Epoch: 100%|██████████| 20/20 [00:31<00:00,  1.56s/it, loss=1.9, reg=tensor(0.1708, device='cuda:0', grad_fn=<AddBackward0>)] \n"
     ]
    },
    {
     "name": "stdout",
     "output_type": "stream",
     "text": [
      "Worst class accuracy = 0.2164 for class 5\n",
      "========== Training model with method r3 restart 0 and mask ratio 0.8 ==========\n"
     ]
    },
    {
     "name": "stderr",
     "output_type": "stream",
     "text": [
      "Epoch: 100%|██████████| 20/20 [00:31<00:00,  1.58s/it, loss=1.94, reg=tensor(0.1402, device='cuda:0', grad_fn=<AddBackward0>)]\n"
     ]
    },
    {
     "name": "stdout",
     "output_type": "stream",
     "text": [
      "========== Training model with method r3 restart 1 and mask ratio 0.8 ==========\n"
     ]
    },
    {
     "name": "stderr",
     "output_type": "stream",
     "text": [
      "Epoch: 100%|██████████| 20/20 [00:31<00:00,  1.57s/it, loss=1.89, reg=tensor(0.1419, device='cuda:0', grad_fn=<AddBackward0>)]\n"
     ]
    },
    {
     "name": "stdout",
     "output_type": "stream",
     "text": [
      "========== Training model with method r3 restart 2 and mask ratio 0.8 ==========\n"
     ]
    },
    {
     "name": "stderr",
     "output_type": "stream",
     "text": [
      "Epoch: 100%|██████████| 20/20 [00:31<00:00,  1.57s/it, loss=1.9, reg=tensor(0.1435, device='cuda:0', grad_fn=<AddBackward0>)] \n"
     ]
    },
    {
     "name": "stdout",
     "output_type": "stream",
     "text": [
      "========== Training model with method r3 restart 3 and mask ratio 0.8 ==========\n"
     ]
    },
    {
     "name": "stderr",
     "output_type": "stream",
     "text": [
      "Epoch: 100%|██████████| 20/20 [00:31<00:00,  1.57s/it, loss=1.9, reg=tensor(0.1708, device='cuda:0', grad_fn=<AddBackward0>)] \n"
     ]
    },
    {
     "name": "stdout",
     "output_type": "stream",
     "text": [
      "Worst class accuracy = 0.2164 for class 5\n",
      "========== Training model with method r3 restart 0 and mask ratio 0.6 ==========\n"
     ]
    },
    {
     "name": "stderr",
     "output_type": "stream",
     "text": [
      "Epoch: 100%|██████████| 20/20 [00:31<00:00,  1.55s/it, loss=1.94, reg=tensor(0.1402, device='cuda:0', grad_fn=<AddBackward0>)]\n"
     ]
    },
    {
     "name": "stdout",
     "output_type": "stream",
     "text": [
      "========== Training model with method r3 restart 1 and mask ratio 0.6 ==========\n"
     ]
    },
    {
     "name": "stderr",
     "output_type": "stream",
     "text": [
      "Epoch: 100%|██████████| 20/20 [00:31<00:00,  1.57s/it, loss=1.89, reg=tensor(0.1419, device='cuda:0', grad_fn=<AddBackward0>)]\n"
     ]
    },
    {
     "name": "stdout",
     "output_type": "stream",
     "text": [
      "========== Training model with method r3 restart 2 and mask ratio 0.6 ==========\n"
     ]
    },
    {
     "name": "stderr",
     "output_type": "stream",
     "text": [
      "Epoch: 100%|██████████| 20/20 [00:31<00:00,  1.57s/it, loss=1.9, reg=tensor(0.1435, device='cuda:0', grad_fn=<AddBackward0>)] \n"
     ]
    },
    {
     "name": "stdout",
     "output_type": "stream",
     "text": [
      "========== Training model with method r3 restart 3 and mask ratio 0.6 ==========\n"
     ]
    },
    {
     "name": "stderr",
     "output_type": "stream",
     "text": [
      "Epoch: 100%|██████████| 20/20 [00:31<00:00,  1.57s/it, loss=1.9, reg=tensor(0.1708, device='cuda:0', grad_fn=<AddBackward0>)] \n"
     ]
    },
    {
     "name": "stdout",
     "output_type": "stream",
     "text": [
      "Worst class accuracy = 0.2164 for class 5\n",
      "========== Training model with method r3 restart 0 and mask ratio 0.4 ==========\n"
     ]
    },
    {
     "name": "stderr",
     "output_type": "stream",
     "text": [
      "Epoch: 100%|██████████| 20/20 [00:31<00:00,  1.57s/it, loss=1.94, reg=tensor(0.1402, device='cuda:0', grad_fn=<AddBackward0>)]\n"
     ]
    },
    {
     "name": "stdout",
     "output_type": "stream",
     "text": [
      "========== Training model with method r3 restart 1 and mask ratio 0.4 ==========\n"
     ]
    },
    {
     "name": "stderr",
     "output_type": "stream",
     "text": [
      "Epoch: 100%|██████████| 20/20 [00:31<00:00,  1.56s/it, loss=1.89, reg=tensor(0.1419, device='cuda:0', grad_fn=<AddBackward0>)]\n"
     ]
    },
    {
     "name": "stdout",
     "output_type": "stream",
     "text": [
      "========== Training model with method r3 restart 2 and mask ratio 0.4 ==========\n"
     ]
    },
    {
     "name": "stderr",
     "output_type": "stream",
     "text": [
      "Epoch: 100%|██████████| 20/20 [00:30<00:00,  1.54s/it, loss=1.9, reg=tensor(0.1435, device='cuda:0', grad_fn=<AddBackward0>)] \n"
     ]
    },
    {
     "name": "stdout",
     "output_type": "stream",
     "text": [
      "========== Training model with method r3 restart 3 and mask ratio 0.4 ==========\n"
     ]
    },
    {
     "name": "stderr",
     "output_type": "stream",
     "text": [
      "Epoch: 100%|██████████| 20/20 [00:31<00:00,  1.56s/it, loss=1.9, reg=tensor(0.1708, device='cuda:0', grad_fn=<AddBackward0>)] \n"
     ]
    },
    {
     "name": "stdout",
     "output_type": "stream",
     "text": [
      "Worst class accuracy = 0.2164 for class 5\n",
      "========== Training model with method r3 restart 0 and mask ratio 0.2 ==========\n"
     ]
    },
    {
     "name": "stderr",
     "output_type": "stream",
     "text": [
      "Epoch: 100%|██████████| 20/20 [00:30<00:00,  1.53s/it, loss=1.94, reg=tensor(0.1402, device='cuda:0', grad_fn=<AddBackward0>)]\n"
     ]
    },
    {
     "name": "stdout",
     "output_type": "stream",
     "text": [
      "========== Training model with method r3 restart 1 and mask ratio 0.2 ==========\n"
     ]
    },
    {
     "name": "stderr",
     "output_type": "stream",
     "text": [
      "Epoch: 100%|██████████| 20/20 [00:29<00:00,  1.50s/it, loss=1.89, reg=tensor(0.1419, device='cuda:0', grad_fn=<AddBackward0>)]\n"
     ]
    },
    {
     "name": "stdout",
     "output_type": "stream",
     "text": [
      "========== Training model with method r3 restart 2 and mask ratio 0.2 ==========\n"
     ]
    },
    {
     "name": "stderr",
     "output_type": "stream",
     "text": [
      "Epoch: 100%|██████████| 20/20 [00:28<00:00,  1.45s/it, loss=1.9, reg=tensor(0.1435, device='cuda:0', grad_fn=<AddBackward0>)] \n"
     ]
    },
    {
     "name": "stdout",
     "output_type": "stream",
     "text": [
      "========== Training model with method r3 restart 3 and mask ratio 0.2 ==========\n"
     ]
    },
    {
     "name": "stderr",
     "output_type": "stream",
     "text": [
      "Epoch: 100%|██████████| 20/20 [00:26<00:00,  1.35s/it, loss=1.9, reg=tensor(0.1708, device='cuda:0', grad_fn=<AddBackward0>)] \n"
     ]
    },
    {
     "name": "stdout",
     "output_type": "stream",
     "text": [
      "Worst class accuracy = 0.2164 for class 5\n",
      "========== Training model with method r3 restart 0 and mask ratio 0 ==========\n"
     ]
    },
    {
     "name": "stderr",
     "output_type": "stream",
     "text": [
      "Epoch: 100%|██████████| 20/20 [00:29<00:00,  1.46s/it, loss=1.94, reg=tensor(0.1402, device='cuda:0', grad_fn=<AddBackward0>)]\n"
     ]
    },
    {
     "name": "stdout",
     "output_type": "stream",
     "text": [
      "========== Training model with method r3 restart 1 and mask ratio 0 ==========\n"
     ]
    },
    {
     "name": "stderr",
     "output_type": "stream",
     "text": [
      "Epoch: 100%|██████████| 20/20 [00:29<00:00,  1.49s/it, loss=1.89, reg=tensor(0.1419, device='cuda:0', grad_fn=<AddBackward0>)]\n"
     ]
    },
    {
     "name": "stdout",
     "output_type": "stream",
     "text": [
      "========== Training model with method r3 restart 2 and mask ratio 0 ==========\n"
     ]
    },
    {
     "name": "stderr",
     "output_type": "stream",
     "text": [
      "Epoch: 100%|██████████| 20/20 [00:31<00:00,  1.57s/it, loss=1.9, reg=tensor(0.1435, device='cuda:0', grad_fn=<AddBackward0>)] \n"
     ]
    },
    {
     "name": "stdout",
     "output_type": "stream",
     "text": [
      "========== Training model with method r3 restart 3 and mask ratio 0 ==========\n"
     ]
    },
    {
     "name": "stderr",
     "output_type": "stream",
     "text": [
      "Epoch: 100%|██████████| 20/20 [00:36<00:00,  1.81s/it, loss=1.9, reg=tensor(0.1708, device='cuda:0', grad_fn=<AddBackward0>)] \n"
     ]
    },
    {
     "name": "stdout",
     "output_type": "stream",
     "text": [
      "Worst class accuracy = 0.2164 for class 5\n",
      "========== Training model with method r4 restart 0 and mask ratio 1.0 ==========\n"
     ]
    },
    {
     "name": "stderr",
     "output_type": "stream",
     "text": [
      "Epoch: 100%|██████████| 25/25 [00:46<00:00,  1.88s/it, loss=1.49, reg=tensor(0., device='cuda:0', grad_fn=<DivBackward0>)]\n"
     ]
    },
    {
     "name": "stdout",
     "output_type": "stream",
     "text": [
      "========== Training model with method r4 restart 1 and mask ratio 1.0 ==========\n"
     ]
    },
    {
     "name": "stderr",
     "output_type": "stream",
     "text": [
      "Epoch: 100%|██████████| 25/25 [00:47<00:00,  1.88s/it, loss=1.47, reg=tensor(0., device='cuda:0', grad_fn=<DivBackward0>)]\n"
     ]
    },
    {
     "name": "stdout",
     "output_type": "stream",
     "text": [
      "========== Training model with method r4 restart 2 and mask ratio 1.0 ==========\n"
     ]
    },
    {
     "name": "stderr",
     "output_type": "stream",
     "text": [
      "Epoch: 100%|██████████| 25/25 [00:46<00:00,  1.86s/it, loss=1.58, reg=tensor(0., device='cuda:0', grad_fn=<DivBackward0>)]\n"
     ]
    },
    {
     "name": "stdout",
     "output_type": "stream",
     "text": [
      "========== Training model with method r4 restart 3 and mask ratio 1.0 ==========\n"
     ]
    },
    {
     "name": "stderr",
     "output_type": "stream",
     "text": [
      "Epoch: 100%|██████████| 25/25 [00:46<00:00,  1.87s/it, loss=1.58, reg=tensor(0., device='cuda:0', grad_fn=<DivBackward0>)]\n"
     ]
    },
    {
     "name": "stdout",
     "output_type": "stream",
     "text": [
      "Worst class accuracy = 0.2039 for class 9\n",
      "========== Training model with method r4 restart 0 and mask ratio 0.8 ==========\n"
     ]
    },
    {
     "name": "stderr",
     "output_type": "stream",
     "text": [
      "Epoch: 100%|██████████| 25/25 [00:37<00:00,  1.50s/it, loss=1.49, reg=tensor(0., device='cuda:0', grad_fn=<DivBackward0>)]\n"
     ]
    },
    {
     "name": "stdout",
     "output_type": "stream",
     "text": [
      "========== Training model with method r4 restart 1 and mask ratio 0.8 ==========\n"
     ]
    },
    {
     "name": "stderr",
     "output_type": "stream",
     "text": [
      "Epoch: 100%|██████████| 25/25 [00:40<00:00,  1.61s/it, loss=1.47, reg=tensor(0., device='cuda:0', grad_fn=<DivBackward0>)]\n"
     ]
    },
    {
     "name": "stdout",
     "output_type": "stream",
     "text": [
      "========== Training model with method r4 restart 2 and mask ratio 0.8 ==========\n"
     ]
    },
    {
     "name": "stderr",
     "output_type": "stream",
     "text": [
      "Epoch: 100%|██████████| 25/25 [00:40<00:00,  1.64s/it, loss=1.58, reg=tensor(0., device='cuda:0', grad_fn=<DivBackward0>)]\n"
     ]
    },
    {
     "name": "stdout",
     "output_type": "stream",
     "text": [
      "========== Training model with method r4 restart 3 and mask ratio 0.8 ==========\n"
     ]
    },
    {
     "name": "stderr",
     "output_type": "stream",
     "text": [
      "Epoch: 100%|██████████| 25/25 [00:40<00:00,  1.60s/it, loss=1.58, reg=tensor(0., device='cuda:0', grad_fn=<DivBackward0>)]\n"
     ]
    },
    {
     "name": "stdout",
     "output_type": "stream",
     "text": [
      "Worst class accuracy = 0.2039 for class 9\n",
      "========== Training model with method r4 restart 0 and mask ratio 0.6 ==========\n"
     ]
    },
    {
     "name": "stderr",
     "output_type": "stream",
     "text": [
      "Epoch: 100%|██████████| 25/25 [00:39<00:00,  1.59s/it, loss=1.49, reg=tensor(0., device='cuda:0', grad_fn=<DivBackward0>)]\n"
     ]
    },
    {
     "name": "stdout",
     "output_type": "stream",
     "text": [
      "========== Training model with method r4 restart 1 and mask ratio 0.6 ==========\n"
     ]
    },
    {
     "name": "stderr",
     "output_type": "stream",
     "text": [
      "Epoch: 100%|██████████| 25/25 [00:39<00:00,  1.60s/it, loss=1.47, reg=tensor(0., device='cuda:0', grad_fn=<DivBackward0>)]\n"
     ]
    },
    {
     "name": "stdout",
     "output_type": "stream",
     "text": [
      "========== Training model with method r4 restart 2 and mask ratio 0.6 ==========\n"
     ]
    },
    {
     "name": "stderr",
     "output_type": "stream",
     "text": [
      "Epoch: 100%|██████████| 25/25 [00:38<00:00,  1.53s/it, loss=1.58, reg=tensor(0., device='cuda:0', grad_fn=<DivBackward0>)]\n"
     ]
    },
    {
     "name": "stdout",
     "output_type": "stream",
     "text": [
      "========== Training model with method r4 restart 3 and mask ratio 0.6 ==========\n"
     ]
    },
    {
     "name": "stderr",
     "output_type": "stream",
     "text": [
      "Epoch: 100%|██████████| 25/25 [00:37<00:00,  1.51s/it, loss=1.58, reg=tensor(0., device='cuda:0', grad_fn=<DivBackward0>)]\n"
     ]
    },
    {
     "name": "stdout",
     "output_type": "stream",
     "text": [
      "Worst class accuracy = 0.2039 for class 9\n",
      "========== Training model with method r4 restart 0 and mask ratio 0.4 ==========\n"
     ]
    },
    {
     "name": "stderr",
     "output_type": "stream",
     "text": [
      "Epoch: 100%|██████████| 25/25 [00:38<00:00,  1.53s/it, loss=1.49, reg=tensor(0., device='cuda:0', grad_fn=<DivBackward0>)]\n"
     ]
    },
    {
     "name": "stdout",
     "output_type": "stream",
     "text": [
      "========== Training model with method r4 restart 1 and mask ratio 0.4 ==========\n"
     ]
    },
    {
     "name": "stderr",
     "output_type": "stream",
     "text": [
      "Epoch: 100%|██████████| 25/25 [00:38<00:00,  1.56s/it, loss=1.47, reg=tensor(0., device='cuda:0', grad_fn=<DivBackward0>)]\n"
     ]
    },
    {
     "name": "stdout",
     "output_type": "stream",
     "text": [
      "========== Training model with method r4 restart 2 and mask ratio 0.4 ==========\n"
     ]
    },
    {
     "name": "stderr",
     "output_type": "stream",
     "text": [
      "Epoch: 100%|██████████| 25/25 [00:38<00:00,  1.55s/it, loss=1.58, reg=tensor(0., device='cuda:0', grad_fn=<DivBackward0>)]\n"
     ]
    },
    {
     "name": "stdout",
     "output_type": "stream",
     "text": [
      "========== Training model with method r4 restart 3 and mask ratio 0.4 ==========\n"
     ]
    },
    {
     "name": "stderr",
     "output_type": "stream",
     "text": [
      "Epoch: 100%|██████████| 25/25 [00:38<00:00,  1.56s/it, loss=1.58, reg=tensor(0., device='cuda:0', grad_fn=<DivBackward0>)]\n"
     ]
    },
    {
     "name": "stdout",
     "output_type": "stream",
     "text": [
      "Worst class accuracy = 0.2039 for class 9\n",
      "========== Training model with method r4 restart 0 and mask ratio 0.2 ==========\n"
     ]
    },
    {
     "name": "stderr",
     "output_type": "stream",
     "text": [
      "Epoch: 100%|██████████| 25/25 [00:38<00:00,  1.55s/it, loss=1.49, reg=tensor(0., device='cuda:0', grad_fn=<DivBackward0>)]\n"
     ]
    },
    {
     "name": "stdout",
     "output_type": "stream",
     "text": [
      "========== Training model with method r4 restart 1 and mask ratio 0.2 ==========\n"
     ]
    },
    {
     "name": "stderr",
     "output_type": "stream",
     "text": [
      "Epoch: 100%|██████████| 25/25 [00:38<00:00,  1.54s/it, loss=1.47, reg=tensor(0., device='cuda:0', grad_fn=<DivBackward0>)]\n"
     ]
    },
    {
     "name": "stdout",
     "output_type": "stream",
     "text": [
      "========== Training model with method r4 restart 2 and mask ratio 0.2 ==========\n"
     ]
    },
    {
     "name": "stderr",
     "output_type": "stream",
     "text": [
      "Epoch: 100%|██████████| 25/25 [00:38<00:00,  1.54s/it, loss=1.58, reg=tensor(0., device='cuda:0', grad_fn=<DivBackward0>)]\n"
     ]
    },
    {
     "name": "stdout",
     "output_type": "stream",
     "text": [
      "========== Training model with method r4 restart 3 and mask ratio 0.2 ==========\n"
     ]
    },
    {
     "name": "stderr",
     "output_type": "stream",
     "text": [
      "Epoch: 100%|██████████| 25/25 [00:38<00:00,  1.56s/it, loss=1.58, reg=tensor(0., device='cuda:0', grad_fn=<DivBackward0>)]\n"
     ]
    },
    {
     "name": "stdout",
     "output_type": "stream",
     "text": [
      "Worst class accuracy = 0.2039 for class 9\n",
      "========== Training model with method r4 restart 0 and mask ratio 0 ==========\n"
     ]
    },
    {
     "name": "stderr",
     "output_type": "stream",
     "text": [
      "Epoch: 100%|██████████| 25/25 [00:38<00:00,  1.55s/it, loss=1.49, reg=tensor(0., device='cuda:0', grad_fn=<DivBackward0>)]\n"
     ]
    },
    {
     "name": "stdout",
     "output_type": "stream",
     "text": [
      "========== Training model with method r4 restart 1 and mask ratio 0 ==========\n"
     ]
    },
    {
     "name": "stderr",
     "output_type": "stream",
     "text": [
      "Epoch: 100%|██████████| 25/25 [00:38<00:00,  1.55s/it, loss=1.47, reg=tensor(0., device='cuda:0', grad_fn=<DivBackward0>)]\n"
     ]
    },
    {
     "name": "stdout",
     "output_type": "stream",
     "text": [
      "========== Training model with method r4 restart 2 and mask ratio 0 ==========\n"
     ]
    },
    {
     "name": "stderr",
     "output_type": "stream",
     "text": [
      "Epoch: 100%|██████████| 25/25 [00:37<00:00,  1.51s/it, loss=1.58, reg=tensor(0., device='cuda:0', grad_fn=<DivBackward0>)]\n"
     ]
    },
    {
     "name": "stdout",
     "output_type": "stream",
     "text": [
      "========== Training model with method r4 restart 3 and mask ratio 0 ==========\n"
     ]
    },
    {
     "name": "stderr",
     "output_type": "stream",
     "text": [
      "Epoch: 100%|██████████| 25/25 [00:38<00:00,  1.54s/it, loss=1.58, reg=tensor(0., device='cuda:0', grad_fn=<DivBackward0>)]\n"
     ]
    },
    {
     "name": "stdout",
     "output_type": "stream",
     "text": [
      "Worst class accuracy = 0.2039 for class 9\n"
     ]
    }
   ],
   "source": [
    "mask_ratios = [1.0, 0.8, 0.6, 0.4, 0.2, 0]\n",
    "methods = [\"rand_r4\", \"ibp_ex+r3\", \"r3\", \"r4\"]\n",
    "sc_save_dir = \"saved_experiment_models/mask/decoy_mnist/\"\n",
    "for method in methods:\n",
    "    # Load the params\n",
    "    params_dict = load_params_or_results_from_file(\"experiment_results/decoy_mnist_params.yaml\", method)\n",
    "    delta_threshold = params_dict[\"delta_threshold\"]\n",
    "    epsilon = params_dict[\"epsilon\"]\n",
    "    k = params_dict[\"k\"]\n",
    "    weight_coeff = params_dict[\"weight_coeff\"]\n",
    "    num_epochs = params_dict[\"num_epochs\"]\n",
    "    lr = params_dict[\"lr\"]\n",
    "    restarts = params_dict[\"restarts\"]\n",
    "    for mask_ratio in mask_ratios:\n",
    "        new_dl_train = decoy_mnist.remove_masks(mask_ratio, dl_masks_train)\n",
    "        train_acc, test_acc, num_robust, min_robust_delta, min_lower_bound, max_upper_bound = 0, 0, 0, 1e+8, 0, 0\n",
    "        method_ratio_path = os.path.join(sc_save_dir, method, f\"mask_ratio_{int(mask_ratio * 100)}\")\n",
    "        os.makedirs(method_ratio_path, exist_ok=True)\n",
    "        for i in range(restarts):\n",
    "            # Reinitialize the model\n",
    "            # We could try to just reinitialize the weights, but we can throw away the previous model for now as we do not need it\n",
    "            torch.manual_seed(i + SEED)\n",
    "            curr_model = FCNAugmented(*ARCH)\n",
    "\n",
    "            print(f\"========== Training model with method {method} restart {i} and mask ratio {mask_ratio} ==========\")\n",
    "            k_schedule = uniformize_magnitudes_schedule if method == \"r3\" else None\n",
    "            if method in [\"rand_r4\", \"rand_r4_pmo\", \"smooth_r3\"]:\n",
    "                train_model_with_smoothed_input_grad(new_dl_train, num_epochs, curr_model, lr, criterion, epsilon, method,\n",
    "                    k, device, weight_reg_coeff=weight_coeff)\n",
    "            elif method in [\"pgd_r4\", \"pgd_r4_pmo\"]:\n",
    "                train_model_with_pgd_robust_input_grad(new_dl_train, num_epochs, curr_model, lr, criterion, epsilon, method,\n",
    "                    k, device, weight_coeff)\n",
    "            else:\n",
    "                train_model_with_certified_input_grad(new_dl_train, num_epochs, curr_model, lr, criterion, epsilon, method,\n",
    "                    k, device, False, weight_reg_coeff=weight_coeff, k_schedule=k_schedule)\n",
    "            train_acc += test_model_accuracy(curr_model, new_dl_train, device, multi_class=True, suppress_log=True)\n",
    "            test_acc += test_model_accuracy(curr_model, dl_masks_test, device, multi_class=True, suppress_log=True)\n",
    "            n_r, min_delta, m_l, m_u = test_delta_input_robustness(dl_masks_test, curr_model, epsilon, delta_threshold,\n",
    "                \"cross_entropy\", device, suppress_log=True)\n",
    "            num_robust += n_r\n",
    "            min_robust_delta += min_delta\n",
    "            min_lower_bound += m_l\n",
    "            max_upper_bound += m_u\n",
    "            torch.save(curr_model.state_dict(), os.path.join(method_ratio_path, f\"run_{i}.pt\"))\n",
    "        wg_acc, wg = worst_group_acc(curr_model, dl_masks_test, device, 10, method_ratio_path)\n",
    "        write_results_to_file(\"experiment_results/decoy_mnist_sample_complexity.yaml\",\n",
    "                            {\"train_acc\": round(train_acc / restarts, 4),\n",
    "                             \"test_acc\": round(test_acc / restarts, 4),\n",
    "                             \"num_robust\": round(num_robust / restarts, 4),\n",
    "                             \"min_lower_bound\": round(min_lower_bound / restarts, 4),\n",
    "                             \"max_upper_bound\": round(max_upper_bound / restarts, 4),\n",
    "                             \"min_robust_delta\": round(min_robust_delta / restarts, 4)}, method + f\"_{int(mask_ratio * 100)}\")"
   ]
  },
  {
   "cell_type": "code",
   "execution_count": null,
   "metadata": {},
   "outputs": [],
   "source": []
  }
 ],
 "metadata": {
  "kernelspec": {
   "display_name": "fypvenv",
   "language": "python",
   "name": "python3"
  },
  "language_info": {
   "codemirror_mode": {
    "name": "ipython",
    "version": 3
   },
   "file_extension": ".py",
   "mimetype": "text/x-python",
   "name": "python",
   "nbconvert_exporter": "python",
   "pygments_lexer": "ipython3",
   "version": "3.10.12"
  }
 },
 "nbformat": 4,
 "nbformat_minor": 2
}

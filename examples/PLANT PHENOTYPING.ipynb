{
 "cells": [
  {
   "cell_type": "markdown",
   "metadata": {},
   "source": [
    "# R4 on Plant Phenotyping Dataset"
   ]
  },
  {
   "cell_type": "code",
   "execution_count": 1,
   "metadata": {},
   "outputs": [],
   "source": [
    "%load_ext autoreload\n",
    "%autoreload 2\n",
    "import torch\n",
    "import tqdm\n",
    "import matplotlib.pyplot as plt\n",
    "import os\n",
    "import sys\n",
    "sys.path.append(os.path.abspath('..'))\n",
    "from models.R4_models import PlantNet\n",
    "from models.robust_regularizer import input_gradient_interval_regularizer\n",
    "from models.pipeline import (train_model_with_pgd_robust_input_grad, train_model_with_certified_input_grad,\n",
    "                             test_model_accuracy, test_delta_input_robustness, write_results_to_file,\n",
    "                             load_params_or_results_from_file, uniformize_magnitudes_schedule)\n",
    "from datasets import plant\n",
    "from metrics import worst_group_acc"
   ]
  },
  {
   "cell_type": "markdown",
   "metadata": {},
   "source": [
    "# Get the dataloaders "
   ]
  },
  {
   "cell_type": "code",
   "execution_count": 2,
   "metadata": {},
   "outputs": [
    {
     "name": "stdout",
     "output_type": "stream",
     "text": [
      "cuda:1\n"
     ]
    }
   ],
   "source": [
    "CUDA_LAUNCH_BLOCKING=1\n",
    "SEED = 0\n",
    "device = torch.device(\"cuda:1\" if torch.cuda.is_available() else \"cpu\")\n",
    "print(device)\n",
    "torch.manual_seed(SEED)\n",
    "batch_size = 50\n",
    "test_batch_size = 10"
   ]
  },
  {
   "cell_type": "code",
   "execution_count": 3,
   "metadata": {},
   "outputs": [],
   "source": [
    "SPLIT_ROOT = \"/vol/bitbucket/mg2720/plant/rgb_dataset_splits\"\n",
    "DATA_ROOT = \"/vol/bitbucket/mg2720/plant/rgb_data\"\n",
    "MASKS_FILE = \"/vol/bitbucket/mg2720/plant/mask/preprocessed_masks.pyu\"\n",
    "\n",
    "plant_train_2 = plant.PlantDataset(SPLIT_ROOT, DATA_ROOT, MASKS_FILE, 2, True)\n",
    "plant_test_2 = plant.PlantDataset(SPLIT_ROOT, DATA_ROOT, MASKS_FILE, 2, False)\n",
    "num_neg, num_pos = (plant_train_2.data_labels == 0).sum(), (plant_train_2.data_labels == 1).sum()\n",
    "class_weights = [1.75 * num_pos / num_neg, 0.75]"
   ]
  },
  {
   "cell_type": "code",
   "execution_count": 4,
   "metadata": {},
   "outputs": [],
   "source": [
    "dl_train = plant.get_dataloader(plant_train_2, batch_size)\n",
    "dl_test = plant.get_dataloader(plant_test_2, test_batch_size)"
   ]
  },
  {
   "cell_type": "code",
   "execution_count": 5,
   "metadata": {},
   "outputs": [],
   "source": [
    "def visualize_gradient(model, batch_input, batch_labels, batch_mask, epsilon, elem_idx, has_conv, curr_device):\n",
    "    channel_to_view = 1\n",
    "    batch_input, batch_labels, batch_mask = batch_input.to(curr_device), batch_labels.to(curr_device), batch_mask.to(curr_device)\n",
    "    model.to(curr_device)\n",
    "    grad_bounds = input_gradient_interval_regularizer(\n",
    "        model, batch_input, batch_labels, \"binary_cross_entropy\", epsilon, 0.0, return_grads=True, regularizer_type=\"r4\",\n",
    "        batch_masks=batch_mask, has_conv=has_conv, device=curr_device\n",
    "    )\n",
    "    dx_l, dx_u = grad_bounds[1]\n",
    "    dx_n, _ = grad_bounds[0]\n",
    "    print(f\"input lower bound shape: {dx_l.shape}\")\n",
    "    print(f\"input upper bound shape: {dx_u.shape}\")\n",
    "    print(f\"input gradient shape: {dx_n.shape}\")\n",
    "    fig, ax = plt.subplots(3, 2, figsize=(14, 13))\n",
    "    lesion = batch_input[elem_idx].permute(1, 2, 0).cpu().numpy()\n",
    "    mask = batch_mask[elem_idx].permute(1, 2, 0).cpu().numpy()\n",
    "    # choose only 1 channel gradient to view, because with 3 channels, the bounds do not represent rgb values\n",
    "    dx_l_view, dx_u_view, dx_n_view = dx_l[elem_idx][channel_to_view].squeeze(), dx_u[elem_idx][channel_to_view].squeeze(), dx_n[elem_idx][channel_to_view].squeeze()\n",
    "    ax[0][0].imshow(lesion)\n",
    "    ax[0][0].set_title(f\"Input at index {elem_idx}\")\n",
    "    im_mask = ax[0][1].imshow(mask, cmap='gray')\n",
    "    ax[0][1].set_title(f\"Mask at index {elem_idx}\")\n",
    "    fig.colorbar(im_mask, ax=ax[0][1])\n",
    "    im_dx_l = ax[1][0].imshow(dx_l_view.cpu().detach().numpy())\n",
    "    ax[1][0].set_title(f\"Lower bound of gradient at index {elem_idx}\")\n",
    "    fig.colorbar(im_dx_l, ax=ax[1][0])\n",
    "    im_dx_u = ax[1][1].imshow(dx_u_view.cpu().detach().numpy())\n",
    "    ax[1][1].set_title(f\"Upper bound of gradient at index {elem_idx}\")\n",
    "    cbu = fig.colorbar(im_dx_u, ax=ax[1][1])\n",
    "    cbu.ax.invert_yaxis()\n",
    "    im_dx_n = ax[2][0].imshow(dx_n_view.cpu().detach().numpy())\n",
    "    ax[2][0].set_title(f\"Gradient at index {elem_idx}\")\n",
    "    fig.colorbar(im_dx_n, ax=ax[2][0])"
   ]
  },
  {
   "cell_type": "code",
   "execution_count": 6,
   "metadata": {},
   "outputs": [
    {
     "name": "stdout",
     "output_type": "stream",
     "text": [
      "[0, 1]\n"
     ]
    }
   ],
   "source": [
    "epsilon = 0.01\n",
    "model = PlantNet(3, 1)\n",
    "criterion = torch.nn.BCELoss()\n",
    "gpu_ids = [i for i in range(torch.cuda.device_count())]\n",
    "print(gpu_ids)\n",
    "model = torch.nn.DataParallel(model, device_ids=gpu_ids)\n",
    "model = model.to(device)"
   ]
  },
  {
   "cell_type": "code",
   "execution_count": 7,
   "metadata": {},
   "outputs": [
    {
     "name": "stdout",
     "output_type": "stream",
     "text": [
      "18\n",
      "Batch input shape: torch.Size([50, 3, 213, 213]), batch mask shape: torch.Size([50, 3, 213, 213])\n"
     ]
    }
   ],
   "source": [
    "idx_to_visualize = torch.randint(0, batch_size, (1,)).item()\n",
    "print(idx_to_visualize)\n",
    "init_batch_train_with_masks = next(iter(dl_train))\n",
    "print(f\"Batch input shape: {init_batch_train_with_masks[0].shape}, batch mask shape: {init_batch_train_with_masks[2].shape}\")\n",
    "# visualize_gradient(model, *init_batch_train_with_masks, epsilon, idx_to_visualize, True, device)"
   ]
  },
  {
   "cell_type": "markdown",
   "metadata": {},
   "source": [
    "## Experiments "
   ]
  },
  {
   "cell_type": "code",
   "execution_count": 8,
   "metadata": {},
   "outputs": [],
   "source": [
    "DELTA_INPUT_ROBUSTNESS_PARAM = 1\n",
    "model_root_save_dir = \"saved_experiment_models/performance/plant\"\n",
    "os.makedirs(model_root_save_dir, exist_ok=True)\n",
    "methods = [\"std\", \"r3\", \"r4\", \"ibp_ex\", \"ibp_ex+r3\"]\n",
    "save_dir_for_method = {method: os.path.join(model_root_save_dir, method) for method in methods}\n",
    "for method in methods:\n",
    "    os.makedirs(save_dir_for_method[method], exist_ok=True)"
   ]
  },
  {
   "cell_type": "markdown",
   "metadata": {},
   "source": [
    "### Standard Training"
   ]
  },
  {
   "cell_type": "code",
   "execution_count": null,
   "metadata": {},
   "outputs": [],
   "source": [
    "std_method = \"std\"\n",
    "# Hyperparameters\n",
    "num_epochs, lr, restarts, epsilon, k, weight_coeff = 7, 1e-3, 3, 0.1, 0.2, -1\n",
    "# k is a coefficient for the regularization term\n",
    "train_acc, test_acc, num_robust, min_robust_delta, min_lower_bound, max_upper_bound = 0, 0, 0, 1e+8, 0, 0\n",
    "for i in range(restarts):\n",
    "    # Reinitialize the model\n",
    "    # We could try to just reinitialize the weights, but we can throw away the previous model for now as we do not need it\n",
    "    torch.manual_seed(i + SEED)\n",
    "    curr_model = PlantNet(3, 1)\n",
    "    print(f\"========== Training model with method {std_method} restart {i} ==========\")\n",
    "    train_model_with_certified_input_grad(dl_train, num_epochs, curr_model, lr, criterion, epsilon, std_method, k, device, True)\n",
    "    print(\"Testing model accuracy for the training set\")\n",
    "    train_acc += test_model_accuracy(curr_model, dl_train, device)\n",
    "    print(\"Testing model accuracy for the test set\")\n",
    "    test_acc += test_model_accuracy(curr_model, dl_test, device)\n",
    "    n_r, min_delta, m_l, m_u = test_delta_input_robustness(dl_test, curr_model, epsilon, DELTA_INPUT_ROBUSTNESS_PARAM,\n",
    "                                                 \"binary_cross_entropy\", device, has_conv=True)\n",
    "    num_robust += num_robust\n",
    "    min_robust_delta = min(min_robust_delta, min_delta)\n",
    "    min_lower_bound += m_l\n",
    "    max_upper_bound += m_u\n",
    "    torch.save(curr_model.state_dict(), os.path.join(save_dir_for_method[std_method], f\"run_{i}.pt\"))\n",
    "write_results_to_file(\"experiment_results/plant.yaml\",\n",
    "                      {\"train_acc\": round(train_acc / restarts, 3),\n",
    "                       \"test_acc\": round(test_acc / restarts, 3),\n",
    "                       \"num_robust\": round(num_robust / restarts, 3),\n",
    "                       \"min_lower_bound\": round(min_lower_bound / restarts, 3),\n",
    "                       \"max_upper_bound\": round(max_upper_bound / restarts, 3),\n",
    "                       \"min_robust_delta\": min_robust_delta}, std_method)\n",
    "write_results_to_file(\"experiment_results/plant_params.yaml\",\n",
    "                        {\"epsilon\": epsilon,\n",
    "                         \"k\": k,\n",
    "                         \"weight_coeff\": weight_coeff,\n",
    "                         \"num_epochs\": num_epochs,\n",
    "                         \"lr\": lr,\n",
    "                         \"restarts\": restarts,\n",
    "                         \"delta_threshold\": DELTA_INPUT_ROBUSTNESS_PARAM}, std_method)"
   ]
  },
  {
   "cell_type": "markdown",
   "metadata": {},
   "source": [
    "### RRR Training"
   ]
  },
  {
   "cell_type": "code",
   "execution_count": null,
   "metadata": {},
   "outputs": [
    {
     "name": "stdout",
     "output_type": "stream",
     "text": [
      "shape of new masks: torch.Size([1806, 3, 213, 213])\n",
      "========== Training model with method r3, restart 0 ==========\n"
     ]
    },
    {
     "name": "stderr",
     "output_type": "stream",
     "text": [
      "Epoch: 100%|██████████| 10/10 [07:10<00:00, 43.08s/it, loss=0.752, reg=tensor(3.3409, device='cuda:1', grad_fn=<AddBackward0>)]\n"
     ]
    },
    {
     "name": "stdout",
     "output_type": "stream",
     "text": [
      "Testing model accuracy for the training set\n",
      "--- Model accuracy ---\n",
      "Nominal = 0.69\n",
      "Testing model accuracy for the test set\n",
      "--- Model accuracy ---\n",
      "Nominal = 0.65\n",
      "--- Delta input robustness ---\n",
      "Delta Input Robustness = 0\n",
      "--- Mininimum delta for which the test set is certifiably 1-delta-input-robust ---\n",
      "Min robust delta = 171\n",
      "========== Training model with method r3, restart 1 ==========\n"
     ]
    },
    {
     "name": "stderr",
     "output_type": "stream",
     "text": [
      "Epoch: 100%|██████████| 10/10 [07:09<00:00, 42.97s/it, loss=0.802, reg=tensor(4.4217, device='cuda:1', grad_fn=<AddBackward0>)]\n"
     ]
    },
    {
     "name": "stdout",
     "output_type": "stream",
     "text": [
      "Testing model accuracy for the training set\n",
      "--- Model accuracy ---\n",
      "Nominal = 0.76\n",
      "Testing model accuracy for the test set\n",
      "--- Model accuracy ---\n",
      "Nominal = 0.7\n",
      "--- Delta input robustness ---\n",
      "Delta Input Robustness = 0\n",
      "--- Mininimum delta for which the test set is certifiably 1-delta-input-robust ---\n",
      "Min robust delta = 129\n",
      "========== Training model with method r3, restart 2 ==========\n"
     ]
    },
    {
     "name": "stderr",
     "output_type": "stream",
     "text": [
      "Epoch: 100%|██████████| 10/10 [07:09<00:00, 42.96s/it, loss=0.775, reg=tensor(3.6113, device='cuda:1', grad_fn=<AddBackward0>)]\n"
     ]
    },
    {
     "name": "stdout",
     "output_type": "stream",
     "text": [
      "Testing model accuracy for the training set\n",
      "--- Model accuracy ---\n",
      "Nominal = 0.7\n",
      "Testing model accuracy for the test set\n",
      "--- Model accuracy ---\n",
      "Nominal = 0.69\n",
      "--- Delta input robustness ---\n",
      "Delta Input Robustness = 0\n",
      "--- Mininimum delta for which the test set is certifiably 1-delta-input-robust ---\n",
      "Min robust delta = 184\n",
      "Worst class accuracy = 0.6019 for class 1\n"
     ]
    }
   ],
   "source": [
    "# Train standard 3 times and test accuracy and delta input robustness for the masked region\n",
    "rrr_method = \"r3\"\n",
    "# hyperparams\n",
    "num_epochs, lr, restarts, epsilon, weight_coeff, k = 10, 3e-4, 3, 0.01, 0.004, 0.03\n",
    "alpha = 0.2\n",
    "train_acc, test_acc, num_robust, min_robust_delta, min_lower_bound, max_upper_bound = 0, 0, 0, 1e+8, 0, 0\n",
    "soft_train_r3 = plant.make_soft_masks(dl_train, alpha)\n",
    "for i in range(restarts):\n",
    "    # Reinitialize the model\n",
    "    # We could try to just reinitialize the weights, but we can throw away the previous model for now as we do not need it\n",
    "    torch.manual_seed(i + SEED)\n",
    "    curr_model = PlantNet(3, 1)\n",
    "\n",
    "    print(f\"========== Training model with method {rrr_method}, restart {i} ==========\")\n",
    "    train_model_with_certified_input_grad(soft_train_r3, num_epochs, curr_model, lr, criterion, epsilon, rrr_method,\n",
    "        k, device, True, weight_reg_coeff=weight_coeff, class_weights=class_weights)\n",
    "    print(\"Testing model accuracy for the training set\")\n",
    "    train_acc += test_model_accuracy(curr_model, soft_train_r3, device)\n",
    "    print(\"Testing model accuracy for the test set\")\n",
    "    test_acc += test_model_accuracy(curr_model, dl_test, device)\n",
    "    n_r, min_delta, m_l, m_u = test_delta_input_robustness(dl_test, curr_model, epsilon, DELTA_INPUT_ROBUSTNESS_PARAM,\n",
    "                                \"binary_cross_entropy\", device, has_conv=True)\n",
    "    num_robust += n_r\n",
    "    min_robust_delta = min(min_robust_delta, min_delta)\n",
    "    min_lower_bound += m_l\n",
    "    max_upper_bound += m_u\n",
    "    torch.save(curr_model.state_dict(), os.path.join(save_dir_for_method[rrr_method], f\"run_{i}.pt\"))\n",
    "empty_model = PlantNet(3, 1).to(device)\n",
    "wg_acc, wg = worst_group_acc(empty_model, dl_test, device, 2, save_dir_for_method[rrr_method])\n",
    "write_results_to_file(\"experiment_results/plant.yaml\",\n",
    "                      {\"train_acc\": round(train_acc / restarts, 3),\n",
    "                       \"test_acc\": round(test_acc / restarts, 3),\n",
    "                       \"num_robust\": round(num_robust / restarts, 3),\n",
    "                       \"worst_group_acc\": round(wg_acc, 4),\n",
    "                       \"worst_group\": wg,\n",
    "                       \"min_lower_bound\": round(min_lower_bound / restarts, 3),\n",
    "                       \"max_upper_bound\": round(max_upper_bound / restarts, 3),\n",
    "                       \"min_robust_delta\": min_robust_delta}, rrr_method)\n",
    "write_results_to_file(\"experiment_results/plant_params.yaml\",\n",
    "                      {\"epsilon\": epsilon,\n",
    "                       \"k\": k,\n",
    "                       \"weight_coeff\": weight_coeff,\n",
    "                       \"num_epochs\": num_epochs,\n",
    "                       \"lr\": lr,\n",
    "                       \"alpha_soft\": alpha,\n",
    "                       \"restarts\": restarts,\n",
    "                       \"delta_threshold\": DELTA_INPUT_ROBUSTNESS_PARAM}, rrr_method)"
   ]
  },
  {
   "cell_type": "markdown",
   "metadata": {},
   "source": [
    "### R4 Training"
   ]
  },
  {
   "cell_type": "code",
   "execution_count": null,
   "metadata": {},
   "outputs": [
    {
     "name": "stdout",
     "output_type": "stream",
     "text": [
      "shape of new masks: torch.Size([1806, 3, 213, 213])\n",
      "========== Training model with method r4, restart 0 ==========\n"
     ]
    },
    {
     "name": "stderr",
     "output_type": "stream",
     "text": [
      "Epoch: 100%|██████████| 14/14 [11:02<00:00, 47.31s/it, loss=1.27, reg=tensor(0.0028, device='cuda:1', grad_fn=<DivBackward0>)] \n"
     ]
    },
    {
     "name": "stdout",
     "output_type": "stream",
     "text": [
      "Testing model accuracy for the training set\n",
      "--- Model accuracy ---\n",
      "Nominal = 0.21\n",
      "Testing model accuracy for the test set\n",
      "--- Model accuracy ---\n",
      "Nominal = 0.21\n",
      "--- Delta input robustness ---\n",
      "Delta Input Robustness = 0\n",
      "--- Mininimum delta for which the test set is certifiably 1-delta-input-robust ---\n",
      "Min robust delta = 0.365\n",
      "Worst class accuracy = 0.7356 for class 1\n"
     ]
    }
   ],
   "source": [
    "# Train standard 3 times and test accuracy and delta input robustness for the masked region\n",
    "r4_method = \"r4\"\n",
    "# hyperparams\n",
    "num_epochs, lr, restarts, epsilon, weight_coeff, k, alpha = 14, 4e-4, 3, 0.01, -1, 0.03, 0.45\n",
    "train_acc, test_acc, num_robust, min_robust_delta, min_lower_bound, max_upper_bound = 0, 0, 0, 1e+8, 0, 0\n",
    "soft_train = plant.make_soft_masks(dl_train, alpha)\n",
    "for i in range(restarts):\n",
    "    # Reinitialize the model\n",
    "    # We could try to just reinitialize the weights, but we can throw away the previous model for now as we do not need it\n",
    "    torch.manual_seed(i + SEED)\n",
    "    curr_model = PlantNet(3, 1)\n",
    "\n",
    "    print(f\"========== Training model with method {r4_method}, restart {i} ==========\")\n",
    "    train_model_with_certified_input_grad(soft_train, num_epochs, curr_model, lr, criterion, epsilon, r4_method,\n",
    "        k, device, True, weight_reg_coeff=weight_coeff, class_weights=class_weights)\n",
    "    print(\"Testing model accuracy for the training set\")\n",
    "    train_acc += test_model_accuracy(curr_model, soft_train, device)\n",
    "    print(\"Testing model accuracy for the test set\")\n",
    "    test_acc += test_model_accuracy(curr_model, dl_test, device)\n",
    "    n_r, min_delta, m_l, m_u = test_delta_input_robustness(dl_test, curr_model, epsilon, DELTA_INPUT_ROBUSTNESS_PARAM,\n",
    "        \"binary_cross_entropy\", device, has_conv=True)\n",
    "    num_robust += n_r\n",
    "    min_robust_delta = min(min_robust_delta, min_delta)\n",
    "    min_lower_bound += m_l\n",
    "    max_upper_bound += m_u\n",
    "    torch.save(curr_model.state_dict(), os.path.join(save_dir_for_method[r4_method], f\"run_{i}.pt\"))\n",
    "empty_model = PlantNet(3, 1).to(device)\n",
    "wg_acc, wg = worst_group_acc(empty_model, dl_test, device, 2, save_dir_for_method[r4_method])\n",
    "write_results_to_file(\"experiment_results/plant.yaml\",\n",
    "                      {\"train_acc\": round(train_acc / restarts, 3),\n",
    "                       \"test_acc\": round(test_acc / restarts, 3),\n",
    "                       \"num_robust\": round(num_robust / restarts, 3),\n",
    "                       \"worst_group_acc\": round(wg_acc, 4),\n",
    "                       \"worst_group\": wg,\n",
    "                       \"min_lower_bound\": round(min_lower_bound / restarts, 3),\n",
    "                       \"max_upper_bound\": round(max_upper_bound / restarts, 3),\n",
    "                       \"min_robust_delta\": min_robust_delta}, r4_method)\n",
    "write_results_to_file(\"experiment_results/plant_params.yaml\",\n",
    "                      {\"epsilon\": epsilon,\n",
    "                       \"k\": k,\n",
    "                       \"weight_coeff\": weight_coeff,\n",
    "                       \"num_epochs\": num_epochs,\n",
    "                       \"lr\": lr,\n",
    "                       \"restarts\": restarts,\n",
    "                       \"delta_threshold\": DELTA_INPUT_ROBUSTNESS_PARAM,\n",
    "                       \"alpha_soft\": alpha}, r4_method)"
   ]
  },
  {
   "cell_type": "markdown",
   "metadata": {},
   "source": [
    "### IBP_EX Training"
   ]
  },
  {
   "cell_type": "code",
   "execution_count": 23,
   "metadata": {},
   "outputs": [
    {
     "name": "stdout",
     "output_type": "stream",
     "text": [
      "shape of new masks: torch.Size([1806, 3, 213, 213])\n",
      "========== Training model with method ibp_ex, restart 0 ==========\n"
     ]
    },
    {
     "name": "stderr",
     "output_type": "stream",
     "text": [
      "Epoch: 100%|██████████| 10/10 [03:59<00:00, 23.90s/it, loss=31.4, reg=tensor(76.4867, device='cuda:1', grad_fn=<AddBackward0>)]\n"
     ]
    },
    {
     "name": "stdout",
     "output_type": "stream",
     "text": [
      "Testing model accuracy for the training set\n",
      "--- Model accuracy ---\n",
      "Nominal = 0.84\n",
      "Testing model accuracy for the test set\n",
      "--- Model accuracy ---\n",
      "Nominal = 0.79\n",
      "--- Delta input robustness ---\n",
      "Delta Input Robustness = 0\n",
      "--- Mininimum delta for which the test set is certifiably 1-delta-input-robust ---\n",
      "Min robust delta = 99.6\n",
      "========== Training model with method ibp_ex, restart 1 ==========\n"
     ]
    },
    {
     "name": "stderr",
     "output_type": "stream",
     "text": [
      "Epoch: 100%|██████████| 10/10 [03:59<00:00, 23.93s/it, loss=31.3, reg=tensor(76.4508, device='cuda:1', grad_fn=<AddBackward0>)]\n"
     ]
    },
    {
     "name": "stdout",
     "output_type": "stream",
     "text": [
      "Testing model accuracy for the training set\n",
      "--- Model accuracy ---\n",
      "Nominal = 0.84\n",
      "Testing model accuracy for the test set\n",
      "--- Model accuracy ---\n",
      "Nominal = 0.76\n",
      "--- Delta input robustness ---\n",
      "Delta Input Robustness = 0\n",
      "--- Mininimum delta for which the test set is certifiably 1-delta-input-robust ---\n",
      "Min robust delta = 92.2\n",
      "========== Training model with method ibp_ex, restart 2 ==========\n"
     ]
    },
    {
     "name": "stderr",
     "output_type": "stream",
     "text": [
      "Epoch: 100%|██████████| 10/10 [03:59<00:00, 23.91s/it, loss=31.4, reg=tensor(76.4671, device='cuda:1', grad_fn=<AddBackward0>)]\n"
     ]
    },
    {
     "name": "stdout",
     "output_type": "stream",
     "text": [
      "Testing model accuracy for the training set\n",
      "--- Model accuracy ---\n",
      "Nominal = 0.86\n",
      "Testing model accuracy for the test set\n",
      "--- Model accuracy ---\n",
      "Nominal = 0.82\n",
      "--- Delta input robustness ---\n",
      "Delta Input Robustness = 0\n",
      "--- Mininimum delta for which the test set is certifiably 1-delta-input-robust ---\n",
      "Min robust delta = 96\n",
      "Worst class accuracy = 0.7356 for class 1\n"
     ]
    }
   ],
   "source": [
    "ibp_ex_method = \"ibp_ex\"\n",
    "# hyperparams\n",
    "num_epochs, lr, restarts, epsilon, weight_coeff, k, alpha = 10, 2e-4, 3, 0.01, 0.003, 0.4, 0.3\n",
    "train_acc, test_acc, num_robust, min_robust_delta, min_lower_bound, max_upper_bound = 0, 0, 0, 1e+8, 0, 0\n",
    "soft_train_ibp_ex = plant.make_soft_masks(dl_train, alpha)\n",
    "for i in range(restarts):\n",
    "    # Reinitialize the model\n",
    "    # We could try to just reinitialize the weights, but we can throw away the previous model for now as we do not need it\n",
    "    torch.manual_seed(i + SEED)\n",
    "    curr_model = PlantNet(3, 1)\n",
    "\n",
    "    print(f\"========== Training model with method {ibp_ex_method}, restart {i} ==========\")\n",
    "    train_model_with_certified_input_grad(soft_train_ibp_ex, num_epochs, curr_model, lr, criterion, epsilon,\n",
    "        ibp_ex_method, k, device, True, weight_reg_coeff=weight_coeff, class_weights=class_weights)\n",
    "    print(\"Testing model accuracy for the training set\")\n",
    "    train_acc += test_model_accuracy(curr_model, dl_train, device)\n",
    "    print(\"Testing model accuracy for the test set\")\n",
    "    test_acc += test_model_accuracy(curr_model, dl_test, device)\n",
    "    n_r, min_delta, m_l, m_u = test_delta_input_robustness(dl_test, curr_model, epsilon, DELTA_INPUT_ROBUSTNESS_PARAM,\n",
    "                                \"binary_cross_entropy\", device, has_conv=True)\n",
    "    num_robust += n_r\n",
    "    min_robust_delta = min(min_robust_delta, min_delta)\n",
    "    min_lower_bound += m_l\n",
    "    max_upper_bound += m_u\n",
    "    torch.save(curr_model.state_dict(), os.path.join(save_dir_for_method[ibp_ex_method], f\"run_{i}.pt\"))\n",
    "empty_model = PlantNet(3, 1).to(device)\n",
    "wg_acc, wg = worst_group_acc(empty_model, dl_test, device, 2, save_dir_for_method[ibp_ex_method])\n",
    "write_results_to_file(\"experiment_results/plant.yaml\",\n",
    "                      {\"train_acc\": round(train_acc / restarts, 3),\n",
    "                       \"test_acc\": round(test_acc / restarts, 3),\n",
    "                       \"num_robust\": round(num_robust / restarts, 3),\n",
    "                       \"min_lower_bound\": round(min_lower_bound / restarts, 3),\n",
    "                       \"worst_group_acc\": round(wg_acc, 4),\n",
    "                       \"worst_group\": wg,\n",
    "                       \"max_upper_bound\": round(max_upper_bound / restarts, 3),\n",
    "                       \"min_robust_delta\": min_robust_delta}, ibp_ex_method)\n",
    "write_results_to_file(\"experiment_results/plant_params.yaml\",\n",
    "                      {\"epsilon\": epsilon,\n",
    "                       \"k\": k,\n",
    "                       \"weight_coeff\": weight_coeff,\n",
    "                       \"num_epochs\": num_epochs,\n",
    "                       \"alpha_soft\": alpha,\n",
    "                       \"lr\": lr,\n",
    "                       \"restarts\": restarts,\n",
    "                       \"delta_threshold\": DELTA_INPUT_ROBUSTNESS_PARAM}, ibp_ex_method)"
   ]
  },
  {
   "cell_type": "markdown",
   "metadata": {},
   "source": [
    "### IBP_EX+R3 Training"
   ]
  },
  {
   "cell_type": "code",
   "execution_count": 11,
   "metadata": {},
   "outputs": [
    {
     "name": "stderr",
     "output_type": "stream",
     "text": [
      "[autoreload of metrics failed: Traceback (most recent call last):\n",
      "  File \"/vol/bitbucket/mg2720/fypvenv/lib/python3.10/site-packages/IPython/extensions/autoreload.py\", line 276, in check\n",
      "    superreload(m, reload, self.old_objects)\n",
      "  File \"/vol/bitbucket/mg2720/fypvenv/lib/python3.10/site-packages/IPython/extensions/autoreload.py\", line 475, in superreload\n",
      "    module = reload(module)\n",
      "  File \"/usr/lib/python3.10/importlib/__init__.py\", line 169, in reload\n",
      "    _bootstrap._exec(spec, module)\n",
      "  File \"<frozen importlib._bootstrap>\", line 619, in _exec\n",
      "  File \"<frozen importlib._bootstrap_external>\", line 883, in exec_module\n",
      "  File \"<frozen importlib._bootstrap>\", line 241, in _call_with_frames_removed\n",
      "  File \"/vol/bitbucket/mg2720/R4/examples/metrics.py\", line 136, in <module>\n",
      "    test_worst_group_acc()\n",
      "  File \"/vol/bitbucket/mg2720/R4/examples/metrics.py\", line 108, in test_worst_group_acc\n",
      "    assert sys.argv[1] in [\"derma_mnist\", \"plant\", \"decoy_mnist\"]\n",
      "AssertionError\n",
      "]\n"
     ]
    },
    {
     "name": "stdout",
     "output_type": "stream",
     "text": [
      "shape of new masks: torch.Size([1806, 3, 213, 213])\n",
      "========== Training model with method ibp_ex+r3, restart 0 ==========\n"
     ]
    },
    {
     "name": "stderr",
     "output_type": "stream",
     "text": [
      "Epoch: 100%|██████████| 12/12 [09:26<00:00, 47.18s/it, loss=10.2, reg=tensor(77.4656, device='cuda:1', grad_fn=<AddBackward0>)]\n"
     ]
    },
    {
     "name": "stdout",
     "output_type": "stream",
     "text": [
      "Testing model accuracy for the training set\n",
      "--- Model accuracy ---\n",
      "Nominal = 0.86\n",
      "Testing model accuracy for the test set\n",
      "--- Model accuracy ---\n",
      "Nominal = 0.8\n",
      "--- Delta input robustness ---\n",
      "Delta Input Robustness = 0\n",
      "--- Mininimum delta for which the test set is certifiably 1-delta-input-robust ---\n",
      "Min robust delta = 57.3\n",
      "========== Training model with method ibp_ex+r3, restart 1 ==========\n"
     ]
    },
    {
     "name": "stderr",
     "output_type": "stream",
     "text": [
      "Epoch: 100%|██████████| 12/12 [09:27<00:00, 47.26s/it, loss=10.3, reg=tensor(77.6606, device='cuda:1', grad_fn=<AddBackward0>)]\n"
     ]
    },
    {
     "name": "stdout",
     "output_type": "stream",
     "text": [
      "Testing model accuracy for the training set\n",
      "--- Model accuracy ---\n",
      "Nominal = 0.87\n",
      "Testing model accuracy for the test set\n",
      "--- Model accuracy ---\n",
      "Nominal = 0.78\n",
      "--- Delta input robustness ---\n",
      "Delta Input Robustness = 0\n",
      "--- Mininimum delta for which the test set is certifiably 1-delta-input-robust ---\n",
      "Min robust delta = 46.5\n",
      "========== Training model with method ibp_ex+r3, restart 2 ==========\n"
     ]
    },
    {
     "name": "stderr",
     "output_type": "stream",
     "text": [
      "Epoch: 100%|██████████| 12/12 [09:25<00:00, 47.11s/it, loss=10.2, reg=tensor(77.2875, device='cuda:1', grad_fn=<AddBackward0>)]\n"
     ]
    },
    {
     "name": "stdout",
     "output_type": "stream",
     "text": [
      "Testing model accuracy for the training set\n",
      "--- Model accuracy ---\n",
      "Nominal = 0.88\n",
      "Testing model accuracy for the test set\n",
      "--- Model accuracy ---\n",
      "Nominal = 0.82\n",
      "--- Delta input robustness ---\n",
      "Delta Input Robustness = 0\n",
      "--- Mininimum delta for which the test set is certifiably 1-delta-input-robust ---\n",
      "Min robust delta = 58.8\n",
      "Worst class accuracy = 0.7801 for class 1\n"
     ]
    }
   ],
   "source": [
    "ibp_ex_and_r3_method = \"ibp_ex+r3\"\n",
    "# hyperparams\n",
    "num_epochs, lr, restarts, epsilon, weight_coeff, k, alpha = 12, 5e-4, 3, 0.01, 0.002, 0.12, 0.35\n",
    "train_acc, test_acc, num_robust, min_robust_delta, min_lower_bound, max_upper_bound = 0, 0, 0, 1e+8, 0, 0\n",
    "soft_train_ibp_ex_and_r3 = plant.make_soft_masks(dl_train, alpha)\n",
    "for i in range(restarts):\n",
    "    # Reinitialize the model\n",
    "    # We could try to just reinitialize the weights, but we can throw away the previous model for now as we do not need it\n",
    "    torch.manual_seed(i + SEED)\n",
    "    curr_model = PlantNet(3, 1)\n",
    "\n",
    "    print(f\"========== Training model with method {ibp_ex_and_r3_method}, restart {i} ==========\")\n",
    "    train_model_with_certified_input_grad(soft_train_ibp_ex_and_r3, num_epochs, curr_model, lr, criterion, epsilon,\n",
    "        ibp_ex_and_r3_method, k, device, True, weight_reg_coeff=weight_coeff, class_weights=class_weights)\n",
    "    print(\"Testing model accuracy for the training set\")\n",
    "    train_acc += test_model_accuracy(curr_model, soft_train_ibp_ex_and_r3, device)\n",
    "    print(\"Testing model accuracy for the test set\")\n",
    "    test_acc += test_model_accuracy(curr_model, dl_test, device)\n",
    "    n_r, min_delta, m_l, m_u = test_delta_input_robustness(dl_test, curr_model, epsilon, DELTA_INPUT_ROBUSTNESS_PARAM,\n",
    "                                \"binary_cross_entropy\", device, has_conv=True)\n",
    "    num_robust += n_r\n",
    "    min_robust_delta = min(min_robust_delta, min_delta)\n",
    "    min_lower_bound += m_l\n",
    "    max_upper_bound += m_u\n",
    "    torch.save(curr_model.state_dict(), os.path.join(save_dir_for_method[ibp_ex_and_r3_method], f\"run_{i}.pt\"))\n",
    "empty_model = PlantNet(3, 1).to(device)\n",
    "wg_acc, wg = worst_group_acc(empty_model, dl_test, device, 2, save_dir_for_method[ibp_ex_and_r3_method])\n",
    "write_results_to_file(\"experiment_results/plant.yaml\",\n",
    "                      {\"train_acc\": round(train_acc / restarts, 3),\n",
    "                       \"test_acc\": round(test_acc / restarts, 3),\n",
    "                       \"num_robust\": round(num_robust / restarts, 3),\n",
    "                       \"worst_group_acc\": round(wg_acc, 4),\n",
    "                       \"worst_group\": wg,\n",
    "                       \"min_lower_bound\": round(min_lower_bound / restarts, 3),\n",
    "                       \"max_upper_bound\": round(max_upper_bound / restarts, 3),\n",
    "                       \"min_robust_delta\": min_robust_delta}, ibp_ex_and_r3_method)\n",
    "write_results_to_file(\"experiment_results/plant_params.yaml\",\n",
    "                      {\"epsilon\": epsilon,\n",
    "                       \"k\": k,\n",
    "                       \"weight_coeff\": weight_coeff,\n",
    "                       \"num_epochs\": num_epochs,\n",
    "                       \"lr\": lr,\n",
    "                       \"alpha_soft\": alpha,\n",
    "                       \"restarts\": restarts,\n",
    "                       \"delta_threshold\": DELTA_INPUT_ROBUSTNESS_PARAM}, ibp_ex_and_r3_method)"
   ]
  },
  {
   "cell_type": "code",
   "execution_count": null,
   "metadata": {},
   "outputs": [],
   "source": [
    "mask_ratios = [0.8, 0.6, 0.4, 0.2]\n",
    "methods = [\"r3\", \"r4\", \"ibp_ex\", \"ibp_ex+r3\"]\n",
    "for method in methods:\n",
    "    # Load the params\n",
    "    params_dict = load_params_or_results_from_file(\"experiment_results/decoy_mnist_params.yaml\", method)\n",
    "    delta_threshold = params_dict[\"delta_threshold\"]\n",
    "    epsilon = params_dict[\"epsilon\"]\n",
    "    k = params_dict[\"k\"]\n",
    "    weight_coeff = params_dict[\"weight_coeff\"]\n",
    "    num_epochs = params_dict[\"num_epochs\"]\n",
    "    lr = params_dict[\"lr\"]\n",
    "    restarts = params_dict[\"restarts\"]\n",
    "    for mask_ratio in mask_ratios:\n",
    "        new_dl_train = plant.remove_masks(mask_ratio, dl_train)\n",
    "        if method == \"r4\":\n",
    "            new_dl_train = plant.make_soft_masks(new_dl_train, params_dict[\"alpha_soft\"])\n",
    "        train_acc, test_acc, num_robust, min_robust_delta, min_lower_bound, max_upper_bound = 0, 0, 0, 1e+8, 0, 0\n",
    "        for i in range(restarts):\n",
    "            # Reinitialize the model\n",
    "            # We could try to just reinitialize the weights, but we can throw away the previous model for now as we do not need it\n",
    "            torch.manual_seed(i + SEED)\n",
    "            curr_model = PlantNet(3, 1)\n",
    "\n",
    "            print(f\"========== Training model with method {method} restart {i} and mask ratio {mask_ratio} ==========\")\n",
    "            k_schedule = uniformize_magnitudes_schedule if method in [\"r3\", \"ibp_ex\", \"ibp_ex+r3\"] else None\n",
    "            train_model_with_certified_input_grad(new_dl_train, num_epochs, curr_model, lr, criterion, epsilon, method,\n",
    "                                                  k, device, True, weight_reg_coeff=weight_coeff, k_schedule=k_schedule)\n",
    "            train_acc += test_model_accuracy(curr_model, new_dl_train, device, suppress_log=True)\n",
    "            test_acc += test_model_accuracy(curr_model, dl_test, device, suppress_log=True)\n",
    "            n_r, min_delta, m_l, m_u = test_delta_input_robustness(dl_test, curr_model, epsilon, delta_threshold,\n",
    "                                                         \"binary_cross_entropy\", device, has_conv=True, suppress_log=True)\n",
    "            num_robust += n_r\n",
    "            min_robust_delta = min(min_robust_delta, min_delta)\n",
    "            min_lower_bound += m_l\n",
    "            max_upper_bound += m_u\n",
    "        write_results_to_file(f\"experiment_results/plant_sample_complexity.yaml\",\n",
    "                            {\"train_acc\": round(train_acc / restarts, 3),\n",
    "                             \"test_acc\": round(test_acc / restarts, 3),\n",
    "                             \"num_robust\": round(num_robust / restarts, 3),\n",
    "                             \"min_lower_bound_avg\": round(min_lower_bound / restarts, 3),\n",
    "                             \"max_upper_bound_avg\": round(max_upper_bound / restarts, 3),\n",
    "                             \"min_robust_delta\": min_robust_delta}, method + f\"_{int(mask_ratio * 100)}\")"
   ]
  }
 ],
 "metadata": {
  "kernelspec": {
   "display_name": "fypvenv",
   "language": "python",
   "name": "python3"
  },
  "language_info": {
   "codemirror_mode": {
    "name": "ipython",
    "version": 3
   },
   "file_extension": ".py",
   "mimetype": "text/x-python",
   "name": "python",
   "nbconvert_exporter": "python",
   "pygments_lexer": "ipython3",
   "version": "3.10.12"
  }
 },
 "nbformat": 4,
 "nbformat_minor": 2
}

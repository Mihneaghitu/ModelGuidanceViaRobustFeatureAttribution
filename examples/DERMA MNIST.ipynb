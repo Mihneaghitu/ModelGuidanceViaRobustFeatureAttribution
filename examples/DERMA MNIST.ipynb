{
 "cells": [
  {
   "cell_type": "markdown",
   "metadata": {},
   "source": [
    "# R4 on DECOY DERMA MNIST"
   ]
  },
  {
   "cell_type": "code",
   "execution_count": 1,
   "metadata": {},
   "outputs": [],
   "source": [
    "%load_ext autoreload\n",
    "%autoreload 2\n",
    "import torch\n",
    "import tqdm\n",
    "import matplotlib.pyplot as plt\n",
    "import os\n",
    "import sys\n",
    "sys.path.append(os.path.abspath('..'))\n",
    "from models.R4_models import DermaNet\n",
    "from models.robust_regularizer import input_gradient_interval_regularizer\n",
    "from models.pipeline import (train_model_with_pgd_robust_input_grad, train_model_with_certified_input_grad, load_params_or_results_from_file,\n",
    "                             test_model_accuracy, test_delta_input_robustness, write_results_to_file, uniformize_magnitudes_schedule)\n",
    "from datasets import derma_mnist"
   ]
  },
  {
   "cell_type": "markdown",
   "metadata": {},
   "source": [
    "# Get the dataloaders "
   ]
  },
  {
   "cell_type": "code",
   "execution_count": 2,
   "metadata": {},
   "outputs": [
    {
     "name": "stdout",
     "output_type": "stream",
     "text": [
      "cuda:0\n"
     ]
    }
   ],
   "source": [
    "CUDA_LAUNCH_BLOCKING=1\n",
    "SEED = 0\n",
    "device = torch.device(\"cuda:0\" if torch.cuda.is_available() else \"cpu\")\n",
    "print(device)\n",
    "torch.manual_seed(SEED)\n",
    "batch_size = 256\n",
    "IMG_SIZE = 64"
   ]
  },
  {
   "cell_type": "code",
   "execution_count": 3,
   "metadata": {},
   "outputs": [
    {
     "name": "stdout",
     "output_type": "stream",
     "text": [
      "Using downloaded and verified file: /homes/mg2720/phd/R4/examples/datasets/data/dermamnist_64.npz\n",
      "Using downloaded and verified file: /homes/mg2720/phd/R4/examples/datasets/data/dermamnist_64.npz\n",
      "Using downloaded and verified file: /homes/mg2720/phd/R4/examples/datasets/data/dermamnist_64.npz\n",
      "Using downloaded and verified file: /homes/mg2720/phd/R4/examples/datasets/data/dermamnist_64.npz\n",
      "Using downloaded and verified file: /homes/mg2720/phd/R4/examples/datasets/data/dermamnist_64.npz\n",
      "Using downloaded and verified file: /homes/mg2720/phd/R4/examples/datasets/data/dermamnist_64.npz\n",
      "8010 2005\n",
      "test masks shape: torch.Size([8010, 3, 64, 64])\n",
      "test images shape: torch.Size([2005, 3, 64, 64])\n",
      "num 0 labels: 5364\n",
      "num 1 labels: 2646\n",
      "num 1 labels test: 664\n",
      "num 0 labels test: 1341\n"
     ]
    }
   ],
   "source": [
    "train_dset = derma_mnist.DecoyDermaMNIST(True, size=IMG_SIZE)\n",
    "test_dset = derma_mnist.DecoyDermaMNIST(False, size=IMG_SIZE)\n",
    "print(len(train_dset), len(test_dset))\n",
    "print(f\"test masks shape: {train_dset.dset_masks.shape}\")\n",
    "print(f\"test images shape: {test_dset.dset_inputs.shape}\")\n",
    "print(f\"num 0 labels: {torch.sum(train_dset.dset_labels == 0)}\")\n",
    "print(f\"num 1 labels: {torch.sum(train_dset.dset_labels == 1)}\")\n",
    "print(f\"num 1 labels test: {torch.sum(test_dset.dset_labels == 1)}\")\n",
    "print(f\"num 0 labels test: {torch.sum(test_dset.dset_labels == 0)}\")"
   ]
  },
  {
   "cell_type": "code",
   "execution_count": 4,
   "metadata": {},
   "outputs": [],
   "source": [
    "dl_train = derma_mnist.get_dataloader(train_dset, batch_size)\n",
    "dl_test = derma_mnist.get_dataloader(test_dset, batch_size)"
   ]
  },
  {
   "cell_type": "code",
   "execution_count": 5,
   "metadata": {},
   "outputs": [],
   "source": [
    "def visualize_gradient(model, batch_input, batch_labels, batch_mask, epsilon, elem_idx, has_conv, curr_device):\n",
    "    channel_to_view = 1\n",
    "    batch_input, batch_labels, batch_mask = batch_input.to(curr_device), batch_labels.to(curr_device), batch_mask.to(curr_device)\n",
    "    model.to(curr_device)\n",
    "    grad_bounds = input_gradient_interval_regularizer(\n",
    "        model, batch_input, batch_labels, \"binary_cross_entropy\", epsilon, 0.0, return_grads=True, regularizer_type=\"r4\",\n",
    "        batch_masks=batch_mask, has_conv=has_conv, device=curr_device\n",
    "    )\n",
    "    dx_l, dx_u = grad_bounds[1]\n",
    "    dx_n, _ = grad_bounds[0]\n",
    "    print(f\"input lower bound shape: {dx_l.shape}\")\n",
    "    print(f\"input upper bound shape: {dx_u.shape}\")\n",
    "    print(f\"input gradient shape: {dx_n.shape}\")\n",
    "    fig, ax = plt.subplots(3, 2, figsize=(14, 13))\n",
    "    lesion = batch_input[elem_idx].permute(1, 2, 0).cpu().numpy()\n",
    "    mask = batch_mask[elem_idx].permute(1, 2, 0).cpu().numpy()\n",
    "    # choose only 1 channel gradient to view, because with 3 channels, the bounds do not represent rgb values\n",
    "    dx_l_view, dx_u_view, dx_n_view = dx_l[elem_idx][channel_to_view].squeeze(), dx_u[elem_idx][channel_to_view].squeeze(), dx_n[elem_idx][channel_to_view].squeeze()\n",
    "    ax[0][0].imshow(lesion)\n",
    "    ax[0][0].set_title(f\"Input at index {elem_idx}\")\n",
    "    im_mask = ax[0][1].imshow(mask, cmap='gray')\n",
    "    ax[0][1].set_title(f\"Mask at index {elem_idx}\")\n",
    "    fig.colorbar(im_mask, ax=ax[0][1])\n",
    "    im_dx_l = ax[1][0].imshow(dx_l_view.cpu().detach().numpy())\n",
    "    ax[1][0].set_title(f\"Lower bound of gradient at index {elem_idx}\")\n",
    "    fig.colorbar(im_dx_l, ax=ax[1][0])\n",
    "    im_dx_u = ax[1][1].imshow(dx_u_view.cpu().detach().numpy())\n",
    "    ax[1][1].set_title(f\"Upper bound of gradient at index {elem_idx}\")\n",
    "    cbu = fig.colorbar(im_dx_u, ax=ax[1][1])\n",
    "    cbu.ax.invert_yaxis()\n",
    "    im_dx_n = ax[2][0].imshow(dx_n_view.cpu().detach().numpy())\n",
    "    ax[2][0].set_title(f\"Gradient at index {elem_idx}\")\n",
    "    fig.colorbar(im_dx_n, ax=ax[2][0])"
   ]
  },
  {
   "cell_type": "code",
   "execution_count": null,
   "metadata": {},
   "outputs": [
    {
     "name": "stdout",
     "output_type": "stream",
     "text": [
      "[0, 1]\n"
     ]
    }
   ],
   "source": [
    "epsilon = 0.05\n",
    "model = DermaNet(3, IMG_SIZE, 1)\n",
    "criterion = torch.nn.BCELoss()\n",
    "gpu_ids = [i for i in range(torch.cuda.device_count())]\n",
    "print(gpu_ids)\n",
    "model = torch.nn.DataParallel(model, device_ids=gpu_ids)\n",
    "model = model.to(device)"
   ]
  },
  {
   "cell_type": "code",
   "execution_count": null,
   "metadata": {},
   "outputs": [],
   "source": [
    "idx_to_visualize = 20\n",
    "\n",
    "init_batch_train_with_masks = next(iter(dl_train))\n",
    "first_idx_benign, first_idx_malignant = None, None\n",
    "for i in range(1, len(dl_train)):\n",
    "    if init_batch_train_with_masks[1][i] == 1:\n",
    "        first_idx_malignant = i\n",
    "    if init_batch_train_with_masks[1][i] == 0:\n",
    "        first_idx_benign = i\n",
    "    if first_idx_benign is not None and first_idx_malignant is not None:\n",
    "        break\n",
    "print(f\"first benign index: {first_idx_benign}, first malignant index: {first_idx_malignant}\")\n",
    "init_batch_test_with_masks = next(iter(dl_test))\n",
    "visualize_gradient(model, *init_batch_train_with_masks, epsilon, first_idx_benign, True, device)\n",
    "visualize_gradient(model, *init_batch_train_with_masks, epsilon, first_idx_malignant, True, device)\n",
    "# visualize_gradient(model, *init_batch_test_with_masks, epsilon, idx_to_visualize, True, device)"
   ]
  },
  {
   "cell_type": "markdown",
   "metadata": {},
   "source": [
    "## Experiments "
   ]
  },
  {
   "cell_type": "code",
   "execution_count": 6,
   "metadata": {},
   "outputs": [],
   "source": [
    "DELTA_INPUT_ROBUSTNESS_PARAM = 1"
   ]
  },
  {
   "cell_type": "markdown",
   "metadata": {},
   "source": [
    "### Standard Training"
   ]
  },
  {
   "cell_type": "code",
   "execution_count": 30,
   "metadata": {},
   "outputs": [
    {
     "name": "stdout",
     "output_type": "stream",
     "text": [
      "========== Training model with method std restart 0 ==========\n"
     ]
    },
    {
     "name": "stderr",
     "output_type": "stream",
     "text": [
      "Epoch: 100%|██████████| 10/10 [02:15<00:00, 13.55s/it, loss=2.33e-9, reg=0]\n"
     ]
    },
    {
     "name": "stdout",
     "output_type": "stream",
     "text": [
      "Testing model accuracy for the training set\n",
      "--- Model accuracy ---\n",
      "Nominal = 1\n",
      "Testing model accuracy for the test set\n",
      "--- Model accuracy ---\n",
      "Nominal = 0.67\n",
      "--- Delta input robustness ---\n",
      "Delta Input Robustness = 0\n",
      "--- Mininimum delta for which the test set is certifiably 1-delta-input-robust ---\n",
      "Min robust delta = 2.16e+04\n",
      "========== Training model with method std restart 1 ==========\n"
     ]
    },
    {
     "name": "stderr",
     "output_type": "stream",
     "text": [
      "Epoch: 100%|██████████| 10/10 [02:23<00:00, 14.40s/it, loss=1.16e-7, reg=0]\n"
     ]
    },
    {
     "name": "stdout",
     "output_type": "stream",
     "text": [
      "Testing model accuracy for the training set\n",
      "--- Model accuracy ---\n",
      "Nominal = 1\n",
      "Testing model accuracy for the test set\n",
      "--- Model accuracy ---\n",
      "Nominal = 0.67\n",
      "--- Delta input robustness ---\n",
      "Delta Input Robustness = 0\n",
      "--- Mininimum delta for which the test set is certifiably 1-delta-input-robust ---\n",
      "Min robust delta = 1.57e+04\n",
      "========== Training model with method std restart 2 ==========\n"
     ]
    },
    {
     "name": "stderr",
     "output_type": "stream",
     "text": [
      "Epoch: 100%|██████████| 10/10 [02:23<00:00, 14.38s/it, loss=1.13e-10, reg=0]\n"
     ]
    },
    {
     "name": "stdout",
     "output_type": "stream",
     "text": [
      "Testing model accuracy for the training set\n",
      "--- Model accuracy ---\n",
      "Nominal = 1\n",
      "Testing model accuracy for the test set\n",
      "--- Model accuracy ---\n",
      "Nominal = 0.67\n",
      "--- Delta input robustness ---\n",
      "Delta Input Robustness = 0\n",
      "--- Mininimum delta for which the test set is certifiably 1-delta-input-robust ---\n",
      "Min robust delta = 1.61e+04\n",
      "========== Training model with method std restart 3 ==========\n"
     ]
    },
    {
     "name": "stderr",
     "output_type": "stream",
     "text": [
      "Epoch: 100%|██████████| 10/10 [02:16<00:00, 13.65s/it, loss=2.94e-5, reg=0]\n"
     ]
    },
    {
     "name": "stdout",
     "output_type": "stream",
     "text": [
      "Testing model accuracy for the training set\n",
      "--- Model accuracy ---\n",
      "Nominal = 1\n",
      "Testing model accuracy for the test set\n",
      "--- Model accuracy ---\n",
      "Nominal = 0.33\n",
      "--- Delta input robustness ---\n",
      "Delta Input Robustness = 0\n",
      "--- Mininimum delta for which the test set is certifiably 1-delta-input-robust ---\n",
      "Min robust delta = 1.61e+04\n"
     ]
    }
   ],
   "source": [
    "std_method = \"std\"\n",
    "# Hyperparameters\n",
    "num_epochs, lr, restarts, epsilon, k, weight_coeff = 10, 1e-3, 4, 0.1, -1, -1\n",
    "# k is a coefficient for the regularization term\n",
    "train_acc, test_acc, num_robust, min_robust_delta, min_lower_bound, max_upper_bound = 0, 0, 0, 1e+8, 0, 0\n",
    "for i in range(restarts):\n",
    "    # Reinitialize the model\n",
    "    # We could try to just reinitialize the weights, but we can throw away the previous model for now as we do not need it\n",
    "    torch.manual_seed(i + SEED)\n",
    "    curr_model = DermaNet(3, IMG_SIZE, 1)\n",
    "    print(f\"========== Training model with method {std_method} restart {i} ==========\")\n",
    "    train_model_with_certified_input_grad(dl_train, num_epochs, curr_model, lr, criterion, epsilon, std_method, k, device, True)\n",
    "    print(\"Testing model accuracy for the training set\")\n",
    "    train_acc += test_model_accuracy(curr_model, dl_train, device)\n",
    "    print(\"Testing model accuracy for the test set\")\n",
    "    test_acc += test_model_accuracy(curr_model, dl_test, device)\n",
    "    n_r, min_delta, m_l, m_u = test_delta_input_robustness(dl_test, curr_model, epsilon, DELTA_INPUT_ROBUSTNESS_PARAM,\n",
    "                                                 \"binary_cross_entropy\", device, has_conv=True)\n",
    "    num_robust += num_robust\n",
    "    min_robust_delta = min(min_robust_delta, min_delta)\n",
    "    min_lower_bound += m_l\n",
    "    max_upper_bound += m_u\n",
    "write_results_to_file(\"experiment_results/derma_mnist.yaml\",\n",
    "                      {\"train_acc\": round(train_acc / restarts, 3),\n",
    "                       \"test_acc\": round(test_acc / restarts, 3),\n",
    "                       \"num_robust\": round(num_robust / restarts, 3),\n",
    "                       \"min_lower_bound\": round(min_lower_bound / restarts, 3),\n",
    "                       \"max_upper_bound\": round(max_upper_bound / restarts, 3),\n",
    "                       \"min_robust_delta\": min_robust_delta}, std_method)\n",
    "write_results_to_file(\"experiment_results/derma_mnist_params.yaml\",\n",
    "                        {\"epsilon\": epsilon,\n",
    "                         \"k\": k,\n",
    "                         \"weight_coeff\": weight_coeff,\n",
    "                         \"num_epochs\": num_epochs,\n",
    "                         \"lr\": lr,\n",
    "                         \"restarts\": restarts,\n",
    "                         \"delta_threshold\": DELTA_INPUT_ROBUSTNESS_PARAM}, std_method)"
   ]
  },
  {
   "cell_type": "markdown",
   "metadata": {},
   "source": [
    "### RRR Training"
   ]
  },
  {
   "cell_type": "code",
   "execution_count": 33,
   "metadata": {},
   "outputs": [
    {
     "name": "stdout",
     "output_type": "stream",
     "text": [
      "========== Training model with method r3, restart 0 ==========\n"
     ]
    },
    {
     "name": "stderr",
     "output_type": "stream",
     "text": [
      "Epoch: 100%|██████████| 12/12 [05:34<00:00, 27.88s/it, loss=0.969, reg=tensor(0.4223, device='cuda:0', grad_fn=<AddBackward0>)]\n"
     ]
    },
    {
     "name": "stdout",
     "output_type": "stream",
     "text": [
      "Testing model accuracy for the training set\n",
      "--- Model accuracy ---\n",
      "Nominal = 0.72\n",
      "Testing model accuracy for the test set\n",
      "--- Model accuracy ---\n",
      "Nominal = 0.71\n",
      "--- Delta input robustness ---\n",
      "Delta Input Robustness = 0\n",
      "--- Mininimum delta for which the test set is certifiably 1-delta-input-robust ---\n",
      "Min robust delta = 1.95e+03\n",
      "========== Training model with method r3, restart 1 ==========\n"
     ]
    },
    {
     "name": "stderr",
     "output_type": "stream",
     "text": [
      "Epoch: 100%|██████████| 12/12 [05:27<00:00, 27.31s/it, loss=0.957, reg=tensor(0.3844, device='cuda:0', grad_fn=<AddBackward0>)]\n"
     ]
    },
    {
     "name": "stdout",
     "output_type": "stream",
     "text": [
      "Testing model accuracy for the training set\n",
      "--- Model accuracy ---\n",
      "Nominal = 0.77\n",
      "Testing model accuracy for the test set\n",
      "--- Model accuracy ---\n",
      "Nominal = 0.75\n",
      "--- Delta input robustness ---\n",
      "Delta Input Robustness = 0\n",
      "--- Mininimum delta for which the test set is certifiably 1-delta-input-robust ---\n",
      "Min robust delta = 1.53e+03\n",
      "========== Training model with method r3, restart 2 ==========\n"
     ]
    },
    {
     "name": "stderr",
     "output_type": "stream",
     "text": [
      "Epoch: 100%|██████████| 12/12 [05:32<00:00, 27.69s/it, loss=0.928, reg=tensor(0.4298, device='cuda:0', grad_fn=<AddBackward0>)]\n"
     ]
    },
    {
     "name": "stdout",
     "output_type": "stream",
     "text": [
      "Testing model accuracy for the training set\n",
      "--- Model accuracy ---\n",
      "Nominal = 0.73\n",
      "Testing model accuracy for the test set\n",
      "--- Model accuracy ---\n",
      "Nominal = 0.72\n",
      "--- Delta input robustness ---\n",
      "Delta Input Robustness = 0\n",
      "--- Mininimum delta for which the test set is certifiably 1-delta-input-robust ---\n",
      "Min robust delta = 2.11e+03\n",
      "========== Training model with method r3, restart 3 ==========\n"
     ]
    },
    {
     "name": "stderr",
     "output_type": "stream",
     "text": [
      "Epoch: 100%|██████████| 12/12 [05:25<00:00, 27.09s/it, loss=0.895, reg=tensor(0.3906, device='cuda:0', grad_fn=<AddBackward0>)]\n"
     ]
    },
    {
     "name": "stdout",
     "output_type": "stream",
     "text": [
      "Testing model accuracy for the training set\n",
      "--- Model accuracy ---\n",
      "Nominal = 0.72\n",
      "Testing model accuracy for the test set\n",
      "--- Model accuracy ---\n",
      "Nominal = 0.71\n",
      "--- Delta input robustness ---\n",
      "Delta Input Robustness = 0\n",
      "--- Mininimum delta for which the test set is certifiably 1-delta-input-robust ---\n",
      "Min robust delta = 1.81e+03\n"
     ]
    }
   ],
   "source": [
    "# Train standard 3 times and test accuracy and delta input robustness for the masked region\n",
    "rrr_method = \"r3\"\n",
    "# hyperparams\n",
    "num_epochs, lr, restarts, epsilon, weight_coeff, k = 12, 1e-4, 4, 0.05, 1e-3, 4e-2\n",
    "train_acc, test_acc, num_robust, min_robust_delta, min_lower_bound, max_upper_bound = 0, 0, 0, 1e+8, 0, 0\n",
    "for i in range(restarts):\n",
    "    # Reinitialize the model\n",
    "    # We could try to just reinitialize the weights, but we can throw away the previous model for now as we do not need it\n",
    "    torch.manual_seed(i + SEED)\n",
    "    curr_model = DermaNet(3, IMG_SIZE, 1)\n",
    "\n",
    "    print(f\"========== Training model with method {rrr_method}, restart {i} ==========\")\n",
    "    train_model_with_certified_input_grad(dl_train, num_epochs, curr_model, lr, criterion, epsilon, rrr_method,\n",
    "        k, device, True, k_schedule=uniformize_magnitudes_schedule, weight_reg_coeff=weight_coeff)\n",
    "    print(\"Testing model accuracy for the training set\")\n",
    "    train_acc += test_model_accuracy(curr_model, dl_train, device)\n",
    "    print(\"Testing model accuracy for the test set\")\n",
    "    test_acc += test_model_accuracy(curr_model, dl_test, device)\n",
    "    n_r, min_delta, m_l, m_u = test_delta_input_robustness(dl_test, curr_model, epsilon, DELTA_INPUT_ROBUSTNESS_PARAM,\n",
    "                                \"binary_cross_entropy\", device, has_conv=True)\n",
    "    num_robust += n_r\n",
    "    min_robust_delta = min(min_robust_delta, min_delta)\n",
    "    min_lower_bound += m_l\n",
    "    max_upper_bound += m_u\n",
    "write_results_to_file(\"experiment_results/derma_mnist.yaml\",\n",
    "                      {\"train_acc\": round(train_acc / restarts, 3),\n",
    "                       \"test_acc\": round(test_acc / restarts, 3),\n",
    "                       \"num_robust\": round(num_robust / restarts, 3),\n",
    "                       \"min_lower_bound\": round(min_lower_bound / restarts, 3),\n",
    "                       \"max_upper_bound\": round(max_upper_bound / restarts, 3),\n",
    "                       \"min_robust_delta\": min_robust_delta}, rrr_method)\n",
    "write_results_to_file(\"experiment_results/derma_mnist_params.yaml\",\n",
    "                      {\"epsilon\": epsilon,\n",
    "                       \"k\": k,\n",
    "                       \"weight_coeff\": weight_coeff,\n",
    "                       \"num_epochs\": num_epochs,\n",
    "                       \"lr\": lr,\n",
    "                       \"restarts\": restarts,\n",
    "                       \"delta_threshold\": DELTA_INPUT_ROBUSTNESS_PARAM}, rrr_method)"
   ]
  },
  {
   "cell_type": "markdown",
   "metadata": {},
   "source": [
    "### R4 Training"
   ]
  },
  {
   "cell_type": "code",
   "execution_count": 11,
   "metadata": {},
   "outputs": [
    {
     "name": "stdout",
     "output_type": "stream",
     "text": [
      "========== Training model with method r4, restart 0 ==========\n"
     ]
    },
    {
     "name": "stderr",
     "output_type": "stream",
     "text": [
      "Epoch: 100%|██████████| 12/12 [03:01<00:00, 15.14s/it, loss=0.46, reg=tensor(0.2359, device='cuda:0', grad_fn=<DivBackward0>)] \n"
     ]
    },
    {
     "name": "stdout",
     "output_type": "stream",
     "text": [
      "Testing model accuracy for the training set\n",
      "--- Model accuracy ---\n",
      "Nominal = 0.8\n",
      "Testing model accuracy for the test set\n",
      "--- Model accuracy ---\n",
      "Nominal = 0.78\n",
      "--- Delta input robustness ---\n",
      "Delta Input Robustness = 0\n",
      "--- Mininimum delta for which the test set is certifiably 1-delta-input-robust ---\n",
      "Min robust delta = 6.01\n",
      "========== Training model with method r4, restart 1 ==========\n"
     ]
    },
    {
     "name": "stderr",
     "output_type": "stream",
     "text": [
      "Epoch: 100%|██████████| 12/12 [03:01<00:00, 15.09s/it, loss=0.501, reg=tensor(0.2416, device='cuda:0', grad_fn=<DivBackward0>)]\n"
     ]
    },
    {
     "name": "stdout",
     "output_type": "stream",
     "text": [
      "Testing model accuracy for the training set\n",
      "--- Model accuracy ---\n",
      "Nominal = 0.8\n",
      "Testing model accuracy for the test set\n",
      "--- Model accuracy ---\n",
      "Nominal = 0.79\n",
      "--- Delta input robustness ---\n",
      "Delta Input Robustness = 0\n",
      "--- Mininimum delta for which the test set is certifiably 1-delta-input-robust ---\n",
      "Min robust delta = 6.86\n",
      "========== Training model with method r4, restart 2 ==========\n"
     ]
    },
    {
     "name": "stderr",
     "output_type": "stream",
     "text": [
      "Epoch: 100%|██████████| 12/12 [03:00<00:00, 15.08s/it, loss=0.463, reg=tensor(0.2216, device='cuda:0', grad_fn=<DivBackward0>)]\n"
     ]
    },
    {
     "name": "stdout",
     "output_type": "stream",
     "text": [
      "Testing model accuracy for the training set\n",
      "--- Model accuracy ---\n",
      "Nominal = 0.78\n",
      "Testing model accuracy for the test set\n",
      "--- Model accuracy ---\n",
      "Nominal = 0.77\n",
      "--- Delta input robustness ---\n",
      "Delta Input Robustness = 0\n",
      "--- Mininimum delta for which the test set is certifiably 1-delta-input-robust ---\n",
      "Min robust delta = 5.33\n",
      "========== Training model with method r4, restart 3 ==========\n"
     ]
    },
    {
     "name": "stderr",
     "output_type": "stream",
     "text": [
      "Epoch: 100%|██████████| 12/12 [03:00<00:00, 15.06s/it, loss=0.412, reg=tensor(0.1915, device='cuda:0', grad_fn=<DivBackward0>)]\n"
     ]
    },
    {
     "name": "stdout",
     "output_type": "stream",
     "text": [
      "Testing model accuracy for the training set\n",
      "--- Model accuracy ---\n",
      "Nominal = 0.78\n",
      "Testing model accuracy for the test set\n",
      "--- Model accuracy ---\n",
      "Nominal = 0.78\n",
      "--- Delta input robustness ---\n",
      "Delta Input Robustness = 0\n",
      "--- Mininimum delta for which the test set is certifiably 1-delta-input-robust ---\n",
      "Min robust delta = 4.85\n"
     ]
    }
   ],
   "source": [
    "# Train standard 3 times and test accuracy and delta input robustness for the masked region\n",
    "r4_method = \"r4\"\n",
    "num_epochs, lr, restarts, epsilon, weight_coeff, k = 12, 1e-4, 4, 0.05, -1, 0.02\n",
    "train_acc, test_acc, num_robust, min_robust_delta, min_lower_bound, max_upper_bound = 0, 0, 0, 1e+8, 0, 0\n",
    "for i in range(restarts):\n",
    "    # Reinitialize the model\n",
    "    # We could try to just reinitialize the weights, but we can throw away the previous model for now as we do not need it\n",
    "    torch.manual_seed(i + SEED)\n",
    "    curr_model = DermaNet(3, IMG_SIZE, 1)\n",
    "\n",
    "    print(f\"========== Training model with method {r4_method}, restart {i} ==========\")\n",
    "    train_model_with_certified_input_grad(dl_train, num_epochs, curr_model, lr, criterion, epsilon, r4_method, k, device, True)\n",
    "    print(\"Testing model accuracy for the training set\")\n",
    "    train_acc += test_model_accuracy(curr_model, dl_train, device)\n",
    "    print(\"Testing model accuracy for the test set\")\n",
    "    test_acc += test_model_accuracy(curr_model, dl_test, device)\n",
    "    n_r, min_delta, m_l, m_u = test_delta_input_robustness(dl_test, curr_model, epsilon, DELTA_INPUT_ROBUSTNESS_PARAM,\n",
    "                                \"binary_cross_entropy\", device, has_conv=True)\n",
    "    num_robust += n_r\n",
    "    min_robust_delta = min(min_robust_delta, min_delta)\n",
    "    min_lower_bound += m_l\n",
    "    max_upper_bound += m_u\n",
    "write_results_to_file(\"experiment_results/derma_mnist.yaml\",\n",
    "                      {\"train_acc\": round(train_acc / restarts, 3),\n",
    "                       \"test_acc\": round(test_acc / restarts, 3),\n",
    "                       \"num_robust\": round(num_robust / restarts, 3),\n",
    "                       \"min_lower_bound\": round(min_lower_bound / restarts, 3),\n",
    "                       \"max_upper_bound\": round(max_upper_bound / restarts, 3),\n",
    "                       \"min_robust_delta\": min_robust_delta}, r4_method)\n",
    "write_results_to_file(\"experiment_results/derma_mnist_params.yaml\",\n",
    "                      {\"epsilon\": epsilon,\n",
    "                       \"k\": k,\n",
    "                       \"weight_coeff\": weight_coeff,\n",
    "                       \"num_epochs\": num_epochs,\n",
    "                       \"lr\": lr,\n",
    "                       \"restarts\": restarts,\n",
    "                       \"delta_threshold\": DELTA_INPUT_ROBUSTNESS_PARAM}, r4_method)"
   ]
  },
  {
   "cell_type": "markdown",
   "metadata": {},
   "source": [
    "### IBP_EX Training"
   ]
  },
  {
   "cell_type": "code",
   "execution_count": 16,
   "metadata": {},
   "outputs": [
    {
     "name": "stdout",
     "output_type": "stream",
     "text": [
      "========== Training model with method ibp_ex, restart 0 ==========\n"
     ]
    },
    {
     "name": "stderr",
     "output_type": "stream",
     "text": [
      "Epoch: 100%|██████████| 14/14 [01:37<00:00,  6.97s/it, loss=0.637, reg=tensor(31.8563, device='cuda:0', grad_fn=<AddBackward0>)]\n"
     ]
    },
    {
     "name": "stdout",
     "output_type": "stream",
     "text": [
      "Testing model accuracy for the training set\n",
      "--- Model accuracy ---\n",
      "Nominal = 1\n",
      "Testing model accuracy for the test set\n",
      "--- Model accuracy ---\n",
      "Nominal = 0.69\n",
      "--- Delta input robustness ---\n",
      "Delta Input Robustness = 0\n",
      "--- Mininimum delta for which the test set is certifiably 1-delta-input-robust ---\n",
      "Min robust delta = 1.76e+03\n",
      "========== Training model with method ibp_ex, restart 1 ==========\n"
     ]
    },
    {
     "name": "stderr",
     "output_type": "stream",
     "text": [
      "Epoch: 100%|██████████| 14/14 [01:37<00:00,  6.97s/it, loss=0.707, reg=tensor(35.3594, device='cuda:0', grad_fn=<AddBackward0>)]\n"
     ]
    },
    {
     "name": "stdout",
     "output_type": "stream",
     "text": [
      "Testing model accuracy for the training set\n",
      "--- Model accuracy ---\n",
      "Nominal = 1\n",
      "Testing model accuracy for the test set\n",
      "--- Model accuracy ---\n",
      "Nominal = 0.67\n",
      "--- Delta input robustness ---\n",
      "Delta Input Robustness = 0\n",
      "--- Mininimum delta for which the test set is certifiably 1-delta-input-robust ---\n",
      "Min robust delta = 1.43e+03\n",
      "========== Training model with method ibp_ex, restart 2 ==========\n"
     ]
    },
    {
     "name": "stderr",
     "output_type": "stream",
     "text": [
      "Epoch: 100%|██████████| 14/14 [01:37<00:00,  6.95s/it, loss=0.614, reg=tensor(30.6833, device='cuda:0', grad_fn=<AddBackward0>)]\n"
     ]
    },
    {
     "name": "stdout",
     "output_type": "stream",
     "text": [
      "Testing model accuracy for the training set\n",
      "--- Model accuracy ---\n",
      "Nominal = 1\n",
      "Testing model accuracy for the test set\n",
      "--- Model accuracy ---\n",
      "Nominal = 0.67\n",
      "--- Delta input robustness ---\n",
      "Delta Input Robustness = 0\n",
      "--- Mininimum delta for which the test set is certifiably 1-delta-input-robust ---\n",
      "Min robust delta = 1.61e+03\n",
      "========== Training model with method ibp_ex, restart 3 ==========\n"
     ]
    },
    {
     "name": "stderr",
     "output_type": "stream",
     "text": [
      "Epoch: 100%|██████████| 14/14 [01:37<00:00,  6.96s/it, loss=0.614, reg=tensor(30.6798, device='cuda:0', grad_fn=<AddBackward0>)]\n"
     ]
    },
    {
     "name": "stdout",
     "output_type": "stream",
     "text": [
      "Testing model accuracy for the training set\n",
      "--- Model accuracy ---\n",
      "Nominal = 1\n",
      "Testing model accuracy for the test set\n",
      "--- Model accuracy ---\n",
      "Nominal = 0.7\n",
      "--- Delta input robustness ---\n",
      "Delta Input Robustness = 0\n",
      "--- Mininimum delta for which the test set is certifiably 1-delta-input-robust ---\n",
      "Min robust delta = 1.69e+03\n"
     ]
    }
   ],
   "source": [
    "ibp_ex_method = \"ibp_ex\"\n",
    "# hyperparams\n",
    "num_epochs, lr, restarts, epsilon, weight_coeff, k = 14, 1e-4, 4, 0.05, 8e-4, 0.02\n",
    "train_acc, test_acc, num_robust, min_robust_delta, min_lower_bound, max_upper_bound = 0, 0, 0, 1e+8, 0, 0\n",
    "for i in range(restarts):\n",
    "    # Reinitialize the model\n",
    "    # We could try to just reinitialize the weights, but we can throw away the previous model for now as we do not need it\n",
    "    torch.manual_seed(i + SEED)\n",
    "    curr_model = DermaNet(3, IMG_SIZE, 1)\n",
    "\n",
    "    print(f\"========== Training model with method {ibp_ex_method}, restart {i} ==========\")\n",
    "    train_model_with_certified_input_grad(dl_train, num_epochs, curr_model, lr, criterion, epsilon, ibp_ex_method,\n",
    "        k, device, True, weight_reg_coeff=weight_coeff)\n",
    "    print(\"Testing model accuracy for the training set\")\n",
    "    train_acc += test_model_accuracy(curr_model, dl_train, device)\n",
    "    print(\"Testing model accuracy for the test set\")\n",
    "    test_acc += test_model_accuracy(curr_model, dl_test, device)\n",
    "    n_r, min_delta, m_l, m_u = test_delta_input_robustness(dl_test, curr_model, epsilon, DELTA_INPUT_ROBUSTNESS_PARAM,\n",
    "                                \"binary_cross_entropy\", device, has_conv=True)\n",
    "    num_robust += n_r\n",
    "    min_robust_delta = min(min_robust_delta, min_delta)\n",
    "    min_lower_bound += m_l\n",
    "    max_upper_bound += m_u\n",
    "write_results_to_file(\"experiment_results/derma_mnist.yaml\",\n",
    "                      {\"train_acc\": round(train_acc / restarts, 3),\n",
    "                       \"test_acc\": round(test_acc / restarts, 3),\n",
    "                       \"num_robust\": round(num_robust / restarts, 3),\n",
    "                       \"min_lower_bound\": round(min_lower_bound / restarts, 3),\n",
    "                       \"max_upper_bound\": round(max_upper_bound / restarts, 3),\n",
    "                       \"min_robust_delta\": min_robust_delta}, ibp_ex_method)\n",
    "write_results_to_file(\"experiment_results/derma_mnist_params.yaml\",\n",
    "                      {\"epsilon\": epsilon,\n",
    "                       \"k\": k,\n",
    "                       \"weight_coeff\": weight_coeff,\n",
    "                       \"num_epochs\": num_epochs,\n",
    "                       \"lr\": lr,\n",
    "                       \"restarts\": restarts,\n",
    "                       \"delta_threshold\": DELTA_INPUT_ROBUSTNESS_PARAM}, ibp_ex_method)"
   ]
  },
  {
   "cell_type": "markdown",
   "metadata": {},
   "source": [
    "### IBP_EX+R3"
   ]
  },
  {
   "cell_type": "code",
   "execution_count": 25,
   "metadata": {},
   "outputs": [
    {
     "name": "stdout",
     "output_type": "stream",
     "text": [
      "========== Training model with method ibp_ex+r3, restart 0 ==========\n"
     ]
    },
    {
     "name": "stderr",
     "output_type": "stream",
     "text": [
      "Epoch:   0%|          | 0/10 [00:00<?, ?it/s, loss=1.43, reg=tensor(32.2386, device='cuda:0', grad_fn=<AddBackward0>)]"
     ]
    },
    {
     "name": "stderr",
     "output_type": "stream",
     "text": [
      "Epoch: 100%|██████████| 10/10 [02:28<00:00, 14.83s/it, loss=0.771, reg=tensor(33.0369, device='cuda:0', grad_fn=<AddBackward0>)]\n"
     ]
    },
    {
     "name": "stdout",
     "output_type": "stream",
     "text": [
      "Testing model accuracy for the training set\n",
      "--- Model accuracy ---\n",
      "Nominal = 1\n",
      "Testing model accuracy for the test set\n",
      "--- Model accuracy ---\n",
      "Nominal = 0.7\n",
      "--- Delta input robustness ---\n",
      "Delta Input Robustness = 0\n",
      "--- Mininimum delta for which the test set is certifiably 1-delta-input-robust ---\n",
      "Min robust delta = 1.54e+03\n",
      "========== Training model with method ibp_ex+r3, restart 1 ==========\n"
     ]
    },
    {
     "name": "stderr",
     "output_type": "stream",
     "text": [
      "Epoch: 100%|██████████| 10/10 [02:28<00:00, 14.83s/it, loss=1.06, reg=tensor(41.2903, device='cuda:0', grad_fn=<AddBackward0>)]\n"
     ]
    },
    {
     "name": "stdout",
     "output_type": "stream",
     "text": [
      "Testing model accuracy for the training set\n",
      "--- Model accuracy ---\n",
      "Nominal = 1\n",
      "Testing model accuracy for the test set\n",
      "--- Model accuracy ---\n",
      "Nominal = 0.76\n",
      "--- Delta input robustness ---\n",
      "Delta Input Robustness = 0\n",
      "--- Mininimum delta for which the test set is certifiably 1-delta-input-robust ---\n",
      "Min robust delta = 1.17e+03\n",
      "========== Training model with method ibp_ex+r3, restart 2 ==========\n"
     ]
    },
    {
     "name": "stderr",
     "output_type": "stream",
     "text": [
      "Epoch: 100%|██████████| 10/10 [02:28<00:00, 14.83s/it, loss=0.73, reg=tensor(31.4414, device='cuda:0', grad_fn=<AddBackward0>)]\n"
     ]
    },
    {
     "name": "stdout",
     "output_type": "stream",
     "text": [
      "Testing model accuracy for the training set\n",
      "--- Model accuracy ---\n",
      "Nominal = 1\n",
      "Testing model accuracy for the test set\n",
      "--- Model accuracy ---\n",
      "Nominal = 0.68\n",
      "--- Delta input robustness ---\n",
      "Delta Input Robustness = 0\n",
      "--- Mininimum delta for which the test set is certifiably 1-delta-input-robust ---\n",
      "Min robust delta = 1.59e+03\n",
      "========== Training model with method ibp_ex+r3, restart 3 ==========\n"
     ]
    },
    {
     "name": "stderr",
     "output_type": "stream",
     "text": [
      "Epoch: 100%|██████████| 10/10 [02:28<00:00, 14.84s/it, loss=0.809, reg=tensor(35.0274, device='cuda:0', grad_fn=<AddBackward0>)]\n"
     ]
    },
    {
     "name": "stdout",
     "output_type": "stream",
     "text": [
      "Testing model accuracy for the training set\n",
      "--- Model accuracy ---\n",
      "Nominal = 1\n",
      "Testing model accuracy for the test set\n",
      "--- Model accuracy ---\n",
      "Nominal = 0.72\n",
      "--- Delta input robustness ---\n",
      "Delta Input Robustness = 0\n",
      "--- Mininimum delta for which the test set is certifiably 1-delta-input-robust ---\n",
      "Min robust delta = 1.42e+03\n"
     ]
    }
   ],
   "source": [
    "ibp_ex_and_r3_method = \"ibp_ex+r3\"\n",
    "# hyperparams\n",
    "num_epochs, lr, restarts, epsilon, weight_coeff, k = 10, 1e-4, 4, 0.05, 8e-4, 0.023\n",
    "train_acc, test_acc, num_robust, min_robust_delta, min_lower_bound, max_upper_bound = 0, 0, 0, 1e+8, 0, 0\n",
    "for i in range(restarts):\n",
    "    # Reinitialize the model\n",
    "    # We could try to just reinitialize the weights, but we can throw away the previous model for now as we do not need it\n",
    "    torch.manual_seed(i + SEED)\n",
    "    curr_model = DermaNet(3, IMG_SIZE, 1)\n",
    "\n",
    "    print(f\"========== Training model with method {ibp_ex_and_r3_method}, restart {i} ==========\")\n",
    "    train_model_with_certified_input_grad(dl_train, num_epochs, curr_model, lr, criterion, epsilon, ibp_ex_and_r3_method,\n",
    "        k, device, True, weight_reg_coeff=weight_coeff)\n",
    "    print(\"Testing model accuracy for the training set\")\n",
    "    train_acc += test_model_accuracy(curr_model, dl_train, device)\n",
    "    print(\"Testing model accuracy for the test set\")\n",
    "    test_acc += test_model_accuracy(curr_model, dl_test, device)\n",
    "    n_r, min_delta, m_l, m_u = test_delta_input_robustness(dl_test, curr_model, epsilon, DELTA_INPUT_ROBUSTNESS_PARAM,\n",
    "                                \"binary_cross_entropy\", device, has_conv=True)\n",
    "    num_robust += n_r\n",
    "    min_robust_delta = min(min_robust_delta, min_delta)\n",
    "    min_lower_bound += m_l\n",
    "    max_upper_bound += m_u\n",
    "write_results_to_file(\"experiment_results/derma_mnist.yaml\",\n",
    "                      {\"train_acc\": round(train_acc / restarts, 3),\n",
    "                       \"test_acc\": round(test_acc / restarts, 3),\n",
    "                       \"num_robust\": round(num_robust / restarts, 3),\n",
    "                       \"min_lower_bound\": round(min_lower_bound / restarts, 3),\n",
    "                       \"max_upper_bound\": round(max_upper_bound / restarts, 3),\n",
    "                       \"min_robust_delta\": min_robust_delta}, ibp_ex_and_r3_method)\n",
    "write_results_to_file(\"experiment_results/derma_mnist_params.yaml\",\n",
    "                      {\"epsilon\": epsilon,\n",
    "                       \"k\": k,\n",
    "                       \"weight_coeff\": weight_coeff,\n",
    "                       \"num_epochs\": num_epochs,\n",
    "                       \"lr\": lr,\n",
    "                       \"restarts\": restarts,\n",
    "                       \"delta_threshold\": DELTA_INPUT_ROBUSTNESS_PARAM}, ibp_ex_and_r3_method)"
   ]
  },
  {
   "cell_type": "markdown",
   "metadata": {},
   "source": [
    "# Sample Complexity Experiments"
   ]
  },
  {
   "cell_type": "code",
   "execution_count": null,
   "metadata": {},
   "outputs": [],
   "source": [
    "mask_ratios = [0.8, 0.6, 0.4, 0.2]\n",
    "methods = [\"ibp_ex\", \"ibp_ex+r3\", \"r3\", \"r4\"]\n",
    "for method in methods:\n",
    "    # Load the params\n",
    "    params_dict = load_params_or_results_from_file(\"experiment_results/decoy_mnist_params.yaml\", method)\n",
    "    delta_threshold = params_dict[\"delta_threshold\"]\n",
    "    epsilon = params_dict[\"epsilon\"]\n",
    "    k = params_dict[\"k\"]\n",
    "    weight_coeff = params_dict[\"weight_coeff\"]\n",
    "    num_epochs = params_dict[\"num_epochs\"]\n",
    "    lr = params_dict[\"lr\"]\n",
    "    restarts = params_dict[\"restarts\"]\n",
    "    for mask_ratio in mask_ratios:\n",
    "        new_dl_train = derma_mnist.remove_masks(mask_ratio, dl_train)\n",
    "        train_acc, test_acc, num_robust, min_robust_delta, min_lower_bound, max_upper_bound = 0, 0, 0, 1e+8, 0, 0\n",
    "        for i in range(restarts):\n",
    "            # Reinitialize the model\n",
    "            # We could try to just reinitialize the weights, but we can throw away the previous model for now as we do not need it\n",
    "            torch.manual_seed(i + SEED)\n",
    "            curr_model = DermaNet(3, IMG_SIZE, 1)\n",
    "\n",
    "            print(f\"========== Training model with method {method} restart {i} and mask ratio {mask_ratio} ==========\")\n",
    "            k_schedule = uniformize_magnitudes_schedule if method in [\"r3\", \"ibp_ex\", \"ibp_ex+r3\"] else None\n",
    "            train_model_with_certified_input_grad(new_dl_train, num_epochs, curr_model, lr, criterion, epsilon, method,\n",
    "                                                  k, device, True, weight_reg_coeff=weight_coeff, k_schedule=k_schedule)\n",
    "            train_acc += test_model_accuracy(curr_model, new_dl_train, device, suppress_log=True)\n",
    "            test_acc += test_model_accuracy(curr_model, dl_test, device, suppress_log=True)\n",
    "            n_r, min_delta, m_l, m_u = test_delta_input_robustness(dl_test, curr_model, epsilon, delta_threshold,\n",
    "                                                         \"binary_cross_entropy\", device, has_conv=True, suppress_log=True)\n",
    "            num_robust += n_r\n",
    "            min_robust_delta = min(min_robust_delta, min_delta)\n",
    "            min_lower_bound += m_l\n",
    "            max_upper_bound += m_u\n",
    "        write_results_to_file(\"experiment_results/decoy_mnist_sample_complexity.yaml\",\n",
    "                            {\"train_acc\": round(train_acc / restarts, 3),\n",
    "                             \"test_acc\": round(test_acc / restarts, 3),\n",
    "                             \"num_robust\": round(num_robust / restarts, 3),\n",
    "                             \"min_lower_bound_avg\": round(min_lower_bound / restarts, 3),\n",
    "                             \"max_upper_bound_avg\": round(max_upper_bound / restarts, 3),\n",
    "                             \"min_robust_delta\": min_robust_delta}, method + f\"_{int(mask_ratio * 100)}\")"
   ]
  },
  {
   "cell_type": "markdown",
   "metadata": {},
   "source": [
    "# SIZE Experiments"
   ]
  },
  {
   "cell_type": "markdown",
   "metadata": {},
   "source": [
    "### 28 x 28 Image Size"
   ]
  },
  {
   "cell_type": "code",
   "execution_count": 14,
   "metadata": {},
   "outputs": [
    {
     "name": "stdout",
     "output_type": "stream",
     "text": [
      "Using downloaded and verified file: /homes/mg2720/phd/R4/examples/datasets/data/dermamnist.npz\n",
      "Using downloaded and verified file: /homes/mg2720/phd/R4/examples/datasets/data/dermamnist.npz\n",
      "Using downloaded and verified file: /homes/mg2720/phd/R4/examples/datasets/data/dermamnist.npz\n",
      "Using downloaded and verified file: /homes/mg2720/phd/R4/examples/datasets/data/dermamnist.npz\n",
      "Using downloaded and verified file: /homes/mg2720/phd/R4/examples/datasets/data/dermamnist.npz\n",
      "Using downloaded and verified file: /homes/mg2720/phd/R4/examples/datasets/data/dermamnist.npz\n",
      "========== Training model with method r4, restart 0 ==========\n"
     ]
    },
    {
     "name": "stderr",
     "output_type": "stream",
     "text": [
      "Epoch: 100%|██████████| 30/30 [01:10<00:00,  2.34s/it, loss=0.409, reg=tensor(0.2000, device='cuda:0', grad_fn=<DivBackward0>)]\n"
     ]
    },
    {
     "name": "stdout",
     "output_type": "stream",
     "text": [
      "Testing model accuracy for the training set\n",
      "--- Model accuracy ---\n",
      "Nominal = 0.8\n",
      "Testing model accuracy for the test set\n",
      "--- Model accuracy ---\n",
      "Nominal = 0.8\n",
      "--- Delta input robustness ---\n",
      "Delta Input Robustness = 0\n",
      "--- Mininimum delta for which the test set is certifiably 1-delta-input-robust ---\n",
      "Min robust delta = 7.63\n",
      "========== Training model with method r4, restart 1 ==========\n"
     ]
    },
    {
     "name": "stderr",
     "output_type": "stream",
     "text": [
      "Epoch: 100%|██████████| 30/30 [01:10<00:00,  2.35s/it, loss=0.439, reg=tensor(0.2355, device='cuda:0', grad_fn=<DivBackward0>)]\n"
     ]
    },
    {
     "name": "stdout",
     "output_type": "stream",
     "text": [
      "Testing model accuracy for the training set\n",
      "--- Model accuracy ---\n",
      "Nominal = 0.8\n",
      "Testing model accuracy for the test set\n",
      "--- Model accuracy ---\n",
      "Nominal = 0.8\n",
      "--- Delta input robustness ---\n",
      "Delta Input Robustness = 0\n",
      "--- Mininimum delta for which the test set is certifiably 1-delta-input-robust ---\n",
      "Min robust delta = 7.44\n",
      "========== Training model with method r4, restart 2 ==========\n"
     ]
    },
    {
     "name": "stderr",
     "output_type": "stream",
     "text": [
      "Epoch: 100%|██████████| 30/30 [01:10<00:00,  2.35s/it, loss=0.428, reg=tensor(0.3432, device='cuda:0', grad_fn=<DivBackward0>)]\n"
     ]
    },
    {
     "name": "stdout",
     "output_type": "stream",
     "text": [
      "Testing model accuracy for the training set\n",
      "--- Model accuracy ---\n",
      "Nominal = 0.8\n",
      "Testing model accuracy for the test set\n",
      "--- Model accuracy ---\n",
      "Nominal = 0.79\n",
      "--- Delta input robustness ---\n",
      "Delta Input Robustness = 0\n",
      "--- Mininimum delta for which the test set is certifiably 1-delta-input-robust ---\n",
      "Min robust delta = 20.1\n",
      "========== Training model with method r4, restart 3 ==========\n"
     ]
    },
    {
     "name": "stderr",
     "output_type": "stream",
     "text": [
      "Epoch: 100%|██████████| 30/30 [01:08<00:00,  2.29s/it, loss=0.47, reg=tensor(0.2147, device='cuda:0', grad_fn=<DivBackward0>)] \n"
     ]
    },
    {
     "name": "stdout",
     "output_type": "stream",
     "text": [
      "Testing model accuracy for the training set\n",
      "--- Model accuracy ---\n",
      "Nominal = 0.79\n",
      "Testing model accuracy for the test set\n",
      "--- Model accuracy ---\n",
      "Nominal = 0.78\n",
      "--- Delta input robustness ---\n",
      "Delta Input Robustness = 0\n",
      "--- Mininimum delta for which the test set is certifiably 1-delta-input-robust ---\n",
      "Min robust delta = 8.28\n"
     ]
    }
   ],
   "source": [
    "IMG_SIZE = 28\n",
    "train_dset = derma_mnist.DecoyDermaMNIST(True, size=IMG_SIZE)\n",
    "test_dset = derma_mnist.DecoyDermaMNIST(False, size=IMG_SIZE)\n",
    "dl_train = derma_mnist.get_dataloader(train_dset, batch_size)\n",
    "dl_test = derma_mnist.get_dataloader(test_dset, batch_size)\n",
    "criterion = torch.nn.BCELoss()\n",
    "device = torch.device(\"cuda:0\" if torch.cuda.is_available() else \"cpu\")\n",
    "# Train standard 4 times and test accuracy and delta input robustness for the masked region\n",
    "r4_method = \"r4\"\n",
    "num_epochs, lr, restarts, epsilon, weight_coeff, k = 30, 1e-4, 4, 0.05, -1, 0.02\n",
    "train_acc, test_acc, num_robust, min_robust_delta, min_lower_bound, max_upper_bound = 0, 0, 0, 1e+8, 0, 0\n",
    "for i in range(restarts):\n",
    "    # Reinitialize the model\n",
    "    # We could try to just reinitialize the weights, but we can throw away the previous model for now as we do not need it\n",
    "    torch.manual_seed(i + SEED)\n",
    "    curr_model = DermaNet(3, IMG_SIZE, 1)\n",
    "\n",
    "    print(f\"========== Training model with method {r4_method}, restart {i} ==========\")\n",
    "    train_model_with_certified_input_grad(dl_train, num_epochs, curr_model, lr, criterion, epsilon, r4_method, k, device, True)\n",
    "    print(\"Testing model accuracy for the training set\")\n",
    "    train_acc += test_model_accuracy(curr_model, dl_train, device)\n",
    "    print(\"Testing model accuracy for the test set\")\n",
    "    test_acc += test_model_accuracy(curr_model, dl_test, device)\n",
    "    n_r, min_delta, m_l, m_u = test_delta_input_robustness(dl_test, curr_model, epsilon, DELTA_INPUT_ROBUSTNESS_PARAM,\n",
    "                                \"binary_cross_entropy\", device, has_conv=True)\n",
    "    num_robust += n_r\n",
    "    min_robust_delta = min(min_robust_delta, min_delta)\n",
    "    min_lower_bound += m_l\n",
    "    max_upper_bound += m_u\n",
    "write_results_to_file(\"experiment_results/derma_size.yaml\",\n",
    "                      {\"train_acc\": round(train_acc / restarts, 3),\n",
    "                       \"test_acc\": round(test_acc / restarts, 3),\n",
    "                       \"num_robust\": round(num_robust / restarts, 3),\n",
    "                       \"min_lower_bound\": round(min_lower_bound / restarts, 3),\n",
    "                       \"max_upper_bound\": round(max_upper_bound / restarts, 3),\n",
    "                       \"min_robust_delta\": min_robust_delta}, IMG_SIZE)\n",
    "write_results_to_file(\"experiment_results/derma_size_params.yaml\",\n",
    "                      {\"epsilon\": epsilon,\n",
    "                       \"k\": k,\n",
    "                       \"weight_coeff\": weight_coeff,\n",
    "                       \"num_epochs\": num_epochs,\n",
    "                       \"lr\": lr,\n",
    "                       \"restarts\": restarts,\n",
    "                       \"delta_threshold\": DELTA_INPUT_ROBUSTNESS_PARAM}, IMG_SIZE)"
   ]
  },
  {
   "cell_type": "markdown",
   "metadata": {},
   "source": [
    "### 128 x 128 Image Size"
   ]
  },
  {
   "cell_type": "code",
   "execution_count": 8,
   "metadata": {},
   "outputs": [
    {
     "name": "stdout",
     "output_type": "stream",
     "text": [
      "Using downloaded and verified file: /homes/mg2720/phd/R4/examples/datasets/data/dermamnist_128.npz\n",
      "Using downloaded and verified file: /homes/mg2720/phd/R4/examples/datasets/data/dermamnist_128.npz\n",
      "Using downloaded and verified file: /homes/mg2720/phd/R4/examples/datasets/data/dermamnist_128.npz\n",
      "Using downloaded and verified file: /homes/mg2720/phd/R4/examples/datasets/data/dermamnist_128.npz\n",
      "Using downloaded and verified file: /homes/mg2720/phd/R4/examples/datasets/data/dermamnist_128.npz\n",
      "Using downloaded and verified file: /homes/mg2720/phd/R4/examples/datasets/data/dermamnist_128.npz\n",
      "========== Training model with method r4, restart 0 ==========\n"
     ]
    },
    {
     "name": "stderr",
     "output_type": "stream",
     "text": [
      "Epoch: 100%|██████████| 10/10 [10:55<00:00, 65.57s/it, loss=0.348, reg=tensor(0.2619, device='cuda:0', grad_fn=<DivBackward0>)]\n"
     ]
    },
    {
     "name": "stdout",
     "output_type": "stream",
     "text": [
      "Testing model accuracy for the training set\n",
      "--- Model accuracy ---\n",
      "Nominal = 0.8\n",
      "Testing model accuracy for the test set\n",
      "--- Model accuracy ---\n",
      "Nominal = 0.8\n",
      "--- Delta input robustness ---\n",
      "Delta Input Robustness = 0\n",
      "--- Mininimum delta for which the test set is certifiably 1-delta-input-robust ---\n",
      "Min robust delta = 8.78\n",
      "========== Training model with method r4, restart 1 ==========\n"
     ]
    },
    {
     "name": "stderr",
     "output_type": "stream",
     "text": [
      "Epoch: 100%|██████████| 10/10 [10:55<00:00, 65.53s/it, loss=0.37, reg=tensor(0.2612, device='cuda:0', grad_fn=<DivBackward0>)] \n"
     ]
    },
    {
     "name": "stdout",
     "output_type": "stream",
     "text": [
      "Testing model accuracy for the training set\n",
      "--- Model accuracy ---\n",
      "Nominal = 0.8\n",
      "Testing model accuracy for the test set\n",
      "--- Model accuracy ---\n",
      "Nominal = 0.79\n",
      "--- Delta input robustness ---\n",
      "Delta Input Robustness = 0\n",
      "--- Mininimum delta for which the test set is certifiably 1-delta-input-robust ---\n",
      "Min robust delta = 9.66\n",
      "========== Training model with method r4, restart 2 ==========\n"
     ]
    },
    {
     "name": "stderr",
     "output_type": "stream",
     "text": [
      "Epoch: 100%|██████████| 10/10 [10:55<00:00, 65.57s/it, loss=0.536, reg=tensor(0.2276, device='cuda:0', grad_fn=<DivBackward0>)]\n"
     ]
    },
    {
     "name": "stdout",
     "output_type": "stream",
     "text": [
      "Testing model accuracy for the training set\n",
      "--- Model accuracy ---\n",
      "Nominal = 0.8\n",
      "Testing model accuracy for the test set\n",
      "--- Model accuracy ---\n",
      "Nominal = 0.8\n",
      "--- Delta input robustness ---\n",
      "Delta Input Robustness = 0\n",
      "--- Mininimum delta for which the test set is certifiably 1-delta-input-robust ---\n",
      "Min robust delta = 6.18\n",
      "========== Training model with method r4, restart 3 ==========\n"
     ]
    },
    {
     "name": "stderr",
     "output_type": "stream",
     "text": [
      "Epoch: 100%|██████████| 10/10 [10:55<00:00, 65.52s/it, loss=0.408, reg=tensor(0.2315, device='cuda:0', grad_fn=<DivBackward0>)]\n"
     ]
    },
    {
     "name": "stdout",
     "output_type": "stream",
     "text": [
      "Testing model accuracy for the training set\n",
      "--- Model accuracy ---\n",
      "Nominal = 0.8\n",
      "Testing model accuracy for the test set\n",
      "--- Model accuracy ---\n",
      "Nominal = 0.8\n",
      "--- Delta input robustness ---\n",
      "Delta Input Robustness = 0\n",
      "--- Mininimum delta for which the test set is certifiably 1-delta-input-robust ---\n",
      "Min robust delta = 8.01\n"
     ]
    }
   ],
   "source": [
    "IMG_SIZE = 128\n",
    "train_dset = derma_mnist.DecoyDermaMNIST(True, size=IMG_SIZE)\n",
    "test_dset = derma_mnist.DecoyDermaMNIST(False, size=IMG_SIZE)\n",
    "dl_train = derma_mnist.get_dataloader(train_dset, 125)\n",
    "dl_test = derma_mnist.get_dataloader(test_dset, 125)\n",
    "criterion = torch.nn.BCELoss()\n",
    "device = torch.device(\"cuda:0\" if torch.cuda.is_available() else \"cpu\")\n",
    "# Train standard 4 times and test accuracy and delta input robustness for the masked region\n",
    "r4_method = \"r4\"\n",
    "num_epochs, lr, restarts, epsilon, weight_coeff, k = 10, 1e-4, 4, 0.05, -1, 0.08\n",
    "train_acc, test_acc, num_robust, min_robust_delta, min_lower_bound, max_upper_bound = 0, 0, 0, 1e+8, 0, 0\n",
    "for i in range(restarts):\n",
    "    # Reinitialize the model\n",
    "    # We could try to just reinitialize the weights, but we can throw away the previous model for now as we do not need it\n",
    "    torch.manual_seed(i + SEED)\n",
    "    curr_model = DermaNet(3, IMG_SIZE, 1)\n",
    "\n",
    "    print(f\"========== Training model with method {r4_method}, restart {i} ==========\")\n",
    "    train_model_with_certified_input_grad(dl_train, num_epochs, curr_model, lr, criterion, epsilon, r4_method, k, device, True)\n",
    "    print(\"Testing model accuracy for the training set\")\n",
    "    train_acc += test_model_accuracy(curr_model, dl_train, device)\n",
    "    print(\"Testing model accuracy for the test set\")\n",
    "    test_acc += test_model_accuracy(curr_model, dl_test, device)\n",
    "    n_r, min_delta, m_l, m_u = test_delta_input_robustness(dl_test, curr_model, epsilon, DELTA_INPUT_ROBUSTNESS_PARAM,\n",
    "                                \"binary_cross_entropy\", device, has_conv=True)\n",
    "    num_robust += n_r\n",
    "    min_robust_delta = min(min_robust_delta, min_delta)\n",
    "    min_lower_bound += m_l\n",
    "    max_upper_bound += m_u\n",
    "write_results_to_file(\"experiment_results/derma_size.yaml\",\n",
    "                      {\"train_acc\": round(train_acc / restarts, 3),\n",
    "                       \"test_acc\": round(test_acc / restarts, 3),\n",
    "                       \"num_robust\": round(num_robust / restarts, 3),\n",
    "                       \"min_lower_bound\": round(min_lower_bound / restarts, 3),\n",
    "                       \"max_upper_bound\": round(max_upper_bound / restarts, 3),\n",
    "                       \"min_robust_delta\": min_robust_delta}, IMG_SIZE)\n",
    "write_results_to_file(\"experiment_results/derma_size_params.yaml\",\n",
    "                      {\"epsilon\": epsilon,\n",
    "                       \"k\": k,\n",
    "                       \"weight_coeff\": weight_coeff,\n",
    "                       \"num_epochs\": num_epochs,\n",
    "                       \"lr\": lr,\n",
    "                       \"restarts\": restarts,\n",
    "                       \"delta_threshold\": 1}, IMG_SIZE)"
   ]
  },
  {
   "cell_type": "code",
   "execution_count": null,
   "metadata": {},
   "outputs": [
    {
     "name": "stdout",
     "output_type": "stream",
     "text": [
      "Using downloaded and verified file: /vol/bitbucket/mg2720/derma_mnist_data/dermamnist_224.npz\n",
      "Using downloaded and verified file: /vol/bitbucket/mg2720/derma_mnist_data/dermamnist_224.npz\n",
      "Using downloaded and verified file: /vol/bitbucket/mg2720/derma_mnist_data/dermamnist_224.npz\n",
      "Using downloaded and verified file: /vol/bitbucket/mg2720/derma_mnist_data/dermamnist_224.npz\n",
      "Using downloaded and verified file: /vol/bitbucket/mg2720/derma_mnist_data/dermamnist_224.npz\n",
      "Using downloaded and verified file: /vol/bitbucket/mg2720/derma_mnist_data/dermamnist_224.npz\n",
      "========== Training model with method r4, restart 0 ==========\n"
     ]
    },
    {
     "name": "stderr",
     "output_type": "stream",
     "text": [
      "Epoch: 100%|██████████| 10/10 [39:03<00:00, 234.32s/it, loss=0.344, reg=tensor(0.1795, device='cuda:0', grad_fn=<DivBackward0>)]\n"
     ]
    },
    {
     "name": "stdout",
     "output_type": "stream",
     "text": [
      "Testing model accuracy for the training set\n",
      "--- Model accuracy ---\n",
      "Nominal = 0.81\n",
      "Testing model accuracy for the test set\n",
      "--- Model accuracy ---\n",
      "Nominal = 0.8\n"
     ]
    },
    {
     "ename": "NameError",
     "evalue": "name 'DELTA_INPUT_ROBUSTNESS_PARAM' is not defined",
     "output_type": "error",
     "traceback": [
      "\u001b[0;31m---------------------------------------------------------------------------\u001b[0m",
      "\u001b[0;31mNameError\u001b[0m                                 Traceback (most recent call last)",
      "Cell \u001b[0;32mIn[5], line 24\u001b[0m\n\u001b[1;32m     22\u001b[0m \u001b[38;5;28mprint\u001b[39m(\u001b[38;5;124m\"\u001b[39m\u001b[38;5;124mTesting model accuracy for the test set\u001b[39m\u001b[38;5;124m\"\u001b[39m)\n\u001b[1;32m     23\u001b[0m test_acc \u001b[38;5;241m+\u001b[39m\u001b[38;5;241m=\u001b[39m test_model_accuracy(curr_model, dl_test, device)\n\u001b[0;32m---> 24\u001b[0m n_r, min_delta, m_l, m_u \u001b[38;5;241m=\u001b[39m test_delta_input_robustness(dl_test, curr_model, epsilon, \u001b[43mDELTA_INPUT_ROBUSTNESS_PARAM\u001b[49m,\n\u001b[1;32m     25\u001b[0m                             \u001b[38;5;124m\"\u001b[39m\u001b[38;5;124mbinary_cross_entropy\u001b[39m\u001b[38;5;124m\"\u001b[39m, device, has_conv\u001b[38;5;241m=\u001b[39m\u001b[38;5;28;01mTrue\u001b[39;00m)\n\u001b[1;32m     26\u001b[0m num_robust \u001b[38;5;241m+\u001b[39m\u001b[38;5;241m=\u001b[39m n_r\n\u001b[1;32m     27\u001b[0m min_robust_delta \u001b[38;5;241m=\u001b[39m \u001b[38;5;28mmin\u001b[39m(min_robust_delta, min_delta)\n",
      "\u001b[0;31mNameError\u001b[0m: name 'DELTA_INPUT_ROBUSTNESS_PARAM' is not defined"
     ]
    }
   ],
   "source": [
    "IMG_SIZE = 224\n",
    "train_dset = derma_mnist.DecoyDermaMNIST(True, size=IMG_SIZE, override_dir=\"/vol/bitbucket/mg2720/derma_mnist_data\")\n",
    "test_dset = derma_mnist.DecoyDermaMNIST(False, size=IMG_SIZE, override_dir=\"/vol/bitbucket/mg2720/derma_mnist_data\")\n",
    "dl_train = derma_mnist.get_dataloader(train_dset, 55)\n",
    "dl_test = derma_mnist.get_dataloader(test_dset, 55)\n",
    "criterion = torch.nn.BCELoss()\n",
    "device = torch.device(\"cuda:0\" if torch.cuda.is_available() else \"cpu\")\n",
    "# Train standard 4 times and test accuracy and delta input robustness for the masked region\n",
    "r4_method = \"r4\"\n",
    "num_epochs, lr, restarts, epsilon, weight_coeff, k = 10, 4e-5, 1, 0.05, -1, 0.08\n",
    "train_acc, test_acc, num_robust, min_robust_delta, min_lower_bound, max_upper_bound = 0, 0, 0, 1e+8, 0, 0\n",
    "for i in range(restarts):\n",
    "    # Reinitialize the model\n",
    "    # We could try to just reinitialize the weights, but we can throw away the previous model for now as we do not need it\n",
    "    torch.manual_seed(i + SEED)\n",
    "    curr_model = DermaNet(3, IMG_SIZE, 1)\n",
    "\n",
    "    print(f\"========== Training model with method {r4_method}, restart {i} ==========\")\n",
    "    train_model_with_certified_input_grad(dl_train, num_epochs, curr_model, lr, criterion, epsilon, r4_method, k, device, True)\n",
    "    print(\"Testing model accuracy for the training set\")\n",
    "    train_acc += test_model_accuracy(curr_model, dl_train, device)\n",
    "    print(\"Testing model accuracy for the test set\")\n",
    "    test_acc += test_model_accuracy(curr_model, dl_test, device)\n",
    "    n_r, min_delta, m_l, m_u = test_delta_input_robustness(dl_test, curr_model, epsilon, DELTA_INPUT_ROBUSTNESS_PARAM,\n",
    "                                \"binary_cross_entropy\", device, has_conv=True)\n",
    "    num_robust += n_r\n",
    "    min_robust_delta = min(min_robust_delta, min_delta)\n",
    "    min_lower_bound += m_l\n",
    "    max_upper_bound += m_u\n",
    "write_results_to_file(\"experiment_results/derma_size.yaml\",\n",
    "                      {\"train_acc\": round(train_acc / restarts, 3),\n",
    "                       \"test_acc\": round(test_acc / restarts, 3),\n",
    "                       \"num_robust\": round(num_robust / restarts, 3),\n",
    "                       \"min_lower_bound\": round(min_lower_bound / restarts, 3),\n",
    "                       \"max_upper_bound\": round(max_upper_bound / restarts, 3),\n",
    "                       \"min_robust_delta\": min_robust_delta}, IMG_SIZE)\n",
    "write_results_to_file(\"experiment_results/derma_size_params.yaml\",\n",
    "                      {\"epsilon\": epsilon,\n",
    "                       \"k\": k,\n",
    "                       \"weight_coeff\": weight_coeff,\n",
    "                       \"num_epochs\": num_epochs,\n",
    "                       \"lr\": lr,\n",
    "                       \"restarts\": restarts,\n",
    "                       \"delta_threshold\": DELTA_INPUT_ROBUSTNESS_PARAM}, IMG_SIZE)"
   ]
  },
  {
   "cell_type": "code",
   "execution_count": null,
   "metadata": {},
   "outputs": [],
   "source": []
  }
 ],
 "metadata": {
  "kernelspec": {
   "display_name": "fypvenv",
   "language": "python",
   "name": "python3"
  },
  "language_info": {
   "codemirror_mode": {
    "name": "ipython",
    "version": 3
   },
   "file_extension": ".py",
   "mimetype": "text/x-python",
   "name": "python",
   "nbconvert_exporter": "python",
   "pygments_lexer": "ipython3",
   "version": "3.10.12"
  }
 },
 "nbformat": 4,
 "nbformat_minor": 2
}

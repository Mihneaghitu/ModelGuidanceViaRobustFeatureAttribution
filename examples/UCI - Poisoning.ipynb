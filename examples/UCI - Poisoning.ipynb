{
 "cells": [
  {
   "cell_type": "markdown",
   "metadata": {},
   "source": [
    "# Poison Certified Training on UCI Datasets"
   ]
  },
  {
   "cell_type": "code",
   "execution_count": 1,
   "metadata": {},
   "outputs": [],
   "source": [
    "%load_ext autoreload\n",
    "%autoreload 2\n",
    "import torch\n",
    "import abstract_gradient_training as agt\n",
    "from models.fully_connected import FullyConnected \n",
    "from datasets import uci"
   ]
  },
  {
   "cell_type": "code",
   "execution_count": 2,
   "metadata": {},
   "outputs": [
    {
     "data": {
      "text/plain": [
       "<torch._C.Generator at 0x7ab644bcfcb0>"
      ]
     },
     "execution_count": 2,
     "metadata": {},
     "output_type": "execute_result"
    }
   ],
   "source": [
    "# configure the training parameters\n",
    "batchsize = 20000\n",
    "config = agt.AGTConfig(\n",
    "    fragsize=20000,\n",
    "    learning_rate=0.005,\n",
    "    epsilon=0.01,\n",
    "    k_poison=200,\n",
    "    n_epochs=1,\n",
    "    device=\"cuda:1\",\n",
    "    forward_bound=\"interval\",\n",
    "    backward_bound=\"interval\",\n",
    "    loss=\"mse\",\n",
    "    log_level=\"WARNING\",\n",
    ")\n",
    "torch.manual_seed(0)"
   ]
  },
  {
   "cell_type": "code",
   "execution_count": 3,
   "metadata": {},
   "outputs": [
    {
     "name": "stdout",
     "output_type": "stream",
     "text": [
      "houseelectric dataset, N=2049280, d=11\n"
     ]
    }
   ],
   "source": [
    "# initialize the model and dataset\n",
    "dl_train, dl_test = uci.get_dataloaders(batchsize, batchsize, \"houseelectric\")\n",
    "model = FullyConnected(11, 1, 64, 1)  # network with 1 hidden layer of 64 neurons"
   ]
  },
  {
   "cell_type": "code",
   "execution_count": 4,
   "metadata": {},
   "outputs": [
    {
     "name": "stderr",
     "output_type": "stream",
     "text": [
      "/vol/bitbucket/ps1623/venv/lib/python3.10/site-packages/torch/cuda/__init__.py:546: UserWarning: Can't initialize NVML\n",
      "  warnings.warn(\"Can't initialize NVML\")\n",
      "[AGT] [INFO    ] [17:47:00] Starting Poison Certified Training\n",
      "[AGT] [INFO    ] [17:47:01] Training batch 0: Network eval bounds=(0.18, 0.18, 0.18), W0 Bound=0.0 \n",
      "[AGT] [INFO    ] [17:47:01] Training batch 1: Network eval bounds=(0.17, 0.17, 0.17), W0 Bound=3.63e-05 \n",
      "[AGT] [INFO    ] [17:47:02] Training batch 2: Network eval bounds=(0.17, 0.17, 0.17), W0 Bound=7.25e-05 \n",
      "[AGT] [INFO    ] [17:47:02] Training batch 3: Network eval bounds=(0.16, 0.16, 0.16), W0 Bound=0.000108 \n",
      "[AGT] [INFO    ] [17:47:03] Training batch 4: Network eval bounds=(0.15, 0.15, 0.15), W0 Bound=0.000143 \n",
      "[AGT] [INFO    ] [17:47:03] Training batch 5: Network eval bounds=(0.15, 0.15, 0.15), W0 Bound=0.000178 \n",
      "[AGT] [INFO    ] [17:47:03] Training batch 6: Network eval bounds=(0.14, 0.14, 0.14), W0 Bound=0.000212 \n",
      "[AGT] [INFO    ] [17:47:04] Training batch 7: Network eval bounds=(0.13, 0.13, 0.13), W0 Bound=0.000246 \n",
      "[AGT] [INFO    ] [17:47:04] Training batch 8: Network eval bounds=(0.13, 0.13, 0.13), W0 Bound=0.000279 \n",
      "[AGT] [INFO    ] [17:47:04] Training batch 9: Network eval bounds=(0.12, 0.12, 0.12), W0 Bound=0.000312 \n",
      "[AGT] [INFO    ] [17:47:05] Training batch 10: Network eval bounds=(0.12, 0.12, 0.12), W0 Bound=0.000344 \n",
      "[AGT] [INFO    ] [17:47:05] Training batch 11: Network eval bounds=(0.11, 0.11, 0.11), W0 Bound=0.000377 \n",
      "[AGT] [INFO    ] [17:47:06] Training batch 12: Network eval bounds=(0.11, 0.11, 0.11), W0 Bound=0.000409 \n",
      "[AGT] [INFO    ] [17:47:06] Training batch 13: Network eval bounds=(0.11, 0.11, 0.11), W0 Bound=0.000442 \n",
      "[AGT] [INFO    ] [17:47:06] Training batch 14: Network eval bounds=(0.1 , 0.1 , 0.1 ), W0 Bound=0.000474 \n",
      "[AGT] [INFO    ] [17:47:07] Training batch 15: Network eval bounds=(0.099, 0.099, 0.099), W0 Bound=0.000505 \n",
      "[AGT] [INFO    ] [17:47:07] Training batch 16: Network eval bounds=(0.096, 0.096, 0.096), W0 Bound=0.000537 \n",
      "[AGT] [INFO    ] [17:47:08] Training batch 17: Network eval bounds=(0.092, 0.092, 0.092), W0 Bound=0.000568 \n",
      "[AGT] [INFO    ] [17:47:08] Training batch 18: Network eval bounds=(0.09, 0.089, 0.089), W0 Bound=0.000599 \n",
      "[AGT] [INFO    ] [17:47:08] Training batch 19: Network eval bounds=(0.087, 0.087, 0.087), W0 Bound=0.00063 \n",
      "[AGT] [INFO    ] [17:47:09] Training batch 20: Network eval bounds=(0.083, 0.083, 0.083), W0 Bound=0.000661 \n",
      "[AGT] [INFO    ] [17:47:09] Training batch 21: Network eval bounds=(0.082, 0.081, 0.081), W0 Bound=0.000692 \n",
      "[AGT] [INFO    ] [17:47:09] Training batch 22: Network eval bounds=(0.078, 0.078, 0.078), W0 Bound=0.000723 \n",
      "[AGT] [INFO    ] [17:47:10] Training batch 23: Network eval bounds=(0.077, 0.077, 0.077), W0 Bound=0.000754 \n",
      "[AGT] [INFO    ] [17:47:10] Training batch 24: Network eval bounds=(0.075, 0.075, 0.074), W0 Bound=0.000784 \n",
      "[AGT] [INFO    ] [17:47:11] Training batch 25: Network eval bounds=(0.072, 0.072, 0.072), W0 Bound=0.000814 \n",
      "[AGT] [INFO    ] [17:47:11] Training batch 26: Network eval bounds=(0.07, 0.07, 0.069), W0 Bound=0.000845 \n",
      "[AGT] [INFO    ] [17:47:11] Training batch 27: Network eval bounds=(0.068, 0.068, 0.068), W0 Bound=0.000875 \n",
      "[AGT] [INFO    ] [17:47:12] Training batch 28: Network eval bounds=(0.067, 0.066, 0.066), W0 Bound=0.000906 \n",
      "[AGT] [INFO    ] [17:47:12] Training batch 29: Network eval bounds=(0.066, 0.065, 0.065), W0 Bound=0.000936 \n",
      "[AGT] [INFO    ] [17:47:12] Training batch 30: Network eval bounds=(0.065, 0.065, 0.064), W0 Bound=0.000967 \n",
      "[AGT] [INFO    ] [17:47:13] Training batch 31: Network eval bounds=(0.062, 0.061, 0.061), W0 Bound=0.000998 \n",
      "[AGT] [INFO    ] [17:47:13] Training batch 32: Network eval bounds=(0.061, 0.061, 0.06), W0 Bound=0.00103 \n",
      "[AGT] [INFO    ] [17:47:14] Training batch 33: Network eval bounds=(0.061, 0.06, 0.06), W0 Bound=0.00106 \n",
      "[AGT] [INFO    ] [17:47:14] Training batch 34: Network eval bounds=(0.059, 0.058, 0.058), W0 Bound=0.00109 \n",
      "[AGT] [INFO    ] [17:47:14] Training batch 35: Network eval bounds=(0.057, 0.056, 0.056), W0 Bound=0.00112 \n",
      "[AGT] [INFO    ] [17:47:15] Training batch 36: Network eval bounds=(0.056, 0.056, 0.055), W0 Bound=0.00116 \n",
      "[AGT] [INFO    ] [17:47:15] Training batch 37: Network eval bounds=(0.055, 0.055, 0.054), W0 Bound=0.00119 \n",
      "[AGT] [INFO    ] [17:47:16] Training batch 38: Network eval bounds=(0.054, 0.053, 0.053), W0 Bound=0.00122 \n",
      "[AGT] [INFO    ] [17:47:16] Training batch 39: Network eval bounds=(0.054, 0.053, 0.052), W0 Bound=0.00125 \n",
      "[AGT] [INFO    ] [17:47:16] Training batch 40: Network eval bounds=(0.052, 0.052, 0.051), W0 Bound=0.00128 \n",
      "[AGT] [INFO    ] [17:47:17] Training batch 41: Network eval bounds=(0.052, 0.051, 0.05), W0 Bound=0.00132 \n",
      "[AGT] [INFO    ] [17:47:17] Training batch 42: Network eval bounds=(0.051, 0.05, 0.05), W0 Bound=0.00135 \n",
      "[AGT] [INFO    ] [17:47:17] Training batch 43: Network eval bounds=(0.05, 0.05, 0.049), W0 Bound=0.00138 \n",
      "[AGT] [INFO    ] [17:47:18] Training batch 44: Network eval bounds=(0.05, 0.049, 0.048), W0 Bound=0.00142 \n",
      "[AGT] [INFO    ] [17:47:18] Training batch 45: Network eval bounds=(0.049, 0.049, 0.048), W0 Bound=0.00145 \n",
      "[AGT] [INFO    ] [17:47:19] Training batch 46: Network eval bounds=(0.048, 0.047, 0.047), W0 Bound=0.00149 \n",
      "[AGT] [INFO    ] [17:47:19] Training batch 47: Network eval bounds=(0.048, 0.047, 0.047), W0 Bound=0.00152 \n",
      "[AGT] [INFO    ] [17:47:19] Training batch 48: Network eval bounds=(0.047, 0.046, 0.046), W0 Bound=0.00156 \n",
      "[AGT] [INFO    ] [17:47:20] Training batch 49: Network eval bounds=(0.047, 0.046, 0.045), W0 Bound=0.00159 \n",
      "[AGT] [INFO    ] [17:47:20] Training batch 50: Network eval bounds=(0.047, 0.046, 0.045), W0 Bound=0.00163 \n",
      "[AGT] [INFO    ] [17:47:21] Training batch 51: Network eval bounds=(0.045, 0.044, 0.043), W0 Bound=0.00167 \n",
      "[AGT] [INFO    ] [17:47:21] Training batch 52: Network eval bounds=(0.045, 0.044, 0.043), W0 Bound=0.0017 \n",
      "[AGT] [INFO    ] [17:47:21] Training batch 53: Network eval bounds=(0.045, 0.044, 0.043), W0 Bound=0.00174 \n",
      "[AGT] [INFO    ] [17:47:22] Training batch 54: Network eval bounds=(0.045, 0.044, 0.043), W0 Bound=0.00178 \n",
      "[AGT] [INFO    ] [17:47:22] Training batch 55: Network eval bounds=(0.044, 0.043, 0.042), W0 Bound=0.00182 \n",
      "[AGT] [INFO    ] [17:47:22] Training batch 56: Network eval bounds=(0.045, 0.043, 0.042), W0 Bound=0.00186 \n",
      "[AGT] [INFO    ] [17:47:23] Training batch 57: Network eval bounds=(0.044, 0.042, 0.041), W0 Bound=0.0019 \n",
      "[AGT] [INFO    ] [17:47:23] Training batch 58: Network eval bounds=(0.044, 0.042, 0.041), W0 Bound=0.00195 \n",
      "[AGT] [INFO    ] [17:47:24] Training batch 59: Network eval bounds=(0.044, 0.042, 0.041), W0 Bound=0.00199 \n",
      "[AGT] [INFO    ] [17:47:24] Training batch 60: Network eval bounds=(0.043, 0.042, 0.041), W0 Bound=0.00203 \n",
      "[AGT] [INFO    ] [17:47:24] Training batch 61: Network eval bounds=(0.043, 0.041, 0.04), W0 Bound=0.00208 \n",
      "[AGT] [INFO    ] [17:47:25] Training batch 62: Network eval bounds=(0.043, 0.042, 0.04), W0 Bound=0.00212 \n",
      "[AGT] [INFO    ] [17:47:25] Training batch 63: Network eval bounds=(0.043, 0.041, 0.04), W0 Bound=0.00217 \n",
      "[AGT] [INFO    ] [17:47:25] Training batch 64: Network eval bounds=(0.042, 0.04, 0.039), W0 Bound=0.00222 \n",
      "[AGT] [INFO    ] [17:47:26] Training batch 65: Network eval bounds=(0.043, 0.041, 0.039), W0 Bound=0.00227 \n",
      "[AGT] [INFO    ] [17:47:26] Training batch 66: Network eval bounds=(0.042, 0.04, 0.039), W0 Bound=0.00232 \n",
      "[AGT] [INFO    ] [17:47:27] Training batch 67: Network eval bounds=(0.042, 0.04, 0.039), W0 Bound=0.00237 \n",
      "[AGT] [INFO    ] [17:47:27] Training batch 68: Network eval bounds=(0.042, 0.04, 0.038), W0 Bound=0.00242 \n",
      "[AGT] [INFO    ] [17:47:27] Training batch 69: Network eval bounds=(0.042, 0.04, 0.038), W0 Bound=0.00247 \n",
      "[AGT] [INFO    ] [17:47:28] Training batch 70: Network eval bounds=(0.041, 0.039, 0.037), W0 Bound=0.00253 \n",
      "[AGT] [INFO    ] [17:47:28] Training batch 71: Network eval bounds=(0.042, 0.04, 0.038), W0 Bound=0.00258 \n",
      "[AGT] [INFO    ] [17:47:29] Training batch 72: Network eval bounds=(0.041, 0.039, 0.037), W0 Bound=0.00264 \n",
      "[AGT] [INFO    ] [17:47:29] Training batch 73: Network eval bounds=(0.041, 0.039, 0.037), W0 Bound=0.0027 \n",
      "[AGT] [INFO    ] [17:47:29] Training batch 74: Network eval bounds=(0.041, 0.039, 0.037), W0 Bound=0.00276 \n",
      "[AGT] [INFO    ] [17:47:30] Training batch 75: Network eval bounds=(0.041, 0.039, 0.037), W0 Bound=0.00282 \n",
      "[AGT] [INFO    ] [17:47:30] Training batch 76: Network eval bounds=(0.042, 0.039, 0.037), W0 Bound=0.00289 \n",
      "[AGT] [INFO    ] [17:47:31] Training batch 77: Network eval bounds=(0.041, 0.039, 0.036), W0 Bound=0.00295 \n",
      "[AGT] [INFO    ] [17:47:31] Training batch 78: Network eval bounds=(0.041, 0.038, 0.036), W0 Bound=0.00302 \n",
      "[AGT] [INFO    ] [17:47:31] Training batch 79: Network eval bounds=(0.041, 0.038, 0.036), W0 Bound=0.00309 \n",
      "[AGT] [INFO    ] [17:47:32] Training batch 80: Network eval bounds=(0.042, 0.039, 0.036), W0 Bound=0.00316 \n",
      "[AGT] [INFO    ] [17:47:32] Training batch 81: Network eval bounds=(0.041, 0.038, 0.035), W0 Bound=0.00323 \n",
      "[AGT] [INFO    ] [17:47:32] Training batch 82: Network eval bounds=(0.041, 0.039, 0.036), W0 Bound=0.00331 \n",
      "[AGT] [INFO    ] [17:47:33] Training batch 83: Network eval bounds=(0.041, 0.038, 0.035), W0 Bound=0.00338 \n",
      "[AGT] [INFO    ] [17:47:33] Training batch 84: Network eval bounds=(0.041, 0.038, 0.035), W0 Bound=0.00346 \n",
      "[AGT] [INFO    ] [17:47:34] Training batch 85: Network eval bounds=(0.042, 0.039, 0.036), W0 Bound=0.00354 \n",
      "[AGT] [INFO    ] [17:47:34] Training batch 86: Network eval bounds=(0.041, 0.038, 0.035), W0 Bound=0.00363 \n",
      "[AGT] [INFO    ] [17:47:34] Training batch 87: Network eval bounds=(0.041, 0.038, 0.034), W0 Bound=0.00371 \n",
      "[AGT] [INFO    ] [17:47:35] Training batch 88: Network eval bounds=(0.042, 0.038, 0.035), W0 Bound=0.0038 \n",
      "[AGT] [INFO    ] [17:47:35] Training batch 89: Network eval bounds=(0.041, 0.038, 0.034), W0 Bound=0.00389 \n",
      "[AGT] [INFO    ] [17:47:36] Training batch 90: Network eval bounds=(0.041, 0.038, 0.034), W0 Bound=0.00399 \n",
      "[AGT] [INFO    ] [17:47:36] Training batch 91: Network eval bounds=(0.042, 0.038, 0.034), W0 Bound=0.00408 \n",
      "[AGT] [INFO    ] [17:47:36] Finished Poison Certified Training\n",
      "\n"
     ]
    }
   ],
   "source": [
    "# train the model\n",
    "param_l, param_n, param_u = agt.poison_certified_training(model, config, dl_train, dl_test)"
   ]
  },
  {
   "cell_type": "code",
   "execution_count": 5,
   "metadata": {},
   "outputs": [
    {
     "name": "stdout",
     "output_type": "stream",
     "text": [
      "Test MSE: nominal = 0.03772, certified upper bound = 0.04172, certified lower bound = 0.03398\n"
     ]
    }
   ],
   "source": [
    "# evaluate the trained model\n",
    "mse = agt.test_metrics.test_mse(param_n, param_l, param_u, dl_test)\n",
    "print(f\"Test MSE: nominal = {mse[1]:.4g}, certified upper bound = {mse[0]:.4g}, certified lower bound = {mse[2]:.4g}\")"
   ]
  }
 ],
 "metadata": {
  "kernelspec": {
   "display_name": "venv",
   "language": "python",
   "name": "python3"
  },
  "language_info": {
   "codemirror_mode": {
    "name": "ipython",
    "version": 3
   },
   "file_extension": ".py",
   "mimetype": "text/x-python",
   "name": "python",
   "nbconvert_exporter": "python",
   "pygments_lexer": "ipython3",
   "version": "3.10.12"
  }
 },
 "nbformat": 4,
 "nbformat_minor": 2
}

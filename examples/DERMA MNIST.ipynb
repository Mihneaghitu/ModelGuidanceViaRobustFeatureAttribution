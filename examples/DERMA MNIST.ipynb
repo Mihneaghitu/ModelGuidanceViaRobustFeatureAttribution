{
 "cells": [
  {
   "cell_type": "markdown",
   "metadata": {},
   "source": [
    "# R4 on DECOY DERMA MNIST"
   ]
  },
  {
   "cell_type": "code",
   "execution_count": null,
   "metadata": {},
   "outputs": [],
   "source": [
    "%load_ext autoreload\n",
    "%autoreload 2\n",
    "import torch\n",
    "import tqdm\n",
    "import matplotlib.pyplot as plt\n",
    "import os\n",
    "import sys\n",
    "sys.path.append(os.path.abspath('..'))\n",
    "from models.R4_models import DermaNet\n",
    "from models.robust_regularizer import input_gradient_interval_regularizer\n",
    "from models.pipeline import (train_model_with_pgd_robust_input_grad, train_model_with_certified_input_grad,\n",
    "                             test_model_accuracy, test_delta_input_robustness, write_results_to_file, uniformize_magnitudes_schedule)\n",
    "from datasets import derma_mnist"
   ]
  },
  {
   "cell_type": "markdown",
   "metadata": {},
   "source": [
    "# Get the dataloaders "
   ]
  },
  {
   "cell_type": "code",
   "execution_count": null,
   "metadata": {},
   "outputs": [],
   "source": [
    "CUDA_LAUNCH_BLOCKING=1\n",
    "SEED = 0\n",
    "device = torch.device(\"cuda:1\" if torch.cuda.is_available() else \"cpu\")\n",
    "print(device)\n",
    "torch.manual_seed(SEED)\n",
    "batch_size = 256\n",
    "IMG_SIZE = 64"
   ]
  },
  {
   "cell_type": "code",
   "execution_count": null,
   "metadata": {},
   "outputs": [],
   "source": [
    "train_dset = derma_mnist.DecoyDermaMNIST(True, size=IMG_SIZE)\n",
    "test_dset = derma_mnist.DecoyDermaMNIST(False, size=IMG_SIZE)\n",
    "print(len(train_dset), len(test_dset))\n",
    "print(f\"test masks shape: {train_dset.dset_masks.shape}\")\n",
    "print(f\"test images shape: {test_dset.dset_inputs.shape}\")\n",
    "print(f\"num 0 labels: {torch.sum(train_dset.dset_labels == 0)}\")\n",
    "print(f\"num 1 labels: {torch.sum(train_dset.dset_labels == 1)}\")\n",
    "print(f\"num 1 labels test: {torch.sum(test_dset.dset_labels == 1)}\")\n",
    "print(f\"num 0 labels test: {torch.sum(test_dset.dset_labels == 0)}\")"
   ]
  },
  {
   "cell_type": "code",
   "execution_count": 67,
   "metadata": {},
   "outputs": [],
   "source": [
    "dl_train = derma_mnist.get_dataloader(train_dset, batch_size)\n",
    "dl_test = derma_mnist.get_dataloader(test_dset, batch_size)"
   ]
  },
  {
   "cell_type": "code",
   "execution_count": 68,
   "metadata": {},
   "outputs": [],
   "source": [
    "def visualize_gradient(model, batch_input, batch_labels, batch_mask, epsilon, elem_idx, has_conv, curr_device):\n",
    "    channel_to_view = 1\n",
    "    batch_input, batch_labels, batch_mask = batch_input.to(curr_device), batch_labels.to(curr_device), batch_mask.to(curr_device)\n",
    "    model.to(curr_device)\n",
    "    grad_bounds = input_gradient_interval_regularizer(\n",
    "        model, batch_input, batch_labels, \"binary_cross_entropy\", epsilon, 0.0, return_grads=True, regularizer_type=\"r4\",\n",
    "        batch_masks=batch_mask, has_conv=has_conv, device=curr_device\n",
    "    )\n",
    "    dx_l, dx_u = grad_bounds[1]\n",
    "    dx_n, _ = grad_bounds[0]\n",
    "    print(f\"input lower bound shape: {dx_l.shape}\")\n",
    "    print(f\"input upper bound shape: {dx_u.shape}\")\n",
    "    print(f\"input gradient shape: {dx_n.shape}\")\n",
    "    fig, ax = plt.subplots(3, 2, figsize=(14, 13))\n",
    "    lesion = batch_input[elem_idx].permute(1, 2, 0).cpu().numpy()\n",
    "    mask = batch_mask[elem_idx].permute(1, 2, 0).cpu().numpy()\n",
    "    # choose only 1 channel gradient to view, because with 3 channels, the bounds do not represent rgb values\n",
    "    dx_l_view, dx_u_view, dx_n_view = dx_l[elem_idx][channel_to_view].squeeze(), dx_u[elem_idx][channel_to_view].squeeze(), dx_n[elem_idx][channel_to_view].squeeze()\n",
    "    ax[0][0].imshow(lesion)\n",
    "    ax[0][0].set_title(f\"Input at index {elem_idx}\")\n",
    "    im_mask = ax[0][1].imshow(mask, cmap='gray')\n",
    "    ax[0][1].set_title(f\"Mask at index {elem_idx}\")\n",
    "    fig.colorbar(im_mask, ax=ax[0][1])\n",
    "    im_dx_l = ax[1][0].imshow(dx_l_view.cpu().detach().numpy())\n",
    "    ax[1][0].set_title(f\"Lower bound of gradient at index {elem_idx}\")\n",
    "    fig.colorbar(im_dx_l, ax=ax[1][0])\n",
    "    im_dx_u = ax[1][1].imshow(dx_u_view.cpu().detach().numpy())\n",
    "    ax[1][1].set_title(f\"Upper bound of gradient at index {elem_idx}\")\n",
    "    cbu = fig.colorbar(im_dx_u, ax=ax[1][1])\n",
    "    cbu.ax.invert_yaxis()\n",
    "    im_dx_n = ax[2][0].imshow(dx_n_view.cpu().detach().numpy())\n",
    "    ax[2][0].set_title(f\"Gradient at index {elem_idx}\")\n",
    "    fig.colorbar(im_dx_n, ax=ax[2][0])"
   ]
  },
  {
   "cell_type": "code",
   "execution_count": null,
   "metadata": {},
   "outputs": [],
   "source": [
    "# define model, dataset and optimizer\n",
    "num_epochs = 5\n",
    "lr = 0.01\n",
    "restarts = 1\n",
    "epsilon = 0.1\n",
    "# k is a coefficient for the regularization term\n",
    "k = 0.2\n",
    "model = DermaNet(3, IMG_SIZE, 1)\n",
    "criterion = torch.nn.BCELoss()\n",
    "gpu_ids = [i for i in range(torch.cuda.device_count())]\n",
    "print(gpu_ids)\n",
    "model = torch.nn.DataParallel(model, device_ids=gpu_ids)\n",
    "model = model.to(device)"
   ]
  },
  {
   "cell_type": "code",
   "execution_count": null,
   "metadata": {},
   "outputs": [],
   "source": [
    "idx_to_visualize = 20\n",
    "\n",
    "init_batch_train_with_masks = next(iter(dl_train))\n",
    "first_idx_benign, first_idx_malignant = None, None\n",
    "for i in range(1, len(dl_train)):\n",
    "    if init_batch_train_with_masks[1][i] == 1:\n",
    "        first_idx_malignant = i\n",
    "    if init_batch_train_with_masks[1][i] == 0:\n",
    "        first_idx_benign = i\n",
    "    if first_idx_benign is not None and first_idx_malignant is not None:\n",
    "        break\n",
    "print(f\"first benign index: {first_idx_benign}, first malignant index: {first_idx_malignant}\")\n",
    "init_batch_test_with_masks = next(iter(dl_test))\n",
    "visualize_gradient(model, *init_batch_train_with_masks, epsilon, first_idx_benign, True, device)\n",
    "visualize_gradient(model, *init_batch_train_with_masks, epsilon, first_idx_malignant, True, device)\n",
    "# visualize_gradient(model, *init_batch_test_with_masks, epsilon, idx_to_visualize, True, device)"
   ]
  },
  {
   "cell_type": "markdown",
   "metadata": {},
   "source": [
    "## Experiments "
   ]
  },
  {
   "cell_type": "code",
   "execution_count": 71,
   "metadata": {},
   "outputs": [],
   "source": [
    "DELTA_INPUT_ROBUSTNESS_PARAM = 1"
   ]
  },
  {
   "cell_type": "markdown",
   "metadata": {},
   "source": [
    "### Standard Training"
   ]
  },
  {
   "cell_type": "code",
   "execution_count": null,
   "metadata": {},
   "outputs": [],
   "source": [
    "std_method = \"std\"\n",
    "# Hyperparameters\n",
    "num_epochs, lr, restarts, epsilon, k, weight_coeff = 20, 1e-4, 4, 0.1, 0.2, -1\n",
    "# k is a coefficient for the regularization term\n",
    "train_acc, test_acc, num_robust, min_robust_delta, min_lower_bound, max_upper_bound = 0, 0, 0, 1e+8, 0, 0\n",
    "for i in range(restarts):\n",
    "    # Reinitialize the model\n",
    "    # We could try to just reinitialize the weights, but we can throw away the previous model for now as we do not need it\n",
    "    torch.manual_seed(i + SEED)\n",
    "    curr_model = DermaNet(3, IMG_SIZE, 1)\n",
    "    print(f\"========== Training model with method {std_method} restart {i} ==========\")\n",
    "    train_model_with_certified_input_grad(dl_train, num_epochs, curr_model, lr, criterion, epsilon, std_method, k, device, True)\n",
    "    print(\"Testing model accuracy for the training set\")\n",
    "    train_acc += test_model_accuracy(curr_model, dl_train, device)\n",
    "    print(\"Testing model accuracy for the test set\")\n",
    "    test_acc += test_model_accuracy(curr_model, dl_test, device)\n",
    "    n_r, min_delta, m_l, m_u = test_delta_input_robustness(dl_test, curr_model, epsilon, DELTA_INPUT_ROBUSTNESS_PARAM,\n",
    "                                                 \"binary_cross_entropy\", device, has_conv=True)\n",
    "    num_robust += num_robust\n",
    "    min_robust_delta = min(min_robust_delta, min_delta)\n",
    "    min_lower_bound += m_l\n",
    "    max_upper_bound += m_u\n",
    "    # if i == restarts - 1:\n",
    "    #     visualize_gradient(curr_model, *init_batch_train_with_masks, epsilon, idx_to_visualize, has_conv=True, curr_device=device)\n",
    "write_results_to_file(\"experiment_results/derma_mnist.yaml\",\n",
    "                      {\"train_acc\": round(train_acc / restarts, 3),\n",
    "                       \"test_acc\": round(test_acc / restarts, 3),\n",
    "                       \"num_robust\": round(num_robust / restarts, 3),\n",
    "                       \"min_lower_bound\": round(min_lower_bound / restarts, 3),\n",
    "                       \"max_upper_bound\": round(max_upper_bound / restarts, 3),\n",
    "                       \"min_robust_delta\": min_robust_delta}, std_method)\n",
    "write_results_to_file(\"experiment_results/derma_mnist_params.yaml\",\n",
    "                        {\"epsilon\": epsilon,\n",
    "                         \"k\": k,\n",
    "                         \"weight_coeff\": weight_coeff,\n",
    "                         \"num_epochs\": num_epochs,\n",
    "                         \"lr\": lr,\n",
    "                         \"restarts\": restarts,\n",
    "                         \"delta_threshold\": DELTA_INPUT_ROBUSTNESS_PARAM}, std_method)"
   ]
  },
  {
   "cell_type": "markdown",
   "metadata": {},
   "source": [
    "### RRR Training"
   ]
  },
  {
   "cell_type": "code",
   "execution_count": null,
   "metadata": {},
   "outputs": [],
   "source": [
    "# Train standard 3 times and test accuracy and delta input robustness for the masked region\n",
    "rrr_method = \"r3\"\n",
    "# hyperparams\n",
    "num_epochs, lr, restarts, epsilon, weight_coeff, k = 10, 1e-4, 4, 0.01, 5e-4, 2e-2\n",
    "train_acc, test_acc, num_robust, min_robust_delta, min_lower_bound, max_upper_bound = 0, 0, 0, 1e+8, 0, 0\n",
    "for i in range(restarts):\n",
    "    # Reinitialize the model\n",
    "    # We could try to just reinitialize the weights, but we can throw away the previous model for now as we do not need it\n",
    "    torch.manual_seed(i + SEED)\n",
    "    curr_model = DermaNet(3, IMG_SIZE, 1)\n",
    "\n",
    "    print(f\"========== Training model with method {rrr_method}, restart {i} ==========\")\n",
    "    train_model_with_certified_input_grad(dl_train, num_epochs, curr_model, lr, criterion, epsilon, rrr_method,\n",
    "        k, device, True, k_schedule=uniformize_magnitudes_schedule, weight_reg_coeff=weight_coeff)\n",
    "    print(\"Testing model accuracy for the training set\")\n",
    "    train_acc += test_model_accuracy(curr_model, dl_train, device)\n",
    "    print(\"Testing model accuracy for the test set\")\n",
    "    test_acc += test_model_accuracy(curr_model, dl_test, device)\n",
    "    n_r, min_delta, m_l, m_u = test_delta_input_robustness(dl_test, curr_model, epsilon, DELTA_INPUT_ROBUSTNESS_PARAM,\n",
    "                                \"binary_cross_entropy\", device, has_conv=True)\n",
    "    num_robust += n_r\n",
    "    min_robust_delta = min(min_robust_delta, min_delta)\n",
    "    min_lower_bound += m_l\n",
    "    max_upper_bound += m_u\n",
    "write_results_to_file(\"experiment_results/derma_mnist.yaml\",\n",
    "                      {\"train_acc\": round(train_acc / restarts, 3),\n",
    "                       \"test_acc\": round(test_acc / restarts, 3),\n",
    "                       \"num_robust\": round(num_robust / restarts, 3),\n",
    "                       \"min_lower_bound\": round(min_lower_bound / restarts, 3),\n",
    "                       \"max_upper_bound\": round(max_upper_bound / restarts, 3),\n",
    "                       \"min_robust_delta\": min_robust_delta}, rrr_method)\n",
    "write_results_to_file(\"experiment_results/derma_mnist_params.yaml\",\n",
    "                      {\"epsilon\": epsilon,\n",
    "                       \"k\": k,\n",
    "                       \"weight_coeff\": weight_coeff,\n",
    "                       \"num_epochs\": num_epochs,\n",
    "                       \"lr\": lr,\n",
    "                       \"restarts\": restarts,\n",
    "                       \"delta_threshold\": DELTA_INPUT_ROBUSTNESS_PARAM}, rrr_method)"
   ]
  },
  {
   "cell_type": "markdown",
   "metadata": {},
   "source": [
    "### R4 Training"
   ]
  },
  {
   "cell_type": "code",
   "execution_count": null,
   "metadata": {},
   "outputs": [],
   "source": [
    "# Train standard 3 times and test accuracy and delta input robustness for the masked region\n",
    "r4_method = \"r4\"\n",
    "num_epochs, lr, restarts, epsilon, weight_coeff, k = 12, 1e-4, 4, 0.01, -1, 0.05\n",
    "train_acc, test_acc, num_robust, min_robust_delta, min_lower_bound, max_upper_bound = 0, 0, 0, 1e+8, 0, 0\n",
    "for i in range(restarts):\n",
    "    # Reinitialize the model\n",
    "    # We could try to just reinitialize the weights, but we can throw away the previous model for now as we do not need it\n",
    "    torch.manual_seed(i + SEED)\n",
    "    curr_model = DermaNet(3, IMG_SIZE, 1)\n",
    "\n",
    "    print(f\"========== Training model with method {r4_method}, restart {i} ==========\")\n",
    "    train_model_with_certified_input_grad(dl_train, num_epochs, curr_model, lr, criterion, epsilon, r4_method, k, device, True)\n",
    "    print(\"Testing model accuracy for the training set\")\n",
    "    train_acc += test_model_accuracy(curr_model, dl_train, device)\n",
    "    print(\"Testing model accuracy for the test set\")\n",
    "    test_acc += test_model_accuracy(curr_model, dl_test, device)\n",
    "    n_r, min_delta, m_l, m_u = test_delta_input_robustness(dl_test, curr_model, epsilon, DELTA_INPUT_ROBUSTNESS_PARAM,\n",
    "                                \"binary_cross_entropy\", device, has_conv=True)\n",
    "    num_robust += n_r\n",
    "    min_robust_delta = min(min_robust_delta, min_delta)\n",
    "    min_lower_bound += m_l\n",
    "    max_upper_bound += m_u\n",
    "write_results_to_file(\"experiment_results/derma_mnist.yaml\",\n",
    "                      {\"train_acc\": round(train_acc / restarts, 3),\n",
    "                       \"test_acc\": round(test_acc / restarts, 3),\n",
    "                       \"num_robust\": round(num_robust / restarts, 3),\n",
    "                       \"min_lower_bound\": round(min_lower_bound / restarts, 3),\n",
    "                       \"max_upper_bound\": round(max_upper_bound / restarts, 3),\n",
    "                       \"min_robust_delta\": min_robust_delta}, r4_method)\n",
    "write_results_to_file(\"experiment_results/derma_mnist_params.yaml\",\n",
    "                      {\"epsilon\": epsilon,\n",
    "                       \"k\": k,\n",
    "                       \"weight_coeff\": weight_coeff,\n",
    "                       \"num_epochs\": num_epochs,\n",
    "                       \"lr\": lr,\n",
    "                       \"restarts\": restarts,\n",
    "                       \"delta_threshold\": DELTA_INPUT_ROBUSTNESS_PARAM}, r4_method)"
   ]
  },
  {
   "cell_type": "markdown",
   "metadata": {},
   "source": [
    "### IBP_EX Training"
   ]
  },
  {
   "cell_type": "code",
   "execution_count": null,
   "metadata": {},
   "outputs": [],
   "source": [
    "ibp_ex_method = \"ibp_ex\"\n",
    "# hyperparams\n",
    "num_epochs, lr, restarts, epsilon, weight_coeff, k = 10, 1e-4, 4, 0.01, 7e-4, 1e-2\n",
    "train_acc, test_acc, num_robust, min_robust_delta, min_lower_bound, max_upper_bound = 0, 0, 0, 1e+8, 0, 0\n",
    "for i in range(restarts):\n",
    "    # Reinitialize the model\n",
    "    # We could try to just reinitialize the weights, but we can throw away the previous model for now as we do not need it\n",
    "    torch.manual_seed(i + SEED)\n",
    "    curr_model = DermaNet(3, IMG_SIZE, 1)\n",
    "\n",
    "    print(f\"========== Training model with method {ibp_ex_method}, restart {i} ==========\")\n",
    "    train_model_with_certified_input_grad(dl_train, num_epochs, curr_model, lr, criterion, epsilon, rrr_method,\n",
    "        k, device, True, k_schedule=uniformize_magnitudes_schedule, weight_reg_coeff=weight_coeff)\n",
    "    print(\"Testing model accuracy for the training set\")\n",
    "    train_acc += test_model_accuracy(curr_model, dl_train, device)\n",
    "    print(\"Testing model accuracy for the test set\")\n",
    "    test_acc += test_model_accuracy(curr_model, dl_test, device)\n",
    "    n_r, min_delta, m_l, m_u = test_delta_input_robustness(dl_test, curr_model, epsilon, DELTA_INPUT_ROBUSTNESS_PARAM,\n",
    "                                \"binary_cross_entropy\", device, has_conv=True)\n",
    "    num_robust += n_r\n",
    "    min_robust_delta = min(min_robust_delta, min_delta)\n",
    "    min_lower_bound += m_l\n",
    "    max_upper_bound += m_u\n",
    "write_results_to_file(\"experiment_results/derma_mnist.yaml\",\n",
    "                      {\"train_acc\": round(train_acc / restarts, 3),\n",
    "                       \"test_acc\": round(test_acc / restarts, 3),\n",
    "                       \"num_robust\": round(num_robust / restarts, 3),\n",
    "                       \"min_lower_bound\": round(min_lower_bound / restarts, 3),\n",
    "                       \"max_upper_bound\": round(max_upper_bound / restarts, 3),\n",
    "                       \"min_robust_delta\": min_robust_delta}, ibp_ex_method)\n",
    "write_results_to_file(\"experiment_results/derma_mnist_params.yaml\",\n",
    "                      {\"epsilon\": epsilon,\n",
    "                       \"k\": k,\n",
    "                       \"weight_coeff\": weight_coeff,\n",
    "                       \"num_epochs\": num_epochs,\n",
    "                       \"lr\": lr,\n",
    "                       \"restarts\": restarts,\n",
    "                       \"delta_threshold\": DELTA_INPUT_ROBUSTNESS_PARAM}, ibp_ex_method)"
   ]
  },
  {
   "cell_type": "markdown",
   "metadata": {},
   "source": [
    "### IBP_EX+R3"
   ]
  },
  {
   "cell_type": "code",
   "execution_count": null,
   "metadata": {},
   "outputs": [],
   "source": [
    "ibp_ex_and_r3_method = \"ibp_ex+r3\"\n",
    "# hyperparams\n",
    "num_epochs, lr, restarts, epsilon, weight_coeff, k = 11, 1e-4, 4, 0.01, 5e-4, 0.01\n",
    "train_acc, test_acc, num_robust, min_robust_delta, min_lower_bound, max_upper_bound = 0, 0, 0, 1e+8, 0, 0\n",
    "for i in range(restarts):\n",
    "    # Reinitialize the model\n",
    "    # We could try to just reinitialize the weights, but we can throw away the previous model for now as we do not need it\n",
    "    torch.manual_seed(i + SEED)\n",
    "    curr_model = DermaNet(3, IMG_SIZE, 1)\n",
    "\n",
    "    print(f\"========== Training model with method {ibp_ex_and_r3_method}, restart {i} ==========\")\n",
    "    train_model_with_certified_input_grad(dl_train, num_epochs, curr_model, lr, criterion, epsilon, rrr_method,\n",
    "        k, device, True, k_schedule=uniformize_magnitudes_schedule, weight_reg_coeff=weight_coeff)\n",
    "    print(\"Testing model accuracy for the training set\")\n",
    "    train_acc += test_model_accuracy(curr_model, dl_train, device)\n",
    "    print(\"Testing model accuracy for the test set\")\n",
    "    test_acc += test_model_accuracy(curr_model, dl_test, device)\n",
    "    n_r, min_delta, m_l, m_u = test_delta_input_robustness(dl_test, curr_model, epsilon, DELTA_INPUT_ROBUSTNESS_PARAM,\n",
    "                                \"binary_cross_entropy\", device, has_conv=True)\n",
    "    num_robust += n_r\n",
    "    min_robust_delta = min(min_robust_delta, min_delta)\n",
    "    min_lower_bound += m_l\n",
    "    max_upper_bound += m_u\n",
    "write_results_to_file(\"experiment_results/derma_mnist.yaml\",\n",
    "                      {\"train_acc\": round(train_acc / restarts, 3),\n",
    "                       \"test_acc\": round(test_acc / restarts, 3),\n",
    "                       \"num_robust\": round(num_robust / restarts, 3),\n",
    "                       \"min_lower_bound\": round(min_lower_bound / restarts, 3),\n",
    "                       \"max_upper_bound\": round(max_upper_bound / restarts, 3),\n",
    "                       \"min_robust_delta\": min_robust_delta}, ibp_ex_and_r3_method)\n",
    "write_results_to_file(\"experiment_results/derma_mnist_params.yaml\",\n",
    "                      {\"epsilon\": epsilon,\n",
    "                       \"k\": k,\n",
    "                       \"weight_coeff\": weight_coeff,\n",
    "                       \"num_epochs\": num_epochs,\n",
    "                       \"lr\": lr,\n",
    "                       \"restarts\": restarts,\n",
    "                       \"delta_threshold\": DELTA_INPUT_ROBUSTNESS_PARAM}, ibp_ex_and_r3_method)"
   ]
  },
  {
   "cell_type": "code",
   "execution_count": null,
   "metadata": {},
   "outputs": [],
   "source": []
  }
 ],
 "metadata": {
  "kernelspec": {
   "display_name": "fypvenv",
   "language": "python",
   "name": "python3"
  },
  "language_info": {
   "codemirror_mode": {
    "name": "ipython",
    "version": 3
   },
   "file_extension": ".py",
   "mimetype": "text/x-python",
   "name": "python",
   "nbconvert_exporter": "python",
   "pygments_lexer": "ipython3",
   "version": "3.10.12"
  }
 },
 "nbformat": 4,
 "nbformat_minor": 2
}

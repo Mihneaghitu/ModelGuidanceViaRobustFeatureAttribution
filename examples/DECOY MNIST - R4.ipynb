{
 "cells": [
  {
   "cell_type": "markdown",
   "metadata": {},
   "source": [
    "# R4 on DECOY_MNIST"
   ]
  },
  {
   "cell_type": "code",
   "execution_count": 2,
   "metadata": {},
   "outputs": [],
   "source": [
    "%load_ext autoreload\n",
    "%autoreload 2\n",
    "import torch\n",
    "import tqdm\n",
    "import matplotlib.pyplot as plt\n",
    "import os\n",
    "import sys\n",
    "sys.path.append(os.path.abspath('..'))\n",
    "import abstract_gradient_training as agt\n",
    "from abstract_gradient_training import AGTConfig\n",
    "from abstract_gradient_training import certified_training_utils as ct_utils\n",
    "from models.fully_connected import FCNAugmented\n",
    "from models.robust_regularizer import input_gradient_interval_regularizer, input_gradient_pgd_regularizer\n",
    "from models.pipeline import (train_model_with_certified_input_grad, train_model_with_pgd_robust_input_grad, test_model_accuracy,\n",
    "                             test_delta_input_robustness, write_results_to_file, uniformize_magnitudes_schedule, load_params_or_results_from_file)\n",
    "from datasets import decoy_mnist"
   ]
  },
  {
   "cell_type": "markdown",
   "metadata": {},
   "source": [
    "## Pre-train the model"
   ]
  },
  {
   "cell_type": "code",
   "execution_count": 3,
   "metadata": {},
   "outputs": [
    {
     "name": "stdout",
     "output_type": "stream",
     "text": [
      "cuda:0\n"
     ]
    },
    {
     "data": {
      "text/plain": [
       "<torch._C.Generator at 0x7d3cf038bb30>"
      ]
     },
     "execution_count": 3,
     "metadata": {},
     "output_type": "execute_result"
    }
   ],
   "source": [
    "# set up pre-training\n",
    "CUDA_LAUNCH_BLOCKING=1\n",
    "SEED = 0\n",
    "device = torch.device(\"cuda:0\" if torch.cuda.is_available() else \"cpu\")\n",
    "print(device)\n",
    "torch.manual_seed(SEED)"
   ]
  },
  {
   "cell_type": "code",
   "execution_count": 4,
   "metadata": {},
   "outputs": [
    {
     "name": "stderr",
     "output_type": "stream",
     "text": [
      "/homes/mg2720/phd/R4/examples/datasets/decoy_mnist.py:33: UserWarning: To copy construct from a tensor, it is recommended to use sourceTensor.clone().detach() or sourceTensor.clone().detach().requires_grad_(True), rather than torch.tensor(sourceTensor).\n",
      "  train_imgs = torch.tensor(train_imgs.clone().detach(), dtype=torch.float32) / 255\n",
      "/homes/mg2720/phd/R4/examples/datasets/decoy_mnist.py:34: UserWarning: To copy construct from a tensor, it is recommended to use sourceTensor.clone().detach() or sourceTensor.clone().detach().requires_grad_(True), rather than torch.tensor(sourceTensor).\n",
      "  test_imgs = torch.tensor(test_imgs.clone().detach(), dtype=torch.float32) / 255\n",
      "/homes/mg2720/phd/R4/examples/datasets/decoy_mnist.py:35: UserWarning: To copy construct from a tensor, it is recommended to use sourceTensor.clone().detach() or sourceTensor.clone().detach().requires_grad_(True), rather than torch.tensor(sourceTensor).\n",
      "  train_labels = torch.tensor(train_labels.clone().detach(), dtype=torch.int64)\n",
      "/homes/mg2720/phd/R4/examples/datasets/decoy_mnist.py:36: UserWarning: To copy construct from a tensor, it is recommended to use sourceTensor.clone().detach() or sourceTensor.clone().detach().requires_grad_(True), rather than torch.tensor(sourceTensor).\n",
      "  test_labels = torch.tensor(test_labels.clone().detach(), dtype=torch.int64)\n"
     ]
    }
   ],
   "source": [
    "batch_size = 1000\n",
    "dl_train, dl_test = decoy_mnist.get_dataloaders(train_batchsize=batch_size, test_batchsize=batch_size)"
   ]
  },
  {
   "cell_type": "code",
   "execution_count": 5,
   "metadata": {},
   "outputs": [
    {
     "name": "stdout",
     "output_type": "stream",
     "text": [
      "torch.Size([60000]) torch.Size([60000, 28, 28])\n",
      "{0: tensor(0.3333), 1: tensor(0.2980), 2: tensor(0.2667), 3: tensor(0.2353), 4: tensor(0.2000), 5: tensor(0.1686), 6: tensor(0.1373), 7: tensor(0.1020), 8: tensor(0.0706), 9: tensor(0.0392)}\n"
     ]
    }
   ],
   "source": [
    "dl_masks_train, dl_masks_test = decoy_mnist.get_masked_dataloaders(dl_train, dl_test)"
   ]
  },
  {
   "cell_type": "code",
   "execution_count": 6,
   "metadata": {},
   "outputs": [],
   "source": [
    "def visualize_gradient(model, batch_input, batch_labels, batch_mask, epsilon, elem_idx):\n",
    "    batch_input, batch_labels, batch_mask = batch_input.to(device), batch_labels.to(device), batch_mask.to(device)\n",
    "    grad_bounds = input_gradient_interval_regularizer(\n",
    "        model, batch_input, batch_labels, \"cross_entropy\", epsilon, 0.0, return_grads=True, regularizer_type=\"r4\", batch_masks=batch_mask\n",
    "    )\n",
    "    dx_l, dx_u = grad_bounds[1]\n",
    "    dx_n, _ = grad_bounds[0]\n",
    "    fig, ax = plt.subplots(3, 2, figsize=(14, 13))\n",
    "    ax[0][0].imshow(batch_input[elem_idx].cpu().numpy().reshape(28, 28), cmap='gray')\n",
    "    ax[0][0].set_title(f\"Input at index {elem_idx}\")\n",
    "    im_mask = ax[0][1].imshow(batch_mask[elem_idx].cpu().numpy().reshape(28, 28), cmap='gray')\n",
    "    ax[0][1].set_title(f\"Mask at index {elem_idx}\")\n",
    "    fig.colorbar(im_mask, ax=ax[0][1])\n",
    "    im_dx_l = ax[1][0].imshow(dx_l[elem_idx].cpu().detach().numpy().reshape(28, 28), cmap='coolwarm')\n",
    "    ax[1][0].set_title(f\"Lower bound of gradient at index {elem_idx}\")\n",
    "    fig.colorbar(im_dx_l, ax=ax[1][0])\n",
    "    im_dx_u = ax[1][1].imshow(dx_u[elem_idx].cpu().detach().numpy().reshape(28, 28), cmap='coolwarm')\n",
    "    ax[1][1].set_title(f\"Upper bound of gradient at index {elem_idx}\")\n",
    "    fig.colorbar(im_dx_u, ax=ax[1][1])\n",
    "    im_dx_n = ax[2][0].imshow(dx_n[elem_idx].cpu().detach().numpy().reshape(28, 28), cmap='coolwarm')\n",
    "    ax[2][0].set_title(f\"Gradient at index {elem_idx}\")\n",
    "    fig.colorbar(im_dx_n, ax=ax[2][0])"
   ]
  },
  {
   "cell_type": "code",
   "execution_count": 7,
   "metadata": {},
   "outputs": [
    {
     "name": "stdout",
     "output_type": "stream",
     "text": [
      "FCNAugmented(\n",
      "  (0): Flatten(start_dim=1, end_dim=-1)\n",
      "  (1): Linear(in_features=784, out_features=512, bias=True)\n",
      "  (2): ReLU()\n",
      "  (3): Linear(in_features=512, out_features=10, bias=True)\n",
      "  (4): Softmax(dim=-1)\n",
      ")\n"
     ]
    }
   ],
   "source": [
    "ARCH = (784, 10, 512, 1)\n",
    "model = FCNAugmented(*ARCH)\n",
    "criterion = torch.nn.CrossEntropyLoss()\n",
    "model = model.to(device)\n",
    "print(model)"
   ]
  },
  {
   "cell_type": "code",
   "execution_count": 8,
   "metadata": {},
   "outputs": [
    {
     "name": "stdout",
     "output_type": "stream",
     "text": [
      "Batch input shape: torch.Size([1000, 28, 28]), batch mask shape: torch.Size([1000, 28, 28])\n"
     ]
    },
    {
     "data": {
      "image/png": "[encoded data removed]",
      "text/plain": [
       "<Figure size 1400x1300 with 10 Axes>"
      ]
     },
     "metadata": {},
     "output_type": "display_data"
    }
   ],
   "source": [
    "idx_to_visualize = torch.randint(0, batch_size, (1,)).item()\n",
    "init_batch_train_with_masks = next(iter(dl_masks_train))\n",
    "print(f\"Batch input shape: {init_batch_train_with_masks[0].shape}, batch mask shape: {init_batch_train_with_masks[2].shape}\")\n",
    "visualize_gradient(model, *init_batch_train_with_masks, 0.1, idx_to_visualize)"
   ]
  },
  {
   "cell_type": "markdown",
   "metadata": {},
   "source": [
    "## Experiments "
   ]
  },
  {
   "cell_type": "code",
   "execution_count": 9,
   "metadata": {},
   "outputs": [],
   "source": [
    "DELTA_INPUT_ROBUSTNESS_PARAM = 0.5"
   ]
  },
  {
   "cell_type": "markdown",
   "metadata": {},
   "source": [
    "### Standard Training"
   ]
  },
  {
   "cell_type": "code",
   "execution_count": 34,
   "metadata": {},
   "outputs": [
    {
     "name": "stdout",
     "output_type": "stream",
     "text": [
      "========== Training model with method std restart 0 ==========\n"
     ]
    },
    {
     "name": "stderr",
     "output_type": "stream",
     "text": [
      "Epoch:   0%|          | 0/30 [00:00<?, ?it/s]"
     ]
    },
    {
     "name": "stderr",
     "output_type": "stream",
     "text": [
      "Epoch: 100%|██████████| 30/30 [00:35<00:00,  1.18s/it, loss=1.46, reg=0]\n"
     ]
    },
    {
     "name": "stdout",
     "output_type": "stream",
     "text": [
      "Testing model accuracy for the training set\n",
      "--- Model accuracy ---\n",
      "Nominal = 1\n",
      "Testing model accuracy for the test set\n",
      "--- Model accuracy ---\n",
      "Nominal = 0.67\n",
      "--- Delta input robustness ---\n",
      "Delta Input Robustness = 0\n",
      "--- Mininimum delta for which the test set is certifiably 1-delta-input-robust ---\n",
      "Min robust delta = 526\n",
      "========== Training model with method std restart 1 ==========\n"
     ]
    },
    {
     "name": "stderr",
     "output_type": "stream",
     "text": [
      "Epoch: 100%|██████████| 30/30 [00:35<00:00,  1.17s/it, loss=1.46, reg=0]\n"
     ]
    },
    {
     "name": "stdout",
     "output_type": "stream",
     "text": [
      "Testing model accuracy for the training set\n",
      "--- Model accuracy ---\n",
      "Nominal = 1\n",
      "Testing model accuracy for the test set\n",
      "--- Model accuracy ---\n",
      "Nominal = 0.67\n",
      "--- Delta input robustness ---\n",
      "Delta Input Robustness = 0\n",
      "--- Mininimum delta for which the test set is certifiably 1-delta-input-robust ---\n",
      "Min robust delta = 470\n",
      "========== Training model with method std restart 2 ==========\n"
     ]
    },
    {
     "name": "stderr",
     "output_type": "stream",
     "text": [
      "Epoch: 100%|██████████| 30/30 [00:34<00:00,  1.16s/it, loss=1.46, reg=0]\n"
     ]
    },
    {
     "name": "stdout",
     "output_type": "stream",
     "text": [
      "Testing model accuracy for the training set\n",
      "--- Model accuracy ---\n",
      "Nominal = 1\n",
      "Testing model accuracy for the test set\n",
      "--- Model accuracy ---\n",
      "Nominal = 0.66\n",
      "--- Delta input robustness ---\n",
      "Delta Input Robustness = 0\n",
      "--- Mininimum delta for which the test set is certifiably 1-delta-input-robust ---\n",
      "Min robust delta = 491\n",
      "========== Training model with method std restart 3 ==========\n"
     ]
    },
    {
     "name": "stderr",
     "output_type": "stream",
     "text": [
      "Epoch: 100%|██████████| 30/30 [00:34<00:00,  1.15s/it, loss=1.46, reg=0]\n"
     ]
    },
    {
     "name": "stdout",
     "output_type": "stream",
     "text": [
      "Testing model accuracy for the training set\n",
      "--- Model accuracy ---\n",
      "Nominal = 1\n",
      "Testing model accuracy for the test set\n",
      "--- Model accuracy ---\n",
      "Nominal = 0.68\n",
      "--- Delta input robustness ---\n",
      "Delta Input Robustness = 0\n",
      "--- Mininimum delta for which the test set is certifiably 1-delta-input-robust ---\n",
      "Min robust delta = 502\n"
     ]
    }
   ],
   "source": [
    "std_method = \"std\"\n",
    "# hyperparameters\n",
    "num_epochs, lr, restarts, epsilon, weight_coeff, k = 30, 0.01, 4, 0.1, 0.01, 0.2\n",
    "# Train standard 3 times and test accuracy and delta input robustness for the masked region\n",
    "train_acc, test_acc, num_robust, min_robust_delta = 0, 0, 0, 1e+8\n",
    "for i in range(restarts):\n",
    "    # Reinitialize the model\n",
    "    # We could try to just reinitialize the weights, but we can throw away the previous model for now as we do not need it\n",
    "    torch.manual_seed(i + SEED)\n",
    "    curr_model = FCNAugmented(*ARCH)\n",
    "\n",
    "    print(f\"========== Training model with method {std_method} restart {i} ==========\")\n",
    "    train_model_with_certified_input_grad(dl_masks_train, num_epochs, curr_model, lr, criterion, epsilon, std_method, k, device, False)\n",
    "    print(\"Testing model accuracy for the training set\")\n",
    "    train_acc += test_model_accuracy(curr_model, dl_masks_train, device, multi_class=True)\n",
    "    print(\"Testing model accuracy for the test set\")\n",
    "    test_acc += test_model_accuracy(curr_model, dl_masks_test, device, multi_class=True)\n",
    "    n_r, min_delta = test_delta_input_robustness(dl_masks_test, curr_model, epsilon, DELTA_INPUT_ROBUSTNESS_PARAM, \"cross_entropy\", device)\n",
    "    num_robust += num_robust\n",
    "    min_robust_delta = min(min_robust_delta, min_delta)\n",
    "    # test_with_masks_batch = next(iter(dl_masks_test))\n",
    "    # test_idx_to_visualize = torch.randint(0, batch_size, (1,)).item()\n",
    "    # if i == restarts - 1:\n",
    "    #     visualize_gradient(curr_model, *test_with_masks_batch, epsilon, test_idx_to_visualize)\n",
    "write_results_to_file(\"experiment_results/decoy_mnist.yaml\",\n",
    "                      {\"train_acc\": round(train_acc / restarts, 3),\n",
    "                       \"test_acc\": round(test_acc / restarts, 3),\n",
    "                       \"num_robust\": round(num_robust / restarts, 3),\n",
    "                       \"min_robust_delta\": min_robust_delta}, std_method)\n",
    "write_results_to_file(\"experiment_results/decoy_mnist_params.yaml\",\n",
    "                        {\"epsilon\": epsilon,\n",
    "                         \"k\": k,\n",
    "                         \"weight_coeff\": weight_coeff,\n",
    "                         \"num_epochs\": num_epochs,\n",
    "                         \"lr\": lr,\n",
    "                         \"restarts\": restarts,\n",
    "                         \"delta_threshold\": DELTA_INPUT_ROBUSTNESS_PARAM}, std_method)"
   ]
  },
  {
   "cell_type": "markdown",
   "metadata": {},
   "source": [
    "### RRR Training"
   ]
  },
  {
   "cell_type": "code",
   "execution_count": 39,
   "metadata": {},
   "outputs": [
    {
     "name": "stdout",
     "output_type": "stream",
     "text": [
      "========== Training model with method r3, restart 0 ==========\n"
     ]
    },
    {
     "name": "stderr",
     "output_type": "stream",
     "text": [
      "Epoch: 100%|██████████| 20/20 [00:28<00:00,  1.41s/it, loss=23.3, reg=tensor(435.4988, device='cuda:1', grad_fn=<AddBackward0>)]\n"
     ]
    },
    {
     "name": "stdout",
     "output_type": "stream",
     "text": [
      "Testing model accuracy for the training set\n",
      "--- Model accuracy ---\n",
      "Nominal = 0.98\n",
      "Testing model accuracy for the test set\n",
      "--- Model accuracy ---\n",
      "Nominal = 0.88\n",
      "--- Delta input robustness ---\n",
      "Delta Input Robustness = 0\n",
      "--- Mininimum delta for which the test set is certifiably 1-delta-input-robust ---\n",
      "Min robust delta = 10.6\n",
      "========== Training model with method r3, restart 1 ==========\n"
     ]
    },
    {
     "name": "stderr",
     "output_type": "stream",
     "text": [
      "Epoch: 100%|██████████| 20/20 [00:28<00:00,  1.41s/it, loss=10.4, reg=tensor(178.4988, device='cuda:1', grad_fn=<AddBackward0>)] \n"
     ]
    },
    {
     "name": "stdout",
     "output_type": "stream",
     "text": [
      "Testing model accuracy for the training set\n",
      "--- Model accuracy ---\n",
      "Nominal = 0.98\n",
      "Testing model accuracy for the test set\n",
      "--- Model accuracy ---\n",
      "Nominal = 0.89\n",
      "--- Delta input robustness ---\n",
      "Delta Input Robustness = 0\n",
      "--- Mininimum delta for which the test set is certifiably 1-delta-input-robust ---\n",
      "Min robust delta = 11.1\n",
      "========== Training model with method r3, restart 2 ==========\n"
     ]
    },
    {
     "name": "stderr",
     "output_type": "stream",
     "text": [
      "Epoch: 100%|██████████| 20/20 [00:27<00:00,  1.38s/it, loss=11.4, reg=tensor(198.7878, device='cuda:1', grad_fn=<AddBackward0>)] \n"
     ]
    },
    {
     "name": "stdout",
     "output_type": "stream",
     "text": [
      "Testing model accuracy for the training set\n",
      "--- Model accuracy ---\n",
      "Nominal = 0.98\n",
      "Testing model accuracy for the test set\n",
      "--- Model accuracy ---\n",
      "Nominal = 0.89\n",
      "--- Delta input robustness ---\n",
      "Delta Input Robustness = 0\n",
      "--- Mininimum delta for which the test set is certifiably 1-delta-input-robust ---\n",
      "Min robust delta = 11.6\n",
      "========== Training model with method r3, restart 3 ==========\n"
     ]
    },
    {
     "name": "stderr",
     "output_type": "stream",
     "text": [
      "Epoch: 100%|██████████| 20/20 [00:27<00:00,  1.35s/it, loss=15.7, reg=tensor(283.6178, device='cuda:1', grad_fn=<AddBackward0>)]\n"
     ]
    },
    {
     "name": "stdout",
     "output_type": "stream",
     "text": [
      "Testing model accuracy for the training set\n",
      "--- Model accuracy ---\n",
      "Nominal = 0.98\n",
      "Testing model accuracy for the test set\n",
      "--- Model accuracy ---\n",
      "Nominal = 0.89\n",
      "--- Delta input robustness ---\n",
      "Delta Input Robustness = 0\n",
      "--- Mininimum delta for which the test set is certifiably 1-delta-input-robust ---\n",
      "Min robust delta = 11\n"
     ]
    }
   ],
   "source": [
    "# Train standard 3 times and test accuracy and delta input robustness for the masked region\n",
    "rrr_method = \"r3\"\n",
    "def rrr_k_schedule(curr_epoch, max_epochs, std_loss, rrr_loss):\n",
    "    if curr_epoch <= max_epochs // 5:\n",
    "        return 0.0\n",
    "    else:\n",
    "        # get magnitude difference in terms of order of magnitude\n",
    "        loss_diff = rrr_loss - std_loss\n",
    "        if loss_diff < 0:\n",
    "            return 1.0\n",
    "        orders_of_mag = torch.floor(torch.log10(loss_diff))\n",
    "        # the 2 is there to allow for a bit of a margin\n",
    "        return 1 / (2 * (10 ** (orders_of_mag - 1)))\n",
    "\n",
    "# hyperparams\n",
    "num_epochs, lr, restarts, epsilon, weight_coeff, k = 20, 0.01, 4, 0.1, 6e-3, 0.05\n",
    "train_acc, test_acc, num_robust, min_robust_delta = 0, 0, 0, 1e+8\n",
    "for i in range(restarts):\n",
    "    # Reinitialize the model\n",
    "    # We could try to just reinitialize the weights, but we can throw away the previous model for now as we do not need it\n",
    "    torch.manual_seed(i + SEED)\n",
    "    curr_model = FCNAugmented(*ARCH)\n",
    "\n",
    "    print(f\"========== Training model with method {rrr_method}, restart {i} ==========\")\n",
    "    train_model_with_certified_input_grad(dl_masks_train, num_epochs, curr_model, lr, criterion, epsilon, rrr_method,\n",
    "                                          k, device, False, k_schedule=rrr_k_schedule, weight_reg_coeff=weight_coeff)\n",
    "    print(\"Testing model accuracy for the training set\")\n",
    "    train_acc += test_model_accuracy(curr_model, dl_masks_train, device, multi_class=True)\n",
    "    print(\"Testing model accuracy for the test set\")\n",
    "    test_acc += test_model_accuracy(curr_model, dl_masks_test, device, multi_class=True)\n",
    "    n_r, min_delta = test_delta_input_robustness(dl_masks_test, curr_model, epsilon, DELTA_INPUT_ROBUSTNESS_PARAM,\n",
    "                                \"cross_entropy\", device)\n",
    "    num_robust += n_r\n",
    "    min_robust_delta = min(min_robust_delta, min_delta)\n",
    "    # if i == restarts - 1:\n",
    "    #     visualize_gradient(curr_model, *init_batch_train_with_masks, epsilon, idx_to_visualize)\n",
    "write_results_to_file(\"experiment_results/decoy_mnist.yaml\",\n",
    "                      {\"train_acc\": round(train_acc / restarts, 3),\n",
    "                       \"test_acc\": round(test_acc / restarts, 3),\n",
    "                       \"num_robust\": round(num_robust / restarts, 3),\n",
    "                       \"min_robust_delta\": min_robust_delta}, rrr_method)\n",
    "write_results_to_file(\"experiment_results/decoy_mnist_params.yaml\",\n",
    "                      {\"epsilon\": epsilon,\n",
    "                       \"k\": k,\n",
    "                       \"weight_coeff\": weight_coeff,\n",
    "                       \"num_epochs\": num_epochs,\n",
    "                       \"lr\": lr,\n",
    "                       \"restarts\": restarts,\n",
    "                       \"delta_threshold\": DELTA_INPUT_ROBUSTNESS_PARAM}, rrr_method)"
   ]
  },
  {
   "cell_type": "code",
   "execution_count": 42,
   "metadata": {},
   "outputs": [
    {
     "name": "stdout",
     "output_type": "stream",
     "text": [
      "========== Training model with method R4, restart 0 ==========\n"
     ]
    },
    {
     "name": "stderr",
     "output_type": "stream",
     "text": [
      "Epoch: 100%|██████████| 25/25 [00:34<00:00,  1.38s/it, loss=1.48, reg=tensor(0.0087, device='cuda:1', grad_fn=<DivBackward0>)]\n"
     ]
    },
    {
     "name": "stdout",
     "output_type": "stream",
     "text": [
      "Testing model accuracy for the training set\n",
      "--- Model accuracy ---\n",
      "Nominal = 0.99\n",
      "Testing model accuracy for the test set\n",
      "--- Model accuracy ---\n",
      "Nominal = 0.98\n",
      "--- Delta input robustness ---\n",
      "Delta Input Robustness = 0\n",
      "--- Mininimum delta for which the test set is certifiably 1-delta-input-robust ---\n",
      "Min robust delta = 0.516\n",
      "========== Training model with method R4, restart 1 ==========\n"
     ]
    },
    {
     "name": "stderr",
     "output_type": "stream",
     "text": [
      "Epoch: 100%|██████████| 25/25 [00:34<00:00,  1.37s/it, loss=1.48, reg=tensor(0.0077, device='cuda:1', grad_fn=<DivBackward0>)]\n"
     ]
    },
    {
     "name": "stdout",
     "output_type": "stream",
     "text": [
      "Testing model accuracy for the training set\n",
      "--- Model accuracy ---\n",
      "Nominal = 0.99\n",
      "Testing model accuracy for the test set\n",
      "--- Model accuracy ---\n",
      "Nominal = 0.98\n",
      "--- Delta input robustness ---\n",
      "Delta Input Robustness = 0\n",
      "--- Mininimum delta for which the test set is certifiably 1-delta-input-robust ---\n",
      "Min robust delta = 0.538\n",
      "========== Training model with method R4, restart 2 ==========\n"
     ]
    },
    {
     "name": "stderr",
     "output_type": "stream",
     "text": [
      "Epoch: 100%|██████████| 25/25 [00:37<00:00,  1.51s/it, loss=1.48, reg=tensor(0.0077, device='cuda:1', grad_fn=<DivBackward0>)]\n"
     ]
    },
    {
     "name": "stdout",
     "output_type": "stream",
     "text": [
      "Testing model accuracy for the training set\n",
      "--- Model accuracy ---\n",
      "Nominal = 0.99\n",
      "Testing model accuracy for the test set\n",
      "--- Model accuracy ---\n",
      "Nominal = 0.98\n",
      "--- Delta input robustness ---\n",
      "Delta Input Robustness = 0\n",
      "--- Mininimum delta for which the test set is certifiably 1-delta-input-robust ---\n",
      "Min robust delta = 0.543\n",
      "========== Training model with method R4, restart 3 ==========\n"
     ]
    },
    {
     "name": "stderr",
     "output_type": "stream",
     "text": [
      "Epoch: 100%|██████████| 25/25 [00:34<00:00,  1.36s/it, loss=1.48, reg=tensor(0.0083, device='cuda:1', grad_fn=<DivBackward0>)]\n"
     ]
    },
    {
     "name": "stdout",
     "output_type": "stream",
     "text": [
      "Testing model accuracy for the training set\n",
      "--- Model accuracy ---\n",
      "Nominal = 0.99\n",
      "Testing model accuracy for the test set\n",
      "--- Model accuracy ---\n",
      "Nominal = 0.98\n",
      "--- Delta input robustness ---\n",
      "Delta Input Robustness = 0\n",
      "--- Mininimum delta for which the test set is certifiably 1-delta-input-robust ---\n",
      "Min robust delta = 0.58\n"
     ]
    }
   ],
   "source": [
    "# Train standard 3 times and test accuracy and delta input robustness for the masked region\n",
    "r4_method = \"r4\"\n",
    "num_epochs, lr, restarts, epsilon, weight_coeff, k = 25, 0.02, 4, 0.1, -1, 1\n",
    "train_acc, test_acc, num_robust, min_robust_delta = 0, 0, 0, 1e+8\n",
    "for i in range(restarts):\n",
    "    # Reinitialize the model\n",
    "    # We could try to just reinitialize the weights, but we can throw away the previous model for now as we do not need it\n",
    "    torch.manual_seed(i + SEED)\n",
    "    curr_model = FCNAugmented(*ARCH)\n",
    "\n",
    "    print(f\"========== Training model with method R4, restart {i} ==========\")\n",
    "    train_model_with_certified_input_grad(dl_masks_train, num_epochs, curr_model, lr, criterion, epsilon, r4_method, k, device, False)\n",
    "    print(\"Testing model accuracy for the training set\")\n",
    "    train_acc += test_model_accuracy(curr_model, dl_masks_train, device, multi_class=True)\n",
    "    print(\"Testing model accuracy for the test set\")\n",
    "    test_acc += test_model_accuracy(curr_model, dl_masks_test, device, multi_class=True)\n",
    "    n_r, min_delta = test_delta_input_robustness(dl_masks_test, curr_model, epsilon, DELTA_INPUT_ROBUSTNESS_PARAM, \"cross_entropy\", device)\n",
    "    num_robust += n_r\n",
    "    min_robust_delta = min(min_robust_delta, min_delta)\n",
    "    # if i == restarts - 1:\n",
    "    #     visualize_gradient(curr_model, *init_batch_train_with_masks, epsilon, idx_to_visualize)\n",
    "\n",
    "write_results_to_file(\"experiment_results/decoy_mnist.yaml\",\n",
    "                      {\"train_acc\": round(train_acc / restarts, 3),\n",
    "                       \"test_acc\": round(test_acc / restarts, 3),\n",
    "                       \"num_robust\": round(num_robust / restarts, 3),\n",
    "                       \"min_robust_delta\": min_robust_delta}, r4_method)\n",
    "write_results_to_file(\"experiment_results/decoy_mnist_params.yaml\",\n",
    "                      {\"epsilon\": epsilon,\n",
    "                       \"k\": k,\n",
    "                       \"weight_coeff\": weight_coeff,\n",
    "                       \"num_epochs\": num_epochs,\n",
    "                       \"lr\": lr,\n",
    "                       \"restarts\": restarts,\n",
    "                       \"delta_threshold\": DELTA_INPUT_ROBUSTNESS_PARAM}, r4_method)"
   ]
  },
  {
   "cell_type": "markdown",
   "metadata": {},
   "source": [
    "IBP-EX Training"
   ]
  },
  {
   "cell_type": "code",
   "execution_count": 52,
   "metadata": {},
   "outputs": [
    {
     "name": "stdout",
     "output_type": "stream",
     "text": [
      "========== Training model with method ibp_ex restart 0 ==========\n"
     ]
    },
    {
     "name": "stderr",
     "output_type": "stream",
     "text": [
      "Epoch: 100%|██████████| 30/30 [00:52<00:00,  1.75s/it, loss=1.9, reg=tensor(3.0476, device='cuda:1', grad_fn=<AddBackward0>)] \n"
     ]
    },
    {
     "name": "stdout",
     "output_type": "stream",
     "text": [
      "Testing model accuracy for the training set\n",
      "--- Model accuracy ---\n",
      "Nominal = 0.95\n",
      "Testing model accuracy for the test set\n",
      "--- Model accuracy ---\n",
      "Nominal = 0.92\n",
      "--- Delta input robustness ---\n",
      "Delta Input Robustness = 0\n",
      "--- Mininimum delta for which the test set is certifiably 1-delta-input-robust ---\n",
      "Min robust delta = 4.83\n",
      "========== Training model with method ibp_ex restart 1 ==========\n"
     ]
    },
    {
     "name": "stderr",
     "output_type": "stream",
     "text": [
      "Epoch: 100%|██████████| 30/30 [00:51<00:00,  1.71s/it, loss=1.91, reg=tensor(3.0308, device='cuda:1', grad_fn=<AddBackward0>)]\n"
     ]
    },
    {
     "name": "stdout",
     "output_type": "stream",
     "text": [
      "Testing model accuracy for the training set\n",
      "--- Model accuracy ---\n",
      "Nominal = 0.94\n",
      "Testing model accuracy for the test set\n",
      "--- Model accuracy ---\n",
      "Nominal = 0.92\n",
      "--- Delta input robustness ---\n",
      "Delta Input Robustness = 0\n",
      "--- Mininimum delta for which the test set is certifiably 1-delta-input-robust ---\n",
      "Min robust delta = 4.8\n",
      "========== Training model with method ibp_ex restart 2 ==========\n"
     ]
    },
    {
     "name": "stderr",
     "output_type": "stream",
     "text": [
      "Epoch: 100%|██████████| 30/30 [00:51<00:00,  1.71s/it, loss=1.89, reg=tensor(3.0318, device='cuda:1', grad_fn=<AddBackward0>)]\n"
     ]
    },
    {
     "name": "stdout",
     "output_type": "stream",
     "text": [
      "Testing model accuracy for the training set\n",
      "--- Model accuracy ---\n",
      "Nominal = 0.95\n",
      "Testing model accuracy for the test set\n",
      "--- Model accuracy ---\n",
      "Nominal = 0.93\n",
      "--- Delta input robustness ---\n",
      "Delta Input Robustness = 0\n",
      "--- Mininimum delta for which the test set is certifiably 1-delta-input-robust ---\n",
      "Min robust delta = 4.99\n",
      "========== Training model with method ibp_ex restart 3 ==========\n"
     ]
    },
    {
     "name": "stderr",
     "output_type": "stream",
     "text": [
      "Epoch: 100%|██████████| 30/30 [00:52<00:00,  1.75s/it, loss=1.91, reg=tensor(3.0667, device='cuda:1', grad_fn=<AddBackward0>)]\n"
     ]
    },
    {
     "name": "stdout",
     "output_type": "stream",
     "text": [
      "Testing model accuracy for the training set\n",
      "--- Model accuracy ---\n",
      "Nominal = 0.95\n",
      "Testing model accuracy for the test set\n",
      "--- Model accuracy ---\n",
      "Nominal = 0.92\n",
      "--- Delta input robustness ---\n",
      "Delta Input Robustness = 0\n",
      "--- Mininimum delta for which the test set is certifiably 1-delta-input-robust ---\n",
      "Min robust delta = 4.83\n"
     ]
    }
   ],
   "source": [
    "ibp_ex_method = \"ibp_ex\"\n",
    "# Train standard 3 times and test accuracy and delta input robustness for the masked region\n",
    "num_epochs, lr, restarts, epsilon, weight_coeff, k = 30, 0.02, 4, 0.1, 8e-3, 0.12\n",
    "train_acc, test_acc, num_robust, min_robust_delta = 0, 0, 0, 1e+8\n",
    "for i in range(restarts):\n",
    "    # Reinitialize the model\n",
    "    # We could try to just reinitialize the weights, but we can throw away the previous model for now as we do not need it\n",
    "    torch.manual_seed(i + SEED)\n",
    "    curr_model = FCNAugmented(*ARCH)\n",
    "\n",
    "    print(f\"========== Training model with method {ibp_ex_method} restart {i} ==========\")\n",
    "    train_model_with_certified_input_grad(dl_masks_train, num_epochs, curr_model, lr, criterion, epsilon, ibp_ex_method, k,\n",
    "                                          device, False, weight_reg_coeff=weight_coeff)\n",
    "    print(\"Testing model accuracy for the training set\")\n",
    "    train_acc += test_model_accuracy(curr_model, dl_masks_train, device, multi_class=True)\n",
    "    print(\"Testing model accuracy for the test set\")\n",
    "    test_acc += test_model_accuracy(curr_model, dl_masks_test, device, multi_class=True)\n",
    "    n_r, min_delta = test_delta_input_robustness(dl_masks_test, curr_model, epsilon, DELTA_INPUT_ROBUSTNESS_PARAM, \"cross_entropy\", device)\n",
    "    num_robust += n_r\n",
    "    min_robust_delta = min(min_robust_delta, min_delta)\n",
    "    # if i == restarts - 1:\n",
    "    #     visualize_gradient(curr_model, *init_batch_train_with_masks, epsilon, idx_to_visualize)\n",
    "\n",
    "write_results_to_file(\"experiment_results/decoy_mnist.yaml\",\n",
    "                      {\"train_acc\": round(train_acc / restarts, 3),\n",
    "                       \"test_acc\": round(test_acc / restarts, 3),\n",
    "                       \"num_robust\": round(num_robust / restarts, 3),\n",
    "                       \"min_robust_delta\": min_robust_delta}, ibp_ex_method)\n",
    "write_results_to_file(\"experiment_results/decoy_mnist_params.yaml\",\n",
    "                      {\"epsilon\": epsilon,\n",
    "                       \"k\": k,\n",
    "                       \"weight_coeff\": weight_coeff,\n",
    "                       \"num_epochs\": num_epochs,\n",
    "                       \"lr\": lr,\n",
    "                       \"restarts\": restarts,\n",
    "                       \"delta_threshold\": DELTA_INPUT_ROBUSTNESS_PARAM}, ibp_ex_method)"
   ]
  },
  {
   "cell_type": "markdown",
   "metadata": {},
   "source": [
    "### IBP-EX + R3 Training"
   ]
  },
  {
   "cell_type": "code",
   "execution_count": 19,
   "metadata": {},
   "outputs": [
    {
     "name": "stdout",
     "output_type": "stream",
     "text": [
      "========== Training model with method ibp_ex+r3 restart 0 ==========\n"
     ]
    },
    {
     "name": "stderr",
     "output_type": "stream",
     "text": [
      "Epoch:   0%|          | 0/20 [00:00<?, ?it/s]"
     ]
    },
    {
     "name": "stderr",
     "output_type": "stream",
     "text": [
      "Epoch: 100%|██████████| 20/20 [00:36<00:00,  1.81s/it, loss=21.5, reg=tensor(99.7967, device='cuda:1', grad_fn=<AddBackward0>)] \n"
     ]
    },
    {
     "name": "stdout",
     "output_type": "stream",
     "text": [
      "Testing model accuracy for the training set\n",
      "--- Model accuracy ---\n",
      "Nominal = 0.94\n",
      "Testing model accuracy for the test set\n",
      "--- Model accuracy ---\n",
      "Nominal = 0.93\n",
      "--- Delta input robustness ---\n",
      "Delta Input Robustness = 0\n",
      "--- Mininimum delta for which the test set is certifiably 1-delta-input-robust ---\n",
      "Min robust delta = 3.33\n",
      "========== Training model with method ibp_ex+r3 restart 1 ==========\n"
     ]
    },
    {
     "name": "stderr",
     "output_type": "stream",
     "text": [
      "Epoch: 100%|██████████| 20/20 [00:36<00:00,  1.81s/it, loss=15.1, reg=tensor(67.7487, device='cuda:1', grad_fn=<AddBackward0>)]\n"
     ]
    },
    {
     "name": "stdout",
     "output_type": "stream",
     "text": [
      "Testing model accuracy for the training set\n",
      "--- Model accuracy ---\n",
      "Nominal = 0.94\n",
      "Testing model accuracy for the test set\n",
      "--- Model accuracy ---\n",
      "Nominal = 0.93\n",
      "--- Delta input robustness ---\n",
      "Delta Input Robustness = 0\n",
      "--- Mininimum delta for which the test set is certifiably 1-delta-input-robust ---\n",
      "Min robust delta = 3.96\n",
      "========== Training model with method ibp_ex+r3 restart 2 ==========\n"
     ]
    },
    {
     "name": "stderr",
     "output_type": "stream",
     "text": [
      "Epoch: 100%|██████████| 20/20 [00:35<00:00,  1.79s/it, loss=15.7, reg=tensor(70.8626, device='cuda:1', grad_fn=<AddBackward0>)]\n"
     ]
    },
    {
     "name": "stdout",
     "output_type": "stream",
     "text": [
      "Testing model accuracy for the training set\n",
      "--- Model accuracy ---\n",
      "Nominal = 0.94\n",
      "Testing model accuracy for the test set\n",
      "--- Model accuracy ---\n",
      "Nominal = 0.93\n",
      "--- Delta input robustness ---\n",
      "Delta Input Robustness = 0\n",
      "--- Mininimum delta for which the test set is certifiably 1-delta-input-robust ---\n",
      "Min robust delta = 3.37\n",
      "========== Training model with method ibp_ex+r3 restart 3 ==========\n"
     ]
    },
    {
     "name": "stderr",
     "output_type": "stream",
     "text": [
      "Epoch: 100%|██████████| 20/20 [00:36<00:00,  1.81s/it, loss=27.8, reg=tensor(131.2812, device='cuda:1', grad_fn=<AddBackward0>)]\n"
     ]
    },
    {
     "name": "stdout",
     "output_type": "stream",
     "text": [
      "Testing model accuracy for the training set\n",
      "--- Model accuracy ---\n",
      "Nominal = 0.94\n",
      "Testing model accuracy for the test set\n",
      "--- Model accuracy ---\n",
      "Nominal = 0.93\n",
      "--- Delta input robustness ---\n",
      "Delta Input Robustness = 0\n",
      "--- Mininimum delta for which the test set is certifiably 1-delta-input-robust ---\n",
      "Min robust delta = 3.88\n"
     ]
    }
   ],
   "source": [
    "ibp_ex_and_r3_method = \"ibp_ex+r3\"\n",
    "# Train standard 3 times and test accuracy and delta input robustness for the masked region\n",
    "num_epochs, lr, restarts, epsilon, weight_coeff, k = 20, 0.02, 4, 0.1, 6e-3, 0.2\n",
    "train_acc, test_acc, num_robust, min_robust_delta = 0, 0, 0, 1e+8\n",
    "for i in range(restarts):\n",
    "    # Reinitialize the model\n",
    "    # We could try to just reinitialize the weights, but we can throw away the previous model for now as we do not need it\n",
    "    torch.manual_seed(i + SEED)\n",
    "    curr_model = FCNAugmented(*ARCH)\n",
    "\n",
    "    print(f\"========== Training model with method {ibp_ex_and_r3_method} restart {i} ==========\")\n",
    "    train_model_with_certified_input_grad(dl_masks_train, num_epochs, curr_model, lr, criterion, epsilon, ibp_ex_and_r3_method, k, device,\n",
    "                                          False, weight_reg_coeff=weight_coeff)\n",
    "    print(\"Testing model accuracy for the training set\")\n",
    "    train_acc += test_model_accuracy(curr_model, dl_masks_train, device, multi_class=True)\n",
    "    print(\"Testing model accuracy for the test set\")\n",
    "    test_acc += test_model_accuracy(curr_model, dl_masks_test, device, multi_class=True)\n",
    "    n_r, min_delta = test_delta_input_robustness(dl_masks_test, curr_model, epsilon, DELTA_INPUT_ROBUSTNESS_PARAM, \"cross_entropy\", device)\n",
    "    num_robust += n_r\n",
    "    min_robust_delta = min(min_robust_delta, min_delta)\n",
    "    # if i == restarts - 1:\n",
    "    #     visualize_gradient(curr_model, *init_batch_train_with_masks, epsilon, idx_to_visualize)\n",
    "\n",
    "write_results_to_file(\"experiment_results/decoy_mnist.yaml\",\n",
    "                      {\"train_acc\": round(train_acc / restarts, 3),\n",
    "                       \"test_acc\": round(test_acc / restarts, 3),\n",
    "                       \"num_robust\": round(num_robust / restarts, 3),\n",
    "                       \"min_robust_delta\": min_robust_delta}, ibp_ex_and_r3_method)\n",
    "write_results_to_file(\"experiment_results/decoy_mnist_params.yaml\",\n",
    "                      {\"epsilon\": epsilon,\n",
    "                       \"k\": k,\n",
    "                       \"weight_coeff\": weight_coeff,\n",
    "                       \"num_epochs\": num_epochs,\n",
    "                       \"lr\": lr,\n",
    "                       \"restarts\": restarts,\n",
    "                       \"delta_threshold\": DELTA_INPUT_ROBUSTNESS_PARAM}, ibp_ex_and_r3_method)"
   ]
  },
  {
   "cell_type": "markdown",
   "metadata": {},
   "source": [
    "# Sample Complexity Experiments"
   ]
  },
  {
   "cell_type": "code",
   "execution_count": 8,
   "metadata": {},
   "outputs": [
    {
     "name": "stdout",
     "output_type": "stream",
     "text": [
      "Loading params for method r3\n",
      "{'delta_threshold': 0.5, 'epsilon': 0.1, 'k': 0.05, 'lr': 0.01, 'num_epochs': 20, 'restarts': 4, 'weight_coeff': 0.006}\n",
      "<class 'dict'>\n",
      "Loading params for method r4\n",
      "{'delta_threshold': 0.5, 'epsilon': 0.1, 'k': 1, 'lr': 0.02, 'num_epochs': 25, 'restarts': 4, 'weight_coeff': -1}\n",
      "<class 'dict'>\n",
      "Loading params for method ibp_ex\n",
      "{'delta_threshold': 0.5, 'epsilon': 0.1, 'k': 0.12, 'lr': 0.02, 'num_epochs': 30, 'restarts': 4, 'weight_coeff': 0.008}\n",
      "<class 'dict'>\n",
      "Loading params for method ibp_ex+r3\n",
      "{'delta_threshold': 0.5, 'epsilon': 0.1, 'k': 0.2, 'lr': 0.02, 'num_epochs': 20, 'restarts': 4, 'weight_coeff': 0.006}\n",
      "<class 'dict'>\n"
     ]
    }
   ],
   "source": [
    "mask_ratios = [0.8, 0.6, 0.4, 0.2]\n",
    "methods = [\"r3\", \"r4\", \"ibp_ex\", \"ibp_ex+r3\"]\n",
    "for method in methods:\n",
    "    # Load the params\n",
    "    params_dict = load_params_or_results_from_file(\"experiment_results/decoy_mnist_params.yaml\", method)\n",
    "    delta_threshold = params_dict[\"delta_threshold\"]\n",
    "    epsilon = params_dict[\"epsilon\"]\n",
    "    k = params_dict[\"k\"]\n",
    "    weight_coeff = params_dict[\"weight_coeff\"]\n",
    "    num_epochs = params_dict[\"num_epochs\"]\n",
    "    lr = params_dict[\"lr\"]\n",
    "    restarts = params_dict[\"restarts\"]\n",
    "    for mask_ratio in mask_ratios:\n",
    "        new_dl_train = decoy_mnist.remove_masks()\n"
   ]
  },
  {
   "cell_type": "code",
   "execution_count": null,
   "metadata": {},
   "outputs": [],
   "source": []
  }
 ],
 "metadata": {
  "kernelspec": {
   "display_name": "fypvenv",
   "language": "python",
   "name": "python3"
  },
  "language_info": {
   "codemirror_mode": {
    "name": "ipython",
    "version": 3
   },
   "file_extension": ".py",
   "mimetype": "text/x-python",
   "name": "python",
   "nbconvert_exporter": "python",
   "pygments_lexer": "ipython3",
   "version": "3.10.12"
  }
 },
 "nbformat": 4,
 "nbformat_minor": 2
}

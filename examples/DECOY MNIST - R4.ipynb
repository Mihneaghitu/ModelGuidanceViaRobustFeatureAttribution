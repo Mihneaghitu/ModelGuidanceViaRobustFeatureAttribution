{
 "cells": [
  {
   "cell_type": "markdown",
   "metadata": {},
   "source": [
    "# R4 on DECOY_MNIST"
   ]
  },
  {
   "cell_type": "code",
   "execution_count": null,
   "metadata": {},
   "outputs": [],
   "source": [
    "%load_ext autoreload\n",
    "%autoreload 2\n",
    "import torch\n",
    "import tqdm\n",
    "import matplotlib.pyplot as plt\n",
    "import os\n",
    "import sys\n",
    "sys.path.append(os.path.abspath('..'))\n",
    "import abstract_gradient_training as agt\n",
    "from abstract_gradient_training import AGTConfig\n",
    "from abstract_gradient_training import certified_training_utils as ct_utils\n",
    "from models.fully_connected import FCNAugmented\n",
    "from models.robust_regularizer import input_gradient_interval_regularizer, input_gradient_pgd_regularizer\n",
    "from models.pipeline import (train_model_with_certified_input_grad, train_model_with_pgd_robust_input_grad, test_model_accuracy,\n",
    "                             test_delta_input_robustness, write_results_to_file, uniformize_magnitudes_schedule, load_params_or_results_from_file)\n",
    "from datasets import decoy_mnist"
   ]
  },
  {
   "cell_type": "markdown",
   "metadata": {},
   "source": [
    "## Pre-train the model"
   ]
  },
  {
   "cell_type": "code",
   "execution_count": null,
   "metadata": {},
   "outputs": [],
   "source": [
    "# set up pre-training\n",
    "CUDA_LAUNCH_BLOCKING=1\n",
    "SEED = 0\n",
    "device = torch.device(\"cuda:0\" if torch.cuda.is_available() else \"cpu\")\n",
    "print(device)\n",
    "torch.manual_seed(SEED)"
   ]
  },
  {
   "cell_type": "code",
   "execution_count": null,
   "metadata": {},
   "outputs": [],
   "source": [
    "batch_size = 1000\n",
    "dl_train, dl_test = decoy_mnist.get_dataloaders(train_batchsize=batch_size, test_batchsize=batch_size)"
   ]
  },
  {
   "cell_type": "code",
   "execution_count": null,
   "metadata": {},
   "outputs": [],
   "source": [
    "dl_masks_train, dl_masks_test = decoy_mnist.get_masked_dataloaders(dl_train, dl_test)"
   ]
  },
  {
   "cell_type": "code",
   "execution_count": null,
   "metadata": {},
   "outputs": [],
   "source": [
    "def visualize_gradient(model, batch_input, batch_labels, batch_mask, epsilon, elem_idx):\n",
    "    batch_input, batch_labels, batch_mask = batch_input.to(device), batch_labels.to(device), batch_mask.to(device)\n",
    "    grad_bounds = input_gradient_interval_regularizer(\n",
    "        model, batch_input, batch_labels, \"cross_entropy\", epsilon, 0.0, return_grads=True, regularizer_type=\"r4\", batch_masks=batch_mask\n",
    "    )\n",
    "    dx_l, dx_u = grad_bounds[1]\n",
    "    dx_n, _ = grad_bounds[0]\n",
    "    fig, ax = plt.subplots(3, 2, figsize=(14, 13))\n",
    "    ax[0][0].imshow(batch_input[elem_idx].cpu().numpy().reshape(28, 28), cmap='gray')\n",
    "    ax[0][0].set_title(f\"Input at index {elem_idx}\")\n",
    "    im_mask = ax[0][1].imshow(batch_mask[elem_idx].cpu().numpy().reshape(28, 28), cmap='gray')\n",
    "    ax[0][1].set_title(f\"Mask at index {elem_idx}\")\n",
    "    fig.colorbar(im_mask, ax=ax[0][1])\n",
    "    im_dx_l = ax[1][0].imshow(dx_l[elem_idx].cpu().detach().numpy().reshape(28, 28), cmap='coolwarm')\n",
    "    ax[1][0].set_title(f\"Lower bound of gradient at index {elem_idx}\")\n",
    "    fig.colorbar(im_dx_l, ax=ax[1][0])\n",
    "    im_dx_u = ax[1][1].imshow(dx_u[elem_idx].cpu().detach().numpy().reshape(28, 28), cmap='coolwarm')\n",
    "    ax[1][1].set_title(f\"Upper bound of gradient at index {elem_idx}\")\n",
    "    fig.colorbar(im_dx_u, ax=ax[1][1])\n",
    "    im_dx_n = ax[2][0].imshow(dx_n[elem_idx].cpu().detach().numpy().reshape(28, 28), cmap='coolwarm')\n",
    "    ax[2][0].set_title(f\"Gradient at index {elem_idx}\")\n",
    "    fig.colorbar(im_dx_n, ax=ax[2][0])"
   ]
  },
  {
   "cell_type": "code",
   "execution_count": null,
   "metadata": {},
   "outputs": [],
   "source": [
    "ARCH = (784, 10, 512, 1)\n",
    "model = FCNAugmented(*ARCH)\n",
    "criterion = torch.nn.CrossEntropyLoss()\n",
    "model = model.to(device)\n",
    "print(model)"
   ]
  },
  {
   "cell_type": "code",
   "execution_count": null,
   "metadata": {},
   "outputs": [],
   "source": [
    "idx_to_visualize = torch.randint(0, batch_size, (1,)).item()\n",
    "init_batch_train_with_masks = next(iter(dl_masks_train))\n",
    "print(f\"Batch input shape: {init_batch_train_with_masks[0].shape}, batch mask shape: {init_batch_train_with_masks[2].shape}\")\n",
    "visualize_gradient(model, *init_batch_train_with_masks, 0.1, idx_to_visualize)"
   ]
  },
  {
   "cell_type": "markdown",
   "metadata": {},
   "source": [
    "## Experiments "
   ]
  },
  {
   "cell_type": "code",
   "execution_count": null,
   "metadata": {},
   "outputs": [],
   "source": [
    "DELTA_INPUT_ROBUSTNESS_PARAM = 0.5"
   ]
  },
  {
   "cell_type": "markdown",
   "metadata": {},
   "source": [
    "### Standard Training"
   ]
  },
  {
   "cell_type": "code",
   "execution_count": null,
   "metadata": {},
   "outputs": [],
   "source": [
    "std_method = \"std\"\n",
    "# hyperparameters\n",
    "num_epochs, lr, restarts, epsilon, weight_coeff, k = 30, 0.01, 4, 0.1, 0.01, 0.2\n",
    "# Train standard 3 times and test accuracy and delta input robustness for the masked region\n",
    "train_acc, test_acc, num_robust, min_robust_delta, min_lower_bound, max_upper_bound = 0, 0, 0, 1e+8, 0, 0\n",
    "for i in range(restarts):\n",
    "    # Reinitialize the model\n",
    "    # We could try to just reinitialize the weights, but we can throw away the previous model for now as we do not need it\n",
    "    torch.manual_seed(i + SEED)\n",
    "    curr_model = FCNAugmented(*ARCH)\n",
    "\n",
    "    print(f\"========== Training model with method {std_method} restart {i} ==========\")\n",
    "    train_model_with_certified_input_grad(dl_masks_train, num_epochs, curr_model, lr, criterion, epsilon, std_method, k, device, False)\n",
    "    print(\"Testing model accuracy for the training set\")\n",
    "    train_acc += test_model_accuracy(curr_model, dl_masks_train, device, multi_class=True)\n",
    "    print(\"Testing model accuracy for the test set\")\n",
    "    test_acc += test_model_accuracy(curr_model, dl_masks_test, device, multi_class=True)\n",
    "    n_r, min_delta, m_l, m_u = test_delta_input_robustness(dl_masks_test, curr_model, epsilon, DELTA_INPUT_ROBUSTNESS_PARAM, \"cross_entropy\", device)\n",
    "    num_robust += num_robust\n",
    "    min_robust_delta = min(min_robust_delta, min_delta)\n",
    "    min_lower_bound += m_l\n",
    "    max_upper_bound += m_u\n",
    "write_results_to_file(\"experiment_results/decoy_mnist.yaml\",\n",
    "                      {\"train_acc\": round(train_acc / restarts, 3),\n",
    "                       \"test_acc\": round(test_acc / restarts, 3),\n",
    "                       \"num_robust\": round(num_robust / restarts, 3),\n",
    "                       \"min_robust_delta\": min_robust_delta,\n",
    "                       \"min_lower_bound\": round(min_lower_bound / restarts, 3),\n",
    "                       \"max_upper_bound\": round(max_upper_bound / restarts, 3)\n",
    "                       }, std_method)\n",
    "write_results_to_file(\"experiment_results/decoy_mnist_params.yaml\",\n",
    "                        {\"epsilon\": epsilon,\n",
    "                         \"k\": k,\n",
    "                         \"weight_coeff\": weight_coeff,\n",
    "                         \"num_epochs\": num_epochs,\n",
    "                         \"lr\": lr,\n",
    "                         \"restarts\": restarts,\n",
    "                         \"delta_threshold\": DELTA_INPUT_ROBUSTNESS_PARAM}, std_method)"
   ]
  },
  {
   "cell_type": "markdown",
   "metadata": {},
   "source": [
    "### RRR Training"
   ]
  },
  {
   "cell_type": "code",
   "execution_count": null,
   "metadata": {},
   "outputs": [],
   "source": [
    "# Train standard 3 times and test accuracy and delta input robustness for the masked region\n",
    "rrr_method = \"r3\"\n",
    "def rrr_k_schedule(curr_epoch, max_epochs, std_loss, rrr_loss):\n",
    "    if curr_epoch <= max_epochs // 5:\n",
    "        return 0.0\n",
    "    else:\n",
    "        # get magnitude difference in terms of order of magnitude\n",
    "        loss_diff = rrr_loss - std_loss\n",
    "        if loss_diff < 0:\n",
    "            return 1.0\n",
    "        orders_of_mag = torch.floor(torch.log10(loss_diff))\n",
    "        # the 2 is there to allow for a bit of a margin\n",
    "        return 1 / (2 * (10 ** (orders_of_mag - 1)))\n",
    "\n",
    "# hyperparams\n",
    "num_epochs, lr, restarts, epsilon, weight_coeff, k = 20, 0.01, 4, 0.1, 6e-3, 0.05\n",
    "train_acc, test_acc, num_robust, min_robust_delta, min_lower_bound, max_upper_bound = 0, 0, 0, 1e+8, 0, 0\n",
    "for i in range(restarts):\n",
    "    # Reinitialize the model\n",
    "    # We could try to just reinitialize the weights, but we can throw away the previous model for now as we do not need it\n",
    "    torch.manual_seed(i + SEED)\n",
    "    curr_model = FCNAugmented(*ARCH)\n",
    "\n",
    "    print(f\"========== Training model with method {rrr_method}, restart {i} ==========\")\n",
    "    train_model_with_certified_input_grad(dl_masks_train, num_epochs, curr_model, lr, criterion, epsilon, rrr_method,\n",
    "                                          k, device, False, k_schedule=rrr_k_schedule, weight_reg_coeff=weight_coeff)\n",
    "    print(\"Testing model accuracy for the training set\")\n",
    "    train_acc += test_model_accuracy(curr_model, dl_masks_train, device, multi_class=True)\n",
    "    print(\"Testing model accuracy for the test set\")\n",
    "    test_acc += test_model_accuracy(curr_model, dl_masks_test, device, multi_class=True)\n",
    "    n_r, min_delta, m_l, m_u = test_delta_input_robustness(dl_masks_test, curr_model, epsilon, DELTA_INPUT_ROBUSTNESS_PARAM,\n",
    "                                \"cross_entropy\", device)\n",
    "    num_robust += n_r\n",
    "    min_robust_delta = min(min_robust_delta, min_delta)\n",
    "    min_lower_bound += m_l\n",
    "    max_upper_bound += m_u\n",
    "write_results_to_file(\"experiment_results/decoy_mnist.yaml\",\n",
    "                      {\"train_acc\": round(train_acc / restarts, 3),\n",
    "                       \"test_acc\": round(test_acc / restarts, 3),\n",
    "                       \"num_robust\": round(num_robust / restarts, 3),\n",
    "                       \"min_lower_bound\": round(min_lower_bound / restarts, 3),\n",
    "                       \"max_upper_bound\": round(max_upper_bound / restarts, 3),\n",
    "                       \"min_robust_delta\": min_robust_delta}, rrr_method)\n",
    "write_results_to_file(\"experiment_results/decoy_mnist_params.yaml\",\n",
    "                      {\"epsilon\": epsilon,\n",
    "                       \"k\": k,\n",
    "                       \"weight_coeff\": weight_coeff,\n",
    "                       \"num_epochs\": num_epochs,\n",
    "                       \"lr\": lr,\n",
    "                       \"restarts\": restarts,\n",
    "                       \"delta_threshold\": DELTA_INPUT_ROBUSTNESS_PARAM}, rrr_method)"
   ]
  },
  {
   "cell_type": "markdown",
   "metadata": {},
   "source": [
    "### R4 Training"
   ]
  },
  {
   "cell_type": "code",
   "execution_count": null,
   "metadata": {},
   "outputs": [],
   "source": [
    "# Train standard 3 times and test accuracy and delta input robustness for the masked region\n",
    "r4_method = \"r4\"\n",
    "num_epochs, lr, restarts, epsilon, weight_coeff, k = 25, 0.02, 4, 0.1, -1, 1\n",
    "train_acc, test_acc, num_robust, min_robust_delta, min_lower_bound, max_upper_bound = 0, 0, 0, 1e+8, 0, 0\n",
    "for i in range(restarts):\n",
    "    # Reinitialize the model\n",
    "    # We could try to just reinitialize the weights, but we can throw away the previous model for now as we do not need it\n",
    "    torch.manual_seed(i + SEED)\n",
    "    curr_model = FCNAugmented(*ARCH)\n",
    "\n",
    "    print(f\"========== Training model with method R4, restart {i} ==========\")\n",
    "    train_model_with_certified_input_grad(dl_masks_train, num_epochs, curr_model, lr, criterion, epsilon, r4_method, k, device, False)\n",
    "    print(\"Testing model accuracy for the training set\")\n",
    "    train_acc += test_model_accuracy(curr_model, dl_masks_train, device, multi_class=True)\n",
    "    print(\"Testing model accuracy for the test set\")\n",
    "    test_acc += test_model_accuracy(curr_model, dl_masks_test, device, multi_class=True)\n",
    "    n_r, min_delta, m_l, m_u = test_delta_input_robustness(dl_masks_test, curr_model, epsilon, DELTA_INPUT_ROBUSTNESS_PARAM, \"cross_entropy\", device)\n",
    "    num_robust += n_r\n",
    "    min_robust_delta = min(min_robust_delta, min_delta)\n",
    "    min_lower_bound += m_l\n",
    "    max_upper_bound += m_u\n",
    "write_results_to_file(\"experiment_results/decoy_mnist.yaml\",\n",
    "                      {\"train_acc\": round(train_acc / restarts, 3),\n",
    "                       \"test_acc\": round(test_acc / restarts, 3),\n",
    "                       \"num_robust\": round(num_robust / restarts, 3),\n",
    "                       \"min_lower_bound\": round(min_lower_bound / restarts, 3),\n",
    "                       \"max_upper_bound\": round(max_upper_bound / restarts, 3),\n",
    "                       \"min_robust_delta\": min_robust_delta}, r4_method)\n",
    "write_results_to_file(\"experiment_results/decoy_mnist_params.yaml\",\n",
    "                      {\"epsilon\": epsilon,\n",
    "                       \"k\": k,\n",
    "                       \"weight_coeff\": weight_coeff,\n",
    "                       \"num_epochs\": num_epochs,\n",
    "                       \"lr\": lr,\n",
    "                       \"restarts\": restarts,\n",
    "                       \"delta_threshold\": DELTA_INPUT_ROBUSTNESS_PARAM}, r4_method)"
   ]
  },
  {
   "cell_type": "markdown",
   "metadata": {},
   "source": [
    "### IBP-EX Training"
   ]
  },
  {
   "cell_type": "code",
   "execution_count": null,
   "metadata": {},
   "outputs": [],
   "source": [
    "ibp_ex_method = \"ibp_ex\"\n",
    "# Train standard 3 times and test accuracy and delta input robustness for the masked region\n",
    "num_epochs, lr, restarts, epsilon, weight_coeff, k = 30, 0.02, 4, 0.1, 8e-3, 0.12\n",
    "train_acc, test_acc, num_robust, min_robust_delta, min_lower_bound, max_upper_bound = 0, 0, 0, 1e+8, 0, 0\n",
    "for i in range(restarts):\n",
    "    # Reinitialize the model\n",
    "    # We could try to just reinitialize the weights, but we can throw away the previous model for now as we do not need it\n",
    "    torch.manual_seed(i + SEED)\n",
    "    curr_model = FCNAugmented(*ARCH)\n",
    "\n",
    "    print(f\"========== Training model with method {ibp_ex_method} restart {i} ==========\")\n",
    "    train_model_with_certified_input_grad(dl_masks_train, num_epochs, curr_model, lr, criterion, epsilon, ibp_ex_method, k,\n",
    "                                          device, False, weight_reg_coeff=weight_coeff)\n",
    "    print(\"Testing model accuracy for the training set\")\n",
    "    train_acc += test_model_accuracy(curr_model, dl_masks_train, device, multi_class=True)\n",
    "    print(\"Testing model accuracy for the test set\")\n",
    "    test_acc += test_model_accuracy(curr_model, dl_masks_test, device, multi_class=True)\n",
    "    n_r, min_delta, m_l, m_u = test_delta_input_robustness(dl_masks_test, curr_model, epsilon, DELTA_INPUT_ROBUSTNESS_PARAM, \"cross_entropy\", device)\n",
    "    num_robust += n_r\n",
    "    min_robust_delta = min(min_robust_delta, min_delta)\n",
    "    min_lower_bound += m_l\n",
    "    max_upper_bound += m_u\n",
    "write_results_to_file(\"experiment_results/decoy_mnist.yaml\",\n",
    "                      {\"train_acc\": round(train_acc / restarts, 3),\n",
    "                       \"test_acc\": round(test_acc / restarts, 3),\n",
    "                       \"num_robust\": round(num_robust / restarts, 3),\n",
    "                       \"min_lower_bound\": round(min_lower_bound / restarts, 3),\n",
    "                       \"max_upper_bound\": round(max_upper_bound / restarts, 3),\n",
    "                       \"min_robust_delta\": min_robust_delta}, ibp_ex_method)\n",
    "write_results_to_file(\"experiment_results/decoy_mnist_params.yaml\",\n",
    "                      {\"epsilon\": epsilon,\n",
    "                       \"k\": k,\n",
    "                       \"weight_coeff\": weight_coeff,\n",
    "                       \"num_epochs\": num_epochs,\n",
    "                       \"lr\": lr,\n",
    "                       \"restarts\": restarts,\n",
    "                       \"delta_threshold\": DELTA_INPUT_ROBUSTNESS_PARAM}, ibp_ex_method)"
   ]
  },
  {
   "cell_type": "markdown",
   "metadata": {},
   "source": [
    "### IBP-EX + R3 Training"
   ]
  },
  {
   "cell_type": "code",
   "execution_count": null,
   "metadata": {},
   "outputs": [],
   "source": [
    "ibp_ex_and_r3_method = \"ibp_ex+r3\"\n",
    "# Train standard 3 times and test accuracy and delta input robustness for the masked region\n",
    "num_epochs, lr, restarts, epsilon, weight_coeff, k = 20, 0.02, 4, 0.1, 6e-3, 0.2\n",
    "train_acc, test_acc, num_robust, min_robust_delta, min_lower_bound, max_upper_bound = 0, 0, 0, 1e+8, 0, 0\n",
    "for i in range(restarts):\n",
    "    # Reinitialize the model\n",
    "    # We could try to just reinitialize the weights, but we can throw away the previous model for now as we do not need it\n",
    "    torch.manual_seed(i + SEED)\n",
    "    curr_model = FCNAugmented(*ARCH)\n",
    "\n",
    "    print(f\"========== Training model with method {ibp_ex_and_r3_method} restart {i} ==========\")\n",
    "    train_model_with_certified_input_grad(dl_masks_train, num_epochs, curr_model, lr, criterion, epsilon, ibp_ex_and_r3_method, k, device,\n",
    "                                          False, weight_reg_coeff=weight_coeff)\n",
    "    print(\"Testing model accuracy for the training set\")\n",
    "    train_acc += test_model_accuracy(curr_model, dl_masks_train, device, multi_class=True)\n",
    "    print(\"Testing model accuracy for the test set\")\n",
    "    test_acc += test_model_accuracy(curr_model, dl_masks_test, device, multi_class=True)\n",
    "    n_r, min_delta, m_l, m_u = test_delta_input_robustness(dl_masks_test, curr_model, epsilon, DELTA_INPUT_ROBUSTNESS_PARAM, \"cross_entropy\", device)\n",
    "    num_robust += n_r\n",
    "    min_robust_delta = min(min_robust_delta, min_delta)\n",
    "    min_lower_bound += m_l\n",
    "    max_upper_bound += m_u\n",
    "\n",
    "write_results_to_file(\"experiment_results/decoy_mnist.yaml\",\n",
    "                      {\"train_acc\": round(train_acc / restarts, 3),\n",
    "                       \"test_acc\": round(test_acc / restarts, 3),\n",
    "                       \"num_robust\": round(num_robust / restarts, 3),\n",
    "                       \"min_lower_bound\": round(min_lower_bound / restarts, 3),\n",
    "                       \"max_upper_bound\": round(max_upper_bound / restarts, 3),\n",
    "                       \"min_robust_delta\": min_robust_delta}, ibp_ex_and_r3_method)\n",
    "write_results_to_file(\"experiment_results/decoy_mnist_params.yaml\",\n",
    "                      {\"epsilon\": epsilon,\n",
    "                       \"k\": k,\n",
    "                       \"weight_coeff\": weight_coeff,\n",
    "                       \"num_epochs\": num_epochs,\n",
    "                       \"lr\": lr,\n",
    "                       \"restarts\": restarts,\n",
    "                       \"delta_threshold\": DELTA_INPUT_ROBUSTNESS_PARAM}, ibp_ex_and_r3_method)"
   ]
  },
  {
   "cell_type": "markdown",
   "metadata": {},
   "source": [
    "# Sample Complexity Experiments"
   ]
  },
  {
   "cell_type": "code",
   "execution_count": null,
   "metadata": {},
   "outputs": [],
   "source": [
    "mask_ratios = [0.8, 0.6, 0.4, 0.2]\n",
    "methods = [\"r3\", \"r4\", \"ibp_ex\", \"ibp_ex+r3\"]\n",
    "for method in methods:\n",
    "    # Load the params\n",
    "    params_dict = load_params_or_results_from_file(\"experiment_results/decoy_mnist_params.yaml\", method)\n",
    "    delta_threshold = params_dict[\"delta_threshold\"]\n",
    "    epsilon = params_dict[\"epsilon\"]\n",
    "    k = params_dict[\"k\"]\n",
    "    weight_coeff = params_dict[\"weight_coeff\"]\n",
    "    num_epochs = params_dict[\"num_epochs\"]\n",
    "    lr = params_dict[\"lr\"]\n",
    "    restarts = params_dict[\"restarts\"]\n",
    "    for mask_ratio in mask_ratios:\n",
    "        new_dl_train = decoy_mnist.remove_masks(mask_ratio, dl_masks_train)\n",
    "        train_acc, test_acc, num_robust, min_robust_delta, min_lower_bound, max_upper_bound = 0, 0, 0, 1e+8, 0, 0\n",
    "        for i in range(restarts):\n",
    "            # Reinitialize the model\n",
    "            # We could try to just reinitialize the weights, but we can throw away the previous model for now as we do not need it\n",
    "            torch.manual_seed(i + SEED)\n",
    "            curr_model = FCNAugmented(*ARCH)\n",
    "\n",
    "            print(f\"========== Training model with method {method} restart {i} and mask ratio {mask_ratio} ==========\")\n",
    "            k_schedule = uniformize_magnitudes_schedule if method == \"r3\" else None\n",
    "            train_model_with_certified_input_grad(new_dl_train, num_epochs, curr_model, lr, criterion, epsilon, method,\n",
    "                                                  k, device, False, weight_reg_coeff=weight_coeff, k_schedule=k_schedule)\n",
    "            train_acc += test_model_accuracy(curr_model, new_dl_train, device, multi_class=True, suppress_log=True)\n",
    "            test_acc += test_model_accuracy(curr_model, dl_masks_test, device, multi_class=True, suppress_log=True)\n",
    "            n_r, min_delta, m_l, m_u = test_delta_input_robustness(dl_masks_test, curr_model, epsilon, delta_threshold,\n",
    "                                                         \"cross_entropy\", device, suppress_log=True)\n",
    "            num_robust += n_r\n",
    "            min_robust_delta = min(min_robust_delta, min_delta)\n",
    "            min_lower_bound += m_l\n",
    "            max_upper_bound += m_u\n",
    "        write_results_to_file(\"experiment_results/decoy_mnist_sample_complexity.yaml\",\n",
    "                            {\"train_acc\": round(train_acc / restarts, 3),\n",
    "                             \"test_acc\": round(test_acc / restarts, 3),\n",
    "                             \"num_robust\": round(num_robust / restarts, 3),\n",
    "                             \"min_lower_bound\": round(min_lower_bound / restarts, 3),\n",
    "                             \"max_upper_bound\": round(max_upper_bound / restarts, 3),\n",
    "                             \"min_robust_delta\": min_robust_delta}, method + f\"_{int(mask_ratio * 100)}\")"
   ]
  }
 ],
 "metadata": {
  "kernelspec": {
   "display_name": "fypvenv",
   "language": "python",
   "name": "python3"
  },
  "language_info": {
   "codemirror_mode": {
    "name": "ipython",
    "version": 3
   },
   "file_extension": ".py",
   "mimetype": "text/x-python",
   "name": "python",
   "nbconvert_exporter": "python",
   "pygments_lexer": "ipython3",
   "version": "3.10.12"
  }
 },
 "nbformat": 4,
 "nbformat_minor": 2
}

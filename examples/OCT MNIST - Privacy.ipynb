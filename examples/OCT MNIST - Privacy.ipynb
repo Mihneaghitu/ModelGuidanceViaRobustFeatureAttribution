{
 "cells": [
  {
   "cell_type": "markdown",
   "metadata": {},
   "source": [
    "# Certified Finetuning of a Classifier on the OCT-MNIST Dataset"
   ]
  },
  {
   "cell_type": "code",
   "execution_count": 1,
   "metadata": {},
   "outputs": [],
   "source": [
    "%load_ext autoreload\n",
    "%autoreload 2\n",
    "import os\n",
    "import math\n",
    "import torch\n",
    "import tqdm\n",
    "import abstract_gradient_training as agt\n",
    "from abstract_gradient_training import AGTConfig\n",
    "from abstract_gradient_training import certified_training_utils as ct_utils\n",
    "from models.deepmind import DeepMindSmall \n",
    "from datasets import oct_mnist"
   ]
  },
  {
   "cell_type": "markdown",
   "metadata": {},
   "source": [
    "## Pre-train the model\n",
    "\n",
    "Exclude class 2 (Drusen) from the pretraining."
   ]
  },
  {
   "cell_type": "code",
   "execution_count": 2,
   "metadata": {},
   "outputs": [],
   "source": [
    "# set up pre-training\n",
    "torch.manual_seed(1)\n",
    "device = torch.device(\"cuda:0\")\n",
    "pretrain_batchsize = 100\n",
    "pretrain_n_epochs = 20\n",
    "pretrain_learning_rate = 0.001"
   ]
  },
  {
   "cell_type": "code",
   "execution_count": 3,
   "metadata": {},
   "outputs": [],
   "source": [
    "# define model, dataset and optimizer\n",
    "model = DeepMindSmall(1, 1)\n",
    "dl_pretrain, _ = oct_mnist.get_dataloaders(pretrain_batchsize, exclude_classes=[2], balanced=True)\n",
    "criterion = torch.nn.BCELoss()\n",
    "optimizer = torch.optim.Adam(model.parameters(), lr=pretrain_learning_rate)\n",
    "model = model.to(device)"
   ]
  },
  {
   "cell_type": "code",
   "execution_count": 4,
   "metadata": {},
   "outputs": [],
   "source": [
    "if os.path.exists(\".models/medmnist.ckpt\"):\n",
    "    model.load_state_dict(torch.load(\".models/medmnist.ckpt\"))\n",
    "else:  # pre-train the model\n",
    "    progress_bar = tqdm.trange(pretrain_n_epochs, desc=\"Epoch\", )\n",
    "    for epoch in progress_bar:\n",
    "        for i, (x, u) in enumerate(dl_pretrain):\n",
    "            # Forward pass\n",
    "            u, x = u.to(device), x.to(device)\n",
    "            output = model(x)\n",
    "            loss = criterion(output.squeeze().float(), u.squeeze().float())\n",
    "            # Backward and optimize\n",
    "            optimizer.zero_grad()\n",
    "            loss.backward()\n",
    "            optimizer.step()\n",
    "            if i % 100 == 0:\n",
    "                progress_bar.set_postfix(loss=loss.item())\n",
    "    # save the model\n",
    "    with open(\".models/medmnist.ckpt\", \"wb\") as file:\n",
    "        torch.save(model.state_dict(), file)"
   ]
  },
  {
   "cell_type": "markdown",
   "metadata": {},
   "source": [
    "## Fine-tune the model on the private Drusen data"
   ]
  },
  {
   "cell_type": "code",
   "execution_count": 5,
   "metadata": {},
   "outputs": [],
   "source": [
    "# set up fine-tuning parameters\n",
    "batchsize = 5000\n",
    "config = AGTConfig(\n",
    "    fragsize=1000,\n",
    "    learning_rate=0.3,\n",
    "    n_epochs=1,\n",
    "    k_private=10,\n",
    "    clip_gamma=2.0,\n",
    "    clip_method=\"clamp\",\n",
    "    dp_sgd_sigma=0.01,\n",
    "    forward_bound=\"interval\",\n",
    "    device=\"cuda:0\",\n",
    "    backward_bound=\"interval\",\n",
    "    loss=\"binary_cross_entropy\",\n",
    "    log_level=\"DEBUG\",\n",
    "    lr_decay=0.3,\n",
    "    lr_min=0.001,\n",
    "    early_stopping=False,\n",
    "    noise_type=\"gaussian\",\n",
    ")"
   ]
  },
  {
   "cell_type": "code",
   "execution_count": 6,
   "metadata": {},
   "outputs": [],
   "source": [
    "# get dataloaders, train dataloader is a mix of drusen and the \"healthy\" class\n",
    "dl_train, _ = oct_mnist.get_dataloaders(batchsize, 1000, exclude_classes=[0, 1], balanced=True)\n",
    "_, dl_test_drusen = oct_mnist.get_dataloaders(batchsize, 1000, exclude_classes=[0, 1, 3])\n",
    "_, dl_test_other = oct_mnist.get_dataloaders(batchsize, 1000, exclude_classes=[2])\n",
    "_, dl_test_all = oct_mnist.get_dataloaders(batchsize, 1000)"
   ]
  },
  {
   "cell_type": "code",
   "execution_count": 7,
   "metadata": {},
   "outputs": [
    {
     "name": "stdout",
     "output_type": "stream",
     "text": [
      "=========== Pre-trained model accuracy ===========\n",
      "Class 2 (Drusen) : nominal = 0.47\n",
      "Classes 0, 1, 3  : nominal = 0.96\n",
      "All Classes      : nominal = 0.83\n"
     ]
    }
   ],
   "source": [
    "# evaluate the pre-trained model\n",
    "param_n, param_l, param_u = ct_utils.get_parameters(model)\n",
    "drusen_acc = agt.test_metrics.test_accuracy(param_n, param_l, param_u, *next(iter(dl_test_drusen)), model, ct_utils.propagate_conv_layers)\n",
    "other_acc = agt.test_metrics.test_accuracy(param_n, param_l, param_u, *next(iter(dl_test_other)), model, ct_utils.propagate_conv_layers)\n",
    "all_acc = agt.test_metrics.test_accuracy(param_n, param_l, param_u, *next(iter(dl_test_all)), model, ct_utils.propagate_conv_layers)\n",
    "\n",
    "print(\"=========== Pre-trained model accuracy ===========\")\n",
    "print(f\"Class 2 (Drusen) : nominal = {drusen_acc[1]:.2g}\")\n",
    "print(f\"Classes 0, 1, 3  : nominal = {other_acc[1]:.2g}\")\n",
    "print(f\"All Classes      : nominal = {all_acc[1]:.2g}\")"
   ]
  },
  {
   "cell_type": "code",
   "execution_count": 8,
   "metadata": {},
   "outputs": [
    {
     "name": "stderr",
     "output_type": "stream",
     "text": [
      "[AGT] [INFO    ] [16:32:45] =================== Starting Privacy Certified Training ===================\n",
      "[AGT] [DEBUG   ] [16:32:45] \tPrivacy parameters: k_private=10, clip_gamma=2.0, dp_sgd_sigma=0.01\n",
      "[AGT] [DEBUG   ] [16:32:45] \tBounding methods: forward=interval, backward=interval\n",
      "[AGT] [INFO    ] [16:32:45] Starting epoch 1\n",
      "[AGT] [DEBUG   ] [16:32:45] Initialising dataloader batchsize to 5000\n",
      "[AGT] [INFO    ] [16:32:45] Training batch 1: Network eval bounds=(0.47, 0.47, 0.47), W0 Bound=0.0 \n",
      "[AGT] [INFO    ] [16:32:46] Training batch 2: Network eval bounds=(0.96, 0.98, 0.98), W0 Bound=1.38 \n",
      "[AGT] [INFO    ] [16:32:46] Training batch 3: Network eval bounds=(0.37, 0.58, 0.82), W0 Bound=2.49 \n",
      "[AGT] [DEBUG   ] [16:32:47] Skipping batch 4 in epoch 1 (expected batchsize 5000, got 508)\n",
      "[AGT] [INFO    ] [16:32:47] Final network eval: Network eval bounds=(0.36, 0.9 , 1   ), W0 Bound=3.46 \n",
      "[AGT] [INFO    ] [16:32:47] Nominal parameters not within certified bounds for parameter 0 due to DP-SGD noise.\n",
      "[AGT] [DEBUG   ] [16:32:47] \tNumber of violations: 151889\n",
      "[AGT] [DEBUG   ] [16:32:47] \tMax violation: 1.69e-02\n",
      "[AGT] [INFO    ] [16:32:47] Nominal parameters not within certified bounds for parameter 1 due to DP-SGD noise.\n",
      "[AGT] [DEBUG   ] [16:32:47] \tNumber of violations: 27\n",
      "[AGT] [DEBUG   ] [16:32:47] \tMax violation: 7.12e-03\n",
      "[AGT] [INFO    ] [16:32:47] Nominal parameters not within certified bounds for parameter 2 due to DP-SGD noise.\n",
      "[AGT] [DEBUG   ] [16:32:47] \tNumber of violations: 22\n",
      "[AGT] [DEBUG   ] [16:32:47] \tMax violation: 8.44e-03\n",
      "[AGT] [INFO    ] [16:32:47] =================== Finished Privacy Certified Training ===================\n"
     ]
    }
   ],
   "source": [
    "# fine-tune the model using abstract gradient training (keeping the convolutional layers fixed)\n",
    "param_l, param_n, param_u = agt.privacy_certified_training(\n",
    "    model, config, dl_train, dl_test_drusen, transform=ct_utils.propagate_conv_layers\n",
    ")"
   ]
  },
  {
   "cell_type": "code",
   "execution_count": 12,
   "metadata": {},
   "outputs": [
    {
     "name": "stdout",
     "output_type": "stream",
     "text": [
      "=========== Fine-tuned model accuracy + bounds ===========\n",
      "Class 2 (Drusen) : nominal = 0.9, certified bound = 0.36\n",
      "Classes 0, 1, 3  : nominal = 0.84, certified bound = 0.64\n",
      "All Classes      : nominal = 0.86, certified bound = 0.57\n"
     ]
    }
   ],
   "source": [
    "# evaluate the fine-tuned model\n",
    "drusen_acc = agt.test_metrics.test_accuracy(param_n, param_l, param_u, *next(iter(dl_test_drusen)), model, ct_utils.propagate_conv_layers)\n",
    "other_acc = agt.test_metrics.test_accuracy(param_n, param_l, param_u, *next(iter(dl_test_other)), model, ct_utils.propagate_conv_layers)\n",
    "all_acc = agt.test_metrics.test_accuracy(param_n, param_l, param_u, *next(iter(dl_test_all)), model, ct_utils.propagate_conv_layers)\n",
    "\n",
    "print(\"=========== Fine-tuned model accuracy + bounds ===========\")\n",
    "print(f\"Class 2 (Drusen) : nominal = {drusen_acc[1]:.2g}, certified bound = {drusen_acc[0]:.2g}\")\n",
    "print(f\"Classes 0, 1, 3  : nominal = {other_acc[1]:.2g}, certified bound = {other_acc[0]:.2g}\")\n",
    "print(f\"All Classes      : nominal = {all_acc[1]:.2g}, certified bound = {all_acc[0]:.2g}\")"
   ]
  },
  {
   "cell_type": "code",
   "execution_count": 10,
   "metadata": {},
   "outputs": [
    {
     "name": "stdout",
     "output_type": "stream",
     "text": [
      "Privacy loss of epsilon = 256160800.0 per batch\n"
     ]
    }
   ],
   "source": [
    "# calculate the naive privacy loss using the 'Shokri 2015' method\n",
    "n_params = sum(p.numel() for p in param_n)\n",
    "epsilon = 2 * n_params * config.clip_gamma * 2 / config.dp_sgd_sigma\n",
    "print(f\"Privacy loss of epsilon = {epsilon} per batch\")"
   ]
  },
  {
   "cell_type": "code",
   "execution_count": 11,
   "metadata": {},
   "outputs": [
    {
     "name": "stdout",
     "output_type": "stream",
     "text": [
      "Total std of added noise = 0.0173\n",
      "Parameter 0:\n",
      "\tWidth of bound      : 0.025\n",
      "\tMax lb violation    : 0.0169\n",
      "\tMax ub violation    : 0.0158\n",
      "Parameter 1:\n",
      "\tWidth of bound      : 0.0797\n",
      "\tMax lb violation    : 0.00391\n",
      "\tMax ub violation    : 0.00712\n",
      "Parameter 2:\n",
      "\tWidth of bound      : 0.182\n",
      "\tMax lb violation    : 0.00844\n",
      "\tMax ub violation    : 0.00493\n",
      "Parameter 3:\n",
      "\tWidth of bound      : 0.0874\n",
      "\tMax lb violation    : -0.0485\n",
      "\tMax ub violation    : -0.039\n"
     ]
    }
   ],
   "source": [
    "# calculate the total std of the added noise over the batches\n",
    "n_batches = 3\n",
    "total_std = math.sqrt(n_batches * config.dp_sgd_sigma**2)\n",
    "print(f\"Total std of added noise = {total_std:.3g}\")\n",
    "\n",
    "for i in range(len(param_n)):\n",
    "    print(f\"Parameter {i}:\")\n",
    "    print(f\"\\t{'Width of bound':20s}: {(param_u[i] - param_l[i]).max().item():.3g}\")\n",
    "    print(f\"\\t{'Max lb violation':20s}: {(param_l[i] - param_n[i]).max().item():.3g}\")\n",
    "    print(f\"\\t{'Max ub violation':20s}: {(param_n[i] - param_u[i]).max().item():.3g}\")"
   ]
  }
 ],
 "metadata": {
  "kernelspec": {
   "display_name": "venv",
   "language": "python",
   "name": "python3"
  },
  "language_info": {
   "codemirror_mode": {
    "name": "ipython",
    "version": 3
   },
   "file_extension": ".py",
   "mimetype": "text/x-python",
   "name": "python",
   "nbconvert_exporter": "python",
   "pygments_lexer": "ipython3",
   "version": "3.10.12"
  }
 },
 "nbformat": 4,
 "nbformat_minor": 2
}

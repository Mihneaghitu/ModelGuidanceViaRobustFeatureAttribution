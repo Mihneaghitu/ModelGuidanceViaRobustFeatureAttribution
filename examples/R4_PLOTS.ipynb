{
 "cells": [
  {
   "cell_type": "code",
   "execution_count": null,
   "metadata": {},
   "outputs": [],
   "source": [
    "from experiment_results.plots import (make_mask_and_data_sample_complexity_plots,\n",
    "                                      make_model_size_ablation_plot,\n",
    "                                      make_r4_worst_mask_corr_plot,\n",
    "                                      make_mask_abl_hmap,\n",
    "                                      make_mask_corruption_sample_complexity_plots)\n",
    "from datasets.corruption import MaskCorruption\n",
    "%load_ext autoreload\n",
    "%autoreload 2"
   ]
  },
  {
   "cell_type": "code",
   "execution_count": null,
   "metadata": {},
   "outputs": [],
   "source": [
    "device = \"cuda:1\""
   ]
  },
  {
   "cell_type": "code",
   "execution_count": null,
   "metadata": {},
   "outputs": [],
   "source": [
    "make_mask_and_data_sample_complexity_plots(\"decoy_mnist\", device, with_data=False)"
   ]
  },
  {
   "cell_type": "code",
   "execution_count": null,
   "metadata": {},
   "outputs": [],
   "source": [
    "make_mask_and_data_sample_complexity_plots(\"decoy_mnist\", device, with_data=False, with_l2_prop=True)"
   ]
  },
  {
   "cell_type": "code",
   "execution_count": null,
   "metadata": {},
   "outputs": [],
   "source": [
    "make_mask_and_data_sample_complexity_plots(\"derma_mnist\", device, with_data=False)"
   ]
  },
  {
   "cell_type": "code",
   "execution_count": null,
   "metadata": {},
   "outputs": [],
   "source": [
    "make_mask_and_data_sample_complexity_plots(\"derma_mnist\", device, with_data=False, with_l2_prop=True)"
   ]
  },
  {
   "cell_type": "code",
   "execution_count": null,
   "metadata": {},
   "outputs": [],
   "source": [
    "make_mask_and_data_sample_complexity_plots(\"decoy_mnist\", device, with_data=True)"
   ]
  },
  {
   "cell_type": "code",
   "execution_count": null,
   "metadata": {},
   "outputs": [],
   "source": [
    "make_mask_and_data_sample_complexity_plots(\"derma_mnist\", device, with_data=True)"
   ]
  },
  {
   "cell_type": "code",
   "execution_count": null,
   "metadata": {},
   "outputs": [],
   "source": [
    "make_mask_corruption_sample_complexity_plots(\"decoy_mnist\", device, MaskCorruption.MISPOSITION.value)"
   ]
  },
  {
   "cell_type": "code",
   "execution_count": null,
   "metadata": {},
   "outputs": [],
   "source": [
    "make_mask_corruption_sample_complexity_plots(\"decoy_mnist\", device, MaskCorruption.SHRINK.value)"
   ]
  },
  {
   "cell_type": "code",
   "execution_count": null,
   "metadata": {},
   "outputs": [],
   "source": [
    "make_mask_corruption_sample_complexity_plots(\"decoy_mnist\", device, MaskCorruption.SHIFT.value)"
   ]
  },
  {
   "cell_type": "code",
   "execution_count": null,
   "metadata": {},
   "outputs": [],
   "source": [
    "make_mask_corruption_sample_complexity_plots(\"decoy_mnist\", device, MaskCorruption.DILATION.value)"
   ]
  },
  {
   "cell_type": "code",
   "execution_count": null,
   "metadata": {},
   "outputs": [],
   "source": [
    "make_mask_corruption_sample_complexity_plots(\"derma_mnist\", device, MaskCorruption.MISPOSITION.value)"
   ]
  },
  {
   "cell_type": "code",
   "execution_count": null,
   "metadata": {},
   "outputs": [],
   "source": [
    "make_mask_corruption_sample_complexity_plots(\"derma_mnist\", device, MaskCorruption.SHRINK.value)"
   ]
  },
  {
   "cell_type": "code",
   "execution_count": null,
   "metadata": {},
   "outputs": [],
   "source": [
    "make_mask_corruption_sample_complexity_plots(\"derma_mnist\", device, MaskCorruption.SHIFT.value)"
   ]
  },
  {
   "cell_type": "code",
   "execution_count": null,
   "metadata": {},
   "outputs": [],
   "source": [
    "make_mask_corruption_sample_complexity_plots(\"derma_mnist\", device, MaskCorruption.DILATION.value)"
   ]
  },
  {
   "cell_type": "code",
   "execution_count": null,
   "metadata": {},
   "outputs": [],
   "source": [
    "make_mask_abl_hmap(\"decoy_mnist\")"
   ]
  },
  {
   "cell_type": "code",
   "execution_count": null,
   "metadata": {},
   "outputs": [],
   "source": [
    "make_mask_abl_hmap(\"derma_mnist\")"
   ]
  },
  {
   "cell_type": "code",
   "execution_count": null,
   "metadata": {},
   "outputs": [],
   "source": [
    "make_mask_corruption_sample_complexity_plots(\"decoy_mnist\", device, MaskCorruption.MISPOSITION.value, with_l2_prop=True)"
   ]
  },
  {
   "cell_type": "code",
   "execution_count": null,
   "metadata": {},
   "outputs": [],
   "source": [
    "make_mask_corruption_sample_complexity_plots(\"decoy_mnist\", device, MaskCorruption.SHRINK.value, with_l2_prop=True)"
   ]
  },
  {
   "cell_type": "code",
   "execution_count": null,
   "metadata": {},
   "outputs": [],
   "source": [
    "make_mask_corruption_sample_complexity_plots(\"decoy_mnist\", device, MaskCorruption.SHIFT.value, with_l2_prop=True)"
   ]
  },
  {
   "cell_type": "code",
   "execution_count": null,
   "metadata": {},
   "outputs": [],
   "source": [
    "make_mask_corruption_sample_complexity_plots(\"decoy_mnist\", device, MaskCorruption.DILATION.value, with_l2_prop=True)"
   ]
  },
  {
   "cell_type": "code",
   "execution_count": null,
   "metadata": {},
   "outputs": [],
   "source": [
    "make_mask_corruption_sample_complexity_plots(\"derma_mnist\", device, MaskCorruption.MISPOSITION.value, with_l2_prop=True)"
   ]
  },
  {
   "cell_type": "code",
   "execution_count": null,
   "metadata": {},
   "outputs": [],
   "source": [
    "make_mask_corruption_sample_complexity_plots(\"derma_mnist\", device, MaskCorruption.SHRINK.value, with_l2_prop=True)"
   ]
  },
  {
   "cell_type": "code",
   "execution_count": null,
   "metadata": {},
   "outputs": [],
   "source": [
    "make_mask_corruption_sample_complexity_plots(\"derma_mnist\", device, MaskCorruption.SHIFT.value, with_l2_prop=True)"
   ]
  },
  {
   "cell_type": "code",
   "execution_count": null,
   "metadata": {},
   "outputs": [],
   "source": [
    "make_mask_corruption_sample_complexity_plots(\"derma_mnist\", device, MaskCorruption.DILATION.value, with_l2_prop=True)"
   ]
  },
  {
   "cell_type": "code",
   "execution_count": null,
   "metadata": {},
   "outputs": [],
   "source": [
    "make_r4_worst_mask_corr_plot(\"decoy_mnist\", device)"
   ]
  },
  {
   "cell_type": "code",
   "execution_count": null,
   "metadata": {},
   "outputs": [],
   "source": [
    "make_r4_worst_mask_corr_plot(\"derma_mnist\", device)"
   ]
  },
  {
   "cell_type": "code",
   "execution_count": null,
   "metadata": {},
   "outputs": [],
   "source": [
    "make_model_size_ablation_plot(\"decoy_mnist\")"
   ]
  },
  {
   "cell_type": "code",
   "execution_count": null,
   "metadata": {},
   "outputs": [],
   "source": [
    "make_model_size_ablation_plot(\"derma_mnist\")"
   ]
  },
  {
   "cell_type": "code",
   "execution_count": null,
   "metadata": {},
   "outputs": [],
   "source": []
  }
 ],
 "metadata": {
  "kernelspec": {
   "display_name": "fypvenv",
   "language": "python",
   "name": "python3"
  },
  "language_info": {
   "codemirror_mode": {
    "name": "ipython",
    "version": 3
   },
   "file_extension": ".py",
   "mimetype": "text/x-python",
   "name": "python",
   "nbconvert_exporter": "python",
   "pygments_lexer": "ipython3",
   "version": "3.10.12"
  }
 },
 "nbformat": 4,
 "nbformat_minor": 2
}
